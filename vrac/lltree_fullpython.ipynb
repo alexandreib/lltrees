{
 "cells": [
  {
   "cell_type": "code",
   "execution_count": 1,
   "id": "1ee2f801-03b4-46a9-9c66-1fc4e697073b",
   "metadata": {},
   "outputs": [],
   "source": [
    "\n",
    "from scipy import stats\n",
    "import numpy as np\n",
    "import pandas as pd\n",
    "import matplotlib.pyplot as plt\n",
    "\n",
    "from sklearn.model_selection import train_test_split\n",
    "from sklearn.datasets import load_breast_cancer,make_regression\n",
    "from sklearn.metrics import accuracy_score,precision_score,recall_score,mean_squared_error,mean_absolute_error,r2_score"
   ]
  },
  {
   "cell_type": "code",
   "execution_count": 2,
   "id": "b50d97e1-57ce-4ee6-8de8-2f5522a9b924",
   "metadata": {},
   "outputs": [],
   "source": [
    "from regressor import DecisionTreeRegressor\n",
    "from classifier import DecisionTreeClassifier"
   ]
  },
  {
   "cell_type": "code",
   "execution_count": 3,
   "id": "78dcb765-5287-48dd-964d-1c5631ff6d22",
   "metadata": {},
   "outputs": [],
   "source": [
    "# load classification dataset\n",
    "data = load_breast_cancer()\n",
    "X    = data.data\n",
    "y    = data.target"
   ]
  },
  {
   "cell_type": "code",
   "execution_count": 5,
   "id": "847fed98-7061-44e5-926e-4a2d14c0c017",
   "metadata": {},
   "outputs": [
    {
     "name": "stdout",
     "output_type": "stream",
     "text": [
      "shape of X:  (569, 30)\n",
      "shape of y:  (569,)\n"
     ]
    }
   ],
   "source": [
    "# what is the shape of the dataset?\n",
    "print('shape of X: ',X.shape)\n",
    "print('shape of y: ',y.shape)"
   ]
  },
  {
   "cell_type": "code",
   "execution_count": 6,
   "id": "f0b353cf-945a-4a5e-875e-3c7367a1f8bc",
   "metadata": {},
   "outputs": [
    {
     "name": "stderr",
     "output_type": "stream",
     "text": [
      "/home/alexandre/Desktop/lltrees/src/classifier.py:53: FutureWarning: Unlike other reduction functions (e.g. `skew`, `kurtosis`), the default behavior of `mode` typically preserves the axis it acts along. In SciPy 1.11.0, this behavior will change: the default value of `keepdims` will become False, the `axis` over which the statistic is taken will be eliminated, and the value None will no longer be accepted. Set `keepdims` to True or False to avoid this warning.\n",
      "  return(stats.mode(D[:,-1])[0])\n"
     ]
    }
   ],
   "source": [
    "clf = DecisionTreeClassifier(max_depth=5, loss='gini')\n",
    "clf.fit(X,y)"
   ]
  },
  {
   "cell_type": "code",
   "execution_count": 7,
   "id": "1a31d46a-6834-4436-9306-5c800ecd4dd3",
   "metadata": {},
   "outputs": [],
   "source": [
    "yp = clf.predict(X)"
   ]
  },
  {
   "cell_type": "code",
   "execution_count": 8,
   "id": "25e2150f-7b56-4fb6-a6f5-05d515b6750d",
   "metadata": {},
   "outputs": [
    {
     "name": "stdout",
     "output_type": "stream",
     "text": [
      "accuracy: 0.96\n",
      "precision: 0.94\n",
      "recall: 1.00\n"
     ]
    }
   ],
   "source": [
    "# evaluate model performance\n",
    "print(\"accuracy: %.2f\" % accuracy_score(y,yp))\n",
    "print(\"precision: %.2f\" % precision_score(y,yp))\n",
    "print(\"recall: %.2f\" % recall_score(y,yp))"
   ]
  },
  {
   "cell_type": "code",
   "execution_count": 9,
   "id": "629782e1-5551-4908-841f-c2907def8d0f",
   "metadata": {},
   "outputs": [],
   "source": [
    "X,y = make_regression(n_samples=1000, n_features=8, n_informative=5, n_targets=1, noise=1, random_state=42)\n",
    "X_train, X_test, y_train, y_test = train_test_split(X, y, test_size=0.3, random_state=42)"
   ]
  },
  {
   "cell_type": "code",
   "execution_count": 15,
   "id": "30556b3e-d739-45ae-b987-be8cba359641",
   "metadata": {},
   "outputs": [
    {
     "name": "stdout",
     "output_type": "stream",
     "text": [
      "rmse: 78.86\n",
      "mae: 63.04\n",
      "r2: 0.60\n"
     ]
    }
   ],
   "source": [
    "# declare the regressor and train the model\n",
    "rgr = DecisionTreeRegressor(max_depth=6, loss='mae')\n",
    "rgr.fit(X_train, y_train)\n",
    "\n",
    "# make predictions\n",
    "yp = rgr.predict(X_test)\n",
    "\n",
    "# evaluate model performance\n",
    "print(\"rmse: %.2f\" % np.sqrt(mean_squared_error(y_test,yp)))\n",
    "print(\"mae: %.2f\" % mean_absolute_error(y_test,yp))\n",
    "print(\"r2: %.2f\" % r2_score(y_test,yp))"
   ]
  }
 ],
 "metadata": {
  "kernelspec": {
   "display_name": "Python 3 (ipykernel)",
   "language": "python",
   "name": "python3"
  },
  "language_info": {
   "codemirror_mode": {
    "name": "ipython",
    "version": 3
   },
   "file_extension": ".py",
   "mimetype": "text/x-python",
   "name": "python",
   "nbconvert_exporter": "python",
   "pygments_lexer": "ipython3",
   "version": "3.10.12"
  }
 },
 "nbformat": 4,
 "nbformat_minor": 5
}
