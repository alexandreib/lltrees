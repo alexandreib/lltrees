{
 "cells": [
  {
   "cell_type": "code",
   "execution_count": 1,
   "id": "1ee2f801-03b4-46a9-9c66-1fc4e697073b",
   "metadata": {},
   "outputs": [],
   "source": [
    "\n",
    "from scipy import stats\n",
    "import numpy as np\n",
    "import pandas as pd\n",
    "import matplotlib.pyplot as plt\n",
    "\n",
    "from sklearn.model_selection import train_test_split\n",
    "from sklearn.datasets import load_breast_cancer,make_regression\n",
    "from sklearn.metrics import accuracy_score,precision_score,recall_score,mean_squared_error,mean_absolute_error,r2_score"
   ]
  },
  {
   "cell_type": "code",
   "execution_count": 2,
   "id": "b50d97e1-57ce-4ee6-8de8-2f5522a9b924",
   "metadata": {},
   "outputs": [
    {
     "ename": "ModuleNotFoundError",
     "evalue": "No module named 'regressor'",
     "output_type": "error",
     "traceback": [
      "\u001b[0;31m---------------------------------------------------------------------------\u001b[0m",
      "\u001b[0;31mModuleNotFoundError\u001b[0m                       Traceback (most recent call last)",
      "Cell \u001b[0;32mIn[2], line 1\u001b[0m\n\u001b[0;32m----> 1\u001b[0m \u001b[38;5;28;01mfrom\u001b[39;00m \u001b[38;5;21;01mregressor\u001b[39;00m \u001b[38;5;28;01mimport\u001b[39;00m DecisionTreeRegressor\n\u001b[1;32m      2\u001b[0m \u001b[38;5;28;01mfrom\u001b[39;00m \u001b[38;5;21;01mclassifier\u001b[39;00m \u001b[38;5;28;01mimport\u001b[39;00m DecisionTreeClassifier\n",
      "\u001b[0;31mModuleNotFoundError\u001b[0m: No module named 'regressor'"
     ]
    }
   ],
   "source": [
    "from regressor import DecisionTreeRegressor\n",
    "from classifier import DecisionTreeClassifier"
   ]
  },
  {
   "cell_type": "code",
   "execution_count": null,
   "id": "78dcb765-5287-48dd-964d-1c5631ff6d22",
   "metadata": {},
   "outputs": [],
   "source": [
    "# load classification dataset\n",
    "data = load_breast_cancer()\n",
    "X    = data.data\n",
    "y    = data.target"
   ]
  },
  {
   "cell_type": "code",
   "execution_count": null,
   "id": "847fed98-7061-44e5-926e-4a2d14c0c017",
   "metadata": {},
   "outputs": [],
   "source": [
    "# what is the shape of the dataset?\n",
    "print('shape of X: ',X.shape)\n",
    "print('shape of y: ',y.shape)"
   ]
  },
  {
   "cell_type": "code",
   "execution_count": null,
   "id": "f0b353cf-945a-4a5e-875e-3c7367a1f8bc",
   "metadata": {},
   "outputs": [],
   "source": [
    "clf = DecisionTreeClassifier(max_depth=5, loss='gini')\n",
    "clf.fit(X,y)"
   ]
  },
  {
   "cell_type": "code",
   "execution_count": null,
   "id": "1a31d46a-6834-4436-9306-5c800ecd4dd3",
   "metadata": {},
   "outputs": [],
   "source": [
    "yp = clf.predict(X_test)"
   ]
  },
  {
   "cell_type": "code",
   "execution_count": null,
   "id": "25e2150f-7b56-4fb6-a6f5-05d515b6750d",
   "metadata": {},
   "outputs": [],
   "source": [
    "# evaluate model performance\n",
    "print(\"accuracy: %.2f\" % accuracy_score(y_test,yp))\n",
    "print(\"precision: %.2f\" % precision_score(y_test,yp))\n",
    "print(\"recall: %.2f\" % recall_score(y_test,yp))"
   ]
  },
  {
   "cell_type": "code",
   "execution_count": null,
   "id": "629782e1-5551-4908-841f-c2907def8d0f",
   "metadata": {},
   "outputs": [],
   "source": [
    "X,y = make_regression(n_samples=1000, n_features=8, n_informative=5, n_targets=1, noise=1, random_state=42)\n",
    "X_train, X_test, y_train, y_test = train_test_split(X, y, test_size=0.3, random_state=42)"
   ]
  },
  {
   "cell_type": "code",
   "execution_count": null,
   "id": "30556b3e-d739-45ae-b987-be8cba359641",
   "metadata": {},
   "outputs": [],
   "source": [
    "# declare the regressor and train the model\n",
    "rgr = DecisionTreeRegressor(max_depth=5, loss='absolute_error')\n",
    "rgr.fit(X_train,y_train)"
   ]
  },
  {
   "cell_type": "code",
   "execution_count": null,
   "id": "a1d6b073-8675-4d91-b8bc-7404b98cf2a8",
   "metadata": {},
   "outputs": [],
   "source": [
    "# make predictions\n",
    "yp = rgr.predict(X_test)\n",
    "\n",
    "# evaluate model performance\n",
    "print(\"rmse: %.2f\" % np.sqrt(mean_squared_error(y_test,yp)))\n",
    "print(\"mae: %.2f\" % mean_absolute_error(y_test,yp))\n",
    "print(\"r2: %.2f\" % r2_score(y_test,yp))"
   ]
  }
 ],
 "metadata": {
  "kernelspec": {
   "display_name": "Python 3 (ipykernel)",
   "language": "python",
   "name": "python3"
  },
  "language_info": {
   "codemirror_mode": {
    "name": "ipython",
    "version": 3
   },
   "file_extension": ".py",
   "mimetype": "text/x-python",
   "name": "python",
   "nbconvert_exporter": "python",
   "pygments_lexer": "ipython3",
   "version": "3.10.12"
  }
 },
 "nbformat": 4,
 "nbformat_minor": 5
}
