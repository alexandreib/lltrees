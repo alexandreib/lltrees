{
 "cells": [
  {
   "cell_type": "code",
   "execution_count": 1,
   "id": "4694f6f3-1d25-4369-a62d-26f480f9bc15",
   "metadata": {},
   "outputs": [],
   "source": [
    "import ctypes\n",
    "import os\n",
    "\n",
    "import numpy as np\n",
    "import pandas as pd\n",
    "\n",
    "from sklearn.datasets import load_diabetes"
   ]
  },
  {
   "cell_type": "code",
   "execution_count": 2,
   "id": "9d8cd4c3-1719-4efd-89d7-7c5327914227",
   "metadata": {},
   "outputs": [],
   "source": [
    "# os._exit(00)"
   ]
  },
  {
   "cell_type": "code",
   "execution_count": 3,
   "id": "88a61b0f-8f61-4378-aa0a-f31b2debe163",
   "metadata": {},
   "outputs": [],
   "source": [
    "# import builtins\n",
    "# from IPython.lib import deepreload\n",
    "# builtins.reload = deepreload.reload"
   ]
  },
  {
   "cell_type": "code",
   "execution_count": 4,
   "id": "a18c31c5-71a1-4b60-8eaa-6e30ac1283e4",
   "metadata": {},
   "outputs": [],
   "source": [
    "data = load_diabetes()\n",
    "X    = data.data\n",
    "Y    = data.target"
   ]
  },
  {
   "cell_type": "code",
   "execution_count": 5,
   "id": "663d9444-c5fe-4c03-b4a6-80bdc3756bb6",
   "metadata": {},
   "outputs": [],
   "source": [
    "ND_POINTER_1 = np.ctypeslib.ndpointer(dtype=np.float64,  ndim=1, flags=\"C\")\n",
    "ND_POINTER_2 = np.ctypeslib.ndpointer(dtype=np.float64,  ndim=2, flags=\"C\")"
   ]
  },
  {
   "cell_type": "code",
   "execution_count": 6,
   "id": "450d33d7-6b48-4d13-b4b7-cab1c7a9999c",
   "metadata": {},
   "outputs": [],
   "source": [
    "def ctypesCloseLibrary(lib):\n",
    "    dlclose_func = ctypes.CDLL(None).dlclose\n",
    "    dlclose_func.argtypes = [ctypes.c_void_p]\n",
    "    dlclose_func.restype = ctypes.c_int\n",
    "    dlclose_func(lib._handle)"
   ]
  },
  {
   "cell_type": "code",
   "execution_count": 11,
   "id": "879e5165-4cfb-46bf-98d2-9e9383176151",
   "metadata": {},
   "outputs": [],
   "source": [
    "!./lltree_compile.sh"
   ]
  },
  {
   "cell_type": "code",
   "execution_count": 14,
   "id": "908dc7ba-96cd-40e1-9187-849c3c1f927c",
   "metadata": {},
   "outputs": [
    {
     "name": "stdout",
     "output_type": "stream",
     "text": [
      "Creating Node 0.\n",
      "mae 48.3347\n"
     ]
    }
   ],
   "source": [
    "if __name__== \"__main__\":\n",
    "    lib = ctypes.CDLL(\"/home/alexandre/Desktop/lltrees/src/lltree.so\")\n",
    "    lib.fit.argtypes = [ND_POINTER_2, ctypes.c_size_t,  ctypes.c_size_t,  ND_POINTER_1]\n",
    "    lib.fit.restype = None\n",
    "    lib.fit(X, X.shape[0], X.shape[1] , Y)\n",
    "    ctypesCloseLibrary(lib)"
   ]
  }
 ],
 "metadata": {
  "kernelspec": {
   "display_name": "Python 3 (ipykernel)",
   "language": "python",
   "name": "python3"
  },
  "language_info": {
   "codemirror_mode": {
    "name": "ipython",
    "version": 3
   },
   "file_extension": ".py",
   "mimetype": "text/x-python",
   "name": "python",
   "nbconvert_exporter": "python",
   "pygments_lexer": "ipython3",
   "version": "3.10.12"
  }
 },
 "nbformat": 4,
 "nbformat_minor": 5
}
