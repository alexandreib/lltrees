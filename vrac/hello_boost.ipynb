{
 "cells": [
  {
   "cell_type": "code",
   "execution_count": 11,
   "id": "b090b9fd-18b3-4fca-938f-9493fc0d4a28",
   "metadata": {},
   "outputs": [
    {
     "name": "stdout",
     "output_type": "stream",
     "text": [
      "hello, zoo\n"
     ]
    }
   ],
   "source": [
    "import zoo\n",
    "# In zoo.cpp we expose hello() function, and it now exists in the zoo module.\n",
    "assert 'hello' in dir(zoo)\n",
    "# zoo.hello is a callable.\n",
    "assert callable(zoo.hello)\n",
    "# Call the C++ hello() function from Python.\n",
    "print(zoo.hello())"
   ]
  }
 ],
 "metadata": {
  "kernelspec": {
   "display_name": "Python 3 (ipykernel)",
   "language": "python",
   "name": "python3"
  },
  "language_info": {
   "codemirror_mode": {
    "name": "ipython",
    "version": 3
   },
   "file_extension": ".py",
   "mimetype": "text/x-python",
   "name": "python",
   "nbconvert_exporter": "python",
   "pygments_lexer": "ipython3",
   "version": "3.10.12"
  }
 },
 "nbformat": 4,
 "nbformat_minor": 5
}
