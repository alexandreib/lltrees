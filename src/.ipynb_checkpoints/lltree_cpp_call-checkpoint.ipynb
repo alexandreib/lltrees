{
 "cells": [
  {
   "cell_type": "code",
   "execution_count": null,
   "id": "4694f6f3-1d25-4369-a62d-26f480f9bc15",
   "metadata": {},
   "outputs": [],
   "source": [
    "import ctypes\n",
    "import os\n",
    "\n",
    "import numpy as np\n",
    "import pandas as pd\n",
    "import sklearn.datasets, sklearn.metrics, sklearn.model_selection, sklearn.tree\n",
    "import regressor\n",
    "\n",
    "import subprocess, sys"
   ]
  },
  {
   "cell_type": "code",
   "execution_count": null,
   "id": "9d8cd4c3-1719-4efd-89d7-7c5327914227",
   "metadata": {},
   "outputs": [],
   "source": [
    "# os._exit(00)"
   ]
  },
  {
   "cell_type": "code",
   "execution_count": null,
   "id": "cd47e403-26f1-49a5-9b84-fcf41a380a83",
   "metadata": {},
   "outputs": [],
   "source": [
    "X, Y = sklearn.datasets.make_regression(n_samples=1000, n_features=5, n_informative=3, n_targets=1, noise=1, random_state=42)\n",
    "X_train, X_test, Y_train, Y_test = sklearn.model_selection.train_test_split(X, Y, test_size=0.3, random_state=42)"
   ]
  },
  {
   "cell_type": "code",
   "execution_count": null,
   "id": "4b37fff9-a165-434d-abe7-807421062df5",
   "metadata": {},
   "outputs": [],
   "source": [
    "!make\n",
    "subprocess.call([sys.executable, \"lltree_wrapper.py\"])"
   ]
  },
  {
   "cell_type": "code",
   "execution_count": null,
   "id": "7287411a-9cd4-46c6-826d-cd2db3e6a254",
   "metadata": {},
   "outputs": [],
   "source": [
    "import lltree\n",
    "\n",
    "mlltree = lltree.tree()\n",
    "mlltree.fit(X_train, Y_train)\n",
    "Y_pred = mlltree.predict(X_test)\n",
    "\n",
    "YP = mlltree.predict(X_train)\n",
    "print(\"rmse: %.2f\" % np.sqrt(sklearn.metrics.mean_squared_error(Y_train,YP)))\n",
    "print(\"mae: %.2f\" % sklearn.metrics.mean_absolute_error(Y_train,YP))\n",
    "print(\"r2: %.2f\" % sklearn.metrics.r2_score(Y_train,YP))\n",
    "\n",
    "YP = mlltree.predict(X_test)\n",
    "print(\"rmse: %.2f\" % np.sqrt(sklearn.metrics.mean_squared_error(Y_test,YP)))\n",
    "print(\"mae: %.2f\" % sklearn.metrics.mean_absolute_error(Y_test,YP))\n",
    "print(\"r2: %.2f\" % sklearn.metrics.r2_score(Y_test,YP))"
   ]
  },
  {
   "cell_type": "code",
   "execution_count": null,
   "id": "44b9a64c-d11f-49aa-b9cc-1f8b8f66a301",
   "metadata": {},
   "outputs": [],
   "source": [
    "dtr = sklearn.tree.DecisionTreeRegressor(max_depth = 5, criterion =\"absolute_error\", random_state = 0)\n",
    "dtr.fit(X_train,Y_train)\n",
    "\n",
    "YP = dtr.predict(X_train)\n",
    "print(\"rmse: %.2f\" % np.sqrt(sklearn.metrics.mean_squared_error(Y_train,YP)))\n",
    "print(\"mae: %.2f\" % sklearn.metrics.mean_absolute_error(Y_train,YP))\n",
    "print(\"r2: %.2f\" % sklearn.metrics.r2_score(Y_train,YP))\n",
    "\n",
    "YP = dtr.predict(X_test)\n",
    "print(\"rmse: %.2f\" % np.sqrt(sklearn.metrics.mean_squared_error(Y_test,YP)))\n",
    "print(\"mae: %.2f\" % sklearn.metrics.mean_absolute_error(Y_test,YP))\n",
    "print(\"r2: %.2f\" % sklearn.metrics.r2_score(Y_test,YP))"
   ]
  },
  {
   "cell_type": "code",
   "execution_count": null,
   "id": "2c072e20-629a-417f-8419-f17cc34c0dad",
   "metadata": {},
   "outputs": [],
   "source": [
    "YP"
   ]
  },
  {
   "cell_type": "code",
   "execution_count": null,
   "id": "68226c87-5bb4-4414-b069-891691223b7e",
   "metadata": {},
   "outputs": [],
   "source": [
    "clf = regressor.DecisionTreeRegressor(max_depth=5, loss='mae')\n",
    "clf.fit(X,Y)\n",
    "YP = clf.predict(X_train)\n",
    "\n",
    "print(\"rmse: %.2f\" % np.sqrt(sklearn.metrics.mean_squared_error(Y_train,YP)))\n",
    "print(\"mae: %.2f\" % sklearn.metrics.mean_absolute_error(Y_train,YP))\n",
    "print(\"r2: %.2f\" % sklearn.metrics.r2_score(Y_train,YP))\n",
    "\n",
    "YP = clf.predict(X_test)\n",
    "print(\"rmse: %.2f\" % np.sqrt(sklearn.metrics.mean_squared_error(Y_test,YP)))\n",
    "print(\"mae: %.2f\" % sklearn.metrics.mean_absolute_error(Y_test,YP))\n",
    "print(\"r2: %.2f\" % sklearn.metrics.r2_score(Y_test,YP))"
   ]
  }
 ],
 "metadata": {
  "kernelspec": {
   "display_name": "Python 3 (ipykernel)",
   "language": "python",
   "name": "python3"
  },
  "language_info": {
   "codemirror_mode": {
    "name": "ipython",
    "version": 3
   },
   "file_extension": ".py",
   "mimetype": "text/x-python",
   "name": "python",
   "nbconvert_exporter": "python",
   "pygments_lexer": "ipython3",
   "version": "3.10.12"
  }
 },
 "nbformat": 4,
 "nbformat_minor": 5
}
