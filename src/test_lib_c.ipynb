{
 "cells": [
  {
   "cell_type": "code",
   "execution_count": null,
   "id": "2035f9b0-051f-4693-82bc-83417a76b9b5",
   "metadata": {},
   "outputs": [],
   "source": [
    "import os\n",
    "os._exit(00)"
   ]
  },
  {
   "cell_type": "code",
   "execution_count": 4,
   "id": "57cfee09-0408-49d0-b0f5-d7fbc53c55b9",
   "metadata": {},
   "outputs": [],
   "source": [
    "import ctypes"
   ]
  },
  {
   "cell_type": "code",
   "execution_count": 14,
   "id": "1d34db6a-5432-42f1-a10f-0b22fff1adbe",
   "metadata": {},
   "outputs": [],
   "source": [
    "# !g++ -shared -o lltree.so -fPIC lltree.c"
   ]
  },
  {
   "cell_type": "code",
   "execution_count": 5,
   "id": "5976aade-9d95-478f-8ac6-a99d37e7ba1b",
   "metadata": {},
   "outputs": [],
   "source": [
    "libc = ctypes.cdll.LoadLibrary(\"/home/alexandre/Desktop/lltrees/src/lltree.so\")"
   ]
  },
  {
   "cell_type": "code",
   "execution_count": 6,
   "id": "d239ea8d-dd92-4fbf-a8e7-3ae47a646a97",
   "metadata": {},
   "outputs": [
    {
     "data": {
      "text/plain": [
       "0"
      ]
     },
     "execution_count": 6,
     "metadata": {},
     "output_type": "execute_result"
    },
    {
     "name": "stdout",
     "output_type": "stream",
     "text": [
      "hello world\n"
     ]
    }
   ],
   "source": [
    "libc.main()"
   ]
  }
 ],
 "metadata": {
  "kernelspec": {
   "display_name": "Python 3 (ipykernel)",
   "language": "python",
   "name": "python3"
  },
  "language_info": {
   "codemirror_mode": {
    "name": "ipython",
    "version": 3
   },
   "file_extension": ".py",
   "mimetype": "text/x-python",
   "name": "python",
   "nbconvert_exporter": "python",
   "pygments_lexer": "ipython3",
   "version": "3.10.12"
  }
 },
 "nbformat": 4,
 "nbformat_minor": 5
}
