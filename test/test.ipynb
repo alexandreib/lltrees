{
 "cells": [
  {
   "cell_type": "code",
   "execution_count": 9,
   "id": "1ee2f801-03b4-46a9-9c66-1fc4e697073b",
   "metadata": {},
   "outputs": [],
   "source": [
    "\n",
    "from scipy import stats\n",
    "import numpy as np\n",
    "import pandas as pd\n",
    "import matplotlib.pyplot as plt\n",
    "\n",
    "from sklearn.model_selection import train_test_split\n",
    "from sklearn.datasets import load_breast_cancer,make_regression\n",
    "from sklearn.metrics import accuracy_score,precision_score,recall_score,mean_squared_error,mean_absolute_error,r2_score"
   ]
  },
  {
   "cell_type": "code",
   "execution_count": 21,
   "id": "b50d97e1-57ce-4ee6-8de8-2f5522a9b924",
   "metadata": {},
   "outputs": [],
   "source": [
    "from regressor import DecisionTreeRegressor\n",
    "from classifier import DecisionTreeClassifier"
   ]
  },
  {
   "cell_type": "code",
   "execution_count": 12,
   "id": "78dcb765-5287-48dd-964d-1c5631ff6d22",
   "metadata": {},
   "outputs": [],
   "source": [
    "# load classification dataset\n",
    "data = load_breast_cancer()\n",
    "X    = data.data\n",
    "y    = data.target"
   ]
  },
  {
   "cell_type": "code",
   "execution_count": 13,
   "id": "847fed98-7061-44e5-926e-4a2d14c0c017",
   "metadata": {},
   "outputs": [
    {
     "name": "stdout",
     "output_type": "stream",
     "text": [
      "shape of X:  (569, 30)\n",
      "shape of y:  (569,)\n"
     ]
    }
   ],
   "source": [
    "# what is the shape of the dataset?\n",
    "print('shape of X: ',X.shape)\n",
    "print('shape of y: ',y.shape)"
   ]
  },
  {
   "cell_type": "code",
   "execution_count": 19,
   "id": "e792ea61-4412-4df8-a379-85cd23eb8d55",
   "metadata": {},
   "outputs": [
    {
     "data": {
      "text/plain": [
       "<module 'lltrees' from '/home/alexandre/Desktop/lltrees/lltrees.py'>"
      ]
     },
     "execution_count": 19,
     "metadata": {},
     "output_type": "execute_result"
    }
   ],
   "source": [
    "lltrees"
   ]
  },
  {
   "cell_type": "code",
   "execution_count": 25,
   "id": "f0b353cf-945a-4a5e-875e-3c7367a1f8bc",
   "metadata": {},
   "outputs": [
    {
     "name": "stderr",
     "output_type": "stream",
     "text": [
      "/home/alexandre/Desktop/lltrees/classifier.py:53: FutureWarning: Unlike other reduction functions (e.g. `skew`, `kurtosis`), the default behavior of `mode` typically preserves the axis it acts along. In SciPy 1.11.0, this behavior will change: the default value of `keepdims` will become False, the `axis` over which the statistic is taken will be eliminated, and the value None will no longer be accepted. Set `keepdims` to True or False to avoid this warning.\n",
      "  return(stats.mode(D[:,-1])[0])\n"
     ]
    }
   ],
   "source": [
    "clf = DecisionTreeClassifier(max_depth=5, loss='gini')\n",
    "clf.fit(X,y)"
   ]
  },
  {
   "cell_type": "code",
   "execution_count": null,
   "id": "1a31d46a-6834-4436-9306-5c800ecd4dd3",
   "metadata": {},
   "outputs": [],
   "source": [
    "yp = clf.predict(X_test)"
   ]
  },
  {
   "cell_type": "code",
   "execution_count": 27,
   "id": "25e2150f-7b56-4fb6-a6f5-05d515b6750d",
   "metadata": {},
   "outputs": [
    {
     "name": "stdout",
     "output_type": "stream",
     "text": [
      "accuracy: 0.99\n",
      "precision: 0.99\n",
      "recall: 0.99\n"
     ]
    }
   ],
   "source": [
    "# evaluate model performance\n",
    "print(\"accuracy: %.2f\" % accuracy_score(y_test,yp))\n",
    "print(\"precision: %.2f\" % precision_score(y_test,yp))\n",
    "print(\"recall: %.2f\" % recall_score(y_test,yp))"
   ]
  },
  {
   "cell_type": "code",
   "execution_count": 33,
   "id": "629782e1-5551-4908-841f-c2907def8d0f",
   "metadata": {},
   "outputs": [],
   "source": [
    "X,y = make_regression(n_samples=1000, n_features=8, n_informative=5, n_targets=1, noise=1, random_state=42)\n",
    "X_train, X_test, y_train, y_test = train_test_split(X, y, test_size=0.3, random_state=42)"
   ]
  },
  {
   "cell_type": "code",
   "execution_count": 34,
   "id": "30556b3e-d739-45ae-b987-be8cba359641",
   "metadata": {},
   "outputs": [
    {
     "ename": "TypeError",
     "evalue": "unsupported operand type(s) for *: 'float' and 'NoneType'",
     "output_type": "error",
     "traceback": [
      "\u001b[0;31m---------------------------------------------------------------------------\u001b[0m",
      "\u001b[0;31mTypeError\u001b[0m                                 Traceback (most recent call last)",
      "Cell \u001b[0;32mIn[34], line 3\u001b[0m\n\u001b[1;32m      1\u001b[0m \u001b[38;5;66;03m# declare the regressor and train the model\u001b[39;00m\n\u001b[1;32m      2\u001b[0m rgr \u001b[38;5;241m=\u001b[39m DecisionTreeRegressor(max_depth\u001b[38;5;241m=\u001b[39m\u001b[38;5;241m5\u001b[39m, loss\u001b[38;5;241m=\u001b[39m\u001b[38;5;124m'\u001b[39m\u001b[38;5;124mabsolute_error\u001b[39m\u001b[38;5;124m'\u001b[39m)\n\u001b[0;32m----> 3\u001b[0m \u001b[43mrgr\u001b[49m\u001b[38;5;241;43m.\u001b[39;49m\u001b[43mfit\u001b[49m\u001b[43m(\u001b[49m\u001b[43mX_train\u001b[49m\u001b[43m,\u001b[49m\u001b[43my_train\u001b[49m\u001b[43m)\u001b[49m\n",
      "File \u001b[0;32m~/Desktop/lltrees/lltrees.py:132\u001b[0m, in \u001b[0;36mDecisionTree.fit\u001b[0;34m(self, Xin, Yin)\u001b[0m\n\u001b[1;32m    130\u001b[0m \u001b[38;5;28mself\u001b[39m\u001b[38;5;241m.\u001b[39mtree \u001b[38;5;241m=\u001b[39m Node()\n\u001b[1;32m    131\u001b[0m \u001b[38;5;66;03m#build the tree\u001b[39;00m\n\u001b[0;32m--> 132\u001b[0m \u001b[38;5;28;43mself\u001b[39;49m\u001b[38;5;241;43m.\u001b[39;49m\u001b[43m__grow\u001b[49m\u001b[43m(\u001b[49m\u001b[38;5;28;43mself\u001b[39;49m\u001b[38;5;241;43m.\u001b[39;49m\u001b[43mtree\u001b[49m\u001b[43m,\u001b[49m\u001b[43mD\u001b[49m\u001b[43m,\u001b[49m\u001b[38;5;241;43m1\u001b[39;49m\u001b[43m)\u001b[49m\n",
      "File \u001b[0;32m~/Desktop/lltrees/lltrees.py:81\u001b[0m, in \u001b[0;36mDecisionTree.__grow\u001b[0;34m(self, node, D, level)\u001b[0m\n\u001b[1;32m     78\u001b[0m \u001b[38;5;66;03m#ensure we have non-empty arrays, otherwise treat as a leaf node\u001b[39;00m\n\u001b[1;32m     79\u001b[0m \u001b[38;5;28;01mif\u001b[39;00m D_l\u001b[38;5;241m.\u001b[39msize \u001b[38;5;129;01mand\u001b[39;00m D_r\u001b[38;5;241m.\u001b[39msize:\n\u001b[1;32m     80\u001b[0m     \u001b[38;5;66;03m#calculate the impurity\u001b[39;00m\n\u001b[0;32m---> 81\u001b[0m     ip  \u001b[38;5;241m=\u001b[39m \u001b[43m(\u001b[49m\u001b[43mD_l\u001b[49m\u001b[38;5;241;43m.\u001b[39;49m\u001b[43mshape\u001b[49m\u001b[43m[\u001b[49m\u001b[38;5;241;43m0\u001b[39;49m\u001b[43m]\u001b[49m\u001b[38;5;241;43m/\u001b[39;49m\u001b[43mD\u001b[49m\u001b[38;5;241;43m.\u001b[39;49m\u001b[43mshape\u001b[49m\u001b[43m[\u001b[49m\u001b[38;5;241;43m0\u001b[39;49m\u001b[43m]\u001b[49m\u001b[43m)\u001b[49m\u001b[38;5;241;43m*\u001b[39;49m\u001b[38;5;28;43mself\u001b[39;49m\u001b[38;5;241;43m.\u001b[39;49m\u001b[43m_impurity\u001b[49m\u001b[43m(\u001b[49m\u001b[43mD_l\u001b[49m\u001b[43m)\u001b[49m \u001b[38;5;241m+\u001b[39m (D_r\u001b[38;5;241m.\u001b[39mshape[\u001b[38;5;241m0\u001b[39m]\u001b[38;5;241m/\u001b[39mD\u001b[38;5;241m.\u001b[39mshape[\u001b[38;5;241m0\u001b[39m])\u001b[38;5;241m*\u001b[39m\u001b[38;5;28mself\u001b[39m\u001b[38;5;241m.\u001b[39m_impurity(D_r)\n\u001b[1;32m     82\u001b[0m     \u001b[38;5;66;03m#now update the impurity and choice of (f,s)\u001b[39;00m\n\u001b[1;32m     83\u001b[0m     \u001b[38;5;28;01mif\u001b[39;00m (ip_node \u001b[38;5;129;01mis\u001b[39;00m \u001b[38;5;28;01mNone\u001b[39;00m) \u001b[38;5;129;01mor\u001b[39;00m (ip \u001b[38;5;241m<\u001b[39m ip_node):\n",
      "\u001b[0;31mTypeError\u001b[0m: unsupported operand type(s) for *: 'float' and 'NoneType'"
     ]
    }
   ],
   "source": [
    "# declare the regressor and train the model\n",
    "rgr = DecisionTreeRegressor(max_depth=5, loss='absolute_error')\n",
    "rgr.fit(X_train,y_train)"
   ]
  },
  {
   "cell_type": "code",
   "execution_count": 31,
   "id": "a1d6b073-8675-4d91-b8bc-7404b98cf2a8",
   "metadata": {},
   "outputs": [
    {
     "name": "stdout",
     "output_type": "stream",
     "text": [
      "rmse: 119.18\n",
      "mae: 94.41\n",
      "r2: 0.08\n"
     ]
    }
   ],
   "source": [
    "# make predictions\n",
    "yp = rgr.predict(X_test)\n",
    "\n",
    "# evaluate model performance\n",
    "print(\"rmse: %.2f\" % np.sqrt(mean_squared_error(y_test,yp)))\n",
    "print(\"mae: %.2f\" % mean_absolute_error(y_test,yp))\n",
    "print(\"r2: %.2f\" % r2_score(y_test,yp))"
   ]
  }
 ],
 "metadata": {
  "kernelspec": {
   "display_name": "Python 3 (ipykernel)",
   "language": "python",
   "name": "python3"
  },
  "language_info": {
   "codemirror_mode": {
    "name": "ipython",
    "version": 3
   },
   "file_extension": ".py",
   "mimetype": "text/x-python",
   "name": "python",
   "nbconvert_exporter": "python",
   "pygments_lexer": "ipython3",
   "version": "3.10.12"
  }
 },
 "nbformat": 4,
 "nbformat_minor": 5
}
