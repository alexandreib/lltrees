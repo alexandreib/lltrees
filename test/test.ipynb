{
 "cells": [
  {
   "cell_type": "code",
   "execution_count": 10,
   "id": "1ee2f801-03b4-46a9-9c66-1fc4e697073b",
   "metadata": {},
   "outputs": [],
   "source": [
    "\n",
    "from scipy import stats\n",
    "import numpy as np\n",
    "import pandas as pd\n",
    "import matplotlib.pyplot as plt\n",
    "\n",
    "from sklearn.model_selection import train_test_split\n",
    "from sklearn.datasets import load_breast_cancer,make_regression\n",
    "from sklearn.metrics import accuracy_score,precision_score,recall_score,mean_squared_error,mean_absolute_error,r2_score"
   ]
  },
  {
   "cell_type": "code",
   "execution_count": 11,
   "id": "b50d97e1-57ce-4ee6-8de8-2f5522a9b924",
   "metadata": {},
   "outputs": [],
   "source": [
    "from regressor import DecisionTreeRegressor\n",
    "from classifier import DecisionTreeClassifier"
   ]
  },
  {
   "cell_type": "code",
   "execution_count": 12,
   "id": "78dcb765-5287-48dd-964d-1c5631ff6d22",
   "metadata": {},
   "outputs": [],
   "source": [
    "# load classification dataset\n",
    "data = load_breast_cancer()\n",
    "X    = data.data\n",
    "y    = data.target"
   ]
  },
  {
   "cell_type": "code",
   "execution_count": 13,
   "id": "847fed98-7061-44e5-926e-4a2d14c0c017",
   "metadata": {},
   "outputs": [
    {
     "name": "stdout",
     "output_type": "stream",
     "text": [
      "shape of X:  (569, 30)\n",
      "shape of y:  (569,)\n"
     ]
    }
   ],
   "source": [
    "# what is the shape of the dataset?\n",
    "print('shape of X: ',X.shape)\n",
    "print('shape of y: ',y.shape)"
   ]
  },
  {
   "cell_type": "code",
   "execution_count": 14,
   "id": "f0b353cf-945a-4a5e-875e-3c7367a1f8bc",
   "metadata": {},
   "outputs": [],
   "source": [
    "clf = DecisionTreeClassifier(max_depth=5, loss='gini')\n",
    "clf.fit(X,y)"
   ]
  },
  {
   "cell_type": "code",
   "execution_count": 15,
   "id": "1a31d46a-6834-4436-9306-5c800ecd4dd3",
   "metadata": {},
   "outputs": [
    {
     "ename": "IndexError",
     "evalue": "index 23 is out of bounds for axis 0 with size 8",
     "output_type": "error",
     "traceback": [
      "\u001b[0;31m---------------------------------------------------------------------------\u001b[0m",
      "\u001b[0;31mIndexError\u001b[0m                                Traceback (most recent call last)",
      "Cell \u001b[0;32mIn[15], line 1\u001b[0m\n\u001b[0;32m----> 1\u001b[0m yp \u001b[38;5;241m=\u001b[39m \u001b[43mclf\u001b[49m\u001b[38;5;241;43m.\u001b[39;49m\u001b[43mpredict\u001b[49m\u001b[43m(\u001b[49m\u001b[43mX_test\u001b[49m\u001b[43m)\u001b[49m\n",
      "File \u001b[0;32m~/Desktop/lltrees/test/lltrees.py:139\u001b[0m, in \u001b[0;36mDecisionTree.predict\u001b[0;34m(self, Xin)\u001b[0m\n\u001b[1;32m    137\u001b[0m p \u001b[38;5;241m=\u001b[39m []\n\u001b[1;32m    138\u001b[0m \u001b[38;5;28;01mfor\u001b[39;00m r \u001b[38;5;129;01min\u001b[39;00m \u001b[38;5;28mrange\u001b[39m(Xin\u001b[38;5;241m.\u001b[39mshape[\u001b[38;5;241m0\u001b[39m]):\n\u001b[0;32m--> 139\u001b[0m     p\u001b[38;5;241m.\u001b[39mappend(\u001b[38;5;28;43mself\u001b[39;49m\u001b[38;5;241;43m.\u001b[39;49m\u001b[43m__traverse\u001b[49m\u001b[43m(\u001b[49m\u001b[38;5;28;43mself\u001b[39;49m\u001b[38;5;241;43m.\u001b[39;49m\u001b[43mtree\u001b[49m\u001b[43m,\u001b[49m\u001b[43mXin\u001b[49m\u001b[43m[\u001b[49m\u001b[43mr\u001b[49m\u001b[43m,\u001b[49m\u001b[43m:\u001b[49m\u001b[43m]\u001b[49m\u001b[43m)\u001b[49m)\n\u001b[1;32m    140\u001b[0m \u001b[38;5;66;03m#return predictions\u001b[39;00m\n\u001b[1;32m    141\u001b[0m \u001b[38;5;28;01mreturn\u001b[39;00m(np\u001b[38;5;241m.\u001b[39marray(p)\u001b[38;5;241m.\u001b[39mflatten())\n",
      "File \u001b[0;32m~/Desktop/lltrees/test/lltrees.py:117\u001b[0m, in \u001b[0;36mDecisionTree.__traverse\u001b[0;34m(self, node, Xrow)\u001b[0m\n\u001b[1;32m    115\u001b[0m (s,f) \u001b[38;5;241m=\u001b[39m node\u001b[38;5;241m.\u001b[39mget_params()\n\u001b[1;32m    116\u001b[0m \u001b[38;5;66;03m#decide to go left or right?\u001b[39;00m\n\u001b[0;32m--> 117\u001b[0m \u001b[38;5;28;01mif\u001b[39;00m (\u001b[43mXrow\u001b[49m\u001b[43m[\u001b[49m\u001b[43mf\u001b[49m\u001b[43m]\u001b[49m \u001b[38;5;241m<\u001b[39m\u001b[38;5;241m=\u001b[39m s):\n\u001b[1;32m    118\u001b[0m     \u001b[38;5;28;01mreturn\u001b[39;00m(\u001b[38;5;28mself\u001b[39m\u001b[38;5;241m.\u001b[39m__traverse(node\u001b[38;5;241m.\u001b[39mget_left_node(),Xrow))\n\u001b[1;32m    119\u001b[0m \u001b[38;5;28;01melse\u001b[39;00m:\n",
      "\u001b[0;31mIndexError\u001b[0m: index 23 is out of bounds for axis 0 with size 8"
     ]
    }
   ],
   "source": [
    "yp = clf.predict(X_test)"
   ]
  },
  {
   "cell_type": "code",
   "execution_count": 16,
   "id": "25e2150f-7b56-4fb6-a6f5-05d515b6750d",
   "metadata": {},
   "outputs": [
    {
     "ename": "NameError",
     "evalue": "name 'yp' is not defined",
     "output_type": "error",
     "traceback": [
      "\u001b[0;31m---------------------------------------------------------------------------\u001b[0m",
      "\u001b[0;31mNameError\u001b[0m                                 Traceback (most recent call last)",
      "Cell \u001b[0;32mIn[16], line 2\u001b[0m\n\u001b[1;32m      1\u001b[0m \u001b[38;5;66;03m# evaluate model performance\u001b[39;00m\n\u001b[0;32m----> 2\u001b[0m \u001b[38;5;28mprint\u001b[39m(\u001b[38;5;124m\"\u001b[39m\u001b[38;5;124maccuracy: \u001b[39m\u001b[38;5;132;01m%.2f\u001b[39;00m\u001b[38;5;124m\"\u001b[39m \u001b[38;5;241m%\u001b[39m accuracy_score(y_test,\u001b[43myp\u001b[49m))\n\u001b[1;32m      3\u001b[0m \u001b[38;5;28mprint\u001b[39m(\u001b[38;5;124m\"\u001b[39m\u001b[38;5;124mprecision: \u001b[39m\u001b[38;5;132;01m%.2f\u001b[39;00m\u001b[38;5;124m\"\u001b[39m \u001b[38;5;241m%\u001b[39m precision_score(y_test,yp))\n\u001b[1;32m      4\u001b[0m \u001b[38;5;28mprint\u001b[39m(\u001b[38;5;124m\"\u001b[39m\u001b[38;5;124mrecall: \u001b[39m\u001b[38;5;132;01m%.2f\u001b[39;00m\u001b[38;5;124m\"\u001b[39m \u001b[38;5;241m%\u001b[39m recall_score(y_test,yp))\n",
      "\u001b[0;31mNameError\u001b[0m: name 'yp' is not defined"
     ]
    }
   ],
   "source": [
    "# evaluate model performance\n",
    "print(\"accuracy: %.2f\" % accuracy_score(y_test,yp))\n",
    "print(\"precision: %.2f\" % precision_score(y_test,yp))\n",
    "print(\"recall: %.2f\" % recall_score(y_test,yp))"
   ]
  },
  {
   "cell_type": "code",
   "execution_count": 17,
   "id": "629782e1-5551-4908-841f-c2907def8d0f",
   "metadata": {},
   "outputs": [],
   "source": [
    "X,y = make_regression(n_samples=1000, n_features=8, n_informative=5, n_targets=1, noise=1, random_state=42)\n",
    "X_train, X_test, y_train, y_test = train_test_split(X, y, test_size=0.3, random_state=42)"
   ]
  },
  {
   "cell_type": "code",
   "execution_count": 18,
   "id": "30556b3e-d739-45ae-b987-be8cba359641",
   "metadata": {},
   "outputs": [
    {
     "ename": "TypeError",
     "evalue": "unsupported operand type(s) for *: 'float' and 'NoneType'",
     "output_type": "error",
     "traceback": [
      "\u001b[0;31m---------------------------------------------------------------------------\u001b[0m",
      "\u001b[0;31mTypeError\u001b[0m                                 Traceback (most recent call last)",
      "Cell \u001b[0;32mIn[18], line 3\u001b[0m\n\u001b[1;32m      1\u001b[0m \u001b[38;5;66;03m# declare the regressor and train the model\u001b[39;00m\n\u001b[1;32m      2\u001b[0m rgr \u001b[38;5;241m=\u001b[39m DecisionTreeRegressor(max_depth\u001b[38;5;241m=\u001b[39m\u001b[38;5;241m5\u001b[39m, loss\u001b[38;5;241m=\u001b[39m\u001b[38;5;124m'\u001b[39m\u001b[38;5;124mabsolute_error\u001b[39m\u001b[38;5;124m'\u001b[39m)\n\u001b[0;32m----> 3\u001b[0m \u001b[43mrgr\u001b[49m\u001b[38;5;241;43m.\u001b[39;49m\u001b[43mfit\u001b[49m\u001b[43m(\u001b[49m\u001b[43mX_train\u001b[49m\u001b[43m,\u001b[49m\u001b[43my_train\u001b[49m\u001b[43m)\u001b[49m\n",
      "File \u001b[0;32m~/Desktop/lltrees/test/lltrees.py:132\u001b[0m, in \u001b[0;36mDecisionTree.fit\u001b[0;34m(self, Xin, Yin)\u001b[0m\n\u001b[1;32m    130\u001b[0m \u001b[38;5;28mself\u001b[39m\u001b[38;5;241m.\u001b[39mtree \u001b[38;5;241m=\u001b[39m Node()\n\u001b[1;32m    131\u001b[0m \u001b[38;5;66;03m#build the tree\u001b[39;00m\n\u001b[0;32m--> 132\u001b[0m \u001b[38;5;28;43mself\u001b[39;49m\u001b[38;5;241;43m.\u001b[39;49m\u001b[43m__grow\u001b[49m\u001b[43m(\u001b[49m\u001b[38;5;28;43mself\u001b[39;49m\u001b[38;5;241;43m.\u001b[39;49m\u001b[43mtree\u001b[49m\u001b[43m,\u001b[49m\u001b[43mD\u001b[49m\u001b[43m,\u001b[49m\u001b[38;5;241;43m1\u001b[39;49m\u001b[43m)\u001b[49m\n",
      "File \u001b[0;32m~/Desktop/lltrees/test/lltrees.py:81\u001b[0m, in \u001b[0;36mDecisionTree.__grow\u001b[0;34m(self, node, D, level)\u001b[0m\n\u001b[1;32m     78\u001b[0m \u001b[38;5;66;03m#ensure we have non-empty arrays, otherwise treat as a leaf node\u001b[39;00m\n\u001b[1;32m     79\u001b[0m \u001b[38;5;28;01mif\u001b[39;00m D_l\u001b[38;5;241m.\u001b[39msize \u001b[38;5;129;01mand\u001b[39;00m D_r\u001b[38;5;241m.\u001b[39msize:\n\u001b[1;32m     80\u001b[0m     \u001b[38;5;66;03m#calculate the impurity\u001b[39;00m\n\u001b[0;32m---> 81\u001b[0m     ip  \u001b[38;5;241m=\u001b[39m \u001b[43m(\u001b[49m\u001b[43mD_l\u001b[49m\u001b[38;5;241;43m.\u001b[39;49m\u001b[43mshape\u001b[49m\u001b[43m[\u001b[49m\u001b[38;5;241;43m0\u001b[39;49m\u001b[43m]\u001b[49m\u001b[38;5;241;43m/\u001b[39;49m\u001b[43mD\u001b[49m\u001b[38;5;241;43m.\u001b[39;49m\u001b[43mshape\u001b[49m\u001b[43m[\u001b[49m\u001b[38;5;241;43m0\u001b[39;49m\u001b[43m]\u001b[49m\u001b[43m)\u001b[49m\u001b[38;5;241;43m*\u001b[39;49m\u001b[38;5;28;43mself\u001b[39;49m\u001b[38;5;241;43m.\u001b[39;49m\u001b[43m_impurity\u001b[49m\u001b[43m(\u001b[49m\u001b[43mD_l\u001b[49m\u001b[43m)\u001b[49m \u001b[38;5;241m+\u001b[39m (D_r\u001b[38;5;241m.\u001b[39mshape[\u001b[38;5;241m0\u001b[39m]\u001b[38;5;241m/\u001b[39mD\u001b[38;5;241m.\u001b[39mshape[\u001b[38;5;241m0\u001b[39m])\u001b[38;5;241m*\u001b[39m\u001b[38;5;28mself\u001b[39m\u001b[38;5;241m.\u001b[39m_impurity(D_r)\n\u001b[1;32m     82\u001b[0m     \u001b[38;5;66;03m#now update the impurity and choice of (f,s)\u001b[39;00m\n\u001b[1;32m     83\u001b[0m     \u001b[38;5;28;01mif\u001b[39;00m (ip_node \u001b[38;5;129;01mis\u001b[39;00m \u001b[38;5;28;01mNone\u001b[39;00m) \u001b[38;5;129;01mor\u001b[39;00m (ip \u001b[38;5;241m<\u001b[39m ip_node):\n",
      "\u001b[0;31mTypeError\u001b[0m: unsupported operand type(s) for *: 'float' and 'NoneType'"
     ]
    }
   ],
   "source": [
    "# declare the regressor and train the model\n",
    "rgr = DecisionTreeRegressor(max_depth=5, loss='absolute_error')\n",
    "rgr.fit(X_train,y_train)"
   ]
  },
  {
   "cell_type": "code",
   "execution_count": 19,
   "id": "a1d6b073-8675-4d91-b8bc-7404b98cf2a8",
   "metadata": {},
   "outputs": [
    {
     "ename": "TypeError",
     "evalue": "'<=' not supported between instances of 'float' and 'NoneType'",
     "output_type": "error",
     "traceback": [
      "\u001b[0;31m---------------------------------------------------------------------------\u001b[0m",
      "\u001b[0;31mTypeError\u001b[0m                                 Traceback (most recent call last)",
      "Cell \u001b[0;32mIn[19], line 2\u001b[0m\n\u001b[1;32m      1\u001b[0m \u001b[38;5;66;03m# make predictions\u001b[39;00m\n\u001b[0;32m----> 2\u001b[0m yp \u001b[38;5;241m=\u001b[39m \u001b[43mrgr\u001b[49m\u001b[38;5;241;43m.\u001b[39;49m\u001b[43mpredict\u001b[49m\u001b[43m(\u001b[49m\u001b[43mX_test\u001b[49m\u001b[43m)\u001b[49m\n\u001b[1;32m      4\u001b[0m \u001b[38;5;66;03m# evaluate model performance\u001b[39;00m\n\u001b[1;32m      5\u001b[0m \u001b[38;5;28mprint\u001b[39m(\u001b[38;5;124m\"\u001b[39m\u001b[38;5;124mrmse: \u001b[39m\u001b[38;5;132;01m%.2f\u001b[39;00m\u001b[38;5;124m\"\u001b[39m \u001b[38;5;241m%\u001b[39m np\u001b[38;5;241m.\u001b[39msqrt(mean_squared_error(y_test,yp)))\n",
      "File \u001b[0;32m~/Desktop/lltrees/test/lltrees.py:139\u001b[0m, in \u001b[0;36mDecisionTree.predict\u001b[0;34m(self, Xin)\u001b[0m\n\u001b[1;32m    137\u001b[0m p \u001b[38;5;241m=\u001b[39m []\n\u001b[1;32m    138\u001b[0m \u001b[38;5;28;01mfor\u001b[39;00m r \u001b[38;5;129;01min\u001b[39;00m \u001b[38;5;28mrange\u001b[39m(Xin\u001b[38;5;241m.\u001b[39mshape[\u001b[38;5;241m0\u001b[39m]):\n\u001b[0;32m--> 139\u001b[0m     p\u001b[38;5;241m.\u001b[39mappend(\u001b[38;5;28;43mself\u001b[39;49m\u001b[38;5;241;43m.\u001b[39;49m\u001b[43m__traverse\u001b[49m\u001b[43m(\u001b[49m\u001b[38;5;28;43mself\u001b[39;49m\u001b[38;5;241;43m.\u001b[39;49m\u001b[43mtree\u001b[49m\u001b[43m,\u001b[49m\u001b[43mXin\u001b[49m\u001b[43m[\u001b[49m\u001b[43mr\u001b[49m\u001b[43m,\u001b[49m\u001b[43m:\u001b[49m\u001b[43m]\u001b[49m\u001b[43m)\u001b[49m)\n\u001b[1;32m    140\u001b[0m \u001b[38;5;66;03m#return predictions\u001b[39;00m\n\u001b[1;32m    141\u001b[0m \u001b[38;5;28;01mreturn\u001b[39;00m(np\u001b[38;5;241m.\u001b[39marray(p)\u001b[38;5;241m.\u001b[39mflatten())\n",
      "File \u001b[0;32m~/Desktop/lltrees/test/lltrees.py:117\u001b[0m, in \u001b[0;36mDecisionTree.__traverse\u001b[0;34m(self, node, Xrow)\u001b[0m\n\u001b[1;32m    115\u001b[0m (s,f) \u001b[38;5;241m=\u001b[39m node\u001b[38;5;241m.\u001b[39mget_params()\n\u001b[1;32m    116\u001b[0m \u001b[38;5;66;03m#decide to go left or right?\u001b[39;00m\n\u001b[0;32m--> 117\u001b[0m \u001b[38;5;28;01mif\u001b[39;00m (\u001b[43mXrow\u001b[49m\u001b[43m[\u001b[49m\u001b[43mf\u001b[49m\u001b[43m]\u001b[49m\u001b[43m \u001b[49m\u001b[38;5;241;43m<\u001b[39;49m\u001b[38;5;241;43m=\u001b[39;49m\u001b[43m \u001b[49m\u001b[43ms\u001b[49m):\n\u001b[1;32m    118\u001b[0m     \u001b[38;5;28;01mreturn\u001b[39;00m(\u001b[38;5;28mself\u001b[39m\u001b[38;5;241m.\u001b[39m__traverse(node\u001b[38;5;241m.\u001b[39mget_left_node(),Xrow))\n\u001b[1;32m    119\u001b[0m \u001b[38;5;28;01melse\u001b[39;00m:\n",
      "\u001b[0;31mTypeError\u001b[0m: '<=' not supported between instances of 'float' and 'NoneType'"
     ]
    }
   ],
   "source": [
    "# make predictions\n",
    "yp = rgr.predict(X_test)\n",
    "\n",
    "# evaluate model performance\n",
    "print(\"rmse: %.2f\" % np.sqrt(mean_squared_error(y_test,yp)))\n",
    "print(\"mae: %.2f\" % mean_absolute_error(y_test,yp))\n",
    "print(\"r2: %.2f\" % r2_score(y_test,yp))"
   ]
  }
 ],
 "metadata": {
  "kernelspec": {
   "display_name": "Python 3 (ipykernel)",
   "language": "python",
   "name": "python3"
  },
  "language_info": {
   "codemirror_mode": {
    "name": "ipython",
    "version": 3
   },
   "file_extension": ".py",
   "mimetype": "text/x-python",
   "name": "python",
   "nbconvert_exporter": "python",
   "pygments_lexer": "ipython3",
   "version": "3.10.12"
  }
 },
 "nbformat": 4,
 "nbformat_minor": 5
}
