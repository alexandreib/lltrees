{
 "cells": [
  {
   "cell_type": "code",
   "execution_count": 1,
   "id": "57cfee09-0408-49d0-b0f5-d7fbc53c55b9",
   "metadata": {},
   "outputs": [],
   "source": [
    "import numpy.ctypeslib as ctl\n",
    "import ctypes\n"
   ]
  },
  {
   "cell_type": "code",
   "execution_count": 2,
   "id": "73960426-817e-4075-a083-4eb2b15c85a1",
   "metadata": {},
   "outputs": [],
   "source": [
    "!gcc -shared -o testlib.so -fPIC testlib.c"
   ]
  },
  {
   "cell_type": "code",
   "execution_count": 3,
   "id": "03d6a38b-f089-4b43-b11c-41216dbdaca7",
   "metadata": {},
   "outputs": [],
   "source": [
    "libname = 'testlib.so'\n",
    "libdir = './'\n",
    "lib=ctl.load_library(libname, libdir)\n"
   ]
  },
  {
   "cell_type": "code",
   "execution_count": 4,
   "id": "b5852ec4-8f95-4a00-9c61-341be08535ec",
   "metadata": {},
   "outputs": [
    {
     "name": "stdout",
     "output_type": "stream",
     "text": [
      "hello world\n"
     ]
    },
    {
     "data": {
      "text/plain": [
       "12"
      ]
     },
     "execution_count": 4,
     "metadata": {},
     "output_type": "execute_result"
    }
   ],
   "source": [
    "lib.myprint()"
   ]
  }
 ],
 "metadata": {
  "kernelspec": {
   "display_name": "Python 3 (ipykernel)",
   "language": "python",
   "name": "python3"
  },
  "language_info": {
   "codemirror_mode": {
    "name": "ipython",
    "version": 3
   },
   "file_extension": ".py",
   "mimetype": "text/x-python",
   "name": "python",
   "nbconvert_exporter": "python",
   "pygments_lexer": "ipython3",
   "version": "3.10.12"
  }
 },
 "nbformat": 4,
 "nbformat_minor": 5
}
