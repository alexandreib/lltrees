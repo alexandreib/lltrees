{
 "cells": [
  {
   "cell_type": "code",
   "execution_count": 1,
   "id": "4694f6f3-1d25-4369-a62d-26f480f9bc15",
   "metadata": {},
   "outputs": [],
   "source": [
    "# import os\n",
    "\n",
    "import numpy as np\n",
    "import pandas as pd\n",
    "import sklearn.datasets, sklearn.metrics, sklearn.model_selection, sklearn.tree\n",
    "\n",
    "import subprocess, sys"
   ]
  },
  {
   "cell_type": "code",
   "execution_count": 74,
   "id": "f49f7dca-7f72-4c35-89a5-72dca791bb74",
   "metadata": {},
   "outputs": [
    {
     "name": "stdout",
     "output_type": "stream",
     "text": [
      "Makefile:24: warning: overriding recipe for target 'cpp/booster.cpp'\n",
      "Makefile:21: warning: ignoring old recipe for target 'cpp/booster.cpp'\n",
      "Makefile:24: warning: overriding recipe for target 'cpp/lltree.cpp'\n",
      "Makefile:21: warning: ignoring old recipe for target 'cpp/lltree.cpp'\n",
      "rm -rf build\n",
      "mkdir -p build\n"
     ]
    }
   ],
   "source": [
    "!cd ../src/ && make clean"
   ]
  },
  {
   "cell_type": "code",
   "execution_count": 87,
   "id": "7b34f4ed-bafc-4b74-be0f-f126bd20be2b",
   "metadata": {},
   "outputs": [
    {
     "name": "stdout",
     "output_type": "stream",
     "text": [
      "Makefile:25: warning: overriding recipe for target 'build/booster.o'\n",
      "Makefile:22: warning: ignoring old recipe for target 'build/booster.o'\n",
      "Makefile:25: warning: overriding recipe for target 'build/lltree.o'\n",
      "Makefile:22: warning: ignoring old recipe for target 'build/lltree.o'\n",
      "OBJECTS = build/booster.o build/lltree.o\n"
     ]
    }
   ],
   "source": [
    "!cd ../src/ && make print-OBJECTS"
   ]
  },
  {
   "cell_type": "code",
   "execution_count": null,
   "id": "4b37fff9-a165-434d-abe7-807421062df5",
   "metadata": {},
   "outputs": [],
   "source": [
    "!cd ../src/ && make\n",
    "subprocess.call([sys.executable, \"lltree_wrapper.py\"])"
   ]
  },
  {
   "cell_type": "code",
   "execution_count": 3,
   "id": "007b01d7-0a37-444a-8367-d94b4bc03b1b",
   "metadata": {},
   "outputs": [],
   "source": [
    "X, Y = sklearn.datasets.make_regression(n_samples=1000, n_features=8, n_informative=5, n_targets=1, noise=1, random_state=42)\n",
    "X_train, X_test, Y_train, Y_test = sklearn.model_selection.train_test_split(X, Y, test_size=0.3, random_state=42)"
   ]
  },
  {
   "cell_type": "code",
   "execution_count": 4,
   "id": "7287411a-9cd4-46c6-826d-cd2db3e6a254",
   "metadata": {},
   "outputs": [
    {
     "name": "stdout",
     "output_type": "stream",
     "text": [
      "rmse: 52.09Creating Node 0.\n",
      "\n",
      "mae: 38.45\n",
      "r2: 0.81\n",
      "rmse: 63.35\n",
      "mae: 49.11\n",
      "r2: 0.74\n"
     ]
    },
    {
     "data": {
      "text/plain": [
       "array([  0.56428955, 175.83954084, -55.26187679, 121.17006692,\n",
       "       -55.26187679, -36.76614036, 104.67379807, -36.76614036,\n",
       "       230.5224596 , 164.45672748])"
      ]
     },
     "execution_count": 4,
     "metadata": {},
     "output_type": "execute_result"
    }
   ],
   "source": [
    "sys.path.append('/home/alexandre/Desktop/lltrees/src/build')\n",
    "import lltree\n",
    "\n",
    "mlltree = lltree.tree()\n",
    "mlltree.fit(X_train, Y_train)\n",
    "Y_pred = mlltree.predict(X_test)\n",
    "\n",
    "YP = mlltree.predict(X_train)\n",
    "print(\"rmse: %.2f\" % np.sqrt(sklearn.metrics.mean_squared_error(Y_train,YP)))\n",
    "print(\"mae: %.2f\" % sklearn.metrics.mean_absolute_error(Y_train,YP))\n",
    "print(\"r2: %.2f\" % sklearn.metrics.r2_score(Y_train,YP))\n",
    "\n",
    "YP = mlltree.predict(X_test)\n",
    "print(\"rmse: %.2f\" % np.sqrt(sklearn.metrics.mean_squared_error(Y_test,YP)))\n",
    "print(\"mae: %.2f\" % sklearn.metrics.mean_absolute_error(Y_test,YP))\n",
    "print(\"r2: %.2f\" % sklearn.metrics.r2_score(Y_test,YP))\n",
    "YP[0:10]"
   ]
  },
  {
   "cell_type": "code",
   "execution_count": 5,
   "id": "44b9a64c-d11f-49aa-b9cc-1f8b8f66a301",
   "metadata": {},
   "outputs": [
    {
     "name": "stdout",
     "output_type": "stream",
     "text": [
      "rmse: 52.35\n",
      "mae: 37.96\n",
      "r2: 0.81\n",
      "rmse: 63.68\n",
      "mae: 49.35\n",
      "r2: 0.74\n"
     ]
    },
    {
     "data": {
      "text/plain": [
       "array([  -5.25635722,  127.29805997, -110.4560012 ,  122.24421396,\n",
       "       -110.4560012 ,  -39.90414254,  106.73581898,  -39.90414254,\n",
       "        223.68925908,  240.37517626])"
      ]
     },
     "execution_count": 5,
     "metadata": {},
     "output_type": "execute_result"
    }
   ],
   "source": [
    "dtr = sklearn.tree.DecisionTreeRegressor(max_depth = 5, criterion =\"absolute_error\", random_state = 0)\n",
    "dtr.fit(X_train,Y_train)\n",
    "\n",
    "YP = dtr.predict(X_train)\n",
    "print(\"rmse: %.2f\" % np.sqrt(sklearn.metrics.mean_squared_error(Y_train,YP)))\n",
    "print(\"mae: %.2f\" % sklearn.metrics.mean_absolute_error(Y_train,YP))\n",
    "print(\"r2: %.2f\" % sklearn.metrics.r2_score(Y_train,YP))\n",
    "\n",
    "YP = dtr.predict(X_test)\n",
    "print(\"rmse: %.2f\" % np.sqrt(sklearn.metrics.mean_squared_error(Y_test,YP)))\n",
    "print(\"mae: %.2f\" % sklearn.metrics.mean_absolute_error(Y_test,YP))\n",
    "print(\"r2: %.2f\" % sklearn.metrics.r2_score(Y_test,YP))\n",
    "YP[0:10]"
   ]
  }
 ],
 "metadata": {
  "kernelspec": {
   "display_name": "Python 3 (ipykernel)",
   "language": "python",
   "name": "python3"
  },
  "language_info": {
   "codemirror_mode": {
    "name": "ipython",
    "version": 3
   },
   "file_extension": ".py",
   "mimetype": "text/x-python",
   "name": "python",
   "nbconvert_exporter": "python",
   "pygments_lexer": "ipython3",
   "version": "3.10.12"
  }
 },
 "nbformat": 4,
 "nbformat_minor": 5
}
