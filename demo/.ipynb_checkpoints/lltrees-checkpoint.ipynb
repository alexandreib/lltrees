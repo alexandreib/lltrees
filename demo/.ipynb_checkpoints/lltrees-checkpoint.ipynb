{
 "cells": [
  {
   "cell_type": "code",
   "execution_count": 2,
   "id": "4694f6f3-1d25-4369-a62d-26f480f9bc15",
   "metadata": {},
   "outputs": [],
   "source": [
    "import time\n",
    "\n",
    "import numpy as np\n",
    "import pandas as pd\n",
    "import sklearn.datasets, sklearn.metrics, sklearn.model_selection, sklearn.tree\n",
    "\n",
    "import subprocess, sys"
   ]
  },
  {
   "cell_type": "code",
   "execution_count": 2,
   "id": "046a95f1-d7f2-4a81-ab74-2d857cf84fe8",
   "metadata": {},
   "outputs": [],
   "source": [
    "# !cd ../src/ && make print-DEPENDS"
   ]
  },
  {
   "cell_type": "code",
   "execution_count": 3,
   "id": "c121d72e-a64b-4f58-a2ab-2f6220f97c67",
   "metadata": {},
   "outputs": [],
   "source": [
    "#[0,0]:0.43693817  [0,1]0.39579885 Y = -3.54794181e+01"
   ]
  },
  {
   "cell_type": "code",
   "execution_count": 49,
   "id": "4b37fff9-a165-434d-abe7-807421062df5",
   "metadata": {},
   "outputs": [
    {
     "name": "stdout",
     "output_type": "stream",
     "text": [
      "g++ -o build/gbt.o cpp/gbt.cpp -I/usr/include/python3.10 -I/usr/include/python3.10  -Wno-unused-result -Wsign-compare -g      -fstack-protector-strong -Wformat -Werror=format-security  -DNDEBUG -g -fwrapv -O2 -Wall -fPIC -c -std=c++20 -DBOOST_BIND_GLOBAL_PLACEHOLDERS -DBOOST_ALLOW_DEPRECATED_HEADERS\n",
      "\u001b[01m\u001b[Kcpp/gbt.cpp:\u001b[m\u001b[K In member function ‘\u001b[01m\u001b[Kvirtual void regression::fit(const data&, const data&)\u001b[m\u001b[K’:\n",
      "\u001b[01m\u001b[Kcpp/gbt.cpp:46:36:\u001b[m\u001b[K \u001b[01;31m\u001b[Kerror: \u001b[m\u001b[Kno matching function for call to ‘\u001b[01m\u001b[Kstd::shared_ptr<metric>::get(std::vector<double>&, const std::vector<double>&)\u001b[m\u001b[K’\n",
      "   46 |         double metric_tr = \u001b[01;31m\u001b[Kmetr.get(residuals, type_tr.y)\u001b[m\u001b[K;\n",
      "      |                            \u001b[01;31m\u001b[K~~~~~~~~^~~~~~~~~~~~~~~~~~~~~~\u001b[m\u001b[K\n",
      "In file included from \u001b[01m\u001b[K/usr/include/c++/11/bits/shared_ptr.h:53\u001b[m\u001b[K,\n",
      "                 from \u001b[01m\u001b[K/usr/include/c++/11/memory:77\u001b[m\u001b[K,\n",
      "                 from \u001b[01m\u001b[K/usr/include/boost/function/function_base.hpp:16\u001b[m\u001b[K,\n",
      "                 from \u001b[01m\u001b[K/usr/include/boost/function/detail/prologue.hpp:17\u001b[m\u001b[K,\n",
      "                 from \u001b[01m\u001b[K/usr/include/boost/function/function_template.hpp:13\u001b[m\u001b[K,\n",
      "                 from \u001b[01m\u001b[K/usr/include/boost/function/detail/maybe_include.hpp:15\u001b[m\u001b[K,\n",
      "                 from \u001b[01m\u001b[K/usr/include/boost/function/function0.hpp:11\u001b[m\u001b[K,\n",
      "                 from \u001b[01m\u001b[K/usr/include/boost/python/errors.hpp:13\u001b[m\u001b[K,\n",
      "                 from \u001b[01m\u001b[K/usr/include/boost/python/handle.hpp:11\u001b[m\u001b[K,\n",
      "                 from \u001b[01m\u001b[K/usr/include/boost/python/args_fwd.hpp:10\u001b[m\u001b[K,\n",
      "                 from \u001b[01m\u001b[K/usr/include/boost/python/args.hpp:10\u001b[m\u001b[K,\n",
      "                 from \u001b[01m\u001b[K/usr/include/boost/python.hpp:11\u001b[m\u001b[K,\n",
      "                 from \u001b[01m\u001b[K/usr/include/boost/python/numpy/dtype.hpp:15\u001b[m\u001b[K,\n",
      "                 from \u001b[01m\u001b[K/usr/include/boost/python/numpy.hpp:10\u001b[m\u001b[K,\n",
      "                 from \u001b[01m\u001b[Kcpp/wrapper.hpp:2\u001b[m\u001b[K,\n",
      "                 from \u001b[01m\u001b[Kcpp/gbt.hpp:8\u001b[m\u001b[K,\n",
      "                 from \u001b[01m\u001b[Kcpp/gbt.cpp:8\u001b[m\u001b[K:\n",
      "\u001b[01m\u001b[K/usr/include/c++/11/bits/shared_ptr_base.h:1295:7:\u001b[m\u001b[K \u001b[01;36m\u001b[Knote: \u001b[m\u001b[Kcandidate: ‘\u001b[01m\u001b[Kstd::__shared_ptr<_Tp, _Lp>::element_type* std::__shared_ptr<_Tp, _Lp>::get() const [with _Tp = metric; __gnu_cxx::_Lock_policy _Lp = __gnu_cxx::_S_atomic; std::__shared_ptr<_Tp, _Lp>::element_type = metric]\u001b[m\u001b[K’\n",
      " 1295 |       \u001b[01;36m\u001b[Kget\u001b[m\u001b[K() const noexcept\n",
      "      |       \u001b[01;36m\u001b[K^~~\u001b[m\u001b[K\n",
      "\u001b[01m\u001b[K/usr/include/c++/11/bits/shared_ptr_base.h:1295:7:\u001b[m\u001b[K \u001b[01;36m\u001b[Knote: \u001b[m\u001b[K  candidate expects 0 arguments, 2 provided\n",
      "make: *** [Makefile:25: build/gbt.o] Error 1\n",
      "mode :              regression\n",
      "epochs :            16\n",
      "learning_rate :     0\n",
      "max_depth :         0\n",
      "min_leaf_size :     0\n",
      "criterion :         variance\n",
      "verbose :           1\n",
      "mode :              regression\n",
      "epochs :            1\n",
      "learning_rate :     1\n",
      "max_depth :         5\n",
      "min_leaf_size :     1\n",
      "criterion :         absolute_error\n",
      "verbose :           1\n",
      "Type of Training Data : float64\n",
      "Configuration mode : regression\n",
      "x shape : 700 8\n",
      "y shape : 700 1\n",
      "create_index\n",
      "No Validate Data, will use Training Data.\n",
      "FIT --- 0.05626869201660156 seconds ---\n",
      "Configuration mode : regression\n",
      "x shape : 700 8\n",
      "PREDICT --- 2.09808349609375e-05 seconds ---\n",
      "[-58.50460017 105.8980107  105.8980107  106.78631549 -58.50460017\n",
      " 121.30886257 -58.50460017 -13.06305404 -58.50460017 -58.50460017]\n"
     ]
    },
    {
     "data": {
      "text/plain": [
       "0"
      ]
     },
     "execution_count": 49,
     "metadata": {},
     "output_type": "execute_result"
    }
   ],
   "source": [
    "# !cd ../src/ && make clean\n",
    "!cd ../src/ && make\n",
    "subprocess.call([sys.executable, \"lltrees_python_import_for_debug.py\"])"
   ]
  },
  {
   "cell_type": "markdown",
   "id": "ca385113-e559-470e-9216-1a1682b3cc69",
   "metadata": {},
   "source": [
    "# make_regression"
   ]
  },
  {
   "cell_type": "code",
   "execution_count": 3,
   "id": "007b01d7-0a37-444a-8367-d94b4bc03b1b",
   "metadata": {},
   "outputs": [],
   "source": [
    "X, Y = sklearn.datasets.make_regression(n_samples=1000, n_features=8, n_informative=5, n_targets=1, noise=1, random_state=42)\n",
    "X_train, X_test, Y_train, Y_test = sklearn.model_selection.train_test_split(X, Y, test_size=0.3, random_state=42)"
   ]
  },
  {
   "cell_type": "code",
   "execution_count": null,
   "id": "7287411a-9cd4-46c6-826d-cd2db3e6a254",
   "metadata": {},
   "outputs": [],
   "source": [
    "sys.path.append('/home/alexandre/Desktop/lltrees/src/build')\n",
    "import lltrees\n",
    "conf ={\n",
    "    'epochs' : 1,\n",
    "    'learning_rate' : 1,\n",
    "    'metric' : 'mae', # Possible metrics for the moment : mae, mse\n",
    "    'max_depth' : 5,\n",
    "    'min_leaf_size' : 2,\n",
    "    'criterion' : \"absolute_error\",  # Possible metrics for the moment : variance, absolute_error\n",
    "    'verbose' : 0, \n",
    "}\n",
    "my_lltree = lltrees.lltree()\n",
    "my_lltree.set_conf(conf)\n",
    "my_lltree.get_conf()\n",
    "\n",
    "start_time = time.time()\n",
    "my_lltree.fit(X_train, Y_train, X_test, Y_test)\n",
    "print(\"FIT --- %s seconds ---\" % (time.time() - start_time))\n",
    "\n",
    "start_time = time.time()\n",
    "YP = my_lltree.predict(X_test)\n",
    "print(\"PREDICT --- %s seconds ---\" % (time.time() - start_time))\n",
    "\n",
    "print(\"rmse: %.2f\" % np.sqrt(sklearn.metrics.mean_squared_error(Y_test,YP)))\n",
    "print(\"mae: %.2f\" % sklearn.metrics.mean_absolute_error(Y_test,YP))\n",
    "print(\"r2: %.2f\" % sklearn.metrics.r2_score(Y_test,YP))"
   ]
  },
  {
   "cell_type": "code",
   "execution_count": 4,
   "id": "44b9a64c-d11f-49aa-b9cc-1f8b8f66a301",
   "metadata": {},
   "outputs": [
    {
     "name": "stdout",
     "output_type": "stream",
     "text": [
      "FIT --- 0.022594213485717773 seconds ---\n",
      "PREDICT --- 0.00035071372985839844 seconds ---\n",
      "[  -5.25635722  127.29805997 -110.4560012   122.24421396 -110.4560012\n",
      "  -39.90414254  106.73581898  -39.90414254  223.68925908  240.37517626]\n",
      "rmse: 63.68\n",
      "mae: 49.35\n",
      "r2: 0.74\n"
     ]
    }
   ],
   "source": [
    "my_lltree = sklearn.tree.DecisionTreeRegressor(max_depth = 5, criterion =\"absolute_error\", random_state = 0)\n",
    "\n",
    "start_time = time.time()\n",
    "my_lltree.fit(X_train, Y_train)\n",
    "print(\"FIT --- %s seconds ---\" % (time.time() - start_time))\n",
    "\n",
    "start_time = time.time()\n",
    "YP = my_lltree.predict(X_test)\n",
    "print(\"PREDICT --- %s seconds ---\" % (time.time() - start_time))\n",
    "\n",
    "print(YP[0:10])\n",
    "print(\"rmse: %.2f\" % np.sqrt(sklearn.metrics.mean_squared_error(Y_test,YP)))\n",
    "print(\"mae: %.2f\" % sklearn.metrics.mean_absolute_error(Y_test,YP))\n",
    "print(\"r2: %.2f\" % sklearn.metrics.r2_score(Y_test,YP))"
   ]
  },
  {
   "cell_type": "code",
   "execution_count": null,
   "id": "e6a50c75-f4f7-45ee-a66b-8bc9249121cf",
   "metadata": {},
   "outputs": [],
   "source": [
    "conf ={\n",
    "    'epochs' : 50,\n",
    "    'learning_rate' : 0.1,\n",
    "    'metric_name' : 'mae', # Possible metrics for the moment : mae, mse\n",
    "    'lltree_max_depth' : 3,\n",
    "    'lltree_min_size_split' : 1,\n",
    "    'lltree_criterion' : \"variance\",  # Possible metrics for the moment : variance, absolute_error\n",
    "    'verbose' : 0,  # Possible metrics for the moment : variance, absolute_error\n",
    "}\n",
    "my_lltree = lltrees.lltree()\n",
    "my_lltree.set_conf(conf)\n",
    "my_lltree.get_conf()\n",
    "\n",
    "start_time = time.time()\n",
    "my_lltree.fit(X_train, Y_train)\n",
    "print(\"FIT --- %s seconds ---\" % (time.time() - start_time))\n",
    "\n",
    "start_time = time.time()\n",
    "YP = my_lltree.predict(X_test)\n",
    "print(\"PREDICT --- %s seconds ---\" % (time.time() - start_time))\n",
    "\n",
    "print(\"rmse: %.2f\" % np.sqrt(sklearn.metrics.mean_squared_error(Y_test,YP)))\n",
    "print(\"mae: %.2f\" % sklearn.metrics.mean_absolute_error(Y_test,YP))\n",
    "print(\"r2: %.2f\" % sklearn.metrics.r2_score(Y_test,YP))"
   ]
  },
  {
   "cell_type": "code",
   "execution_count": null,
   "id": "c090343b-8e53-4e89-b97c-5a3fd67a548b",
   "metadata": {},
   "outputs": [],
   "source": [
    "from sklearn.ensemble import GradientBoostingRegressor\n",
    "my_lltree = GradientBoostingRegressor(learning_rate = 0.1, n_estimators =50, \n",
    "                                 loss = 'absolute_error', criterion = 'squared_error',\n",
    "                                 random_state = 0)\n",
    "\n",
    "start_time = time.time()\n",
    "my_lltree.fit(X_train, Y_train)\n",
    "print(\"FIT --- %s seconds ---\" % (time.time() - start_time))\n",
    "\n",
    "start_time = time.time()\n",
    "YP = my_lltree.predict(X_test)\n",
    "print(\"PREDICT --- %s seconds ---\" % (time.time() - start_time))\n",
    "\n",
    "print(\"rmse: %.2f\" % np.sqrt(sklearn.metrics.mean_squared_error(Y_test,YP)))\n",
    "print(\"mae: %.2f\" % sklearn.metrics.mean_absolute_error(Y_test,YP))\n",
    "print(\"r2: %.2f\" % sklearn.metrics.r2_score(Y_test,YP))"
   ]
  },
  {
   "cell_type": "markdown",
   "id": "5e699efd-5f26-43ad-85f9-c5d9bed356fe",
   "metadata": {},
   "source": [
    "# make_classification"
   ]
  },
  {
   "cell_type": "code",
   "execution_count": null,
   "id": "91fce4d9-19ed-443e-a812-b3dcbf23a759",
   "metadata": {},
   "outputs": [],
   "source": [
    "X, Y = sklearn.datasets.make_classification(n_samples=1000, n_features=8, n_informative=5, n_classes=2, random_state=42)\n",
    "X_train, X_test, Y_train, Y_test = sklearn.model_selection.train_test_split(X, Y, test_size=0.3, random_state=42)"
   ]
  },
  {
   "cell_type": "code",
   "execution_count": null,
   "id": "72a76b26-59dd-47a2-af37-053ea20dc7bf",
   "metadata": {},
   "outputs": [],
   "source": [
    "# conf ={\n",
    "#     'epochs' : 50,\n",
    "#     'learning_rate' : 0.1,\n",
    "#     'metric_name' : 'mae', # Possible metrics for the moment : mae, mse\n",
    "#     'lltree_max_depth' : 3,\n",
    "#     'lltree_min_size_split' : 1,\n",
    "#     'lltree_criterion' : \"gini\",  # Possible metrics for the moment : variance, absolute_error\n",
    "#     'verbose' : 1,  # Possible metrics for the moment : variance, absolute_error\n",
    "# }\n",
    "# my_lltree = lltrees.lltree()\n",
    "# my_lltree.set_conf(conf)\n",
    "# my_lltree.get_conf()\n",
    "\n",
    "# start_time = time.time()\n",
    "# my_lltree.fit(X_train, Y_train)\n",
    "# print(\"FIT --- %s seconds ---\" % (time.time() - start_time))\n",
    "\n",
    "# start_time = time.time()\n",
    "# YP = my_lltree.predict(X_test)\n",
    "# print(\"PREDICT --- %s seconds ---\" % (time.time() - start_time))\n",
    "\n",
    "# print(\"accuracy_score: %.2f\" % np.sqrt(sklearn.metrics.accuracy_score(Y_test,YP)))\n",
    "# print(\"log_loss: %.2f\" % sklearn.metrics.log_loss(Y_test,YP))\n",
    "# print(\"f1_score: %.2f\" % sklearn.metrics.f1_score(Y_test,YP))"
   ]
  }
 ],
 "metadata": {
  "kernelspec": {
   "display_name": "Python 3 (ipykernel)",
   "language": "python",
   "name": "python3"
  },
  "language_info": {
   "codemirror_mode": {
    "name": "ipython",
    "version": 3
   },
   "file_extension": ".py",
   "mimetype": "text/x-python",
   "name": "python",
   "nbconvert_exporter": "python",
   "pygments_lexer": "ipython3",
   "version": "3.10.12"
  }
 },
 "nbformat": 4,
 "nbformat_minor": 5
}
