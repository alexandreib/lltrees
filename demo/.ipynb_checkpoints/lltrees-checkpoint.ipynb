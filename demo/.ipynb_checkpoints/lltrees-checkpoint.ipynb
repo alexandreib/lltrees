{
 "cells": [
  {
   "cell_type": "code",
   "execution_count": 1,
   "id": "4694f6f3-1d25-4369-a62d-26f480f9bc15",
   "metadata": {},
   "outputs": [],
   "source": [
    "import time\n",
    "\n",
    "import numpy as np\n",
    "import pandas as pd\n",
    "import sklearn.datasets, sklearn.metrics, sklearn.model_selection, sklearn.tree\n",
    "\n",
    "import subprocess, sys"
   ]
  },
  {
   "cell_type": "code",
   "execution_count": null,
   "id": "5526f3ce-a219-406e-a9d5-4a63eb3ee51a",
   "metadata": {},
   "outputs": [],
   "source": [
    "!cd ../ && make print-SOURCES"
   ]
  },
  {
   "cell_type": "code",
   "execution_count": 11,
   "id": "4b37fff9-a165-434d-abe7-807421062df5",
   "metadata": {},
   "outputs": [
    {
     "name": "stdout",
     "output_type": "stream",
     "text": [
      "rm -rf build\n",
      "mkdir -p build\n",
      "g++ -g -o build/criterion.o cpp/criterion.cpp -I/usr/include/python3.10 -I/usr/include/python3.10  -Wno-unused-result -Wsign-compare -g      -fstack-protector-strong -Wformat -Werror=format-security  -DNDEBUG -g -fwrapv -O2 -Wall -fPIC -c -std=c++20 -DBOOST_BIND_GLOBAL_PLACEHOLDERS -DBOOST_ALLOW_DEPRECATED_HEADERS\n",
      "g++ -g -o build/factories.o cpp/factories.cpp -I/usr/include/python3.10 -I/usr/include/python3.10  -Wno-unused-result -Wsign-compare -g      -fstack-protector-strong -Wformat -Werror=format-security  -DNDEBUG -g -fwrapv -O2 -Wall -fPIC -c -std=c++20 -DBOOST_BIND_GLOBAL_PLACEHOLDERS -DBOOST_ALLOW_DEPRECATED_HEADERS\n",
      "g++ -g -o build/gbt.o cpp/gbt.cpp -I/usr/include/python3.10 -I/usr/include/python3.10  -Wno-unused-result -Wsign-compare -g      -fstack-protector-strong -Wformat -Werror=format-security  -DNDEBUG -g -fwrapv -O2 -Wall -fPIC -c -std=c++20 -DBOOST_BIND_GLOBAL_PLACEHOLDERS -DBOOST_ALLOW_DEPRECATED_HEADERS\n",
      "g++ -g -o build/lltrees.o cpp/lltrees.cpp -I/usr/include/python3.10 -I/usr/include/python3.10  -Wno-unused-result -Wsign-compare -g      -fstack-protector-strong -Wformat -Werror=format-security  -DNDEBUG -g -fwrapv -O2 -Wall -fPIC -c -std=c++20 -DBOOST_BIND_GLOBAL_PLACEHOLDERS -DBOOST_ALLOW_DEPRECATED_HEADERS\n",
      "g++ -g -o build/metrics.o cpp/metrics.cpp -I/usr/include/python3.10 -I/usr/include/python3.10  -Wno-unused-result -Wsign-compare -g      -fstack-protector-strong -Wformat -Werror=format-security  -DNDEBUG -g -fwrapv -O2 -Wall -fPIC -c -std=c++20 -DBOOST_BIND_GLOBAL_PLACEHOLDERS -DBOOST_ALLOW_DEPRECATED_HEADERS\n",
      "g++ -g -o build/node.o cpp/node.cpp -I/usr/include/python3.10 -I/usr/include/python3.10  -Wno-unused-result -Wsign-compare -g      -fstack-protector-strong -Wformat -Werror=format-security  -DNDEBUG -g -fwrapv -O2 -Wall -fPIC -c -std=c++20 -DBOOST_BIND_GLOBAL_PLACEHOLDERS -DBOOST_ALLOW_DEPRECATED_HEADERS\n",
      "g++ -g -o build/tree.o cpp/tree.cpp -I/usr/include/python3.10 -I/usr/include/python3.10  -Wno-unused-result -Wsign-compare -g      -fstack-protector-strong -Wformat -Werror=format-security  -DNDEBUG -g -fwrapv -O2 -Wall -fPIC -c -std=c++20 -DBOOST_BIND_GLOBAL_PLACEHOLDERS -DBOOST_ALLOW_DEPRECATED_HEADERS\n",
      "g++ -g -o build/wrapper.o cpp/wrapper.cpp -I/usr/include/python3.10 -I/usr/include/python3.10  -Wno-unused-result -Wsign-compare -g      -fstack-protector-strong -Wformat -Werror=format-security  -DNDEBUG -g -fwrapv -O2 -Wall -fPIC -c -std=c++20 -DBOOST_BIND_GLOBAL_PLACEHOLDERS -DBOOST_ALLOW_DEPRECATED_HEADERS\n",
      "g++ -g -o build/lltrees.so build/criterion.o build/factories.o build/gbt.o build/lltrees.o build/metrics.o build/node.o build/tree.o build/wrapper.o -L/usr/lib/python3.10/config-3.10-x86_64-linux-gnu -L/usr/lib/x86_64-linux-gnu  -lcrypt -ldl  -lm -lm  -shared -Wl,-rpath,/usr/lib  -lpython3.10 -lboost_python310 -lboost_numpy310\n",
      "[[ 0.43693817 -0.30246969]\n",
      " [ 0.39579885  0.3594758 ]]\n",
      "[-35.47941809 179.18015947  71.32109183 150.51512276 -70.31381315]\n",
      "-----------------------------------------\n",
      "mode :              regression\n",
      "epochs :            10\n",
      "learning_rate :     0.1\n",
      "metric :            mae\n",
      "criterion :         absolute_error\n",
      "max_depth :         5\n",
      "min_leaf_size :     1\n",
      "verbose :           1\n",
      "-----------------------------------------\n",
      "Type of Training Data : float64\n",
      "Configuration mode : regression\n",
      "Epoch : 1     Metric Train : 87.519  Metric va : 94.0608 Residuals (mean) : -235.595\n",
      "Epoch : 2     Metric Train : 80.7893 Metric va : 87.5887 Residuals (mean) : -212.035\n",
      "Epoch : 3     Metric Train : 74.624  Metric va : 81.7994 Residuals (mean) : -190.832\n",
      "Epoch : 4     Metric Train : 68.7155 Metric va : 75.6845 Residuals (mean) : -171.748\n",
      "Epoch : 5     Metric Train : 63.4906 Metric va : 70.8062 Residuals (mean) : -154.574\n",
      "Epoch : 6     Metric Train : 58.5496 Metric va : 65.8073 Residuals (mean) : -139.116\n",
      "Epoch : 7     Metric Train : 53.9519 Metric va : 61.8382 Residuals (mean) : -125.205\n",
      "Epoch : 8     Metric Train : 49.9239 Metric va : 58.0591 Residuals (mean) : -112.684\n",
      "Epoch : 9     Metric Train : 46.2738 Metric va : 54.5555 Residuals (mean) : -101.416\n",
      "Epoch : 10    Metric Train : 42.864  Metric va : 51.5558 Residuals (mean) : -91.2742\n",
      "FIT --- 0.5312671661376953 seconds ---\n",
      "PREDICT --- 0.0001220703125 seconds ---\n",
      "[-235.59464007 -212.03517607 -190.83165846 -171.74849261 -154.57364335\n",
      " -139.11627902 -125.20465111 -112.684186   -101.4157674   -91.27419066]\n",
      "rmse: 64.57\n",
      "mae: 51.56\n",
      "r2: 0.73\n",
      "-----------------------------------------\n",
      "mode :              regression\n",
      "epochs :            10\n",
      "learning_rate :     0.1\n",
      "metric :            mae\n",
      "criterion :         absolute_error\n",
      "max_depth :         5\n",
      "min_leaf_size :     1\n",
      "verbose :           1\n",
      "-----------------------------------------\n",
      "Type of Training Data : float64\n",
      "Configuration mode : regression\n",
      "Epoch : 1     Metric Train : 87.519  Metric va : 94.0608 Residuals (mean) : -235.595\n",
      "Epoch : 2     Metric Train : 80.7893 Metric va : 87.5887 Residuals (mean) : -212.035\n",
      "Epoch : 3     Metric Train : 74.624  Metric va : 81.7994 Residuals (mean) : -190.832\n",
      "Epoch : 4     Metric Train : 68.7155 Metric va : 75.6845 Residuals (mean) : -171.748\n",
      "Epoch : 5     Metric Train : 63.4906 Metric va : 70.8062 Residuals (mean) : -154.574\n",
      "Epoch : 6     Metric Train : 58.5496 Metric va : 65.8073 Residuals (mean) : -139.116\n",
      "Epoch : 7     Metric Train : 53.9519 Metric va : 61.8382 Residuals (mean) : -125.205\n",
      "Epoch : 8     Metric Train : 49.9239 Metric va : 58.0591 Residuals (mean) : -112.684\n",
      "Epoch : 9     Metric Train : 46.2738 Metric va : 54.5555 Residuals (mean) : -101.416\n",
      "Epoch : 10    Metric Train : 42.864  Metric va : 51.5558 Residuals (mean) : -91.2742\n",
      "FIT --- 0.5267832279205322 seconds ---\n",
      "PREDICT --- 0.00012063980102539062 seconds ---\n",
      "[-235.59464007 -212.03517607 -190.83165846 -171.74849261 -154.57364335\n",
      " -139.11627902 -125.20465111 -112.684186   -101.4157674   -91.27419066]\n",
      "rmse: 64.57\n",
      "mae: 51.56\n",
      "r2: 0.73\n",
      "[ 14.62462025  99.03325568 -68.19478569  59.53153143 -19.96177164\n",
      " -44.424827    31.13285471 -34.44763165 154.78812538 110.5904219 ]\n"
     ]
    },
    {
     "data": {
      "text/plain": [
       "0"
      ]
     },
     "execution_count": 11,
     "metadata": {},
     "output_type": "execute_result"
    }
   ],
   "source": [
    "# !cd ../ && make clean\n",
    "!cd ../ && make\n",
    "subprocess.call([sys.executable, \"lltrees_python_import_for_debug.py\"])"
   ]
  },
  {
   "cell_type": "markdown",
   "id": "ca385113-e559-470e-9216-1a1682b3cc69",
   "metadata": {},
   "source": [
    "# make_regression"
   ]
  },
  {
   "cell_type": "code",
   "execution_count": null,
   "id": "007b01d7-0a37-444a-8367-d94b4bc03b1b",
   "metadata": {},
   "outputs": [],
   "source": [
    "X, Y = sklearn.datasets.make_regression(n_samples=1000, n_features=8, n_informative=5, n_targets=1, noise=1, random_state=42)\n",
    "X_train, X_test, Y_train, Y_test = sklearn.model_selection.train_test_split(X, Y, test_size=0.3, random_state=42)"
   ]
  },
  {
   "cell_type": "code",
   "execution_count": null,
   "id": "7287411a-9cd4-46c6-826d-cd2db3e6a254",
   "metadata": {},
   "outputs": [],
   "source": [
    "sys.path.append('/home/alexandre/Desktop/lltrees/build')\n",
    "import lltrees\n",
    "conf ={\n",
    "    'epochs' : 1,\n",
    "    'learning_rate' : 1,\n",
    "    'metric' : 'mae', # Possible metrics for the moment : mae, mse\n",
    "    'max_depth' : 5,\n",
    "    'min_leaf_size' : 2,\n",
    "    'criterion' : \"absolute_error\",  # Possible metrics for the moment : variance, absolute_error\n",
    "    'verbose' : 1, \n",
    "}\n",
    "my_lltree = lltrees.lltree()\n",
    "my_lltree.set_conf(conf)\n",
    "my_lltree.get_conf()\n",
    "\n",
    "start_time = time.time()\n",
    "my_lltree.fit(X_train, Y_train, X_test, Y_test)\n",
    "print(\"FIT --- %s seconds ---\" % (time.time() - start_time))\n",
    "\n",
    "start_time = time.time()\n",
    "YP = my_lltree.predict(X_test)\n",
    "print(\"PREDICT --- %s seconds ---\" % (time.time() - start_time))\n",
    "\n",
    "print(\"rmse: %.2f\" % np.sqrt(sklearn.metrics.mean_squared_error(Y_test,YP)))\n",
    "print(\"mae: %.2f\" % sklearn.metrics.mean_absolute_error(Y_test,YP))\n",
    "print(\"r2: %.2f\" % sklearn.metrics.r2_score(Y_test,YP))"
   ]
  },
  {
   "cell_type": "code",
   "execution_count": null,
   "id": "44b9a64c-d11f-49aa-b9cc-1f8b8f66a301",
   "metadata": {},
   "outputs": [],
   "source": [
    "my_lltree = sklearn.tree.DecisionTreeRegressor(max_depth = 5, criterion =\"absolute_error\", random_state = 0)\n",
    "\n",
    "start_time = time.time()\n",
    "my_lltree.fit(X_train, Y_train)\n",
    "print(\"FIT --- %s seconds ---\" % (time.time() - start_time))\n",
    "\n",
    "start_time = time.time()\n",
    "YP = my_lltree.predict(X_test)\n",
    "print(\"PREDICT --- %s seconds ---\" % (time.time() - start_time))\n",
    "\n",
    "print(YP[0:10])\n",
    "print(\"rmse: %.2f\" % np.sqrt(sklearn.metrics.mean_squared_error(Y_test,YP)))\n",
    "print(\"mae: %.2f\" % sklearn.metrics.mean_absolute_error(Y_test,YP))\n",
    "print(\"r2: %.2f\" % sklearn.metrics.r2_score(Y_test,YP))"
   ]
  },
  {
   "cell_type": "code",
   "execution_count": null,
   "id": "e6a50c75-f4f7-45ee-a66b-8bc9249121cf",
   "metadata": {},
   "outputs": [],
   "source": [
    "conf ={\n",
    "    'epochs' : 50,\n",
    "    'learning_rate' : 0.1,\n",
    "    'metric' : 'mae', # Possible metrics for the moment : mae, mse\n",
    "    'max_depth' : 5,\n",
    "    'min_leaf_size' : 2,\n",
    "    'criterion' : \"absolute_error\",  # Possible metrics for the moment : variance, absolute_error\n",
    "    'verbose' : 1, \n",
    "}\n",
    "my_lltree = lltrees.lltree()\n",
    "my_lltree.set_conf(conf)\n",
    "my_lltree.get_conf()\n",
    "\n",
    "start_time = time.time()\n",
    "my_lltree.fit(X_train, Y_train, X_test, Y_test)\n",
    "print(\"FIT --- %s seconds ---\" % (time.time() - start_time))\n",
    "\n",
    "start_time = time.time()\n",
    "YP = my_lltree.predict(X_test)\n",
    "print(\"PREDICT --- %s seconds ---\" % (time.time() - start_time))\n",
    "\n",
    "print(\"rmse: %.2f\" % np.sqrt(sklearn.metrics.mean_squared_error(Y_test,YP)))\n",
    "print(\"mae: %.2f\" % sklearn.metrics.mean_absolute_error(Y_test,YP))\n",
    "print(\"r2: %.2f\" % sklearn.metrics.r2_score(Y_test,YP))"
   ]
  },
  {
   "cell_type": "code",
   "execution_count": null,
   "id": "c090343b-8e53-4e89-b97c-5a3fd67a548b",
   "metadata": {},
   "outputs": [],
   "source": [
    "from sklearn.ensemble import GradientBoostingRegressor\n",
    "my_lltree = GradientBoostingRegressor(learning_rate = 0.1, n_estimators =50, \n",
    "                                 loss = 'absolute_error', criterion = 'squared_error',\n",
    "                                 random_state = 0)\n",
    "\n",
    "start_time = time.time()\n",
    "my_lltree.fit(X_train, Y_train)\n",
    "print(\"FIT --- %s seconds ---\" % (time.time() - start_time))\n",
    "\n",
    "start_time = time.time()\n",
    "YP = my_lltree.predict(X_test)\n",
    "print(\"PREDICT --- %s seconds ---\" % (time.time() - start_time))\n",
    "\n",
    "print(\"rmse: %.2f\" % np.sqrt(sklearn.metrics.mean_squared_error(Y_test,YP)))\n",
    "print(\"mae: %.2f\" % sklearn.metrics.mean_absolute_error(Y_test,YP))\n",
    "print(\"r2: %.2f\" % sklearn.metrics.r2_score(Y_test,YP))"
   ]
  },
  {
   "cell_type": "markdown",
   "id": "5e699efd-5f26-43ad-85f9-c5d9bed356fe",
   "metadata": {},
   "source": [
    "# make_classification"
   ]
  },
  {
   "cell_type": "code",
   "execution_count": null,
   "id": "91fce4d9-19ed-443e-a812-b3dcbf23a759",
   "metadata": {},
   "outputs": [],
   "source": [
    "X, Y = sklearn.datasets.make_classification(n_samples=1000, n_features=8, n_informative=5, n_classes=2, random_state=42)\n",
    "X_train, X_test, Y_train, Y_test = sklearn.model_selection.train_test_split(X, Y, test_size=0.3, random_state=42)"
   ]
  },
  {
   "cell_type": "code",
   "execution_count": null,
   "id": "72a76b26-59dd-47a2-af37-053ea20dc7bf",
   "metadata": {},
   "outputs": [],
   "source": [
    "# conf ={\n",
    "#     'epochs' : 50,\n",
    "#     'learning_rate' : 0.1,\n",
    "#     'metric_name' : 'mae', # Possible metrics for the moment : mae, mse\n",
    "#     'lltree_max_depth' : 3,\n",
    "#     'lltree_min_size_split' : 1,\n",
    "#     'lltree_criterion' : \"gini\",  # Possible metrics for the moment : variance, absolute_error\n",
    "#     'verbose' : 1,  # Possible metrics for the moment : variance, absolute_error\n",
    "# }\n",
    "# my_lltree = lltrees.lltree()\n",
    "# my_lltree.set_conf(conf)\n",
    "# my_lltree.get_conf()\n",
    "\n",
    "# start_time = time.time()\n",
    "# my_lltree.fit(X_train, Y_train)\n",
    "# print(\"FIT --- %s seconds ---\" % (time.time() - start_time))\n",
    "\n",
    "# start_time = time.time()\n",
    "# YP = my_lltree.predict(X_test)\n",
    "# print(\"PREDICT --- %s seconds ---\" % (time.time() - start_time))\n",
    "\n",
    "# print(\"accuracy_score: %.2f\" % np.sqrt(sklearn.metrics.accuracy_score(Y_test,YP)))\n",
    "# print(\"log_loss: %.2f\" % sklearn.metrics.log_loss(Y_test,YP))\n",
    "# print(\"f1_score: %.2f\" % sklearn.metrics.f1_score(Y_test,YP))"
   ]
  }
 ],
 "metadata": {
  "kernelspec": {
   "display_name": "Python 3 (ipykernel)",
   "language": "python",
   "name": "python3"
  },
  "language_info": {
   "codemirror_mode": {
    "name": "ipython",
    "version": 3
   },
   "file_extension": ".py",
   "mimetype": "text/x-python",
   "name": "python",
   "nbconvert_exporter": "python",
   "pygments_lexer": "ipython3",
   "version": "3.10.12"
  }
 },
 "nbformat": 4,
 "nbformat_minor": 5
}
