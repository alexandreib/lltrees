{
 "cells": [
  {
   "cell_type": "code",
   "execution_count": 2,
   "id": "4694f6f3-1d25-4369-a62d-26f480f9bc15",
   "metadata": {},
   "outputs": [],
   "source": [
    "import time\n",
    "\n",
    "import numpy as np\n",
    "import pandas as pd\n",
    "import sklearn.datasets, sklearn.metrics, sklearn.model_selection, sklearn.tree\n",
    "\n",
    "import subprocess, sys"
   ]
  },
  {
   "cell_type": "code",
   "execution_count": 2,
   "id": "5526f3ce-a219-406e-a9d5-4a63eb3ee51a",
   "metadata": {},
   "outputs": [
    {
     "name": "stdout",
     "output_type": "stream",
     "text": [
      "SOURCES = cpp/criterion.cpp cpp/factories.cpp cpp/gbt.cpp cpp/lltrees.cpp cpp/metrics.cpp cpp/node.cpp cpp/tree.cpp cpp/wrapper.cpp\n"
     ]
    }
   ],
   "source": [
    "!cd ../ && make print-SOURCES"
   ]
  },
  {
   "cell_type": "code",
   "execution_count": 29,
   "id": "e4ad5c1c-da5d-4eec-b2d4-78a402a674b7",
   "metadata": {},
   "outputs": [],
   "source": [
    "X, Y = sklearn.datasets.make_classification(n_samples=1000, n_features=8, n_informative=5, n_classes=2, random_state=42)\n",
    "X_train, X_test, Y_train, Y_test = sklearn.model_selection.train_test_split(X, Y, test_size=0.3, random_state=42)"
   ]
  },
  {
   "cell_type": "code",
   "execution_count": 32,
   "id": "5c44fcbe-fe02-4128-a14b-f3d2069463c2",
   "metadata": {},
   "outputs": [
    {
     "data": {
      "text/plain": [
       "(array([0, 1]), array([359, 341]))"
      ]
     },
     "execution_count": 32,
     "metadata": {},
     "output_type": "execute_result"
    }
   ],
   "source": [
    "np.unique(Y_train, return_counts=True)"
   ]
  },
  {
   "cell_type": "code",
   "execution_count": 59,
   "id": "4b37fff9-a165-434d-abe7-807421062df5",
   "metadata": {},
   "outputs": [
    {
     "name": "stdout",
     "output_type": "stream",
     "text": [
      "g++ -g -o build/tree.o cpp/tree.cpp -I/usr/include/python3.10 -I/usr/include/python3.10  -Wno-unused-result -Wsign-compare -g      -fstack-protector-strong -Wformat -Werror=format-security  -DNDEBUG -g -fwrapv -O2 -Wall -fPIC -c -std=c++20 -DBOOST_BIND_GLOBAL_PLACEHOLDERS -DBOOST_ALLOW_DEPRECATED_HEADERS\n",
      "g++ -g -o build/lltrees.so build/criterion.o build/factories.o build/gbt.o build/lltrees.o build/metrics.o build/node.o build/tree.o build/wrapper.o -L/usr/lib/python3.10/config-3.10-x86_64-linux-gnu -L/usr/lib/x86_64-linux-gnu  -lcrypt -ldl  -lm -lm  -shared -Wl,-rpath,/usr/lib  -lpython3.10 -lboost_python310 -lboost_numpy310\n",
      "-----------------------------------------\n",
      "mode :              classification\n",
      "epochs :            1\n",
      "learning_rate :     1\n",
      "metric :            accuracy\n",
      "criterion :         gini\n",
      "max_depth :         5\n",
      "min_leaf_size :     5\n",
      "verbose :           1\n",
      "-----------------------------------------\n",
      "Type of Training Data : int64\n",
      "Configuration mode : classification\n",
      "Gbt_classification fit\n",
      "Epoch : 1     Metric Train : 0.78    Metric va : 0.696667 Residuals (mean) : 0.78   \n",
      "Print.\n",
      "Tree : 0\n",
      "└──0, impurity: 0.372579, size: 700\n",
      "    ├──1, impurity: 0.384841, size: 44\n",
      "    │   ├──3, impurity: 0.363748, size: 31\n",
      "    │   │   ├──5, impurity: 0.242424, size: 21\n",
      "    │   │   │   ├──7, impurity: 0.46281, leaf_value: 0, size: 11\n",
      "    │   │   │   └──8, impurity: 0, leaf_value: 0, size: 10\n",
      "    │   │   └──6, impurity: 0.48, leaf_value: 1, size: 10\n",
      "    │   └──4, impurity: 0.205128, size: 13\n",
      "    │       ├──9, impurity: 0, leaf_value: 1, size: 7\n",
      "    │       └──10, impurity: 0.444444, leaf_value: 1, size: 6\n",
      "    └──2, impurity: 0.359235, size: 656\n",
      "        ├──11, impurity: 0.408163, leaf_value: 1, size: 7\n",
      "        └──12, impurity: 0.353972, size: 649\n",
      "            ├──13, impurity: 0.224168, size: 141\n",
      "            │   ├──15, impurity: 0.489796, leaf_value: 1, size: 7\n",
      "            │   └──16, impurity: 0.200011, size: 134\n",
      "            │       ├──17, impurity: 0.161328, leaf_value: 0, size: 113\n",
      "            │       └──18, impurity: 0.408163, leaf_value: 0, size: 21\n",
      "            └──14, impurity: 0.372171, size: 508\n",
      "                ├──19, impurity: 0.361616, size: 20\n",
      "                │   ├──21, impurity: 0.197531, leaf_value: 1, size: 9\n",
      "                │   └──22, impurity: 0.495868, leaf_value: 0, size: 11\n",
      "                └──20, impurity: 0.360188, size: 488\n",
      "                    ├──23, impurity: 0.495868, leaf_value: 1, size: 22\n",
      "                    └──24, impurity: 0.353783, leaf_value: 0, size: 466\n",
      "-----------------------------------------\n",
      "mode :              regression\n",
      "epochs :            4\n",
      "learning_rate :     0.1\n",
      "metric :            mae\n",
      "criterion :         absolute_error\n",
      "max_depth :         3\n",
      "min_leaf_size :     2\n",
      "verbose :           1\n",
      "-----------------------------------------\n",
      "Type of Training Data : float64\n",
      "Configuration mode : regression\n",
      "Epoch : 1     Metric Train : 89.7231 Metric va : 97.8229 Residuals (mean) : -508.197\n",
      "Epoch : 2     Metric Train : 83.9483 Metric va : 92.6835 Residuals (mean) : -457.378\n",
      "Epoch : 3     Metric Train : 78.6749 Metric va : 87.7774 Residuals (mean) : -411.64\n",
      "Epoch : 4     Metric Train : 74.1308 Metric va : 84.0796 Residuals (mean) : -370.476\n",
      "Print.\n",
      "Tree : 0\n",
      "└──0, impurity: 82.0903, size: 700\n",
      "    ├──1, impurity: 68.2893, size: 466\n",
      "    │   ├──3, impurity: 62.4158, size: 329\n",
      "    │   │   ├──5, impurity: 63.4781, leaf_value: -133.22, size: 139\n",
      "    │   │   └──6, impurity: 61.6387, leaf_value: -47.8708, size: 190\n",
      "    │   └──4, impurity: 53.4694, size: 137\n",
      "    │       ├──7, impurity: 55.832, leaf_value: 10.02, size: 109\n",
      "    │       └──8, impurity: 44.2725, leaf_value: 105.431, size: 28\n",
      "    └──2, impurity: 66.8224, size: 234\n",
      "        ├──9, impurity: 56.6112, size: 65\n",
      "        │   ├──11, impurity: 69.3945, leaf_value: -124.778, size: 17\n",
      "        │   └──12, impurity: 52.0838, leaf_value: 2.25414, size: 48\n",
      "        └──10, impurity: 57.299, size: 169\n",
      "            ├──13, impurity: 52.6404, leaf_value: 74.3448, size: 77\n",
      "            └──14, impurity: 61.1981, leaf_value: 160.6, size: 92\n",
      "Tree : 1\n",
      "└──0, impurity: 77.4568, size: 700\n",
      "    ├──1, impurity: 61.6537, size: 266\n",
      "    │   ├──3, impurity: 50.9062, size: 135\n",
      "    │   │   ├──5, impurity: 48.1581, leaf_value: -174.649, size: 52\n",
      "    │   │   └──6, impurity: 52.628, leaf_value: -101.141, size: 83\n",
      "    │   └──4, impurity: 55.0737, size: 131\n",
      "    │       ├──7, impurity: 78.6648, leaf_value: -172.934, size: 14\n",
      "    │       └──8, impurity: 52.2509, leaf_value: -15.306, size: 117\n",
      "    └──2, impurity: 63.3905, size: 434\n",
      "        ├──9, impurity: 55.3027, size: 257\n",
      "        │   ├──11, impurity: 56.0983, leaf_value: -54.0688, size: 117\n",
      "        │   └──12, impurity: 54.6379, leaf_value: 31.3505, size: 140\n",
      "        └──10, impurity: 54.7637, size: 177\n",
      "            ├──13, impurity: 46.8566, leaf_value: 60.3497, size: 70\n",
      "            └──14, impurity: 59.9366, leaf_value: 138.57, size: 107\n",
      "Tree : 2\n",
      "└──0, impurity: 73.1497, size: 700\n",
      "    ├──1, impurity: 60.3322, size: 339\n",
      "    │   ├──3, impurity: 51.2938, size: 166\n",
      "    │   │   ├──5, impurity: 48.5808, leaf_value: -160.653, size: 41\n",
      "    │   │   └──6, impurity: 52.1836, leaf_value: -86.8348, size: 125\n",
      "    │   └──4, impurity: 55.7534, size: 173\n",
      "    │       ├──7, impurity: 56.2535, leaf_value: -43.4096, size: 117\n",
      "    │       └──8, impurity: 54.7086, leaf_value: 47.4406, size: 56\n",
      "    └──2, impurity: 60.9018, size: 361\n",
      "        ├──9, impurity: 55.7265, size: 217\n",
      "        │   ├──11, impurity: 55.9116, leaf_value: -25.1294, size: 139\n",
      "        │   └──12, impurity: 55.3966, leaf_value: 44.1773, size: 78\n",
      "        └──10, impurity: 50.4053, size: 144\n",
      "            ├──13, impurity: 46.4895, leaf_value: 66.9167, size: 69\n",
      "            └──14, impurity: 54.0078, leaf_value: 149.025, size: 75\n",
      "Tree : 3\n",
      "└──0, impurity: 69.4032, size: 700\n",
      "    ├──1, impurity: 57.472, size: 266\n",
      "    │   ├──3, impurity: 44.044, size: 74\n",
      "    │   │   ├──5, impurity: 46.0851, leaf_value: -166.587, size: 26\n",
      "    │   │   └──6, impurity: 42.9384, leaf_value: -113.069, size: 48\n",
      "    │   └──4, impurity: 51.5999, size: 192\n",
      "    │       ├──7, impurity: 61.1821, leaf_value: -117.989, size: 44\n",
      "    │       └──8, impurity: 48.7511, leaf_value: -20.055, size: 148\n",
      "    └──2, impurity: 58.8586, size: 434\n",
      "        ├──9, impurity: 52.8526, size: 281\n",
      "        │   ├──11, impurity: 53.875, leaf_value: -43.5689, size: 124\n",
      "        │   └──12, impurity: 52.0451, leaf_value: 30.9719, size: 157\n",
      "        └──10, impurity: 51.1333, size: 153\n",
      "            ├──13, impurity: 48.4183, leaf_value: 67.6015, size: 91\n",
      "            └──14, impurity: 55.1181, leaf_value: 138.737, size: 62\n",
      "FIT --- 0.07892870903015137 seconds ---\n",
      "PREDICT --- 5.9604644775390625e-06 seconds ---\n",
      "FIT --- 0.06722378730773926 seconds ---\n",
      "PREDICT --- 3.218650817871094e-05 seconds ---\n",
      "[-508.19749172 -457.37774255 -411.63996829 -370.47597146]\n",
      "rmse: 106.26\n",
      "mae: 84.08\n",
      "r2: 0.31\n"
     ]
    },
    {
     "data": {
      "text/plain": [
       "0"
      ]
     },
     "execution_count": 59,
     "metadata": {},
     "output_type": "execute_result"
    }
   ],
   "source": [
    "# !cd ../ && make clean\n",
    "!cd ../ && make\n",
    "subprocess.call([sys.executable, \"lltrees_python_import_for_debug.py\"])"
   ]
  },
  {
   "cell_type": "markdown",
   "id": "ca385113-e559-470e-9216-1a1682b3cc69",
   "metadata": {},
   "source": [
    "# make_regression"
   ]
  },
  {
   "cell_type": "code",
   "execution_count": 4,
   "id": "007b01d7-0a37-444a-8367-d94b4bc03b1b",
   "metadata": {},
   "outputs": [],
   "source": [
    "X, Y = sklearn.datasets.make_regression(n_samples=1000, n_features=8, n_informative=5, n_targets=1, noise=1, random_state=42)\n",
    "X_train, X_test, Y_train, Y_test = sklearn.model_selection.train_test_split(X, Y, test_size=0.3, random_state=42)"
   ]
  },
  {
   "cell_type": "code",
   "execution_count": 5,
   "id": "7287411a-9cd4-46c6-826d-cd2db3e6a254",
   "metadata": {},
   "outputs": [
    {
     "name": "stdout",
     "output_type": "stream",
     "text": [
      "FIT --- 0.01928853988647461 seconds --------------------------------------------\n",
      "mode :              regression\n",
      "\n",
      "PREDICT --- 0.00010323524475097656 seconds ---\n",
      "rmse: 63.46\n",
      "mae: 49.21\n",
      "r2: 0.74\n",
      "epochs :            1\n",
      "learning_rate :     1\n",
      "metric :            mae\n",
      "criterion :         absolute_error\n",
      "max_depth :         5\n",
      "min_leaf_size :     2\n",
      "verbose :           1\n",
      "-----------------------------------------\n",
      "Type of Training Data : float64\n",
      "Configuration mode : regression\n",
      "Epoch : 1     Metric Train : 38.4851 Metric va : 49.2101 Residuals (mean) : -2355.95\n"
     ]
    }
   ],
   "source": [
    "sys.path.append('/home/alexandre/Desktop/lltrees/build')\n",
    "import lltrees\n",
    "conf ={\n",
    "    'epochs' : 1,\n",
    "    'learning_rate' : 1,\n",
    "    'metric' : 'mae', # Possible metrics for the moment : mae, mse\n",
    "    'max_depth' : 5,\n",
    "    'min_leaf_size' : 2,\n",
    "    'criterion' : \"absolute_error\",  # Possible metrics for the moment : variance, absolute_error\n",
    "    'verbose' : 1, \n",
    "}\n",
    "my_lltree = lltrees.lltree()\n",
    "my_lltree.set_conf(conf)\n",
    "my_lltree.get_conf()\n",
    "\n",
    "start_time = time.time()\n",
    "my_lltree.fit(X_train, Y_train, X_test, Y_test)\n",
    "print(\"FIT --- %s seconds ---\" % (time.time() - start_time))\n",
    "\n",
    "start_time = time.time()\n",
    "YP = my_lltree.predict(X_test)\n",
    "print(\"PREDICT --- %s seconds ---\" % (time.time() - start_time))\n",
    "\n",
    "print(\"rmse: %.2f\" % np.sqrt(sklearn.metrics.mean_squared_error(Y_test,YP)))\n",
    "print(\"mae: %.2f\" % sklearn.metrics.mean_absolute_error(Y_test,YP))\n",
    "print(\"r2: %.2f\" % sklearn.metrics.r2_score(Y_test,YP))"
   ]
  },
  {
   "cell_type": "code",
   "execution_count": 6,
   "id": "44b9a64c-d11f-49aa-b9cc-1f8b8f66a301",
   "metadata": {},
   "outputs": [
    {
     "name": "stdout",
     "output_type": "stream",
     "text": [
      "FIT --- 0.02176642417907715 seconds ---\n",
      "PREDICT --- 0.0002410411834716797 seconds ---\n",
      "[  -5.25635722  127.29805997 -110.4560012   122.24421396 -110.4560012\n",
      "  -39.90414254  106.73581898  -39.90414254  223.68925908  240.37517626]\n",
      "rmse: 63.68\n",
      "mae: 49.35\n",
      "r2: 0.74\n"
     ]
    }
   ],
   "source": [
    "my_lltree = sklearn.tree.DecisionTreeRegressor(max_depth = 5, criterion =\"absolute_error\", random_state = 0)\n",
    "\n",
    "start_time = time.time()\n",
    "my_lltree.fit(X_train, Y_train)\n",
    "print(\"FIT --- %s seconds ---\" % (time.time() - start_time))\n",
    "\n",
    "start_time = time.time()\n",
    "YP = my_lltree.predict(X_test)\n",
    "print(\"PREDICT --- %s seconds ---\" % (time.time() - start_time))\n",
    "\n",
    "print(YP[0:10])\n",
    "print(\"rmse: %.2f\" % np.sqrt(sklearn.metrics.mean_squared_error(Y_test,YP)))\n",
    "print(\"mae: %.2f\" % sklearn.metrics.mean_absolute_error(Y_test,YP))\n",
    "print(\"r2: %.2f\" % sklearn.metrics.r2_score(Y_test,YP))"
   ]
  },
  {
   "cell_type": "code",
   "execution_count": 7,
   "id": "e6a50c75-f4f7-45ee-a66b-8bc9249121cf",
   "metadata": {},
   "outputs": [
    {
     "name": "stdout",
     "output_type": "stream",
     "text": [
      "-----------------------------------------\n",
      "mode :              regression\n",
      "epochs :            50\n",
      "learning_rate :     0.1\n",
      "metric :            mae\n",
      "criterion :         absolute_error\n",
      "max_depth :         5\n",
      "min_leaf_size :     2\n",
      "verbose :           0\n",
      "-----------------------------------------\n",
      "Type of Training Data : float64\n",
      "Configuration mode : regression\n",
      "FIT --- 0.9673666954040527 seconds ---\n",
      "PREDICT --- 0.0004863739013671875 seconds ---\n",
      "rmse: 28.65\n",
      "mae: 21.25\n",
      "r2: 0.95\n"
     ]
    }
   ],
   "source": [
    "conf ={\n",
    "    'epochs' : 50,\n",
    "    'learning_rate' : 0.1,\n",
    "    'metric' : 'mae', # Possible metrics for the moment : mae, mse\n",
    "    'max_depth' : 5,\n",
    "    'min_leaf_size' : 2,\n",
    "    'criterion' : \"absolute_error\",  # Possible metrics for the moment : variance, absolute_error\n",
    "    'verbose' : 0, \n",
    "}\n",
    "my_lltree = lltrees.lltree()\n",
    "my_lltree.set_conf(conf)\n",
    "my_lltree.get_conf()\n",
    "\n",
    "start_time = time.time()\n",
    "my_lltree.fit(X_train, Y_train, X_test, Y_test)\n",
    "print(\"FIT --- %s seconds ---\" % (time.time() - start_time))\n",
    "\n",
    "start_time = time.time()\n",
    "YP = my_lltree.predict(X_test)\n",
    "print(\"PREDICT --- %s seconds ---\" % (time.time() - start_time))\n",
    "\n",
    "print(\"rmse: %.2f\" % np.sqrt(sklearn.metrics.mean_squared_error(Y_test,YP)))\n",
    "print(\"mae: %.2f\" % sklearn.metrics.mean_absolute_error(Y_test,YP))\n",
    "print(\"r2: %.2f\" % sklearn.metrics.r2_score(Y_test,YP))"
   ]
  },
  {
   "cell_type": "code",
   "execution_count": 8,
   "id": "c090343b-8e53-4e89-b97c-5a3fd67a548b",
   "metadata": {},
   "outputs": [
    {
     "name": "stdout",
     "output_type": "stream",
     "text": [
      "FIT --- 0.28293538093566895 seconds ---\n",
      "PREDICT --- 0.0007350444793701172 seconds ---\n",
      "rmse: 34.85\n",
      "mae: 25.04\n",
      "r2: 0.92\n"
     ]
    }
   ],
   "source": [
    "from sklearn.ensemble import GradientBoostingRegressor\n",
    "my_lltree = GradientBoostingRegressor(learning_rate = 0.1, n_estimators =50, max_depth = 5,\n",
    "                                 loss = 'absolute_error', criterion = 'squared_error',\n",
    "                                 random_state = 0)\n",
    "\n",
    "start_time = time.time()\n",
    "my_lltree.fit(X_train, Y_train)\n",
    "print(\"FIT --- %s seconds ---\" % (time.time() - start_time))\n",
    "\n",
    "start_time = time.time()\n",
    "YP = my_lltree.predict(X_test)\n",
    "print(\"PREDICT --- %s seconds ---\" % (time.time() - start_time))\n",
    "\n",
    "print(\"rmse: %.2f\" % np.sqrt(sklearn.metrics.mean_squared_error(Y_test,YP)))\n",
    "print(\"mae: %.2f\" % sklearn.metrics.mean_absolute_error(Y_test,YP))\n",
    "print(\"r2: %.2f\" % sklearn.metrics.r2_score(Y_test,YP))"
   ]
  },
  {
   "cell_type": "markdown",
   "id": "5e699efd-5f26-43ad-85f9-c5d9bed356fe",
   "metadata": {},
   "source": [
    "# make_classification"
   ]
  },
  {
   "cell_type": "code",
   "execution_count": 9,
   "id": "91fce4d9-19ed-443e-a812-b3dcbf23a759",
   "metadata": {},
   "outputs": [],
   "source": [
    "# X, Y = sklearn.datasets.make_classification(n_samples=1000, n_features=8, n_informative=5, n_classes=2, random_state=42)\n",
    "# X_train, X_test, Y_train, Y_test = sklearn.model_selection.train_test_split(X, Y, test_size=0.3, random_state=42)"
   ]
  },
  {
   "cell_type": "code",
   "execution_count": 10,
   "id": "72a76b26-59dd-47a2-af37-053ea20dc7bf",
   "metadata": {},
   "outputs": [],
   "source": [
    "# conf ={\n",
    "#     'epochs' : 50,\n",
    "#     'learning_rate' : 0.1,\n",
    "#     'metric_name' : 'mae', # Possible metrics for the moment : mae, mse\n",
    "#     'lltree_max_depth' : 3,\n",
    "#     'lltree_min_size_split' : 1,\n",
    "#     'lltree_criterion' : \"gini\",  # Possible metrics for the moment : variance, absolute_error\n",
    "#     'verbose' : 1,  # Possible metrics for the moment : variance, absolute_error\n",
    "# }\n",
    "# my_lltree = lltrees.lltree()\n",
    "# my_lltree.set_conf(conf)\n",
    "# my_lltree.get_conf()\n",
    "\n",
    "# start_time = time.time()\n",
    "# my_lltree.fit(X_train, Y_train)\n",
    "# print(\"FIT --- %s seconds ---\" % (time.time() - start_time))\n",
    "\n",
    "# start_time = time.time()\n",
    "# YP = my_lltree.predict(X_test)\n",
    "# print(\"PREDICT --- %s seconds ---\" % (time.time() - start_time))\n",
    "\n",
    "# print(\"accuracy_score: %.2f\" % np.sqrt(sklearn.metrics.accuracy_score(Y_test,YP)))\n",
    "# print(\"log_loss: %.2f\" % sklearn.metrics.log_loss(Y_test,YP))\n",
    "# print(\"f1_score: %.2f\" % sklearn.metrics.f1_score(Y_test,YP))"
   ]
  }
 ],
 "metadata": {
  "kernelspec": {
   "display_name": "Python 3 (ipykernel)",
   "language": "python",
   "name": "python3"
  },
  "language_info": {
   "codemirror_mode": {
    "name": "ipython",
    "version": 3
   },
   "file_extension": ".py",
   "mimetype": "text/x-python",
   "name": "python",
   "nbconvert_exporter": "python",
   "pygments_lexer": "ipython3",
   "version": "3.10.12"
  }
 },
 "nbformat": 4,
 "nbformat_minor": 5
}
