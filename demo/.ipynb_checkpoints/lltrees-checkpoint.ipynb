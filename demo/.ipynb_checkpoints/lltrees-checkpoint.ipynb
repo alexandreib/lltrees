{
 "cells": [
  {
   "cell_type": "code",
   "execution_count": 2,
   "id": "4694f6f3-1d25-4369-a62d-26f480f9bc15",
   "metadata": {},
   "outputs": [],
   "source": [
    "import time\n",
    "\n",
    "import numpy as np\n",
    "import pandas as pd\n",
    "import sklearn.datasets, sklearn.metrics, sklearn.model_selection, sklearn.tree\n",
    "\n",
    "import subprocess, sys"
   ]
  },
  {
   "cell_type": "code",
   "execution_count": 2,
   "id": "5526f3ce-a219-406e-a9d5-4a63eb3ee51a",
   "metadata": {},
   "outputs": [
    {
     "name": "stdout",
     "output_type": "stream",
     "text": [
      "SOURCES = cpp/criterion.cpp cpp/factories.cpp cpp/gbt.cpp cpp/lltrees.cpp cpp/metrics.cpp cpp/node.cpp cpp/tree.cpp cpp/wrapper.cpp\n"
     ]
    }
   ],
   "source": [
    "!cd ../ && make print-SOURCES"
   ]
  },
  {
   "cell_type": "code",
   "execution_count": null,
   "id": "4b37fff9-a165-434d-abe7-807421062df5",
   "metadata": {},
   "outputs": [
    {
     "name": "stdout",
     "output_type": "stream",
     "text": [
      "rm -rf build\n",
      "mkdir -p build\n",
      "g++ -g -o build/criterion.o cpp/criterion.cpp -I/usr/include/python3.10 -I/usr/include/python3.10  -Wno-unused-result -Wsign-compare -g      -fstack-protector-strong -Wformat -Werror=format-security  -DNDEBUG -g -fwrapv -O2 -Wall -fPIC -c -std=c++20 -DBOOST_BIND_GLOBAL_PLACEHOLDERS -DBOOST_ALLOW_DEPRECATED_HEADERS\n",
      "g++ -g -o build/factories.o cpp/factories.cpp -I/usr/include/python3.10 -I/usr/include/python3.10  -Wno-unused-result -Wsign-compare -g      -fstack-protector-strong -Wformat -Werror=format-security  -DNDEBUG -g -fwrapv -O2 -Wall -fPIC -c -std=c++20 -DBOOST_BIND_GLOBAL_PLACEHOLDERS -DBOOST_ALLOW_DEPRECATED_HEADERS\n",
      "g++ -g -o build/gbt.o cpp/gbt.cpp -I/usr/include/python3.10 -I/usr/include/python3.10  -Wno-unused-result -Wsign-compare -g      -fstack-protector-strong -Wformat -Werror=format-security  -DNDEBUG -g -fwrapv -O2 -Wall -fPIC -c -std=c++20 -DBOOST_BIND_GLOBAL_PLACEHOLDERS -DBOOST_ALLOW_DEPRECATED_HEADERS\n",
      "g++ -g -o build/lltrees.o cpp/lltrees.cpp -I/usr/include/python3.10 -I/usr/include/python3.10  -Wno-unused-result -Wsign-compare -g      -fstack-protector-strong -Wformat -Werror=format-security  -DNDEBUG -g -fwrapv -O2 -Wall -fPIC -c -std=c++20 -DBOOST_BIND_GLOBAL_PLACEHOLDERS -DBOOST_ALLOW_DEPRECATED_HEADERS\n",
      "g++ -g -o build/metrics.o cpp/metrics.cpp -I/usr/include/python3.10 -I/usr/include/python3.10  -Wno-unused-result -Wsign-compare -g      -fstack-protector-strong -Wformat -Werror=format-security  -DNDEBUG -g -fwrapv -O2 -Wall -fPIC -c -std=c++20 -DBOOST_BIND_GLOBAL_PLACEHOLDERS -DBOOST_ALLOW_DEPRECATED_HEADERS\n",
      "g++ -g -o build/node.o cpp/node.cpp -I/usr/include/python3.10 -I/usr/include/python3.10  -Wno-unused-result -Wsign-compare -g      -fstack-protector-strong -Wformat -Werror=format-security  -DNDEBUG -g -fwrapv -O2 -Wall -fPIC -c -std=c++20 -DBOOST_BIND_GLOBAL_PLACEHOLDERS -DBOOST_ALLOW_DEPRECATED_HEADERS\n",
      "g++ -g -o build/tree.o cpp/tree.cpp -I/usr/include/python3.10 -I/usr/include/python3.10  -Wno-unused-result -Wsign-compare -g      -fstack-protector-strong -Wformat -Werror=format-security  -DNDEBUG -g -fwrapv -O2 -Wall -fPIC -c -std=c++20 -DBOOST_BIND_GLOBAL_PLACEHOLDERS -DBOOST_ALLOW_DEPRECATED_HEADERS\n",
      "g++ -g -o build/wrapper.o cpp/wrapper.cpp -I/usr/include/python3.10 -I/usr/include/python3.10  -Wno-unused-result -Wsign-compare -g      -fstack-protector-strong -Wformat -Werror=format-security  -DNDEBUG -g -fwrapv -O2 -Wall -fPIC -c -std=c++20 -DBOOST_BIND_GLOBAL_PLACEHOLDERS -DBOOST_ALLOW_DEPRECATED_HEADERS\n",
      "g++ -g -o build/lltrees.so build/criterion.o build/factories.o build/gbt.o build/lltrees.o build/metrics.o build/node.o build/tree.o build/wrapper.o -L/usr/lib/python3.10/config-3.10-x86_64-linux-gnu -L/usr/lib/x86_64-linux-gnu  -lcrypt -ldl  -lm -lm  -shared -Wl,-rpath,/usr/lib  -lpython3.10 -lboost_python310 -lboost_numpy310\n"
     ]
    }
   ],
   "source": [
    "# !cd ../ && make clean\n",
    "!cd ../ && make\n",
    "subprocess.call([sys.executable, \"lltrees_python_import_for_debug.py\"])"
   ]
  },
  {
   "cell_type": "markdown",
   "id": "ca385113-e559-470e-9216-1a1682b3cc69",
   "metadata": {},
   "source": [
    "# make_regression"
   ]
  },
  {
   "cell_type": "code",
   "execution_count": 4,
   "id": "007b01d7-0a37-444a-8367-d94b4bc03b1b",
   "metadata": {},
   "outputs": [],
   "source": [
    "X, Y = sklearn.datasets.make_regression(n_samples=10000, n_features=8, n_informative=5, n_targets=1, noise=1, random_state=42)\n",
    "X_train, X_test, Y_train, Y_test = sklearn.model_selection.train_test_split(X, Y, test_size=0.3, random_state=42)"
   ]
  },
  {
   "cell_type": "code",
   "execution_count": 5,
   "id": "7287411a-9cd4-46c6-826d-cd2db3e6a254",
   "metadata": {},
   "outputs": [
    {
     "name": "stdout",
     "output_type": "stream",
     "text": [
      "-----------------------------------------\n",
      "mode :              regression\n",
      "epochs :            1\n",
      "learning_rate :     1\n",
      "metric :            mae\n",
      "criterion :         absolute_error\n",
      "max_depth :         5\n",
      "min_leaf_size :     2\n",
      "verbose :           1\n",
      "-----------------------------------------\n",
      "Type of Training Data : float64\n",
      "Configuration mode : regression\n",
      "Epoch : 1     Metric Train : 41.5578 Metric va : 44.4617 Residuals (mean) : -10540.4\n",
      "FIT --- 1.368316650390625 seconds ---\n",
      "PREDICT --- 0.0001900196075439453 seconds ---\n",
      "rmse: 56.42\n",
      "mae: 44.46\n",
      "r2: 0.82\n"
     ]
    }
   ],
   "source": [
    "sys.path.append('/home/alexandre/Desktop/lltrees/build')\n",
    "import lltrees\n",
    "conf ={\n",
    "    'epochs' : 1,\n",
    "    'learning_rate' : 1,\n",
    "    'metric' : 'mae', # Possible metrics for the moment : mae, mse\n",
    "    'max_depth' : 5,\n",
    "    'min_leaf_size' : 2,\n",
    "    'criterion' : \"absolute_error\",  # Possible metrics for the moment : variance, absolute_error\n",
    "    'verbose' : 1, \n",
    "}\n",
    "my_lltree = lltrees.lltree()\n",
    "my_lltree.set_conf(conf)\n",
    "my_lltree.get_conf()\n",
    "\n",
    "start_time = time.time()\n",
    "my_lltree.fit(X_train, Y_train, X_test, Y_test)\n",
    "print(\"FIT --- %s seconds ---\" % (time.time() - start_time))\n",
    "\n",
    "start_time = time.time()\n",
    "YP = my_lltree.predict(X_test)\n",
    "print(\"PREDICT --- %s seconds ---\" % (time.time() - start_time))\n",
    "\n",
    "print(\"rmse: %.2f\" % np.sqrt(sklearn.metrics.mean_squared_error(Y_test,YP)))\n",
    "print(\"mae: %.2f\" % sklearn.metrics.mean_absolute_error(Y_test,YP))\n",
    "print(\"r2: %.2f\" % sklearn.metrics.r2_score(Y_test,YP))"
   ]
  },
  {
   "cell_type": "code",
   "execution_count": 6,
   "id": "44b9a64c-d11f-49aa-b9cc-1f8b8f66a301",
   "metadata": {},
   "outputs": [
    {
     "name": "stdout",
     "output_type": "stream",
     "text": [
      "FIT --- 1.301173210144043 seconds ---\n",
      "PREDICT --- 0.0004096031188964844 seconds ---\n",
      "[-139.05518197  127.32659619  127.7203612   -84.86192235  221.55630356\n",
      " -139.05518197  127.7203612   127.7203612  -117.41140576  111.27770126]\n",
      "rmse: 56.48\n",
      "mae: 44.44\n",
      "r2: 0.82\n"
     ]
    }
   ],
   "source": [
    "my_lltree = sklearn.tree.DecisionTreeRegressor(max_depth = 5, criterion =\"absolute_error\", random_state = 0)\n",
    "\n",
    "start_time = time.time()\n",
    "my_lltree.fit(X_train, Y_train)\n",
    "print(\"FIT --- %s seconds ---\" % (time.time() - start_time))\n",
    "\n",
    "start_time = time.time()\n",
    "YP = my_lltree.predict(X_test)\n",
    "print(\"PREDICT --- %s seconds ---\" % (time.time() - start_time))\n",
    "\n",
    "print(YP[0:10])\n",
    "print(\"rmse: %.2f\" % np.sqrt(sklearn.metrics.mean_squared_error(Y_test,YP)))\n",
    "print(\"mae: %.2f\" % sklearn.metrics.mean_absolute_error(Y_test,YP))\n",
    "print(\"r2: %.2f\" % sklearn.metrics.r2_score(Y_test,YP))"
   ]
  },
  {
   "cell_type": "code",
   "execution_count": 11,
   "id": "e6a50c75-f4f7-45ee-a66b-8bc9249121cf",
   "metadata": {},
   "outputs": [
    {
     "name": "stdout",
     "output_type": "stream",
     "text": [
      "FIT --- 0.6489472389221191 seconds ---\n",
      "PREDICT --- 0.00014781951904296875 seconds ---\n",
      "rmse: 0.73\n",
      "mae: 0.54\n",
      "r2: -1.16\n",
      "-----------------------------------------\n",
      "mode :              regression\n",
      "epochs :            50\n",
      "learning_rate :     0.1\n",
      "metric :            mae\n",
      "criterion :         absolute_error\n",
      "max_depth :         5\n",
      "min_leaf_size :     2\n",
      "verbose :           1\n",
      "-----------------------------------------\n",
      "Type of Training Data : int64\n",
      "Configuration mode : regression\n",
      "Epoch : 1     Metric Train : 0       Metric va : 4.94066e-324 Residuals (mean) : 0      \n",
      "Epoch : 2     Metric Train : 0       Metric va : 4.94066e-324 Residuals (mean) : 0      \n",
      "Epoch : 3     Metric Train : 0       Metric va : 4.94066e-324 Residuals (mean) : 0      \n",
      "Epoch : 4     Metric Train : 0       Metric va : 4.94066e-324 Residuals (mean) : 0      \n",
      "Epoch : 5     Metric Train : 0       Metric va : 4.94066e-324 Residuals (mean) : 0      \n",
      "Epoch : 6     Metric Train : 0       Metric va : 4.94066e-324 Residuals (mean) : 0      \n",
      "Epoch : 7     Metric Train : 0       Metric va : 4.94066e-324 Residuals (mean) : 0      \n",
      "Epoch : 8     Metric Train : 0       Metric va : 4.94066e-324 Residuals (mean) : 0      \n",
      "Epoch : 9     Metric Train : 0       Metric va : 4.94066e-324 Residuals (mean) : 0      \n",
      "Epoch : 10    Metric Train : 0       Metric va : 4.94066e-324 Residuals (mean) : 0      \n",
      "Epoch : 11    Metric Train : 0       Metric va : 4.94066e-324 Residuals (mean) : 0      \n",
      "Epoch : 12    Metric Train : 0       Metric va : 4.94066e-324 Residuals (mean) : 0      \n",
      "Epoch : 13    Metric Train : 0       Metric va : 4.94066e-324 Residuals (mean) : 0      \n",
      "Epoch : 14    Metric Train : 0       Metric va : 4.94066e-324 Residuals (mean) : 0      \n",
      "Epoch : 15    Metric Train : 0       Metric va : 4.94066e-324 Residuals (mean) : 0      \n",
      "Epoch : 16    Metric Train : 0       Metric va : 4.94066e-324 Residuals (mean) : 0      \n",
      "Epoch : 17    Metric Train : 0       Metric va : 4.94066e-324 Residuals (mean) : 0      \n",
      "Epoch : 18    Metric Train : 0       Metric va : 4.94066e-324 Residuals (mean) : 0      \n",
      "Epoch : 19    Metric Train : 0       Metric va : 4.94066e-324 Residuals (mean) : 0      \n",
      "Epoch : 20    Metric Train : 0       Metric va : 4.94066e-324 Residuals (mean) : 0      \n",
      "Epoch : 21    Metric Train : 0       Metric va : 4.94066e-324 Residuals (mean) : 0      \n",
      "Epoch : 22    Metric Train : 0       Metric va : 4.94066e-324 Residuals (mean) : 0      \n",
      "Epoch : 23    Metric Train : 0       Metric va : 4.94066e-324 Residuals (mean) : 0      \n",
      "Epoch : 24    Metric Train : 0       Metric va : 4.94066e-324 Residuals (mean) : 0      \n",
      "Epoch : 25    Metric Train : 0       Metric va : 4.94066e-324 Residuals (mean) : 0      \n",
      "Epoch : 26    Metric Train : 0       Metric va : 4.94066e-324 Residuals (mean) : 0      \n",
      "Epoch : 27    Metric Train : 0       Metric va : 4.94066e-324 Residuals (mean) : 0      \n",
      "Epoch : 28    Metric Train : 0       Metric va : 4.94066e-324 Residuals (mean) : 0      \n",
      "Epoch : 29    Metric Train : 0       Metric va : 4.94066e-324 Residuals (mean) : 0      \n",
      "Epoch : 30    Metric Train : 0       Metric va : 4.94066e-324 Residuals (mean) : 0      \n",
      "Epoch : 31    Metric Train : 0       Metric va : 4.94066e-324 Residuals (mean) : 0      \n",
      "Epoch : 32    Metric Train : 0       Metric va : 4.94066e-324 Residuals (mean) : 0      \n",
      "Epoch : 33    Metric Train : 0       Metric va : 4.94066e-324 Residuals (mean) : 0      \n",
      "Epoch : 34    Metric Train : 0       Metric va : 4.94066e-324 Residuals (mean) : 0      \n",
      "Epoch : 35    Metric Train : 0       Metric va : 4.94066e-324 Residuals (mean) : 0      \n",
      "Epoch : 36    Metric Train : 0       Metric va : 4.94066e-324 Residuals (mean) : 0      \n",
      "Epoch : 37    Metric Train : 0       Metric va : 4.94066e-324 Residuals (mean) : 0      \n",
      "Epoch : 38    Metric Train : 0       Metric va : 4.94066e-324 Residuals (mean) : 0      \n",
      "Epoch : 39    Metric Train : 0       Metric va : 4.94066e-324 Residuals (mean) : 0      \n",
      "Epoch : 40    Metric Train : 0       Metric va : 4.94066e-324 Residuals (mean) : 0      \n",
      "Epoch : 41    Metric Train : 0       Metric va : 4.94066e-324 Residuals (mean) : 0      \n",
      "Epoch : 42    Metric Train : 0       Metric va : 4.94066e-324 Residuals (mean) : 0      \n",
      "Epoch : 43    Metric Train : 0       Metric va : 4.94066e-324 Residuals (mean) : 0      \n",
      "Epoch : 44    Metric Train : 0       Metric va : 4.94066e-324 Residuals (mean) : 0      \n",
      "Epoch : 45    Metric Train : 0       Metric va : 4.94066e-324 Residuals (mean) : 0      \n",
      "Epoch : 46    Metric Train : 0       Metric va : 4.94066e-324 Residuals (mean) : 0      \n",
      "Epoch : 47    Metric Train : 0       Metric va : 4.94066e-324 Residuals (mean) : 0      \n",
      "Epoch : 48    Metric Train : 0       Metric va : 4.94066e-324 Residuals (mean) : 0      \n",
      "Epoch : 49    Metric Train : 0       Metric va : 4.94066e-324 Residuals (mean) : 0      \n",
      "Epoch : 50    Metric Train : 0       Metric va : 4.94066e-324 Residuals (mean) : 0      \n"
     ]
    }
   ],
   "source": [
    "conf ={\n",
    "    'epochs' : 50,\n",
    "    'learning_rate' : 0.1,\n",
    "    'metric' : 'mae', # Possible metrics for the moment : mae, mse\n",
    "    'max_depth' : 5,\n",
    "    'min_leaf_size' : 2,\n",
    "    'criterion' : \"absolute_error\",  # Possible metrics for the moment : variance, absolute_error\n",
    "    'verbose' : 1, \n",
    "}\n",
    "my_lltree = lltrees.lltree()\n",
    "my_lltree.set_conf(conf)\n",
    "my_lltree.get_conf()\n",
    "\n",
    "start_time = time.time()\n",
    "my_lltree.fit(X_train, Y_train, X_test, Y_test)\n",
    "print(\"FIT --- %s seconds ---\" % (time.time() - start_time))\n",
    "\n",
    "start_time = time.time()\n",
    "YP = my_lltree.predict(X_test)\n",
    "print(\"PREDICT --- %s seconds ---\" % (time.time() - start_time))\n",
    "\n",
    "print(\"rmse: %.2f\" % np.sqrt(sklearn.metrics.mean_squared_error(Y_test,YP)))\n",
    "print(\"mae: %.2f\" % sklearn.metrics.mean_absolute_error(Y_test,YP))\n",
    "print(\"r2: %.2f\" % sklearn.metrics.r2_score(Y_test,YP))"
   ]
  },
  {
   "cell_type": "code",
   "execution_count": 8,
   "id": "c090343b-8e53-4e89-b97c-5a3fd67a548b",
   "metadata": {},
   "outputs": [
    {
     "name": "stdout",
     "output_type": "stream",
     "text": [
      "FIT --- 1.2828843593597412 seconds ---\n",
      "PREDICT --- 0.004068136215209961 seconds ---\n",
      "rmse: 25.42\n",
      "mae: 14.99\n",
      "r2: 0.96\n"
     ]
    }
   ],
   "source": [
    "from sklearn.ensemble import GradientBoostingRegressor\n",
    "my_lltree = GradientBoostingRegressor(learning_rate = 0.1, n_estimators =50, max_depth = 5,\n",
    "                                 loss = 'absolute_error', criterion = 'squared_error',\n",
    "                                 random_state = 0)\n",
    "\n",
    "start_time = time.time()\n",
    "my_lltree.fit(X_train, Y_train)\n",
    "print(\"FIT --- %s seconds ---\" % (time.time() - start_time))\n",
    "\n",
    "start_time = time.time()\n",
    "YP = my_lltree.predict(X_test)\n",
    "print(\"PREDICT --- %s seconds ---\" % (time.time() - start_time))\n",
    "\n",
    "print(\"rmse: %.2f\" % np.sqrt(sklearn.metrics.mean_squared_error(Y_test,YP)))\n",
    "print(\"mae: %.2f\" % sklearn.metrics.mean_absolute_error(Y_test,YP))\n",
    "print(\"r2: %.2f\" % sklearn.metrics.r2_score(Y_test,YP))"
   ]
  },
  {
   "cell_type": "markdown",
   "id": "5e699efd-5f26-43ad-85f9-c5d9bed356fe",
   "metadata": {},
   "source": [
    "# make_classification"
   ]
  },
  {
   "cell_type": "code",
   "execution_count": 9,
   "id": "91fce4d9-19ed-443e-a812-b3dcbf23a759",
   "metadata": {},
   "outputs": [],
   "source": [
    "# X, Y = sklearn.datasets.make_classification(n_samples=1000, n_features=8, n_informative=5, n_classes=2, random_state=42)\n",
    "# X_train, X_test, Y_train, Y_test = sklearn.model_selection.train_test_split(X, Y, test_size=0.3, random_state=42)"
   ]
  },
  {
   "cell_type": "code",
   "execution_count": 10,
   "id": "72a76b26-59dd-47a2-af37-053ea20dc7bf",
   "metadata": {},
   "outputs": [],
   "source": [
    "# conf ={\n",
    "#     'epochs' : 50,\n",
    "#     'learning_rate' : 0.1,\n",
    "#     'metric_name' : 'mae', # Possible metrics for the moment : mae, mse\n",
    "#     'lltree_max_depth' : 3,\n",
    "#     'lltree_min_size_split' : 1,\n",
    "#     'lltree_criterion' : \"gini\",  # Possible metrics for the moment : variance, absolute_error\n",
    "#     'verbose' : 1,  # Possible metrics for the moment : variance, absolute_error\n",
    "# }\n",
    "# my_lltree = lltrees.lltree()\n",
    "# my_lltree.set_conf(conf)\n",
    "# my_lltree.get_conf()\n",
    "\n",
    "# start_time = time.time()\n",
    "# my_lltree.fit(X_train, Y_train)\n",
    "# print(\"FIT --- %s seconds ---\" % (time.time() - start_time))\n",
    "\n",
    "# start_time = time.time()\n",
    "# YP = my_lltree.predict(X_test)\n",
    "# print(\"PREDICT --- %s seconds ---\" % (time.time() - start_time))\n",
    "\n",
    "# print(\"accuracy_score: %.2f\" % np.sqrt(sklearn.metrics.accuracy_score(Y_test,YP)))\n",
    "# print(\"log_loss: %.2f\" % sklearn.metrics.log_loss(Y_test,YP))\n",
    "# print(\"f1_score: %.2f\" % sklearn.metrics.f1_score(Y_test,YP))"
   ]
  }
 ],
 "metadata": {
  "kernelspec": {
   "display_name": "Python 3 (ipykernel)",
   "language": "python",
   "name": "python3"
  },
  "language_info": {
   "codemirror_mode": {
    "name": "ipython",
    "version": 3
   },
   "file_extension": ".py",
   "mimetype": "text/x-python",
   "name": "python",
   "nbconvert_exporter": "python",
   "pygments_lexer": "ipython3",
   "version": "3.10.12"
  }
 },
 "nbformat": 4,
 "nbformat_minor": 5
}
