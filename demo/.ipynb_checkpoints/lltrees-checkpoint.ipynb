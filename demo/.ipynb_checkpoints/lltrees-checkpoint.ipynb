{
 "cells": [
  {
   "cell_type": "code",
   "execution_count": 7,
   "id": "4694f6f3-1d25-4369-a62d-26f480f9bc15",
   "metadata": {},
   "outputs": [],
   "source": [
    "import time\n",
    "\n",
    "import numpy as np\n",
    "import pandas as pd\n",
    "import sklearn.datasets, sklearn.metrics, sklearn.model_selection, sklearn.tree\n",
    "\n",
    "import subprocess, sys"
   ]
  },
  {
   "cell_type": "code",
   "execution_count": 2,
   "id": "5526f3ce-a219-406e-a9d5-4a63eb3ee51a",
   "metadata": {},
   "outputs": [
    {
     "name": "stdout",
     "output_type": "stream",
     "text": [
      "SOURCES = cpp/criterion.cpp cpp/factories.cpp cpp/gbt.cpp cpp/lltrees.cpp cpp/metrics.cpp cpp/node.cpp cpp/threadpool.cpp cpp/tree.cpp cpp/wrapper.cpp\n"
     ]
    }
   ],
   "source": [
    "!cd ../ && make print-SOURCES"
   ]
  },
  {
   "cell_type": "code",
   "execution_count": 15,
   "id": "4b37fff9-a165-434d-abe7-807421062df5",
   "metadata": {},
   "outputs": [
    {
     "name": "stdout",
     "output_type": "stream",
     "text": [
      "make: Nothing to be done for 'all'.\n",
      "-----------------------------------------\n",
      "mode :              regression\n",
      "epochs :            50\n",
      "learning_rate :     0.1\n",
      "metric :            mae\n",
      "criterion :         absolute_error\n",
      "max_depth :         5\n",
      "min_leaf_size :     1\n",
      "verbose :           1\n",
      "-----------------------------------------\n",
      "Type of Training Data : float64\n",
      "Configuration mode : regression\n",
      "Epoch : 1     Metric Train : 88.354  Metric va : 96.3501 Residuals (mean) : -508.197\n",
      "Epoch : 2     Metric Train : 81.2018 Metric va : 89.9313 Residuals (mean) : -457.378\n",
      "Epoch : 3     Metric Train : 74.6979 Metric va : 84.0295 Residuals (mean) : -411.64\n",
      "Epoch : 4     Metric Train : 68.8526 Metric va : 78.6383 Residuals (mean) : -370.476\n",
      "Epoch : 5     Metric Train : 63.4943 Metric va : 74.3066 Residuals (mean) : -333.428\n",
      "Epoch : 6     Metric Train : 58.7904 Metric va : 69.5122 Residuals (mean) : -300.086\n",
      "Epoch : 7     Metric Train : 54.3913 Metric va : 66.0215 Residuals (mean) : -270.077\n",
      "Epoch : 8     Metric Train : 50.381  Metric va : 62.7992 Residuals (mean) : -243.069\n",
      "Epoch : 9     Metric Train : 46.612  Metric va : 59.7048 Residuals (mean) : -218.762\n",
      "Epoch : 10    Metric Train : 43.3533 Metric va : 56.8551 Residuals (mean) : -196.886\n",
      "Epoch : 11    Metric Train : 40.3111 Metric va : 54.2561 Residuals (mean) : -177.198\n",
      "Epoch : 12    Metric Train : 37.6865 Metric va : 51.9961 Residuals (mean) : -159.478\n",
      "Epoch : 13    Metric Train : 35.2112 Metric va : 49.8803 Residuals (mean) : -143.53\n",
      "Epoch : 14    Metric Train : 32.7964 Metric va : 48.046  Residuals (mean) : -129.177\n",
      "Epoch : 15    Metric Train : 30.576  Metric va : 45.9853 Residuals (mean) : -116.259\n",
      "Epoch : 16    Metric Train : 28.8228 Metric va : 44.4407 Residuals (mean) : -104.633\n",
      "Epoch : 17    Metric Train : 27.0229 Metric va : 43.1419 Residuals (mean) : -94.17 \n",
      "Epoch : 18    Metric Train : 25.385  Metric va : 41.6473 Residuals (mean) : -84.753\n",
      "Epoch : 19    Metric Train : 23.8436 Metric va : 40.2234 Residuals (mean) : -76.2777\n",
      "Epoch : 20    Metric Train : 22.5039 Metric va : 39.0444 Residuals (mean) : -68.6499\n",
      "Epoch : 21    Metric Train : 21.3037 Metric va : 38.0995 Residuals (mean) : -61.785\n",
      "Epoch : 22    Metric Train : 20.1865 Metric va : 37.046  Residuals (mean) : -55.6065\n",
      "Epoch : 23    Metric Train : 19.0431 Metric va : 36.1156 Residuals (mean) : -50.0458\n",
      "Epoch : 24    Metric Train : 18.1472 Metric va : 35.3375 Residuals (mean) : -45.0412\n",
      "Epoch : 25    Metric Train : 17.2054 Metric va : 34.643  Residuals (mean) : -40.5371\n",
      "Epoch : 26    Metric Train : 16.734  Metric va : 34.1655 Residuals (mean) : -36.4834\n",
      "Epoch : 27    Metric Train : 15.9535 Metric va : 33.4944 Residuals (mean) : -32.8351\n",
      "Epoch : 28    Metric Train : 15.2088 Metric va : 32.9412 Residuals (mean) : -29.5516\n",
      "Epoch : 29    Metric Train : 14.7902 Metric va : 32.627  Residuals (mean) : -26.5964\n",
      "Epoch : 30    Metric Train : 14.0975 Metric va : 31.9276 Residuals (mean) : -23.9368\n",
      "Epoch : 31    Metric Train : 13.4428 Metric va : 31.3777 Residuals (mean) : -21.5431\n",
      "Epoch : 32    Metric Train : 13.0636 Metric va : 31.0097 Residuals (mean) : -19.3888\n",
      "Epoch : 33    Metric Train : 12.536  Metric va : 30.5227 Residuals (mean) : -17.4499\n",
      "Epoch : 34    Metric Train : 12.4082 Metric va : 30.4364 Residuals (mean) : -15.7049\n",
      "Epoch : 35    Metric Train : 11.8631 Metric va : 29.8988 Residuals (mean) : -14.1344\n",
      "Epoch : 36    Metric Train : 11.5263 Metric va : 29.5696 Residuals (mean) : -12.721\n",
      "Epoch : 37    Metric Train : 11.3885 Metric va : 29.4129 Residuals (mean) : -11.4489\n",
      "Epoch : 38    Metric Train : 11.1728 Metric va : 29.1799 Residuals (mean) : -10.304\n",
      "Epoch : 39    Metric Train : 10.7685 Metric va : 28.8634 Residuals (mean) : -9.27359\n",
      "Epoch : 40    Metric Train : 10.4482 Metric va : 28.5052 Residuals (mean) : -8.34623\n",
      "Epoch : 41    Metric Train : 10.1877 Metric va : 28.2564 Residuals (mean) : -7.51161\n",
      "Epoch : 42    Metric Train : 9.96306 Metric va : 28.0457 Residuals (mean) : -6.76045\n",
      "Epoch : 43    Metric Train : 9.70781 Metric va : 27.852  Residuals (mean) : -6.0844\n",
      "Epoch : 44    Metric Train : 9.55925 Metric va : 27.7015 Residuals (mean) : -5.47596\n",
      "Epoch : 45    Metric Train : 9.35129 Metric va : 27.4903 Residuals (mean) : -4.92837\n",
      "Epoch : 46    Metric Train : 9.11236 Metric va : 27.2042 Residuals (mean) : -4.43553\n",
      "Epoch : 47    Metric Train : 8.86969 Metric va : 26.8854 Residuals (mean) : -3.99198\n",
      "Epoch : 48    Metric Train : 8.82027 Metric va : 26.8318 Residuals (mean) : -3.59278\n",
      "Epoch : 49    Metric Train : 8.66261 Metric va : 26.6532 Residuals (mean) : -3.2335\n",
      "Epoch : 50    Metric Train : 8.52662 Metric va : 26.4427 Residuals (mean) : -2.91015\n",
      "save\n"
     ]
    },
    {
     "data": {
      "text/plain": [
       "-11"
      ]
     },
     "execution_count": 15,
     "metadata": {},
     "output_type": "execute_result"
    }
   ],
   "source": [
    "# !cd ../ && make clean\n",
    "!cd ../ && make\n",
    "subprocess.call([sys.executable, \"lltrees_python_import_for_debug.py\"])"
   ]
  },
  {
   "cell_type": "markdown",
   "id": "ca385113-e559-470e-9216-1a1682b3cc69",
   "metadata": {},
   "source": [
    "# make_regression"
   ]
  },
  {
   "cell_type": "code",
   "execution_count": 4,
   "id": "007b01d7-0a37-444a-8367-d94b4bc03b1b",
   "metadata": {},
   "outputs": [],
   "source": [
    "X, Y = sklearn.datasets.make_regression(n_samples=1000, n_features=8, n_informative=5, n_targets=1, noise=1, random_state=42)\n",
    "X_train, X_test, Y_train, Y_test = sklearn.model_selection.train_test_split(X, Y, test_size=0.3, random_state=42)"
   ]
  },
  {
   "cell_type": "code",
   "execution_count": null,
   "id": "7287411a-9cd4-46c6-826d-cd2db3e6a254",
   "metadata": {},
   "outputs": [],
   "source": [
    "sys.path.append('/home/alexandre/Desktop/lltrees/build')\n",
    "import lltrees\n",
    "conf ={\n",
    "    'epochs' : 1,\n",
    "    'learning_rate' : 1,\n",
    "    'metric' : 'mae', # Possible metrics for the moment : mae, mse\n",
    "    'max_depth' : 5,\n",
    "    'min_leaf_size' : 2,\n",
    "    'criterion' : \"absolute_error\",  # Possible metrics for the moment : variance, absolute_error\n",
    "    'verbose' : 1, \n",
    "}\n",
    "my_lltree = lltrees.lltree()\n",
    "my_lltree.set_conf(conf)\n",
    "my_lltree.get_conf()\n",
    "\n",
    "start_time = time.time()\n",
    "my_lltree.fit(X_train, Y_train, X_test, Y_test)\n",
    "print(\"FIT --- %s seconds ---\" % (time.time() - start_time))\n",
    "\n",
    "start_time = time.time()\n",
    "YP = my_lltree.predict(X_test)\n",
    "print(\"PREDICT --- %s seconds ---\" % (time.time() - start_time))\n",
    "\n",
    "print(\"rmse: %.2f\" % np.sqrt(sklearn.metrics.mean_squared_error(Y_test,YP)))\n",
    "print(\"mae: %.2f\" % sklearn.metrics.mean_absolute_error(Y_test,YP))\n",
    "print(\"r2: %.2f\" % sklearn.metrics.r2_score(Y_test,YP))"
   ]
  },
  {
   "cell_type": "code",
   "execution_count": null,
   "id": "44b9a64c-d11f-49aa-b9cc-1f8b8f66a301",
   "metadata": {},
   "outputs": [],
   "source": [
    "my_lltree = sklearn.tree.DecisionTreeRegressor(max_depth = 5, criterion =\"absolute_error\", random_state = 0)\n",
    "\n",
    "start_time = time.time()\n",
    "my_lltree.fit(X_train, Y_train)\n",
    "print(\"FIT --- %s seconds ---\" % (time.time() - start_time))\n",
    "\n",
    "start_time = time.time()\n",
    "YP = my_lltree.predict(X_test)\n",
    "print(\"PREDICT --- %s seconds ---\" % (time.time() - start_time))\n",
    "\n",
    "print(YP[0:10])\n",
    "print(\"rmse: %.2f\" % np.sqrt(sklearn.metrics.mean_squared_error(Y_test,YP)))\n",
    "print(\"mae: %.2f\" % sklearn.metrics.mean_absolute_error(Y_test,YP))\n",
    "print(\"r2: %.2f\" % sklearn.metrics.r2_score(Y_test,YP))"
   ]
  },
  {
   "cell_type": "code",
   "execution_count": null,
   "id": "e6a50c75-f4f7-45ee-a66b-8bc9249121cf",
   "metadata": {},
   "outputs": [],
   "source": [
    "conf ={\n",
    "    'epochs' : 50,\n",
    "    'learning_rate' : 0.1,\n",
    "    'metric' : 'mae', # Possible metrics for the moment : mae, mse\n",
    "    'max_depth' : 5,\n",
    "    'min_leaf_size' : 2,\n",
    "    'criterion' : \"absolute_error\",  # Possible metrics for the moment : variance, absolute_error\n",
    "    'verbose' : 0, \n",
    "}\n",
    "my_lltree = lltrees.lltree()\n",
    "my_lltree.set_conf(conf)\n",
    "my_lltree.get_conf()\n",
    "\n",
    "start_time = time.time()\n",
    "my_lltree.fit(X_train, Y_train, X_test, Y_test)\n",
    "print(\"FIT --- %s seconds ---\" % (time.time() - start_time))\n",
    "\n",
    "start_time = time.time()\n",
    "YP = my_lltree.predict(X_test)\n",
    "print(\"PREDICT --- %s seconds ---\" % (time.time() - start_time))\n",
    "\n",
    "print(\"rmse: %.2f\" % np.sqrt(sklearn.metrics.mean_squared_error(Y_test,YP)))\n",
    "print(\"mae: %.2f\" % sklearn.metrics.mean_absolute_error(Y_test,YP))\n",
    "print(\"r2: %.2f\" % sklearn.metrics.r2_score(Y_test,YP))"
   ]
  },
  {
   "cell_type": "code",
   "execution_count": null,
   "id": "c090343b-8e53-4e89-b97c-5a3fd67a548b",
   "metadata": {},
   "outputs": [],
   "source": [
    "from sklearn.ensemble import GradientBoostingRegressor\n",
    "my_lltree = GradientBoostingRegressor(learning_rate = 0.1, n_estimators =50, max_depth = 5,\n",
    "                                 loss = 'absolute_error', criterion = 'squared_error',\n",
    "                                 random_state = 0)\n",
    "\n",
    "start_time = time.time()\n",
    "my_lltree.fit(X_train, Y_train)\n",
    "print(\"FIT --- %s seconds ---\" % (time.time() - start_time))\n",
    "\n",
    "start_time = time.time()\n",
    "YP = my_lltree.predict(X_test)\n",
    "print(\"PREDICT --- %s seconds ---\" % (time.time() - start_time))\n",
    "\n",
    "print(\"rmse: %.2f\" % np.sqrt(sklearn.metrics.mean_squared_error(Y_test,YP)))\n",
    "print(\"mae: %.2f\" % sklearn.metrics.mean_absolute_error(Y_test,YP))\n",
    "print(\"r2: %.2f\" % sklearn.metrics.r2_score(Y_test,YP))"
   ]
  },
  {
   "cell_type": "markdown",
   "id": "5e699efd-5f26-43ad-85f9-c5d9bed356fe",
   "metadata": {},
   "source": [
    "# make_classification"
   ]
  },
  {
   "cell_type": "code",
   "execution_count": null,
   "id": "91fce4d9-19ed-443e-a812-b3dcbf23a759",
   "metadata": {},
   "outputs": [],
   "source": [
    "# X, Y = sklearn.datasets.make_classification(n_samples=1000, n_features=8, n_informative=5, n_classes=2, random_state=42)\n",
    "# X_train, X_test, Y_train, Y_test = sklearn.model_selection.train_test_split(X, Y, test_size=0.3, random_state=42)"
   ]
  },
  {
   "cell_type": "code",
   "execution_count": null,
   "id": "72a76b26-59dd-47a2-af37-053ea20dc7bf",
   "metadata": {},
   "outputs": [],
   "source": [
    "# conf ={\n",
    "#     'epochs' : 50,\n",
    "#     'learning_rate' : 0.1,\n",
    "#     'metric_name' : 'mae', # Possible metrics for the moment : mae, mse\n",
    "#     'lltree_max_depth' : 3,\n",
    "#     'lltree_min_size_split' : 1,\n",
    "#     'lltree_criterion' : \"gini\",  # Possible metrics for the moment : variance, absolute_error\n",
    "#     'verbose' : 1,  # Possible metrics for the moment : variance, absolute_error\n",
    "# }\n",
    "# my_lltree = lltrees.lltree()\n",
    "# my_lltree.set_conf(conf)\n",
    "# my_lltree.get_conf()\n",
    "\n",
    "# start_time = time.time()\n",
    "# my_lltree.fit(X_train, Y_train)\n",
    "# print(\"FIT --- %s seconds ---\" % (time.time() - start_time))\n",
    "\n",
    "# start_time = time.time()\n",
    "# YP = my_lltree.predict(X_test)\n",
    "# print(\"PREDICT --- %s seconds ---\" % (time.time() - start_time))\n",
    "\n",
    "# print(\"accuracy_score: %.2f\" % np.sqrt(sklearn.metrics.accuracy_score(Y_test,YP)))\n",
    "# print(\"log_loss: %.2f\" % sklearn.metrics.log_loss(Y_test,YP))\n",
    "# print(\"f1_score: %.2f\" % sklearn.metrics.f1_score(Y_test,YP))"
   ]
  }
 ],
 "metadata": {
  "kernelspec": {
   "display_name": "Python 3 (ipykernel)",
   "language": "python",
   "name": "python3"
  },
  "language_info": {
   "codemirror_mode": {
    "name": "ipython",
    "version": 3
   },
   "file_extension": ".py",
   "mimetype": "text/x-python",
   "name": "python",
   "nbconvert_exporter": "python",
   "pygments_lexer": "ipython3",
   "version": "3.10.12"
  }
 },
 "nbformat": 4,
 "nbformat_minor": 5
}
