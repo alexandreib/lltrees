{
 "cells": [
  {
   "cell_type": "code",
   "execution_count": 1,
   "id": "4694f6f3-1d25-4369-a62d-26f480f9bc15",
   "metadata": {},
   "outputs": [],
   "source": [
    "import time\n",
    "\n",
    "import numpy as np\n",
    "import pandas as pd\n",
    "import sklearn.datasets, sklearn.metrics, sklearn.model_selection, sklearn.tree\n",
    "\n",
    "import subprocess, sys"
   ]
  },
  {
   "cell_type": "code",
   "execution_count": 2,
   "id": "5526f3ce-a219-406e-a9d5-4a63eb3ee51a",
   "metadata": {},
   "outputs": [
    {
     "name": "stdout",
     "output_type": "stream",
     "text": [
      "SOURCES = cpp/criterion.cpp cpp/factories.cpp cpp/gbt.cpp cpp/lltrees.cpp cpp/metrics.cpp cpp/node.cpp cpp/tree.cpp cpp/wrapper.cpp\n"
     ]
    }
   ],
   "source": [
    "!cd ../ && make print-SOURCES"
   ]
  },
  {
   "cell_type": "code",
   "execution_count": 15,
   "id": "4b37fff9-a165-434d-abe7-807421062df5",
   "metadata": {},
   "outputs": [
    {
     "name": "stdout",
     "output_type": "stream",
     "text": [
      "make: Nothing to be done for 'all'.\n",
      "[[ 0.43693817 -0.30246969]\n",
      " [ 0.39579885  0.3594758 ]]\n",
      "[-35.47941809 179.18015947  71.32109183 150.51512276 -70.31381315]\n",
      "-----------------------------------------\n",
      "mode :              regression\n",
      "epochs :            10\n",
      "learning_rate :     0.1\n",
      "metric :            mae\n",
      "criterion :         absolute_error\n",
      "max_depth :         5\n",
      "min_leaf_size :     1\n",
      "verbose :           1\n",
      "-----------------------------------------\n",
      "Type of Training Data : float64\n",
      "Configuration mode : regression\n",
      "Epoch : 1     Metric Train : 87.519  Metric va : 94.0608 Residuals (mean) : -2120.35\n",
      "Epoch : 2     Metric Train : 80.7893 Metric va : 87.5887 Residuals (mean) : -1908.32\n",
      "Epoch : 3     Metric Train : 74.624  Metric va : 81.7994 Residuals (mean) : -1717.48\n",
      "Epoch : 4     Metric Train : 68.7155 Metric va : 75.6845 Residuals (mean) : -1545.74\n",
      "Epoch : 5     Metric Train : 63.4906 Metric va : 70.8062 Residuals (mean) : -1391.16\n",
      "Epoch : 6     Metric Train : 58.5496 Metric va : 65.8073 Residuals (mean) : -1252.05\n",
      "Epoch : 7     Metric Train : 53.9519 Metric va : 61.8382 Residuals (mean) : -1126.84\n",
      "Epoch : 8     Metric Train : 49.9239 Metric va : 58.0591 Residuals (mean) : -1014.16\n",
      "Epoch : 9     Metric Train : 46.2738 Metric va : 54.5555 Residuals (mean) : -912.742\n",
      "Epoch : 10    Metric Train : 42.864  Metric va : 51.5558 Residuals (mean) : -821.468\n",
      "FIT --- 0.4981496334075928 seconds ---\n",
      "PREDICT --- 0.00011396408081054688 seconds ---\n",
      "[-2120.35176065 -1908.31658459 -1717.48492613 -1545.73643351\n",
      " -1391.16279016 -1252.04651115 -1126.84186003 -1014.15767403\n",
      "  -912.74190663  -821.46771596]\n",
      "rmse: 64.57\n",
      "mae: 51.56\n",
      "r2: 0.73\n",
      "-----------------------------------------\n",
      "mode :              regression\n",
      "epochs :            10\n",
      "learning_rate :     0.1\n",
      "metric :            mae\n",
      "criterion :         absolute_error\n",
      "max_depth :         5\n",
      "min_leaf_size :     1\n",
      "verbose :           1\n",
      "-----------------------------------------\n",
      "Type of Training Data : float64\n",
      "Configuration mode : regression\n",
      "Epoch : 1     Metric Train : 87.519  Metric va : 94.0608 Residuals (mean) : -2120.35\n",
      "Epoch : 2     Metric Train : 80.7893 Metric va : 87.5887 Residuals (mean) : -1908.32\n",
      "Epoch : 3     Metric Train : 74.624  Metric va : 81.7994 Residuals (mean) : -1717.48\n",
      "Epoch : 4     Metric Train : 68.7155 Metric va : 75.6845 Residuals (mean) : -1545.74\n",
      "Epoch : 5     Metric Train : 63.4906 Metric va : 70.8062 Residuals (mean) : -1391.16\n",
      "Epoch : 6     Metric Train : 58.5496 Metric va : 65.8073 Residuals (mean) : -1252.05\n",
      "Epoch : 7     Metric Train : 53.9519 Metric va : 61.8382 Residuals (mean) : -1126.84\n",
      "Epoch : 8     Metric Train : 49.9239 Metric va : 58.0591 Residuals (mean) : -1014.16\n",
      "Epoch : 9     Metric Train : 46.2738 Metric va : 54.5555 Residuals (mean) : -912.742\n",
      "Epoch : 10    Metric Train : 42.864  Metric va : 51.5558 Residuals (mean) : -821.468\n",
      "FIT --- 0.49492645263671875 seconds ---\n",
      "PREDICT --- 0.00015306472778320312 seconds ---\n",
      "[-2120.35176065 -1908.31658459 -1717.48492613 -1545.73643351\n",
      " -1391.16279016 -1252.04651115 -1126.84186003 -1014.15767403\n",
      "  -912.74190663  -821.46771596]\n",
      "rmse: 64.57\n",
      "mae: 51.56\n",
      "r2: 0.73\n",
      "[ 14.62462025  99.03325568 -68.19478569  59.53153143 -19.96177164\n",
      " -44.424827    31.13285471 -34.44763165 154.78812538 110.5904219 ]\n"
     ]
    },
    {
     "data": {
      "text/plain": [
       "0"
      ]
     },
     "execution_count": 15,
     "metadata": {},
     "output_type": "execute_result"
    }
   ],
   "source": [
    "# !cd ../ && make clean\n",
    "!cd ../ && make\n",
    "subprocess.call([sys.executable, \"lltrees_python_import_for_debug.py\"])"
   ]
  },
  {
   "cell_type": "markdown",
   "id": "ca385113-e559-470e-9216-1a1682b3cc69",
   "metadata": {},
   "source": [
    "# make_regression"
   ]
  },
  {
   "cell_type": "code",
   "execution_count": 4,
   "id": "007b01d7-0a37-444a-8367-d94b4bc03b1b",
   "metadata": {},
   "outputs": [],
   "source": [
    "X, Y = sklearn.datasets.make_regression(n_samples=1000, n_features=8, n_informative=5, n_targets=1, noise=1, random_state=42)\n",
    "X_train, X_test, Y_train, Y_test = sklearn.model_selection.train_test_split(X, Y, test_size=0.3, random_state=42)"
   ]
  },
  {
   "cell_type": "code",
   "execution_count": 13,
   "id": "7287411a-9cd4-46c6-826d-cd2db3e6a254",
   "metadata": {},
   "outputs": [
    {
     "name": "stdout",
     "output_type": "stream",
     "text": [
      "FIT --- 0.05236482620239258 seconds ---\n",
      "PREDICT --- 9.202957153320312e-05 seconds ---\n",
      "rmse: 63.46\n",
      "mae: 49.21\n",
      "r2: 0.74\n",
      "-----------------------------------------\n",
      "mode :              regression\n",
      "epochs :            1\n",
      "learning_rate :     1\n",
      "metric :            mae\n",
      "criterion :         absolute_error\n",
      "max_depth :         5\n",
      "min_leaf_size :     2\n",
      "verbose :           1\n",
      "-----------------------------------------\n",
      "Type of Training Data : float64\n",
      "Configuration mode : regression\n",
      "Epoch : 1     Metric Train : 38.4851 Metric va : 49.2101 Residuals (mean) : 5.54223e-13\n"
     ]
    }
   ],
   "source": [
    "sys.path.append('/home/alexandre/Desktop/lltrees/build')\n",
    "import lltrees\n",
    "conf ={\n",
    "    'epochs' : 1,\n",
    "    'learning_rate' : 1,\n",
    "    'metric' : 'mae', # Possible metrics for the moment : mae, mse\n",
    "    'max_depth' : 5,\n",
    "    'min_leaf_size' : 2,\n",
    "    'criterion' : \"absolute_error\",  # Possible metrics for the moment : variance, absolute_error\n",
    "    'verbose' : 1, \n",
    "}\n",
    "my_lltree = lltrees.lltree()\n",
    "my_lltree.set_conf(conf)\n",
    "my_lltree.get_conf()\n",
    "\n",
    "start_time = time.time()\n",
    "my_lltree.fit(X_train, Y_train, X_test, Y_test)\n",
    "print(\"FIT --- %s seconds ---\" % (time.time() - start_time))\n",
    "\n",
    "start_time = time.time()\n",
    "YP = my_lltree.predict(X_test)\n",
    "print(\"PREDICT --- %s seconds ---\" % (time.time() - start_time))\n",
    "\n",
    "print(\"rmse: %.2f\" % np.sqrt(sklearn.metrics.mean_squared_error(Y_test,YP)))\n",
    "print(\"mae: %.2f\" % sklearn.metrics.mean_absolute_error(Y_test,YP))\n",
    "print(\"r2: %.2f\" % sklearn.metrics.r2_score(Y_test,YP))"
   ]
  },
  {
   "cell_type": "code",
   "execution_count": 9,
   "id": "44b9a64c-d11f-49aa-b9cc-1f8b8f66a301",
   "metadata": {},
   "outputs": [
    {
     "name": "stdout",
     "output_type": "stream",
     "text": [
      "FIT --- 0.021489620208740234 seconds ---\n",
      "PREDICT --- 0.00018310546875 seconds ---\n",
      "[  -5.25635722  127.29805997 -110.4560012   122.24421396 -110.4560012\n",
      "  -39.90414254  106.73581898  -39.90414254  223.68925908  240.37517626]\n",
      "rmse: 63.68\n",
      "mae: 49.35\n",
      "r2: 0.74\n"
     ]
    }
   ],
   "source": [
    "my_lltree = sklearn.tree.DecisionTreeRegressor(max_depth = 5, criterion =\"absolute_error\", random_state = 0)\n",
    "\n",
    "start_time = time.time()\n",
    "my_lltree.fit(X_train, Y_train)\n",
    "print(\"FIT --- %s seconds ---\" % (time.time() - start_time))\n",
    "\n",
    "start_time = time.time()\n",
    "YP = my_lltree.predict(X_test)\n",
    "print(\"PREDICT --- %s seconds ---\" % (time.time() - start_time))\n",
    "\n",
    "print(YP[0:10])\n",
    "print(\"rmse: %.2f\" % np.sqrt(sklearn.metrics.mean_squared_error(Y_test,YP)))\n",
    "print(\"mae: %.2f\" % sklearn.metrics.mean_absolute_error(Y_test,YP))\n",
    "print(\"r2: %.2f\" % sklearn.metrics.r2_score(Y_test,YP))"
   ]
  },
  {
   "cell_type": "code",
   "execution_count": 14,
   "id": "e6a50c75-f4f7-45ee-a66b-8bc9249121cf",
   "metadata": {},
   "outputs": [
    {
     "name": "stdout",
     "output_type": "stream",
     "text": [
      "FIT --- 2.8558905124664307 seconds ---\n",
      "PREDICT --- 0.0004508495330810547 seconds ---\n",
      "rmse: 28.65\n",
      "mae: 21.25\n",
      "r2: 0.95\n",
      "-----------------------------------------\n",
      "mode :              regression\n",
      "epochs :            50\n",
      "learning_rate :     0.1\n",
      "metric :            mae\n",
      "criterion :         absolute_error\n",
      "max_depth :         5\n",
      "min_leaf_size :     2\n",
      "verbose :           1\n",
      "-----------------------------------------\n",
      "Type of Training Data : float64\n",
      "Configuration mode : regression\n",
      "Epoch : 1     Metric Train : 87.519  Metric va : 94.0415 Residuals (mean) : -2120.35\n",
      "Epoch : 2     Metric Train : 80.7961 Metric va : 87.5672 Residuals (mean) : -1908.32\n",
      "Epoch : 3     Metric Train : 74.6515 Metric va : 81.5492 Residuals (mean) : -1717.48\n",
      "Epoch : 4     Metric Train : 68.7697 Metric va : 75.5033 Residuals (mean) : -1545.74\n",
      "Epoch : 5     Metric Train : 63.5338 Metric va : 70.5099 Residuals (mean) : -1391.16\n",
      "Epoch : 6     Metric Train : 58.5885 Metric va : 65.513  Residuals (mean) : -1252.05\n",
      "Epoch : 7     Metric Train : 54.0066 Metric va : 61.4285 Residuals (mean) : -1126.84\n",
      "Epoch : 8     Metric Train : 49.9094 Metric va : 58.0257 Residuals (mean) : -1014.16\n",
      "Epoch : 9     Metric Train : 46.2806 Metric va : 54.7573 Residuals (mean) : -912.742\n",
      "Epoch : 10    Metric Train : 42.8732 Metric va : 51.4536 Residuals (mean) : -821.468\n",
      "Epoch : 11    Metric Train : 39.6729 Metric va : 48.5387 Residuals (mean) : -739.321\n",
      "Epoch : 12    Metric Train : 36.905  Metric va : 46.1649 Residuals (mean) : -665.389\n",
      "Epoch : 13    Metric Train : 34.3979 Metric va : 43.8552 Residuals (mean) : -598.85\n",
      "Epoch : 14    Metric Train : 32.1231 Metric va : 41.9925 Residuals (mean) : -538.965\n",
      "Epoch : 15    Metric Train : 29.9168 Metric va : 39.8428 Residuals (mean) : -485.068\n",
      "Epoch : 16    Metric Train : 28.2314 Metric va : 38.3088 Residuals (mean) : -436.562\n",
      "Epoch : 17    Metric Train : 26.5904 Metric va : 37.0037 Residuals (mean) : -392.905\n",
      "Epoch : 18    Metric Train : 24.9074 Metric va : 35.7251 Residuals (mean) : -353.615\n",
      "Epoch : 19    Metric Train : 23.3685 Metric va : 34.4026 Residuals (mean) : -318.253\n",
      "Epoch : 20    Metric Train : 22.0759 Metric va : 33.0402 Residuals (mean) : -286.428\n",
      "Epoch : 21    Metric Train : 20.81   Metric va : 31.9162 Residuals (mean) : -257.785\n",
      "Epoch : 22    Metric Train : 19.6412 Metric va : 31.0462 Residuals (mean) : -232.007\n",
      "Epoch : 23    Metric Train : 18.5767 Metric va : 30.1416 Residuals (mean) : -208.806\n",
      "Epoch : 24    Metric Train : 17.8019 Metric va : 29.4868 Residuals (mean) : -187.925\n",
      "Epoch : 25    Metric Train : 16.9314 Metric va : 28.7023 Residuals (mean) : -169.133\n",
      "Epoch : 26    Metric Train : 16.3214 Metric va : 28.2478 Residuals (mean) : -152.22\n",
      "Epoch : 27    Metric Train : 15.5662 Metric va : 27.5344 Residuals (mean) : -136.998\n",
      "Epoch : 28    Metric Train : 15.0464 Metric va : 27.1142 Residuals (mean) : -123.298\n",
      "Epoch : 29    Metric Train : 14.5668 Metric va : 26.7436 Residuals (mean) : -110.968\n",
      "Epoch : 30    Metric Train : 13.9564 Metric va : 26.2111 Residuals (mean) : -99.8713\n",
      "Epoch : 31    Metric Train : 13.5029 Metric va : 25.8599 Residuals (mean) : -89.8842\n",
      "Epoch : 32    Metric Train : 12.9976 Metric va : 25.4038 Residuals (mean) : -80.8958\n",
      "Epoch : 33    Metric Train : 12.616  Metric va : 25.0659 Residuals (mean) : -72.8062\n",
      "Epoch : 34    Metric Train : 12.2164 Metric va : 24.5817 Residuals (mean) : -65.5256\n",
      "Epoch : 35    Metric Train : 11.9076 Metric va : 24.3687 Residuals (mean) : -58.973\n",
      "Epoch : 36    Metric Train : 11.3837 Metric va : 23.8953 Residuals (mean) : -53.0757\n",
      "Epoch : 37    Metric Train : 11.0692 Metric va : 23.6163 Residuals (mean) : -47.7681\n",
      "Epoch : 38    Metric Train : 10.7195 Metric va : 23.3392 Residuals (mean) : -42.9913\n",
      "Epoch : 39    Metric Train : 10.4758 Metric va : 23.0177 Residuals (mean) : -38.6922\n",
      "Epoch : 40    Metric Train : 10.2334 Metric va : 22.7437 Residuals (mean) : -34.823\n",
      "Epoch : 41    Metric Train : 10.0756 Metric va : 22.6157 Residuals (mean) : -31.3407\n",
      "Epoch : 42    Metric Train : 9.94235 Metric va : 22.5081 Residuals (mean) : -28.2066\n",
      "Epoch : 43    Metric Train : 9.64697 Metric va : 22.2122 Residuals (mean) : -25.3859\n",
      "Epoch : 44    Metric Train : 9.4654  Metric va : 22.0962 Residuals (mean) : -22.8473\n",
      "Epoch : 45    Metric Train : 9.19442 Metric va : 21.871  Residuals (mean) : -20.5626\n",
      "Epoch : 46    Metric Train : 8.953   Metric va : 21.6575 Residuals (mean) : -18.5064\n",
      "Epoch : 47    Metric Train : 8.89565 Metric va : 21.5812 Residuals (mean) : -16.6557\n",
      "Epoch : 48    Metric Train : 8.777   Metric va : 21.4888 Residuals (mean) : -14.9901\n",
      "Epoch : 49    Metric Train : 8.5974  Metric va : 21.3364 Residuals (mean) : -13.4911\n",
      "Epoch : 50    Metric Train : 8.49726 Metric va : 21.2549 Residuals (mean) : -12.142\n"
     ]
    }
   ],
   "source": [
    "conf ={\n",
    "    'epochs' : 50,\n",
    "    'learning_rate' : 0.1,\n",
    "    'metric' : 'mae', # Possible metrics for the moment : mae, mse\n",
    "    'max_depth' : 5,\n",
    "    'min_leaf_size' : 2,\n",
    "    'criterion' : \"absolute_error\",  # Possible metrics for the moment : variance, absolute_error\n",
    "    'verbose' : 1, \n",
    "}\n",
    "my_lltree = lltrees.lltree()\n",
    "my_lltree.set_conf(conf)\n",
    "my_lltree.get_conf()\n",
    "\n",
    "start_time = time.time()\n",
    "my_lltree.fit(X_train, Y_train, X_test, Y_test)\n",
    "print(\"FIT --- %s seconds ---\" % (time.time() - start_time))\n",
    "\n",
    "start_time = time.time()\n",
    "YP = my_lltree.predict(X_test)\n",
    "print(\"PREDICT --- %s seconds ---\" % (time.time() - start_time))\n",
    "\n",
    "print(\"rmse: %.2f\" % np.sqrt(sklearn.metrics.mean_squared_error(Y_test,YP)))\n",
    "print(\"mae: %.2f\" % sklearn.metrics.mean_absolute_error(Y_test,YP))\n",
    "print(\"r2: %.2f\" % sklearn.metrics.r2_score(Y_test,YP))"
   ]
  },
  {
   "cell_type": "code",
   "execution_count": 11,
   "id": "c090343b-8e53-4e89-b97c-5a3fd67a548b",
   "metadata": {},
   "outputs": [
    {
     "name": "stdout",
     "output_type": "stream",
     "text": [
      "FIT --- 0.12602877616882324 seconds ---\n",
      "PREDICT --- 0.00047659873962402344 seconds ---\n",
      "rmse: 44.56\n",
      "mae: 31.80\n",
      "r2: 0.87\n"
     ]
    }
   ],
   "source": [
    "from sklearn.ensemble import GradientBoostingRegressor\n",
    "my_lltree = GradientBoostingRegressor(learning_rate = 0.1, n_estimators =50, \n",
    "                                 loss = 'absolute_error', criterion = 'squared_error',\n",
    "                                 random_state = 0)\n",
    "\n",
    "start_time = time.time()\n",
    "my_lltree.fit(X_train, Y_train)\n",
    "print(\"FIT --- %s seconds ---\" % (time.time() - start_time))\n",
    "\n",
    "start_time = time.time()\n",
    "YP = my_lltree.predict(X_test)\n",
    "print(\"PREDICT --- %s seconds ---\" % (time.time() - start_time))\n",
    "\n",
    "print(\"rmse: %.2f\" % np.sqrt(sklearn.metrics.mean_squared_error(Y_test,YP)))\n",
    "print(\"mae: %.2f\" % sklearn.metrics.mean_absolute_error(Y_test,YP))\n",
    "print(\"r2: %.2f\" % sklearn.metrics.r2_score(Y_test,YP))"
   ]
  },
  {
   "cell_type": "markdown",
   "id": "5e699efd-5f26-43ad-85f9-c5d9bed356fe",
   "metadata": {},
   "source": [
    "# make_classification"
   ]
  },
  {
   "cell_type": "code",
   "execution_count": null,
   "id": "91fce4d9-19ed-443e-a812-b3dcbf23a759",
   "metadata": {},
   "outputs": [],
   "source": [
    "X, Y = sklearn.datasets.make_classification(n_samples=1000, n_features=8, n_informative=5, n_classes=2, random_state=42)\n",
    "X_train, X_test, Y_train, Y_test = sklearn.model_selection.train_test_split(X, Y, test_size=0.3, random_state=42)"
   ]
  },
  {
   "cell_type": "code",
   "execution_count": null,
   "id": "72a76b26-59dd-47a2-af37-053ea20dc7bf",
   "metadata": {},
   "outputs": [],
   "source": [
    "# conf ={\n",
    "#     'epochs' : 50,\n",
    "#     'learning_rate' : 0.1,\n",
    "#     'metric_name' : 'mae', # Possible metrics for the moment : mae, mse\n",
    "#     'lltree_max_depth' : 3,\n",
    "#     'lltree_min_size_split' : 1,\n",
    "#     'lltree_criterion' : \"gini\",  # Possible metrics for the moment : variance, absolute_error\n",
    "#     'verbose' : 1,  # Possible metrics for the moment : variance, absolute_error\n",
    "# }\n",
    "# my_lltree = lltrees.lltree()\n",
    "# my_lltree.set_conf(conf)\n",
    "# my_lltree.get_conf()\n",
    "\n",
    "# start_time = time.time()\n",
    "# my_lltree.fit(X_train, Y_train)\n",
    "# print(\"FIT --- %s seconds ---\" % (time.time() - start_time))\n",
    "\n",
    "# start_time = time.time()\n",
    "# YP = my_lltree.predict(X_test)\n",
    "# print(\"PREDICT --- %s seconds ---\" % (time.time() - start_time))\n",
    "\n",
    "# print(\"accuracy_score: %.2f\" % np.sqrt(sklearn.metrics.accuracy_score(Y_test,YP)))\n",
    "# print(\"log_loss: %.2f\" % sklearn.metrics.log_loss(Y_test,YP))\n",
    "# print(\"f1_score: %.2f\" % sklearn.metrics.f1_score(Y_test,YP))"
   ]
  }
 ],
 "metadata": {
  "kernelspec": {
   "display_name": "Python 3 (ipykernel)",
   "language": "python",
   "name": "python3"
  },
  "language_info": {
   "codemirror_mode": {
    "name": "ipython",
    "version": 3
   },
   "file_extension": ".py",
   "mimetype": "text/x-python",
   "name": "python",
   "nbconvert_exporter": "python",
   "pygments_lexer": "ipython3",
   "version": "3.10.12"
  }
 },
 "nbformat": 4,
 "nbformat_minor": 5
}
