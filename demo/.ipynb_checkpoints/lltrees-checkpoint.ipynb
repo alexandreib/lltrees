{
 "cells": [
  {
   "cell_type": "code",
   "execution_count": 71,
   "id": "4694f6f3-1d25-4369-a62d-26f480f9bc15",
   "metadata": {},
   "outputs": [],
   "source": [
    "import time\n",
    "\n",
    "import numpy as np\n",
    "import pandas as pd\n",
    "import sklearn.datasets, sklearn.metrics, sklearn.model_selection, sklearn.tree\n",
    "\n",
    "import subprocess, sys"
   ]
  },
  {
   "cell_type": "code",
   "execution_count": 2,
   "id": "5526f3ce-a219-406e-a9d5-4a63eb3ee51a",
   "metadata": {},
   "outputs": [
    {
     "name": "stdout",
     "output_type": "stream",
     "text": [
      "SOURCES = cpp/criterion.cpp cpp/factories.cpp cpp/gbt.cpp cpp/lltrees.cpp cpp/metrics.cpp cpp/node.cpp cpp/tree.cpp cpp/wrapper.cpp\n"
     ]
    }
   ],
   "source": [
    "!cd ../ && make print-SOURCES"
   ]
  },
  {
   "cell_type": "code",
   "execution_count": 233,
   "id": "422898d9-b0df-4acc-a86e-4cd73b00c825",
   "metadata": {},
   "outputs": [
    {
     "name": "stdout",
     "output_type": "stream",
     "text": [
      "eee (array([0, 1]), array([359, 341]))\n"
     ]
    }
   ],
   "source": [
    "\n",
    "X, Y = sklearn.datasets.make_classification(n_samples=1000, n_features=8, n_informative=5, n_classes=2, random_state=42)\n",
    "X_train, X_test, Y_train, Y_test = sklearn.model_selection.train_test_split(X, Y, test_size=0.3, random_state=42)\n",
    "\n",
    "print(\"eee\", np.unique(Y_train, return_counts=True))"
   ]
  },
  {
   "cell_type": "code",
   "execution_count": 236,
   "id": "4b37fff9-a165-434d-abe7-807421062df5",
   "metadata": {},
   "outputs": [
    {
     "name": "stdout",
     "output_type": "stream",
     "text": [
      "make: Nothing to be done for 'all'.\n",
      "-----------------------------------------\n",
      "mode :              regression\n",
      "epochs :            10\n",
      "learning_rate :     0.1\n",
      "metric :            mae\n",
      "criterion :         variance\n",
      "max_depth :         5\n",
      "min_leaf_size :     1\n",
      "verbose :           1\n",
      "-----------------------------------------\n",
      "Type of Training Data : int64\n",
      "Configuration mode : regression\n",
      "impurity :0\n",
      " Y[0] 4.94066e-324 4.94066e-324 4.94066e-324 4.94066e-324 \n",
      " Y[0] 4.94066e-324 4.94066e-324 4.94066e-324 4.94066e-324 \n",
      "Epoch : 1     Metric Train : 0       Metric va : 4.94066e-324 Residuals (mean) : 0      \n",
      "impurity :0\n",
      " Y[0] 4.94066e-324 4.94066e-324 4.94066e-324 4.94066e-324 \n",
      " Y[0] 4.94066e-324 4.94066e-324 4.94066e-324 4.94066e-324 \n",
      "Epoch : 2     Metric Train : 0       Metric va : 4.94066e-324 Residuals (mean) : 0      \n",
      "impurity :0\n",
      " Y[0] 4.94066e-324 4.94066e-324 4.94066e-324 4.94066e-324 \n",
      " Y[0] 4.94066e-324 4.94066e-324 4.94066e-324 4.94066e-324 \n",
      "Epoch : 3     Metric Train : 0       Metric va : 4.94066e-324 Residuals (mean) : 0      \n",
      "impurity :0\n",
      " Y[0] 4.94066e-324 4.94066e-324 4.94066e-324 4.94066e-324 \n",
      " Y[0] 4.94066e-324 4.94066e-324 4.94066e-324 4.94066e-324 \n",
      "Epoch : 4     Metric Train : 0       Metric va : 4.94066e-324 Residuals (mean) : 0      \n",
      "impurity :0\n",
      " Y[0] 4.94066e-324 4.94066e-324 4.94066e-324 4.94066e-324 \n",
      " Y[0] 4.94066e-324 4.94066e-324 4.94066e-324 4.94066e-324 \n",
      "Epoch : 5     Metric Train : 0       Metric va : 4.94066e-324 Residuals (mean) : 0      \n",
      "impurity :0\n",
      " Y[0] 4.94066e-324 4.94066e-324 4.94066e-324 4.94066e-324 \n",
      " Y[0] 4.94066e-324 4.94066e-324 4.94066e-324 4.94066e-324 \n",
      "Epoch : 6     Metric Train : 0       Metric va : 4.94066e-324 Residuals (mean) : 0      \n",
      "impurity :0\n",
      " Y[0] 4.94066e-324 4.94066e-324 4.94066e-324 4.94066e-324 \n",
      " Y[0] 4.94066e-324 4.94066e-324 4.94066e-324 4.94066e-324 \n",
      "Epoch : 7     Metric Train : 0       Metric va : 4.94066e-324 Residuals (mean) : 0      \n",
      "impurity :0\n",
      " Y[0] 4.94066e-324 4.94066e-324 4.94066e-324 4.94066e-324 \n",
      " Y[0] 4.94066e-324 4.94066e-324 4.94066e-324 4.94066e-324 \n",
      "Epoch : 8     Metric Train : 0       Metric va : 4.94066e-324 Residuals (mean) : 0      \n",
      "impurity :0\n",
      " Y[0] 4.94066e-324 4.94066e-324 4.94066e-324 4.94066e-324 \n",
      " Y[0] 4.94066e-324 4.94066e-324 4.94066e-324 4.94066e-324 \n",
      "Epoch : 9     Metric Train : 0       Metric va : 4.94066e-324 Residuals (mean) : 0      \n",
      "impurity :0\n",
      " Y[0] 4.94066e-324 4.94066e-324 4.94066e-324 4.94066e-324 \n",
      " Y[0] 4.94066e-324 4.94066e-324 4.94066e-324 4.94066e-324 \n",
      "Epoch : 10    Metric Train : 0       Metric va : 4.94066e-324 Residuals (mean) : 0      \n",
      "eee (array([0, 1]), array([359, 341]))\n",
      "FIT --- 0.5088033676147461 seconds ---\n",
      "PREDICT --- 2.9325485229492188e-05 seconds ---\n",
      "[0. 0. 0. 0. 0. 0. 0. 0. 0. 0.]\n",
      "rmse: 0.73\n",
      "mae: 0.54\n",
      "r2: -1.16\n"
     ]
    },
    {
     "data": {
      "text/plain": [
       "0"
      ]
     },
     "execution_count": 236,
     "metadata": {},
     "output_type": "execute_result"
    }
   ],
   "source": [
    "# !cd ../ && make clean\n",
    "!cd ../ && make\n",
    "subprocess.call([sys.executable, \"lltrees_python_import_for_debug.py\"])"
   ]
  },
  {
   "cell_type": "markdown",
   "id": "ca385113-e559-470e-9216-1a1682b3cc69",
   "metadata": {},
   "source": [
    "# make_regression"
   ]
  },
  {
   "cell_type": "code",
   "execution_count": 24,
   "id": "007b01d7-0a37-444a-8367-d94b4bc03b1b",
   "metadata": {},
   "outputs": [],
   "source": [
    "X, Y = sklearn.datasets.make_regression(n_samples=1000, n_features=8, n_informative=5, n_targets=1, noise=1, random_state=42)\n",
    "X_train, X_test, Y_train, Y_test = sklearn.model_selection.train_test_split(X, Y, test_size=0.3, random_state=42)"
   ]
  },
  {
   "cell_type": "code",
   "execution_count": 5,
   "id": "7287411a-9cd4-46c6-826d-cd2db3e6a254",
   "metadata": {},
   "outputs": [
    {
     "name": "stdout",
     "output_type": "stream",
     "text": [
      "-----------------------------------------\n",
      "mode :              regression\n",
      "epochs :            1\n",
      "learning_rate :     1\n",
      "metric :            mae\n",
      "criterion :         absolute_error\n",
      "max_depth :         5\n",
      "min_leaf_size :     2\n",
      "verbose :           1\n",
      "-----------------------------------------\n",
      "FIT --- 0.020319700241088867 seconds ---\n",
      "PREDICT --- 7.414817810058594e-05 seconds ---\n",
      "rmse: 63.46\n",
      "Type of Training Data : float64\n",
      "Configuration mode : regression\n",
      "Epoch : 1     Metric Train : 38.4851 Metric va : 49.2101 Residuals (mean) : -2355.95\n",
      "mae: 49.21\n",
      "r2: 0.74\n"
     ]
    }
   ],
   "source": [
    "sys.path.append('/home/alexandre/Desktop/lltrees/build')\n",
    "import lltrees\n",
    "conf ={\n",
    "    'epochs' : 1,\n",
    "    'learning_rate' : 1,\n",
    "    'metric' : 'mae', # Possible metrics for the moment : mae, mse\n",
    "    'max_depth' : 5,\n",
    "    'min_leaf_size' : 2,\n",
    "    'criterion' : \"absolute_error\",  # Possible metrics for the moment : variance, absolute_error\n",
    "    'verbose' : 1, \n",
    "}\n",
    "my_lltree = lltrees.lltree()\n",
    "my_lltree.set_conf(conf)\n",
    "my_lltree.get_conf()\n",
    "\n",
    "start_time = time.time()\n",
    "my_lltree.fit(X_train, Y_train, X_test, Y_test)\n",
    "print(\"FIT --- %s seconds ---\" % (time.time() - start_time))\n",
    "\n",
    "start_time = time.time()\n",
    "YP = my_lltree.predict(X_test)\n",
    "print(\"PREDICT --- %s seconds ---\" % (time.time() - start_time))\n",
    "\n",
    "print(\"rmse: %.2f\" % np.sqrt(sklearn.metrics.mean_squared_error(Y_test,YP)))\n",
    "print(\"mae: %.2f\" % sklearn.metrics.mean_absolute_error(Y_test,YP))\n",
    "print(\"r2: %.2f\" % sklearn.metrics.r2_score(Y_test,YP))"
   ]
  },
  {
   "cell_type": "code",
   "execution_count": 49,
   "id": "44b9a64c-d11f-49aa-b9cc-1f8b8f66a301",
   "metadata": {},
   "outputs": [
    {
     "name": "stdout",
     "output_type": "stream",
     "text": [
      "FIT --- 0.02457427978515625 seconds ---\n",
      "PREDICT --- 0.0007550716400146484 seconds ---\n",
      "[  -5.25635722  127.29805997 -110.4560012   122.24421396 -110.4560012\n",
      "  -39.90414254  106.73581898  -39.90414254  223.68925908  240.37517626]\n",
      "rmse: 63.68\n",
      "mae: 49.35\n",
      "r2: 0.74\n"
     ]
    }
   ],
   "source": [
    "my_lltree = sklearn.tree.DecisionTreeRegressor(max_depth = 5, criterion =\"absolute_error\", random_state = 0)\n",
    "\n",
    "start_time = time.time()\n",
    "my_lltree.fit(X_train, Y_train)\n",
    "print(\"FIT --- %s seconds ---\" % (time.time() - start_time))\n",
    "\n",
    "start_time = time.time()\n",
    "YP = my_lltree.predict(X_test)\n",
    "print(\"PREDICT --- %s seconds ---\" % (time.time() - start_time))\n",
    "\n",
    "print(YP[0:10])\n",
    "print(\"rmse: %.2f\" % np.sqrt(sklearn.metrics.mean_squared_error(Y_test,YP)))\n",
    "print(\"mae: %.2f\" % sklearn.metrics.mean_absolute_error(Y_test,YP))\n",
    "print(\"r2: %.2f\" % sklearn.metrics.r2_score(Y_test,YP))"
   ]
  },
  {
   "cell_type": "code",
   "execution_count": 25,
   "id": "e6a50c75-f4f7-45ee-a66b-8bc9249121cf",
   "metadata": {},
   "outputs": [
    {
     "ename": "NameError",
     "evalue": "name 'lltrees' is not defined",
     "output_type": "error",
     "traceback": [
      "\u001b[0;31m---------------------------------------------------------------------------\u001b[0m",
      "\u001b[0;31mNameError\u001b[0m                                 Traceback (most recent call last)",
      "Cell \u001b[0;32mIn[25], line 10\u001b[0m\n\u001b[1;32m      1\u001b[0m conf \u001b[38;5;241m=\u001b[39m{\n\u001b[1;32m      2\u001b[0m     \u001b[38;5;124m'\u001b[39m\u001b[38;5;124mepochs\u001b[39m\u001b[38;5;124m'\u001b[39m : \u001b[38;5;241m50\u001b[39m,\n\u001b[1;32m      3\u001b[0m     \u001b[38;5;124m'\u001b[39m\u001b[38;5;124mlearning_rate\u001b[39m\u001b[38;5;124m'\u001b[39m : \u001b[38;5;241m0.1\u001b[39m,\n\u001b[0;32m   (...)\u001b[0m\n\u001b[1;32m      8\u001b[0m     \u001b[38;5;124m'\u001b[39m\u001b[38;5;124mverbose\u001b[39m\u001b[38;5;124m'\u001b[39m : \u001b[38;5;241m0\u001b[39m, \n\u001b[1;32m      9\u001b[0m }\n\u001b[0;32m---> 10\u001b[0m my_lltree \u001b[38;5;241m=\u001b[39m \u001b[43mlltrees\u001b[49m\u001b[38;5;241m.\u001b[39mlltree()\n\u001b[1;32m     11\u001b[0m my_lltree\u001b[38;5;241m.\u001b[39mset_conf(conf)\n\u001b[1;32m     12\u001b[0m my_lltree\u001b[38;5;241m.\u001b[39mget_conf()\n",
      "\u001b[0;31mNameError\u001b[0m: name 'lltrees' is not defined"
     ]
    }
   ],
   "source": [
    "conf ={\n",
    "    'epochs' : 50,\n",
    "    'learning_rate' : 0.1,\n",
    "    'metric' : 'mae', # Possible metrics for the moment : mae, mse\n",
    "    'max_depth' : 5,\n",
    "    'min_leaf_size' : 2,\n",
    "    'criterion' : \"absolute_error\",  # Possible metrics for the moment : variance, absolute_error\n",
    "    'verbose' : 0, \n",
    "}\n",
    "my_lltree = lltrees.lltree()\n",
    "my_lltree.set_conf(conf)\n",
    "my_lltree.get_conf()\n",
    "\n",
    "start_time = time.time()\n",
    "my_lltree.fit(X_train, Y_train, X_test, Y_test)\n",
    "print(\"FIT --- %s seconds ---\" % (time.time() - start_time))\n",
    "\n",
    "start_time = time.time()\n",
    "YP = my_lltree.predict(X_test)\n",
    "print(\"PREDICT --- %s seconds ---\" % (time.time() - start_time))\n",
    "\n",
    "print(\"rmse: %.2f\" % np.sqrt(sklearn.metrics.mean_squared_error(Y_test,YP)))\n",
    "print(\"mae: %.2f\" % sklearn.metrics.mean_absolute_error(Y_test,YP))\n",
    "print(\"r2: %.2f\" % sklearn.metrics.r2_score(Y_test,YP))"
   ]
  },
  {
   "cell_type": "code",
   "execution_count": 59,
   "id": "c090343b-8e53-4e89-b97c-5a3fd67a548b",
   "metadata": {},
   "outputs": [
    {
     "name": "stdout",
     "output_type": "stream",
     "text": [
      "FIT --- 0.0692143440246582 seconds ---\n",
      "PREDICT --- 0.00048661231994628906 seconds ---\n",
      "rmse: 77.33\n",
      "mae: 58.98\n",
      "r2: 0.61\n"
     ]
    }
   ],
   "source": [
    "from sklearn.ensemble import GradientBoostingRegressor\n",
    "my_lltree = GradientBoostingRegressor(learning_rate = 0.1, n_estimators =10, max_depth = 5,\n",
    "                                 loss = 'absolute_error', criterion = 'squared_error',\n",
    "                                 random_state = 0)\n",
    "\n",
    "start_time = time.time()\n",
    "my_lltree.fit(X_train, Y_train)\n",
    "print(\"FIT --- %s seconds ---\" % (time.time() - start_time))\n",
    "\n",
    "start_time = time.time()\n",
    "YP = my_lltree.predict(X_test)\n",
    "print(\"PREDICT --- %s seconds ---\" % (time.time() - start_time))\n",
    "\n",
    "print(\"rmse: %.2f\" % np.sqrt(sklearn.metrics.mean_squared_error(Y_test,YP)))\n",
    "print(\"mae: %.2f\" % sklearn.metrics.mean_absolute_error(Y_test,YP))\n",
    "print(\"r2: %.2f\" % sklearn.metrics.r2_score(Y_test,YP))"
   ]
  },
  {
   "cell_type": "markdown",
   "id": "5e699efd-5f26-43ad-85f9-c5d9bed356fe",
   "metadata": {},
   "source": [
    "# make_classification"
   ]
  },
  {
   "cell_type": "code",
   "execution_count": 9,
   "id": "91fce4d9-19ed-443e-a812-b3dcbf23a759",
   "metadata": {},
   "outputs": [],
   "source": [
    "# X, Y = sklearn.datasets.make_classification(n_samples=1000, n_features=8, n_informative=5, n_classes=2, random_state=42)\n",
    "# X_train, X_test, Y_train, Y_test = sklearn.model_selection.train_test_split(X, Y, test_size=0.3, random_state=42)"
   ]
  },
  {
   "cell_type": "code",
   "execution_count": 10,
   "id": "72a76b26-59dd-47a2-af37-053ea20dc7bf",
   "metadata": {},
   "outputs": [],
   "source": [
    "# conf ={\n",
    "#     'epochs' : 50,\n",
    "#     'learning_rate' : 0.1,\n",
    "#     'metric_name' : 'mae', # Possible metrics for the moment : mae, mse\n",
    "#     'lltree_max_depth' : 3,\n",
    "#     'lltree_min_size_split' : 1,\n",
    "#     'lltree_criterion' : \"gini\",  # Possible metrics for the moment : variance, absolute_error\n",
    "#     'verbose' : 1,  # Possible metrics for the moment : variance, absolute_error\n",
    "# }\n",
    "# my_lltree = lltrees.lltree()\n",
    "# my_lltree.set_conf(conf)\n",
    "# my_lltree.get_conf()\n",
    "\n",
    "# start_time = time.time()\n",
    "# my_lltree.fit(X_train, Y_train)\n",
    "# print(\"FIT --- %s seconds ---\" % (time.time() - start_time))\n",
    "\n",
    "# start_time = time.time()\n",
    "# YP = my_lltree.predict(X_test)\n",
    "# print(\"PREDICT --- %s seconds ---\" % (time.time() - start_time))\n",
    "\n",
    "# print(\"accuracy_score: %.2f\" % np.sqrt(sklearn.metrics.accuracy_score(Y_test,YP)))\n",
    "# print(\"log_loss: %.2f\" % sklearn.metrics.log_loss(Y_test,YP))\n",
    "# print(\"f1_score: %.2f\" % sklearn.metrics.f1_score(Y_test,YP))"
   ]
  }
 ],
 "metadata": {
  "kernelspec": {
   "display_name": "Python 3 (ipykernel)",
   "language": "python",
   "name": "python3"
  },
  "language_info": {
   "codemirror_mode": {
    "name": "ipython",
    "version": 3
   },
   "file_extension": ".py",
   "mimetype": "text/x-python",
   "name": "python",
   "nbconvert_exporter": "python",
   "pygments_lexer": "ipython3",
   "version": "3.10.12"
  }
 },
 "nbformat": 4,
 "nbformat_minor": 5
}
