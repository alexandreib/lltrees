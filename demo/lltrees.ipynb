{
 "cells": [
  {
   "cell_type": "code",
   "execution_count": 1,
   "id": "4694f6f3-1d25-4369-a62d-26f480f9bc15",
   "metadata": {},
   "outputs": [],
   "source": [
    "import time\n",
    "\n",
    "import numpy as np\n",
    "import pandas as pd\n",
    "import sklearn.datasets, sklearn.metrics, sklearn.model_selection, sklearn.tree\n",
    "\n",
    "import subprocess, sys"
   ]
  },
  {
   "cell_type": "code",
   "execution_count": 2,
   "id": "5526f3ce-a219-406e-a9d5-4a63eb3ee51a",
   "metadata": {},
   "outputs": [
    {
     "name": "stdout",
     "output_type": "stream",
     "text": [
      "SOURCES = cpp/criterion.cpp cpp/factories.cpp cpp/gbt.cpp cpp/lltrees.cpp cpp/metrics.cpp cpp/node.cpp cpp/tree.cpp cpp/wrapper.cpp\n"
     ]
    }
   ],
   "source": [
    "!cd ../ && make print-SOURCES"
   ]
  },
  {
   "cell_type": "code",
   "execution_count": 3,
   "id": "4b37fff9-a165-434d-abe7-807421062df5",
   "metadata": {},
   "outputs": [
    {
     "name": "stdout",
     "output_type": "stream",
     "text": [
      "make: Nothing to be done for 'all'.\n",
      "[[-1.13017873  2.91817356]\n",
      " [-0.97972122 -2.12873409]]\n",
      "[ 159.09771799 -250.870943    165.74006195  110.75202167   63.47351979]\n",
      "-----------------------------------------\n",
      "mode :              regression\n",
      "epochs :            50\n",
      "learning_rate :     0.1\n",
      "metric :            mae\n",
      "criterion :         absolute_error\n",
      "max_depth :         5\n",
      "min_leaf_size :     1\n",
      "verbose :           1\n",
      "-----------------------------------------\n",
      "Type of Training Data : float64\n",
      "Configuration mode : regression\n",
      "Epoch : 1     Metric Train : 88.354  Metric va : 96.3501 Residuals (mean) : -508.197\n",
      "Epoch : 2     Metric Train : 81.2018 Metric va : 89.9313 Residuals (mean) : -457.378\n",
      "Epoch : 3     Metric Train : 74.6979 Metric va : 84.0295 Residuals (mean) : -411.64\n",
      "Epoch : 4     Metric Train : 68.8526 Metric va : 78.6383 Residuals (mean) : -370.476\n",
      "Epoch : 5     Metric Train : 63.4943 Metric va : 74.3066 Residuals (mean) : -333.428\n",
      "Epoch : 6     Metric Train : 58.7904 Metric va : 69.5122 Residuals (mean) : -300.086\n",
      "Epoch : 7     Metric Train : 54.3913 Metric va : 66.0215 Residuals (mean) : -270.077\n",
      "Epoch : 8     Metric Train : 50.381  Metric va : 62.7992 Residuals (mean) : -243.069\n",
      "Epoch : 9     Metric Train : 46.612  Metric va : 59.7048 Residuals (mean) : -218.762\n",
      "Epoch : 10    Metric Train : 43.3533 Metric va : 56.8551 Residuals (mean) : -196.886\n",
      "Epoch : 11    Metric Train : 40.3111 Metric va : 54.2561 Residuals (mean) : -177.198\n",
      "Epoch : 12    Metric Train : 37.6865 Metric va : 51.9961 Residuals (mean) : -159.478\n",
      "Epoch : 13    Metric Train : 35.2112 Metric va : 49.8803 Residuals (mean) : -143.53\n",
      "Epoch : 14    Metric Train : 32.7964 Metric va : 48.046  Residuals (mean) : -129.177\n",
      "Epoch : 15    Metric Train : 30.576  Metric va : 45.9853 Residuals (mean) : -116.259\n",
      "Epoch : 16    Metric Train : 28.8228 Metric va : 44.4407 Residuals (mean) : -104.633\n",
      "Epoch : 17    Metric Train : 27.0229 Metric va : 43.1419 Residuals (mean) : -94.17 \n",
      "Epoch : 18    Metric Train : 25.385  Metric va : 41.6473 Residuals (mean) : -84.753\n",
      "Epoch : 19    Metric Train : 23.8436 Metric va : 40.2234 Residuals (mean) : -76.2777\n",
      "Epoch : 20    Metric Train : 22.5039 Metric va : 39.0444 Residuals (mean) : -68.6499\n",
      "Epoch : 21    Metric Train : 21.3037 Metric va : 38.0995 Residuals (mean) : -61.785\n",
      "Epoch : 22    Metric Train : 20.1865 Metric va : 37.046  Residuals (mean) : -55.6065\n",
      "Epoch : 23    Metric Train : 19.0431 Metric va : 36.1114 Residuals (mean) : -50.0458\n",
      "Epoch : 24    Metric Train : 18.1472 Metric va : 35.3413 Residuals (mean) : -45.0412\n",
      "Epoch : 25    Metric Train : 17.2054 Metric va : 34.6468 Residuals (mean) : -40.5371\n",
      "Epoch : 26    Metric Train : 16.734  Metric va : 34.1692 Residuals (mean) : -36.4834\n",
      "Epoch : 27    Metric Train : 15.9535 Metric va : 33.4982 Residuals (mean) : -32.8351\n",
      "Epoch : 28    Metric Train : 15.2088 Metric va : 32.945  Residuals (mean) : -29.5516\n",
      "Epoch : 29    Metric Train : 14.7902 Metric va : 32.6307 Residuals (mean) : -26.5964\n",
      "Epoch : 30    Metric Train : 14.0975 Metric va : 31.9313 Residuals (mean) : -23.9368\n",
      "Epoch : 31    Metric Train : 13.4428 Metric va : 31.3814 Residuals (mean) : -21.5431\n",
      "Epoch : 32    Metric Train : 13.0636 Metric va : 31.0135 Residuals (mean) : -19.3888\n",
      "Epoch : 33    Metric Train : 12.536  Metric va : 30.5265 Residuals (mean) : -17.4499\n",
      "Epoch : 34    Metric Train : 12.4082 Metric va : 30.4402 Residuals (mean) : -15.7049\n",
      "Epoch : 35    Metric Train : 11.8631 Metric va : 29.9026 Residuals (mean) : -14.1344\n",
      "Epoch : 36    Metric Train : 11.5263 Metric va : 29.5734 Residuals (mean) : -12.721\n",
      "Epoch : 37    Metric Train : 11.3885 Metric va : 29.4167 Residuals (mean) : -11.4489\n",
      "Epoch : 38    Metric Train : 11.1728 Metric va : 29.1837 Residuals (mean) : -10.304\n",
      "Epoch : 39    Metric Train : 10.7685 Metric va : 28.8672 Residuals (mean) : -9.27359\n",
      "Epoch : 40    Metric Train : 10.4482 Metric va : 28.509  Residuals (mean) : -8.34623\n",
      "Epoch : 41    Metric Train : 10.1877 Metric va : 28.2601 Residuals (mean) : -7.51161\n",
      "Epoch : 42    Metric Train : 9.96306 Metric va : 28.0495 Residuals (mean) : -6.76045\n",
      "Epoch : 43    Metric Train : 9.70781 Metric va : 27.8557 Residuals (mean) : -6.0844\n",
      "Epoch : 44    Metric Train : 9.55925 Metric va : 27.7052 Residuals (mean) : -5.47596\n",
      "Epoch : 45    Metric Train : 9.35129 Metric va : 27.4941 Residuals (mean) : -4.92837\n",
      "Epoch : 46    Metric Train : 9.11236 Metric va : 27.2079 Residuals (mean) : -4.43553\n",
      "Epoch : 47    Metric Train : 8.86969 Metric va : 26.8892 Residuals (mean) : -3.99198\n",
      "Epoch : 48    Metric Train : 8.82027 Metric va : 26.8356 Residuals (mean) : -3.59278\n",
      "Epoch : 49    Metric Train : 8.66261 Metric va : 26.6569 Residuals (mean) : -3.2335\n",
      "Epoch : 50    Metric Train : 8.52662 Metric va : 26.4465 Residuals (mean) : -2.91015\n",
      "FIT --- 1.01277494430542 seconds ---\n",
      "PREDICT --- 0.0004673004150390625 seconds ---\n",
      "[-508.19749172 -457.37774255 -411.63996829 -370.47597146 -333.42837432\n",
      " -300.08553689 -270.0769832  -243.06928488 -218.76235639 -196.88612075\n",
      " -177.19750868 -159.47775781 -143.52998203 -129.17698382 -116.25928544\n",
      " -104.6333569   -94.17002121  -84.75301909  -76.27771718  -68.64994546\n",
      "  -61.78495091  -55.60645582  -50.04581024  -45.04122922  -40.5371063\n",
      "  -36.48339567  -32.8350561   -29.55155049  -26.59639544  -23.9367559\n",
      "  -21.54308031  -19.38877228  -17.44989505  -15.70490554  -14.13441499\n",
      "  -12.72097349  -11.44887614  -10.30398853   -9.27358967   -8.34623071\n",
      "   -7.51160764   -6.76044687   -6.08440219   -5.47596197   -4.92836577\n",
      "   -4.43552919   -3.99197627   -3.59277865   -3.23350078   -2.9101507 ]\n",
      "rmse: 34.96\n",
      "mae: 26.45\n",
      "r2: 0.93\n",
      "-----------------------------------------\n",
      "mode :              regression\n",
      "epochs :            50\n",
      "learning_rate :     0.1\n",
      "metric :            mae\n",
      "criterion :         absolute_error\n",
      "max_depth :         5\n",
      "min_leaf_size :     1\n",
      "verbose :           1\n",
      "-----------------------------------------\n",
      "Type of Training Data : float64\n",
      "Configuration mode : regression\n",
      "Epoch : 1     Metric Train : 88.354  Metric va : 96.3501 Residuals (mean) : -508.197\n",
      "Epoch : 2     Metric Train : 81.2018 Metric va : 89.9313 Residuals (mean) : -457.378\n",
      "Epoch : 3     Metric Train : 74.6979 Metric va : 84.0557 Residuals (mean) : -411.64\n",
      "Epoch : 4     Metric Train : 68.8526 Metric va : 78.6645 Residuals (mean) : -370.476\n",
      "Epoch : 5     Metric Train : 63.4943 Metric va : 74.3327 Residuals (mean) : -333.428\n",
      "Epoch : 6     Metric Train : 58.7904 Metric va : 69.5383 Residuals (mean) : -300.086\n",
      "Epoch : 7     Metric Train : 54.3913 Metric va : 66.0477 Residuals (mean) : -270.077\n",
      "Epoch : 8     Metric Train : 50.381  Metric va : 62.8253 Residuals (mean) : -243.069\n",
      "Epoch : 9     Metric Train : 46.612  Metric va : 59.731  Residuals (mean) : -218.762\n",
      "Epoch : 10    Metric Train : 43.3533 Metric va : 56.8813 Residuals (mean) : -196.886\n",
      "Epoch : 11    Metric Train : 40.3111 Metric va : 54.2822 Residuals (mean) : -177.198\n",
      "Epoch : 12    Metric Train : 37.6865 Metric va : 52.0222 Residuals (mean) : -159.478\n",
      "Epoch : 13    Metric Train : 35.2112 Metric va : 49.9064 Residuals (mean) : -143.53\n",
      "Epoch : 14    Metric Train : 32.7964 Metric va : 48.0722 Residuals (mean) : -129.177\n",
      "Epoch : 15    Metric Train : 30.576  Metric va : 46.0115 Residuals (mean) : -116.259\n",
      "Epoch : 16    Metric Train : 28.8228 Metric va : 44.4668 Residuals (mean) : -104.633\n",
      "Epoch : 17    Metric Train : 27.0229 Metric va : 43.1681 Residuals (mean) : -94.17 \n",
      "Epoch : 18    Metric Train : 25.385  Metric va : 41.6734 Residuals (mean) : -84.753\n",
      "Epoch : 19    Metric Train : 23.8436 Metric va : 40.2495 Residuals (mean) : -76.2777\n",
      "Epoch : 20    Metric Train : 22.5039 Metric va : 39.0705 Residuals (mean) : -68.6499\n",
      "Epoch : 21    Metric Train : 21.3037 Metric va : 38.1256 Residuals (mean) : -61.785\n",
      "Epoch : 22    Metric Train : 20.1865 Metric va : 37.0722 Residuals (mean) : -55.6065\n",
      "Epoch : 23    Metric Train : 19.0431 Metric va : 36.1418 Residuals (mean) : -50.0458\n",
      "Epoch : 24    Metric Train : 18.1472 Metric va : 35.3717 Residuals (mean) : -45.0412\n",
      "Epoch : 25    Metric Train : 17.2054 Metric va : 34.6772 Residuals (mean) : -40.5371\n",
      "Epoch : 26    Metric Train : 16.734  Metric va : 34.1996 Residuals (mean) : -36.4834\n",
      "Epoch : 27    Metric Train : 15.9535 Metric va : 33.5285 Residuals (mean) : -32.8351\n",
      "Epoch : 28    Metric Train : 15.2088 Metric va : 32.9754 Residuals (mean) : -29.5516\n",
      "Epoch : 29    Metric Train : 14.7902 Metric va : 32.6611 Residuals (mean) : -26.5964\n",
      "Epoch : 30    Metric Train : 14.0975 Metric va : 31.9617 Residuals (mean) : -23.9368\n",
      "Epoch : 31    Metric Train : 13.4428 Metric va : 31.4118 Residuals (mean) : -21.5431\n",
      "Epoch : 32    Metric Train : 13.0636 Metric va : 31.0438 Residuals (mean) : -19.3888\n",
      "Epoch : 33    Metric Train : 12.536  Metric va : 30.5569 Residuals (mean) : -17.4499\n",
      "Epoch : 34    Metric Train : 12.4082 Metric va : 30.4706 Residuals (mean) : -15.7049\n",
      "Epoch : 35    Metric Train : 11.8631 Metric va : 29.933  Residuals (mean) : -14.1344\n",
      "Epoch : 36    Metric Train : 11.5263 Metric va : 29.6037 Residuals (mean) : -12.721\n",
      "Epoch : 37    Metric Train : 11.3885 Metric va : 29.4471 Residuals (mean) : -11.4489\n",
      "Epoch : 38    Metric Train : 11.1728 Metric va : 29.2141 Residuals (mean) : -10.304\n",
      "Epoch : 39    Metric Train : 10.7685 Metric va : 28.8976 Residuals (mean) : -9.27359\n",
      "Epoch : 40    Metric Train : 10.4482 Metric va : 28.5336 Residuals (mean) : -8.34623\n",
      "Epoch : 41    Metric Train : 10.1877 Metric va : 28.285  Residuals (mean) : -7.51161\n",
      "Epoch : 42    Metric Train : 9.96306 Metric va : 28.082  Residuals (mean) : -6.76045\n",
      "Epoch : 43    Metric Train : 9.70781 Metric va : 27.8904 Residuals (mean) : -6.0844\n",
      "Epoch : 44    Metric Train : 9.55925 Metric va : 27.7375 Residuals (mean) : -5.47596\n",
      "Epoch : 45    Metric Train : 9.35129 Metric va : 27.5237 Residuals (mean) : -4.92837\n",
      "Epoch : 46    Metric Train : 9.11236 Metric va : 27.2433 Residuals (mean) : -4.43553\n",
      "Epoch : 47    Metric Train : 8.86969 Metric va : 26.9245 Residuals (mean) : -3.99198\n",
      "Epoch : 48    Metric Train : 8.82027 Metric va : 26.8718 Residuals (mean) : -3.59278\n",
      "Epoch : 49    Metric Train : 8.66261 Metric va : 26.6931 Residuals (mean) : -3.2335\n",
      "Epoch : 50    Metric Train : 8.52662 Metric va : 26.4827 Residuals (mean) : -2.91015\n",
      "FIT --- 1.004821538925171 seconds ---\n",
      "PREDICT --- 0.00046753883361816406 seconds ---\n",
      "[-508.19749172 -457.37774255 -411.63996829 -370.47597146 -333.42837432\n",
      " -300.08553689 -270.0769832  -243.06928488 -218.76235639 -196.88612075\n",
      " -177.19750868 -159.47775781 -143.52998203 -129.17698382 -116.25928544\n",
      " -104.6333569   -94.17002121  -84.75301909  -76.27771718  -68.64994546\n",
      "  -61.78495091  -55.60645582  -50.04581024  -45.04122922  -40.5371063\n",
      "  -36.48339567  -32.8350561   -29.55155049  -26.59639544  -23.9367559\n",
      "  -21.54308031  -19.38877228  -17.44989505  -15.70490554  -14.13441499\n",
      "  -12.72097349  -11.44887614  -10.30398853   -9.27358967   -8.34623071\n",
      "   -7.51160764   -6.76044687   -6.08440219   -5.47596197   -4.92836577\n",
      "   -4.43552919   -3.99197627   -3.59277865   -3.23350078   -2.9101507 ]\n",
      "rmse: 35.01\n",
      "mae: 26.48\n",
      "r2: 0.93\n",
      "[ 126.37675452   98.64490452 -173.13506278  -25.03101711   -7.09649346\n",
      "   98.60648348  126.31128383   49.74961172  -36.89865572  -12.86042031]\n"
     ]
    },
    {
     "data": {
      "text/plain": [
       "0"
      ]
     },
     "execution_count": 3,
     "metadata": {},
     "output_type": "execute_result"
    }
   ],
   "source": [
    "# !cd ../ && make clean\n",
    "!cd ../ && make\n",
    "subprocess.call([sys.executable, \"lltrees_python_import_for_debug.py\"])"
   ]
  },
  {
   "cell_type": "markdown",
   "id": "ca385113-e559-470e-9216-1a1682b3cc69",
   "metadata": {},
   "source": [
    "# make_regression"
   ]
  },
  {
   "cell_type": "code",
   "execution_count": 4,
   "id": "007b01d7-0a37-444a-8367-d94b4bc03b1b",
   "metadata": {},
   "outputs": [],
   "source": [
    "X, Y = sklearn.datasets.make_regression(n_samples=10000, n_features=8, n_informative=5, n_targets=1, noise=1, random_state=42)\n",
    "X_train, X_test, Y_train, Y_test = sklearn.model_selection.train_test_split(X, Y, test_size=0.3, random_state=42)"
   ]
  },
  {
   "cell_type": "code",
   "execution_count": 5,
   "id": "7287411a-9cd4-46c6-826d-cd2db3e6a254",
   "metadata": {},
   "outputs": [
    {
     "name": "stdout",
     "output_type": "stream",
     "text": [
      "-----------------------------------------\n",
      "mode :              regression\n",
      "epochs :            1\n",
      "learning_rate :     1\n",
      "metric :            mae\n",
      "criterion :         absolute_error\n",
      "max_depth :         5\n",
      "min_leaf_size :     2\n",
      "verbose :           1\n",
      "-----------------------------------------\n",
      "Type of Training Data : float64\n",
      "Configuration mode : regression\n",
      "Epoch : 1     Metric Train : 41.5578 Metric va : 44.4617 Residuals (mean) : -10540.4\n",
      "FIT --- 0.7796192169189453 seconds ---\n",
      "PREDICT --- 0.00017118453979492188 seconds ---\n",
      "rmse: 56.42\n",
      "mae: 44.46\n",
      "r2: 0.82\n"
     ]
    }
   ],
   "source": [
    "sys.path.append('/home/alexandre/Desktop/lltrees/build')\n",
    "import lltrees\n",
    "conf ={\n",
    "    'epochs' : 1,\n",
    "    'learning_rate' : 1,\n",
    "    'metric' : 'mae', # Possible metrics for the moment : mae, mse\n",
    "    'max_depth' : 5,\n",
    "    'min_leaf_size' : 2,\n",
    "    'criterion' : \"absolute_error\",  # Possible metrics for the moment : variance, absolute_error\n",
    "    'verbose' : 1, \n",
    "}\n",
    "my_lltree = lltrees.lltree()\n",
    "my_lltree.set_conf(conf)\n",
    "my_lltree.get_conf()\n",
    "\n",
    "start_time = time.time()\n",
    "my_lltree.fit(X_train, Y_train, X_test, Y_test)\n",
    "print(\"FIT --- %s seconds ---\" % (time.time() - start_time))\n",
    "\n",
    "start_time = time.time()\n",
    "YP = my_lltree.predict(X_test)\n",
    "print(\"PREDICT --- %s seconds ---\" % (time.time() - start_time))\n",
    "\n",
    "print(\"rmse: %.2f\" % np.sqrt(sklearn.metrics.mean_squared_error(Y_test,YP)))\n",
    "print(\"mae: %.2f\" % sklearn.metrics.mean_absolute_error(Y_test,YP))\n",
    "print(\"r2: %.2f\" % sklearn.metrics.r2_score(Y_test,YP))"
   ]
  },
  {
   "cell_type": "code",
   "execution_count": 6,
   "id": "44b9a64c-d11f-49aa-b9cc-1f8b8f66a301",
   "metadata": {},
   "outputs": [
    {
     "name": "stdout",
     "output_type": "stream",
     "text": [
      "FIT --- 1.3003618717193604 seconds ---\n",
      "PREDICT --- 0.00044274330139160156 seconds ---\n",
      "[-139.05518197  127.32659619  127.7203612   -84.86192235  221.55630356\n",
      " -139.05518197  127.7203612   127.7203612  -117.41140576  111.27770126]\n",
      "rmse: 56.48\n",
      "mae: 44.44\n",
      "r2: 0.82\n"
     ]
    }
   ],
   "source": [
    "my_lltree = sklearn.tree.DecisionTreeRegressor(max_depth = 5, criterion =\"absolute_error\", random_state = 0)\n",
    "\n",
    "start_time = time.time()\n",
    "my_lltree.fit(X_train, Y_train)\n",
    "print(\"FIT --- %s seconds ---\" % (time.time() - start_time))\n",
    "\n",
    "start_time = time.time()\n",
    "YP = my_lltree.predict(X_test)\n",
    "print(\"PREDICT --- %s seconds ---\" % (time.time() - start_time))\n",
    "\n",
    "print(YP[0:10])\n",
    "print(\"rmse: %.2f\" % np.sqrt(sklearn.metrics.mean_squared_error(Y_test,YP)))\n",
    "print(\"mae: %.2f\" % sklearn.metrics.mean_absolute_error(Y_test,YP))\n",
    "print(\"r2: %.2f\" % sklearn.metrics.r2_score(Y_test,YP))"
   ]
  },
  {
   "cell_type": "code",
   "execution_count": null,
   "id": "e6a50c75-f4f7-45ee-a66b-8bc9249121cf",
   "metadata": {},
   "outputs": [],
   "source": [
    "conf ={\n",
    "    'epochs' : 50,\n",
    "    'learning_rate' : 0.1,\n",
    "    'metric' : 'mae', # Possible metrics for the moment : mae, mse\n",
    "    'max_depth' : 5,\n",
    "    'min_leaf_size' : 1,\n",
    "    'criterion' : \"absolute_error\",  # Possible metrics for the moment : variance, absolute_error\n",
    "    'verbose' : 1, \n",
    "}\n",
    "my_lltree = lltrees.lltree()\n",
    "my_lltree.set_conf(conf)\n",
    "my_lltree.get_conf()\n",
    "\n",
    "start_time = time.time()\n",
    "my_lltree.fit(X_train, Y_train, X_test, Y_test)\n",
    "print(\"FIT --- %s seconds ---\" % (time.time() - start_time))\n",
    "\n",
    "start_time = time.time()\n",
    "YP = my_lltree.predict(X_test)\n",
    "print(\"PREDICT --- %s seconds ---\" % (time.time() - start_time))\n",
    "\n",
    "print(\"rmse: %.2f\" % np.sqrt(sklearn.metrics.mean_squared_error(Y_test,YP)))\n",
    "print(\"mae: %.2f\" % sklearn.metrics.mean_absolute_error(Y_test,YP))\n",
    "print(\"r2: %.2f\" % sklearn.metrics.r2_score(Y_test,YP))"
   ]
  },
  {
   "cell_type": "code",
   "execution_count": 12,
   "id": "c090343b-8e53-4e89-b97c-5a3fd67a548b",
   "metadata": {},
   "outputs": [
    {
     "name": "stdout",
     "output_type": "stream",
     "text": [
      "FIT --- 0.29142022132873535 seconds ---\n",
      "PREDICT --- 0.0005440711975097656 seconds ---\n",
      "rmse: 0.34\n",
      "mae: 0.12\n",
      "r2: 0.54\n"
     ]
    }
   ],
   "source": [
    "from sklearn.ensemble import GradientBoostingRegressor\n",
    "my_lltree = GradientBoostingRegressor(learning_rate = 0.1, n_estimators =50, max_depth = 5,\n",
    "                                 loss = 'absolute_error', criterion = 'squared_error',\n",
    "                                 random_state = 0)\n",
    "\n",
    "start_time = time.time()\n",
    "my_lltree.fit(X_train, Y_train)\n",
    "print(\"FIT --- %s seconds ---\" % (time.time() - start_time))\n",
    "\n",
    "start_time = time.time()\n",
    "YP = my_lltree.predict(X_test)\n",
    "print(\"PREDICT --- %s seconds ---\" % (time.time() - start_time))\n",
    "\n",
    "print(\"rmse: %.2f\" % np.sqrt(sklearn.metrics.mean_squared_error(Y_test,YP)))\n",
    "print(\"mae: %.2f\" % sklearn.metrics.mean_absolute_error(Y_test,YP))\n",
    "print(\"r2: %.2f\" % sklearn.metrics.r2_score(Y_test,YP))"
   ]
  },
  {
   "cell_type": "markdown",
   "id": "5e699efd-5f26-43ad-85f9-c5d9bed356fe",
   "metadata": {},
   "source": [
    "# make_classification"
   ]
  },
  {
   "cell_type": "code",
   "execution_count": 9,
   "id": "91fce4d9-19ed-443e-a812-b3dcbf23a759",
   "metadata": {},
   "outputs": [],
   "source": [
    "X, Y = sklearn.datasets.make_classification(n_samples=1000, n_features=8, n_informative=5, n_classes=2, random_state=42)\n",
    "X_train, X_test, Y_train, Y_test = sklearn.model_selection.train_test_split(X, Y, test_size=0.3, random_state=42)"
   ]
  },
  {
   "cell_type": "code",
   "execution_count": 10,
   "id": "72a76b26-59dd-47a2-af37-053ea20dc7bf",
   "metadata": {},
   "outputs": [],
   "source": [
    "# conf ={\n",
    "#     'epochs' : 50,\n",
    "#     'learning_rate' : 0.1,\n",
    "#     'metric_name' : 'mae', # Possible metrics for the moment : mae, mse\n",
    "#     'lltree_max_depth' : 3,\n",
    "#     'lltree_min_size_split' : 1,\n",
    "#     'lltree_criterion' : \"gini\",  # Possible metrics for the moment : variance, absolute_error\n",
    "#     'verbose' : 1,  # Possible metrics for the moment : variance, absolute_error\n",
    "# }\n",
    "# my_lltree = lltrees.lltree()\n",
    "# my_lltree.set_conf(conf)\n",
    "# my_lltree.get_conf()\n",
    "\n",
    "# start_time = time.time()\n",
    "# my_lltree.fit(X_train, Y_train)\n",
    "# print(\"FIT --- %s seconds ---\" % (time.time() - start_time))\n",
    "\n",
    "# start_time = time.time()\n",
    "# YP = my_lltree.predict(X_test)\n",
    "# print(\"PREDICT --- %s seconds ---\" % (time.time() - start_time))\n",
    "\n",
    "# print(\"accuracy_score: %.2f\" % np.sqrt(sklearn.metrics.accuracy_score(Y_test,YP)))\n",
    "# print(\"log_loss: %.2f\" % sklearn.metrics.log_loss(Y_test,YP))\n",
    "# print(\"f1_score: %.2f\" % sklearn.metrics.f1_score(Y_test,YP))"
   ]
  }
 ],
 "metadata": {
  "kernelspec": {
   "display_name": "Python 3 (ipykernel)",
   "language": "python",
   "name": "python3"
  },
  "language_info": {
   "codemirror_mode": {
    "name": "ipython",
    "version": 3
   },
   "file_extension": ".py",
   "mimetype": "text/x-python",
   "name": "python",
   "nbconvert_exporter": "python",
   "pygments_lexer": "ipython3",
   "version": "3.10.12"
  }
 },
 "nbformat": 4,
 "nbformat_minor": 5
}
