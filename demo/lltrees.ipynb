{
 "cells": [
  {
   "cell_type": "code",
   "execution_count": 3,
   "id": "4694f6f3-1d25-4369-a62d-26f480f9bc15",
   "metadata": {},
   "outputs": [],
   "source": [
    "import time\n",
    "\n",
    "import numpy as np\n",
    "import pandas as pd\n",
    "import sklearn.datasets, sklearn.metrics, sklearn.model_selection, sklearn.tree\n",
    "\n",
    "import subprocess, sys\n"
   ]
  },
  {
   "cell_type": "code",
   "execution_count": 2,
   "id": "5526f3ce-a219-406e-a9d5-4a63eb3ee51a",
   "metadata": {},
   "outputs": [
    {
     "name": "stdout",
     "output_type": "stream",
     "text": [
      "SOURCES = cpp/conf.cpp cpp/criterion.cpp cpp/factories.cpp cpp/gbt.cpp cpp/lltrees.cpp cpp/metrics.cpp cpp/node.cpp cpp/threadpool.cpp cpp/tree.cpp cpp/wrapper.cpp\n"
     ]
    }
   ],
   "source": [
    "!cd ../ && make print-SOURCES"
   ]
  },
  {
   "cell_type": "code",
   "execution_count": 78,
   "id": "4b37fff9-a165-434d-abe7-807421062df5",
   "metadata": {},
   "outputs": [
    {
     "name": "stdout",
     "output_type": "stream",
     "text": [
      "rm -rf build\n",
      "mkdir -p build\n",
      "g++ -g -o build/conf.o cpp/conf.cpp -I/usr/include/python3.10 -I/usr/include/python3.10  -Wno-unused-result -Wsign-compare -g      -fstack-protector-strong -Wformat -Werror=format-security  -DNDEBUG -g -fwrapv -O2 -Wall -fPIC -c -std=c++17 -DBOOST_BIND_GLOBAL_PLACEHOLDERS -DBOOST_ALLOW_DEPRECATED_HEADERS\n",
      "g++ -g -o build/criterion.o cpp/criterion.cpp -I/usr/include/python3.10 -I/usr/include/python3.10  -Wno-unused-result -Wsign-compare -g      -fstack-protector-strong -Wformat -Werror=format-security  -DNDEBUG -g -fwrapv -O2 -Wall -fPIC -c -std=c++17 -DBOOST_BIND_GLOBAL_PLACEHOLDERS -DBOOST_ALLOW_DEPRECATED_HEADERS\n",
      "g++ -g -o build/factories.o cpp/factories.cpp -I/usr/include/python3.10 -I/usr/include/python3.10  -Wno-unused-result -Wsign-compare -g      -fstack-protector-strong -Wformat -Werror=format-security  -DNDEBUG -g -fwrapv -O2 -Wall -fPIC -c -std=c++17 -DBOOST_BIND_GLOBAL_PLACEHOLDERS -DBOOST_ALLOW_DEPRECATED_HEADERS\n",
      "g++ -g -o build/gbt.o cpp/gbt.cpp -I/usr/include/python3.10 -I/usr/include/python3.10  -Wno-unused-result -Wsign-compare -g      -fstack-protector-strong -Wformat -Werror=format-security  -DNDEBUG -g -fwrapv -O2 -Wall -fPIC -c -std=c++17 -DBOOST_BIND_GLOBAL_PLACEHOLDERS -DBOOST_ALLOW_DEPRECATED_HEADERS\n",
      "g++ -g -o build/lltrees.o cpp/lltrees.cpp -I/usr/include/python3.10 -I/usr/include/python3.10  -Wno-unused-result -Wsign-compare -g      -fstack-protector-strong -Wformat -Werror=format-security  -DNDEBUG -g -fwrapv -O2 -Wall -fPIC -c -std=c++17 -DBOOST_BIND_GLOBAL_PLACEHOLDERS -DBOOST_ALLOW_DEPRECATED_HEADERS\n",
      "g++ -g -o build/metrics.o cpp/metrics.cpp -I/usr/include/python3.10 -I/usr/include/python3.10  -Wno-unused-result -Wsign-compare -g      -fstack-protector-strong -Wformat -Werror=format-security  -DNDEBUG -g -fwrapv -O2 -Wall -fPIC -c -std=c++17 -DBOOST_BIND_GLOBAL_PLACEHOLDERS -DBOOST_ALLOW_DEPRECATED_HEADERS\n",
      "g++ -g -o build/node.o cpp/node.cpp -I/usr/include/python3.10 -I/usr/include/python3.10  -Wno-unused-result -Wsign-compare -g      -fstack-protector-strong -Wformat -Werror=format-security  -DNDEBUG -g -fwrapv -O2 -Wall -fPIC -c -std=c++17 -DBOOST_BIND_GLOBAL_PLACEHOLDERS -DBOOST_ALLOW_DEPRECATED_HEADERS\n",
      "g++ -g -o build/threadpool.o cpp/threadpool.cpp -I/usr/include/python3.10 -I/usr/include/python3.10  -Wno-unused-result -Wsign-compare -g      -fstack-protector-strong -Wformat -Werror=format-security  -DNDEBUG -g -fwrapv -O2 -Wall -fPIC -c -std=c++17 -DBOOST_BIND_GLOBAL_PLACEHOLDERS -DBOOST_ALLOW_DEPRECATED_HEADERS\n",
      "g++ -g -o build/tree.o cpp/tree.cpp -I/usr/include/python3.10 -I/usr/include/python3.10  -Wno-unused-result -Wsign-compare -g      -fstack-protector-strong -Wformat -Werror=format-security  -DNDEBUG -g -fwrapv -O2 -Wall -fPIC -c -std=c++17 -DBOOST_BIND_GLOBAL_PLACEHOLDERS -DBOOST_ALLOW_DEPRECATED_HEADERS\n",
      "g++ -g -o build/wrapper.o cpp/wrapper.cpp -I/usr/include/python3.10 -I/usr/include/python3.10  -Wno-unused-result -Wsign-compare -g      -fstack-protector-strong -Wformat -Werror=format-security  -DNDEBUG -g -fwrapv -O2 -Wall -fPIC -c -std=c++17 -DBOOST_BIND_GLOBAL_PLACEHOLDERS -DBOOST_ALLOW_DEPRECATED_HEADERS\n",
      "g++ -g -o build/lltrees.so build/conf.o build/criterion.o build/factories.o build/gbt.o build/lltrees.o build/metrics.o build/node.o build/threadpool.o build/tree.o build/wrapper.o -L/usr/lib/python3.10/config-3.10-x86_64-linux-gnu -L/usr/lib/x86_64-linux-gnu  -lcrypt -ldl  -lm -lm  -shared -Wl,-rpath,/usr/lib  -lpython3.10 -lboost_python310 -lboost_numpy310\t\n",
      "-----------------------------------------\n",
      "mode :              classic_classification\n",
      "epochs :            2\n",
      "learning_rate :     0.3\n",
      "metric :            accuracy\n",
      "criterion :         absolute_error\n",
      "max_depth :         1\n",
      "min_leaf_size :     1\n",
      "idx_cat_cols :      [8, ]\n",
      "verbose :           1\n",
      "-----------------------------------------\n",
      "Type of Training Data : int32\n",
      "Configuration mode : classic_classification\n",
      "Gbt_classic_classification fit\n",
      "All the distinct element for classification in sorted order are: 0 1 \n",
      "Epoch : 1     Metric Train : 0.714286 Metric va : 0.69    Residuals (sum) : 1397.48\n",
      "Epoch : 2     Metric Train : 0.714286 Metric va : 0.69    Residuals (sum) : 1233.53\n",
      "FIT --- 0.3715066909790039 seconds ---\n",
      "Print.\n",
      "Tree : 0\n",
      "└──1, criterion: 0.49955, size: 1400\n",
      "    ├──2, criterion: 0.301678, leaf_value: 1.38446, size: 443\n",
      "    └──3, criterion: 0.443746, leaf_value: -0.552941, size: 957\n",
      "Tree : 1\n",
      "└──1, criterion: 0.49955, size: 1400\n",
      "    ├──2, criterion: 0.301678, leaf_value: -1.38446, size: 443\n",
      "    └──3, criterion: 0.443746, leaf_value: 0.552941, size: 957\n",
      "Tree : 2\n",
      "└──1, criterion: 0.440756, size: 1400\n",
      "    ├──2, criterion: 0.373936, leaf_value: 0.556464, size: 655\n",
      "    └──3, criterion: 0.412868, leaf_value: -0.410906, size: 745\n",
      "Tree : 3\n",
      "└──1, criterion: 0.440756, size: 1400\n",
      "    ├──2, criterion: 0.373936, leaf_value: -0.556464, size: 655\n",
      "    └──3, criterion: 0.412868, leaf_value: 0.410906, size: 745\n",
      "PREDICT PROBA --- 5.459785461425781e-05 seconds ---\n",
      "(600, 2)\n",
      "[[0.33217943 0.66782057]\n",
      " [0.47055347 0.52944653]\n",
      " [0.33217943 0.66782057]\n",
      " [0.73972096 0.26027904]\n",
      " [0.33217943 0.66782057]\n",
      " [0.47055347 0.52944653]\n",
      " [0.33217943 0.66782057]\n",
      " [0.47055347 0.52944653]\n",
      " [0.33217943 0.66782057]\n",
      " [0.33217943 0.66782057]]\n",
      "PREDICT --- 6.961822509765625e-05 seconds ---\n",
      "(600, 1)\n",
      "accuracy_score: 0.83\n",
      "(array([0, 1], dtype=int32), array([178, 422]))\n",
      "Save.\n",
      "Load.\n",
      "-----------------------------------------\n",
      "mode :              classic_classification\n",
      "epochs :            2\n",
      "learning_rate :     0.3\n",
      "metric :            accuracy\n",
      "criterion :         absolute_error\n",
      "max_depth :         1\n",
      "min_leaf_size :     1\n",
      "idx_cat_cols :      [8, ]\n",
      "verbose :           1\n",
      "-----------------------------------------\n",
      "-----------------------------------------\n",
      "mode :              regression\n",
      "epochs :            5\n",
      "learning_rate :     0.1\n",
      "metric :            mae\n",
      "criterion :         absolute_error\n",
      "max_depth :         1\n",
      "min_leaf_size :     2\n",
      "idx_cat_cols :      [8, ]\n",
      "verbose :           1\n",
      "-----------------------------------------\n",
      "Type of Training Data : float64\n",
      "Configuration mode : regression\n",
      "Epoch : 1     Metric Train : 94.4177 Metric va : 90.0546 Residuals (sum) : -77.8082\n",
      "Epoch : 2     Metric Train : 93.384  Metric va : 89.0275 Residuals (sum) : -70.0274\n",
      "Epoch : 3     Metric Train : 92.5244 Metric va : 88.1726 Residuals (sum) : -63.0247\n",
      "Epoch : 4     Metric Train : 91.6451 Metric va : 87.3804 Residuals (sum) : -56.7222\n",
      "Epoch : 5     Metric Train : 90.8923 Metric va : 86.654  Residuals (sum) : -51.05 \n",
      "FIT --- 0.5040087699890137 seconds ---\n",
      "PREDICT --- 0.00010204315185546875 seconds ---\n",
      "[-77.80824531 -70.02742078 -63.0246787  -56.72221083 -51.04998975]\n",
      "Print.\n",
      "Tree : 0\n",
      "└──1, criterion: 95.6581, size: 1400\n",
      "    ├──2, criterion: 87.8621, leaf_value: -33.3548, size: 878\n",
      "    └──3, criterion: 89.811, leaf_value: 54.6119, size: 522\n",
      "Tree : 1\n",
      "└──1, criterion: 94.4089, size: 1400\n",
      "    ├──2, criterion: 87.8621, leaf_value: -30.0193, size: 878\n",
      "    └──3, criterion: 89.811, leaf_value: 49.1507, size: 522\n",
      "Tree : 2\n",
      "└──1, criterion: 93.3777, size: 1400\n",
      "    ├──2, criterion: 88.1751, leaf_value: -29.1087, size: 824\n",
      "    └──3, criterion: 89.0275, leaf_value: 40.5475, size: 576\n",
      "Tree : 3\n",
      "└──1, criterion: 92.5189, size: 1400\n",
      "    ├──2, criterion: 87.8031, leaf_value: -56.9047, size: 376\n",
      "    └──3, criterion: 88.0366, leaf_value: 20.3408, size: 1024\n",
      "Tree : 4\n",
      "└──1, criterion: 91.6394, size: 1400\n",
      "    ├──2, criterion: 88.3114, leaf_value: -32.5408, size: 694\n",
      "    └──3, criterion: 86.7697, leaf_value: 31.2646, size: 706\n",
      "[-18.19282289 -18.19282289 -18.19282289  11.86699439  -4.08773799\n",
      "  19.59153701  19.59153701  19.59153701  11.86699439 -10.46828027]\n",
      "rmse: 111.79\n",
      "mae: 86.65\n",
      "r2: 0.09\n",
      "Save.\n",
      "Print.\n",
      "Tree : 0\n",
      "└──1, criterion: 95.6581, size: 1400\n",
      "    ├──2, criterion: 87.8621, leaf_value: -33.3548, size: 878\n",
      "    └──3, criterion: 89.811, leaf_value: 54.6119, size: 522\n",
      "Tree : 1\n",
      "└──1, criterion: 94.4089, size: 1400\n",
      "    ├──2, criterion: 87.8621, leaf_value: -30.0193, size: 878\n",
      "    └──3, criterion: 89.811, leaf_value: 49.1507, size: 522\n",
      "Tree : 2\n",
      "└──1, criterion: 93.3777, size: 1400\n",
      "    ├──2, criterion: 88.1751, leaf_value: -29.1087, size: 824\n",
      "    └──3, criterion: 89.0275, leaf_value: 40.5475, size: 576\n",
      "Tree : 3\n",
      "└──1, criterion: 92.5189, size: 1400\n",
      "    ├──2, criterion: 87.8031, leaf_value: -56.9047, size: 376\n",
      "    └──3, criterion: 88.0366, leaf_value: 20.3408, size: 1024\n",
      "Tree : 4\n",
      "└──1, criterion: 91.6394, size: 1400\n",
      "    ├──2, criterion: 88.3114, leaf_value: -32.5408, size: 694\n",
      "    └──3, criterion: 86.7697, leaf_value: 31.2646, size: 706\n"
     ]
    },
    {
     "data": {
      "text/plain": [
       "0"
      ]
     },
     "execution_count": 78,
     "metadata": {},
     "output_type": "execute_result"
    }
   ],
   "source": [
    "!cd ../ && make clean\n",
    "!cd ../ && make\n",
    "subprocess.call([sys.executable, \"lltrees_python_import_for_debug.py\"])"
   ]
  },
  {
   "cell_type": "code",
   "execution_count": 5,
   "id": "b882059d-3059-4b8e-93e7-1a3c710c10a1",
   "metadata": {},
   "outputs": [],
   "source": [
    "sys.path.append('/home/alexandre/Desktop/lltrees/build')\n",
    "import lltrees"
   ]
  },
  {
   "cell_type": "markdown",
   "id": "ca385113-e559-470e-9216-1a1682b3cc69",
   "metadata": {},
   "source": [
    "# Regression"
   ]
  },
  {
   "cell_type": "code",
   "execution_count": 6,
   "id": "007b01d7-0a37-444a-8367-d94b4bc03b1b",
   "metadata": {},
   "outputs": [],
   "source": [
    "X, Y = sklearn.datasets.make_regression(n_samples=1000, n_features=8, n_informative=5, n_targets=1, noise=1, random_state=42)\n",
    "X_train, X_test, Y_train, Y_test = sklearn.model_selection.train_test_split(X, Y, test_size=0.3, random_state=42)"
   ]
  },
  {
   "cell_type": "markdown",
   "id": "8ef61b99-6624-43dc-ae99-790eb5880078",
   "metadata": {},
   "source": [
    "## Tree"
   ]
  },
  {
   "cell_type": "code",
   "execution_count": 7,
   "id": "7287411a-9cd4-46c6-826d-cd2db3e6a254",
   "metadata": {},
   "outputs": [
    {
     "name": "stdout",
     "output_type": "stream",
     "text": [
      "-----------------------------------------\n",
      "mode :              regression\n",
      "epochs :            1\n",
      "learning_rate :     1\n",
      "metric :            mae\n",
      "criterion :         absolute_error\n",
      "max_depth :         5\n",
      "min_leaf_size :     2\n",
      "verbose :           1\n",
      "-----------------------------------------\n",
      "Type of Training Data : float64\n",
      "Configuration mode : regression\n",
      "FIT --- 0.05489802360534668 seconds ---\n",
      "PREDICT --- 8.392333984375e-05 seconds ---\n",
      "rmse: 63.46\n",
      "mae: 49.21\n",
      "r2: 0.74\n",
      "Epoch : 1     Metric Train : 38.4851 Metric va : 49.2101 Residuals (sum) : -2355.95\n"
     ]
    }
   ],
   "source": [
    "conf ={\n",
    "    'mode' : 'regression',\n",
    "    'epochs' : 1,\n",
    "    'learning_rate' : 1,\n",
    "    'metric' : 'mae', \n",
    "    'max_depth' : 5,\n",
    "    'min_leaf_size' : 2,\n",
    "    'criterion' : \"absolute_error\",\n",
    "    'verbose' : 1, \n",
    "}\n",
    "my_lltree = lltrees.lltree()\n",
    "my_lltree.set_conf(conf)\n",
    "my_lltree.get_conf()\n",
    "time.sleep(0.1)\n",
    "\n",
    "start_time = time.time()\n",
    "my_lltree.fit(X_train, Y_train, X_test, Y_test)\n",
    "print(\"FIT --- %s seconds ---\" % (time.time() - start_time))\n",
    "\n",
    "start_time = time.time()\n",
    "YP = my_lltree.predict(X_test)\n",
    "print(\"PREDICT --- %s seconds ---\" % (time.time() - start_time))\n",
    "\n",
    "print(\"rmse: %.2f\" % np.sqrt(sklearn.metrics.mean_squared_error(Y_test,YP)))\n",
    "print(\"mae: %.2f\" % sklearn.metrics.mean_absolute_error(Y_test,YP))\n",
    "print(\"r2: %.2f\" % sklearn.metrics.r2_score(Y_test,YP))"
   ]
  },
  {
   "cell_type": "code",
   "execution_count": 8,
   "id": "44b9a64c-d11f-49aa-b9cc-1f8b8f66a301",
   "metadata": {},
   "outputs": [
    {
     "name": "stdout",
     "output_type": "stream",
     "text": [
      "FIT --- 0.023116588592529297 seconds ---\n",
      "PREDICT --- 0.0002295970916748047 seconds ---\n",
      "rmse: 63.68\n",
      "mae: 49.35\n",
      "r2: 0.74\n"
     ]
    }
   ],
   "source": [
    "my_lltree = sklearn.tree.DecisionTreeRegressor(max_depth = 5, criterion =\"absolute_error\", min_samples_split=2, random_state = 0)\n",
    "\n",
    "start_time = time.time()\n",
    "my_lltree.fit(X_train, Y_train)\n",
    "print(\"FIT --- %s seconds ---\" % (time.time() - start_time))\n",
    "\n",
    "start_time = time.time()\n",
    "YP = my_lltree.predict(X_test)\n",
    "print(\"PREDICT --- %s seconds ---\" % (time.time() - start_time))\n",
    "\n",
    "print(\"rmse: %.2f\" % np.sqrt(sklearn.metrics.mean_squared_error(Y_test,YP)))\n",
    "print(\"mae: %.2f\" % sklearn.metrics.mean_absolute_error(Y_test,YP))\n",
    "print(\"r2: %.2f\" % sklearn.metrics.r2_score(Y_test,YP))"
   ]
  },
  {
   "cell_type": "markdown",
   "id": "55a4b0e3-2e65-4033-b807-1f33ad8b378b",
   "metadata": {},
   "source": [
    "## GBT"
   ]
  },
  {
   "cell_type": "code",
   "execution_count": 9,
   "id": "e6a50c75-f4f7-45ee-a66b-8bc9249121cf",
   "metadata": {},
   "outputs": [
    {
     "name": "stdout",
     "output_type": "stream",
     "text": [
      "-----------------------------------------\n",
      "mode :              regression\n",
      "epochs :            50\n",
      "learning_rate :     0.1\n",
      "metric :            mae\n",
      "criterion :         absolute_error\n",
      "max_depth :         2\n",
      "min_leaf_size :     2\n",
      "verbose :           0\n",
      "-----------------------------------------\n",
      "FIT --- 1.632075309753418 seconds ---\n",
      "PREDICT --- 0.0002887248992919922 seconds ---\n",
      "rmse: 41.05\n",
      "mae: 32.04\n",
      "r2: 0.89\n",
      "Type of Training Data : float64\n",
      "Configuration mode : regression\n"
     ]
    }
   ],
   "source": [
    "conf ={\n",
    "    'mode' : 'regression',\n",
    "    'epochs' : 50,\n",
    "    'learning_rate' : 0.1,\n",
    "    'metric' : 'mae',\n",
    "    'max_depth' : 2,\n",
    "    'min_leaf_size' : 2,\n",
    "    'criterion' : \"absolute_error\", \n",
    "    'verbose' : 0, \n",
    "}\n",
    "my_lltree = lltrees.lltree()\n",
    "my_lltree.set_conf(conf)\n",
    "my_lltree.get_conf()\n",
    "time.sleep(0.1)\n",
    "\n",
    "start_time = time.time()\n",
    "my_lltree.fit(X_train, Y_train, X_test, Y_test)\n",
    "print(\"FIT --- %s seconds ---\" % (time.time() - start_time))\n",
    "\n",
    "start_time = time.time()\n",
    "YP = my_lltree.predict(X_test)\n",
    "print(\"PREDICT --- %s seconds ---\" % (time.time() - start_time))\n",
    "\n",
    "print(\"rmse: %.2f\" % np.sqrt(sklearn.metrics.mean_squared_error(Y_test,YP)))\n",
    "print(\"mae: %.2f\" % sklearn.metrics.mean_absolute_error(Y_test,YP))\n",
    "print(\"r2: %.2f\" % sklearn.metrics.r2_score(Y_test,YP))"
   ]
  },
  {
   "cell_type": "code",
   "execution_count": 10,
   "id": "c090343b-8e53-4e89-b97c-5a3fd67a548b",
   "metadata": {},
   "outputs": [
    {
     "name": "stdout",
     "output_type": "stream",
     "text": [
      "FIT --- 0.0948491096496582 seconds ---\n",
      "PREDICT --- 0.0006465911865234375 seconds ---\n",
      "rmse: 52.46\n",
      "mae: 38.62\n",
      "r2: 0.82\n"
     ]
    }
   ],
   "source": [
    "from sklearn.ensemble import GradientBoostingRegressor\n",
    "my_lltree = GradientBoostingRegressor(learning_rate = 0.1, n_estimators =50, max_depth = 2, min_samples_leaf=2, min_samples_split=2,\n",
    "                                 loss = 'absolute_error', criterion = 'squared_error',\n",
    "                                 random_state = 0)\n",
    "\n",
    "start_time = time.time()\n",
    "my_lltree.fit(X_train, Y_train)\n",
    "print(\"FIT --- %s seconds ---\" % (time.time() - start_time))\n",
    "\n",
    "start_time = time.time()\n",
    "YP = my_lltree.predict(X_test)\n",
    "print(\"PREDICT --- %s seconds ---\" % (time.time() - start_time))\n",
    "\n",
    "print(\"rmse: %.2f\" % np.sqrt(sklearn.metrics.mean_squared_error(Y_test,YP)))\n",
    "print(\"mae: %.2f\" % sklearn.metrics.mean_absolute_error(Y_test,YP))\n",
    "print(\"r2: %.2f\" % sklearn.metrics.r2_score(Y_test,YP))"
   ]
  },
  {
   "cell_type": "markdown",
   "id": "5e699efd-5f26-43ad-85f9-c5d9bed356fe",
   "metadata": {},
   "source": [
    "# Classification"
   ]
  },
  {
   "cell_type": "code",
   "execution_count": 11,
   "id": "91fce4d9-19ed-443e-a812-b3dcbf23a759",
   "metadata": {},
   "outputs": [],
   "source": [
    "X, Y = sklearn.datasets.make_classification(n_samples=1000, n_features=8, n_informative=5, n_classes=2, random_state=42)\n",
    "X_train, X_test, Y_train, Y_test = sklearn.model_selection.train_test_split(X, Y, test_size=0.3, random_state=42)"
   ]
  },
  {
   "cell_type": "markdown",
   "id": "ff3a8970-e1bf-4d85-80a7-6c7104570659",
   "metadata": {},
   "source": [
    "## Tree"
   ]
  },
  {
   "cell_type": "code",
   "execution_count": 12,
   "id": "18d39f04-0383-4595-ac79-a5384e960635",
   "metadata": {},
   "outputs": [
    {
     "name": "stdout",
     "output_type": "stream",
     "text": [
      "FIT --- 0.0031003952026367188 seconds ---\n",
      "PREDICT --- 0.0003752708435058594 seconds ---\n",
      "accuracy_score: 0.94\n",
      "log_loss: 3.80\n",
      "f1_score: 0.90\n"
     ]
    }
   ],
   "source": [
    "from sklearn.tree import DecisionTreeClassifier\n",
    "my_lltree = DecisionTreeClassifier(max_depth = 5, min_samples_split=5,\n",
    "                                 splitter = 'best', criterion = 'gini',\n",
    "                                 random_state = 0)\n",
    "\n",
    "start_time = time.time()\n",
    "my_lltree.fit(X_train, Y_train)\n",
    "print(\"FIT --- %s seconds ---\" % (time.time() - start_time))\n",
    "\n",
    "start_time = time.time()\n",
    "YP = my_lltree.predict(X_test)\n",
    "print(\"PREDICT --- %s seconds ---\" % (time.time() - start_time))\n",
    "\n",
    "print(\"accuracy_score: %.2f\" % np.sqrt(sklearn.metrics.accuracy_score(Y_test,YP)))\n",
    "print(\"log_loss: %.2f\" % sklearn.metrics.log_loss(Y_test,YP))\n",
    "print(\"f1_score: %.2f\" % sklearn.metrics.f1_score(Y_test,YP))"
   ]
  },
  {
   "cell_type": "code",
   "execution_count": 13,
   "id": "72a76b26-59dd-47a2-af37-053ea20dc7bf",
   "metadata": {},
   "outputs": [
    {
     "name": "stdout",
     "output_type": "stream",
     "text": [
      "-----------------------------------------\n",
      "mode :              classic_classification\n",
      "epochs :            1\n",
      "learning_rate :     1\n",
      "metric :            accuracy\n",
      "criterion :         absolute_error\n",
      "max_depth :         5\n",
      "min_leaf_size :     5\n",
      "verbose :           0\n",
      "-----------------------------------------\n",
      "Type of Training Data : int32\n",
      "Configuration mode : classic_classification\n",
      "FIT --- 0.10984277725219727 seconds ---\n",
      "PREDICT --- 0.00010371208190917969 seconds ---\n",
      "Gbt_classic_classification fit\n",
      "All the distinct element for classification in sorted order are: 0 1 \n",
      "accuracy_score: 0.94\n",
      "log_loss: 4.26\n",
      "f1_score: 0.88\n"
     ]
    }
   ],
   "source": [
    "conf ={\n",
    "    'mode' : 'classic_classification',\n",
    "    'epochs' : 1,\n",
    "    'learning_rate' : 1,\n",
    "    'metric' : 'accuracy',\n",
    "    'max_depth' : 5,\n",
    "    'min_leaf_size' : 5,\n",
    "    'criterion' : \"absolute_error\",  \n",
    "    'verbose' : 0  \n",
    "}\n",
    "my_lltree = lltrees.lltree()\n",
    "my_lltree.set_conf(conf)\n",
    "my_lltree.get_conf()\n",
    "time.sleep(0.5)\n",
    "\n",
    "start_time = time.time()\n",
    "my_lltree.fit(X_train, Y_train.astype(np.int32), X_test, Y_test.astype(np.int32))\n",
    "print(\"FIT --- %s seconds ---\" % (time.time() - start_time))\n",
    "\n",
    "start_time = time.time()\n",
    "YP = my_lltree.predict(X_test)\n",
    "print(\"PREDICT --- %s seconds ---\" % (time.time() - start_time))\n",
    "\n",
    "print(\"accuracy_score: %.2f\" % np.sqrt(sklearn.metrics.accuracy_score(Y_test,YP)))\n",
    "print(\"log_loss: %.2f\" % sklearn.metrics.log_loss(Y_test,YP))\n",
    "print(\"f1_score: %.2f\" % sklearn.metrics.f1_score(Y_test,YP))"
   ]
  },
  {
   "cell_type": "markdown",
   "id": "06e0b42f-5cb8-4bec-9321-dab01a991ce6",
   "metadata": {},
   "source": [
    "## GBT"
   ]
  },
  {
   "cell_type": "code",
   "execution_count": 14,
   "id": "d0b57c10-dd4b-4d94-bff7-025751b1e235",
   "metadata": {},
   "outputs": [
    {
     "name": "stdout",
     "output_type": "stream",
     "text": [
      "-----------------------------------------\n",
      "mode :              adaboost_classification\n",
      "epochs :            15\n",
      "learning_rate :     1\n",
      "metric :            accuracy\n",
      "criterion :         gini\n",
      "max_depth :         1\n",
      "min_leaf_size :     1\n",
      "verbose :           0\n",
      "-----------------------------------------\n",
      "FIT --- 1.205146312713623 seconds ---\n",
      "PREDICT --- 0.0002071857452392578 seconds ---\n",
      "Type of Training Data : int32\n",
      "Configuration mode : adaboost_classification\n",
      "Gbt_classification fit\n",
      "All the distinct element for classification in sorted order are: 0 1 \n",
      "accuracy_score: 0.85\n",
      "log_loss: 9.56\n",
      "f1_score: 0.69\n"
     ]
    }
   ],
   "source": [
    "conf ={\n",
    "    'mode' : 'adaboost_classification',\n",
    "    'epochs' : 15,\n",
    "    'learning_rate' : 1,\n",
    "    'metric' : 'accuracy',\n",
    "    'max_depth' : 1,\n",
    "    'min_leaf_size' : 1,\n",
    "    'criterion' : \"gini\",  \n",
    "    'verbose' : 0,  \n",
    "}\n",
    "\n",
    "my_lltree = lltrees.lltree()\n",
    "my_lltree.set_conf(conf)\n",
    "my_lltree.get_conf()\n",
    "time.sleep(0.1)\n",
    "\n",
    "start_time = time.time()\n",
    "my_lltree.fit(X_train, Y_train.astype(np.int32), X_test, Y_test.astype(np.int32))\n",
    "print(\"FIT --- %s seconds ---\" % (time.time() - start_time))\n",
    "\n",
    "start_time = time.time()\n",
    "YP = my_lltree.predict(X_test)\n",
    "print(\"PREDICT --- %s seconds ---\" % (time.time() - start_time))\n",
    "\n",
    "print(\"accuracy_score: %.2f\" % np.sqrt(sklearn.metrics.accuracy_score(Y_test,YP)))\n",
    "print(\"log_loss: %.2f\" % sklearn.metrics.log_loss(Y_test,YP))\n",
    "print(\"f1_score: %.2f\" % sklearn.metrics.f1_score(Y_test,YP))"
   ]
  },
  {
   "cell_type": "code",
   "execution_count": 15,
   "id": "4cd8545b-b88b-42a1-8145-05076215f33c",
   "metadata": {},
   "outputs": [
    {
     "name": "stdout",
     "output_type": "stream",
     "text": [
      "-----------------------------------------\n",
      "mode :              classic_classification\n",
      "epochs :            50\n",
      "learning_rate :     0.1\n",
      "metric :            accuracy\n",
      "criterion :         absolute_error\n",
      "max_depth :         2\n",
      "min_leaf_size :     1\n",
      "verbose :           0\n",
      "-----------------------------------------\n",
      "FIT --- 3.157616138458252 seconds ---\n",
      "PREDICT --- 0.0005590915679931641 seconds ---\n",
      "Type of Training Data : int32\n",
      "Configuration mode : classic_classification\n",
      "Gbt_classic_classification fit\n",
      "All the distinct element for classification in sorted order are: 0 1 \n",
      "accuracy_score: 0.95\n",
      "log_loss: 3.68\n",
      "f1_score: 0.90\n"
     ]
    }
   ],
   "source": [
    "conf ={\n",
    "    'mode' : 'classic_classification',\n",
    "    'epochs' : 50,\n",
    "    'learning_rate' : 0.1,\n",
    "    'metric' : 'accuracy',\n",
    "    'max_depth' : 2,\n",
    "    'min_leaf_size' : 1,\n",
    "    'criterion' : \"absolute_error\",  \n",
    "    'verbose' : 0,  \n",
    "}\n",
    "my_lltree = lltrees.lltree()\n",
    "my_lltree.set_conf(conf)\n",
    "my_lltree.get_conf()\n",
    "time.sleep(0.1)\n",
    "\n",
    "start_time = time.time()\n",
    "my_lltree.fit(X_train, Y_train.astype(np.int32), X_test, Y_test.astype(np.int32))\n",
    "print(\"FIT --- %s seconds ---\" % (time.time() - start_time))\n",
    "\n",
    "start_time = time.time()\n",
    "YP = my_lltree.predict(X_test)\n",
    "print(\"PREDICT --- %s seconds ---\" % (time.time() - start_time))\n",
    "\n",
    "print(\"accuracy_score: %.2f\" % np.sqrt(sklearn.metrics.accuracy_score(Y_test,YP)))\n",
    "print(\"log_loss: %.2f\" % sklearn.metrics.log_loss(Y_test,YP))\n",
    "print(\"f1_score: %.2f\" % sklearn.metrics.f1_score(Y_test,YP))"
   ]
  },
  {
   "cell_type": "code",
   "execution_count": 16,
   "id": "a7fe880e-f6be-4b6e-a256-c82863aa47bd",
   "metadata": {},
   "outputs": [
    {
     "name": "stdout",
     "output_type": "stream",
     "text": [
      "FIT --- 0.05683398246765137 seconds ---\n",
      "PREDICT --- 0.0004990100860595703 seconds ---\n",
      "accuracy_score: 0.96\n",
      "log_loss: 2.99\n",
      "f1_score: 0.92\n"
     ]
    }
   ],
   "source": [
    "from sklearn.ensemble import GradientBoostingClassifier\n",
    "my_lltree = GradientBoostingClassifier(learning_rate = 0.1, n_estimators =50, max_depth = 2,\n",
    "                                 loss = 'log_loss', criterion = 'friedman_mse',\n",
    "                                 random_state = 0)\n",
    "\n",
    "start_time = time.time()\n",
    "my_lltree.fit(X_train, Y_train)\n",
    "print(\"FIT --- %s seconds ---\" % (time.time() - start_time))\n",
    "\n",
    "start_time = time.time()\n",
    "YP = my_lltree.predict(X_test)\n",
    "print(\"PREDICT --- %s seconds ---\" % (time.time() - start_time))\n",
    "\n",
    "print(\"accuracy_score: %.2f\" % np.sqrt(sklearn.metrics.accuracy_score(Y_test,YP)))\n",
    "print(\"log_loss: %.2f\" % sklearn.metrics.log_loss(Y_test,YP))\n",
    "print(\"f1_score: %.2f\" % sklearn.metrics.f1_score(Y_test,YP))"
   ]
  }
 ],
 "metadata": {
  "kernelspec": {
   "display_name": "Python 3 (ipykernel)",
   "language": "python",
   "name": "python3"
  },
  "language_info": {
   "codemirror_mode": {
    "name": "ipython",
    "version": 3
   },
   "file_extension": ".py",
   "mimetype": "text/x-python",
   "name": "python",
   "nbconvert_exporter": "python",
   "pygments_lexer": "ipython3",
   "version": "3.10.12"
  }
 },
 "nbformat": 4,
 "nbformat_minor": 5
}
