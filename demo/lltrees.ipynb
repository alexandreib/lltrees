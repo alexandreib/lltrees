{
 "cells": [
  {
   "cell_type": "code",
   "execution_count": null,
   "id": "4694f6f3-1d25-4369-a62d-26f480f9bc15",
   "metadata": {},
   "outputs": [],
   "source": [
    "import time\n",
    "\n",
    "import numpy as np\n",
    "import pandas as pd\n",
    "import sklearn.datasets, sklearn.metrics, sklearn.model_selection, sklearn.tree\n",
    "\n",
    "import subprocess, sys"
   ]
  },
  {
   "cell_type": "code",
   "execution_count": null,
   "id": "046a95f1-d7f2-4a81-ab74-2d857cf84fe8",
   "metadata": {},
   "outputs": [],
   "source": [
    "# !cd ../src/ && make print-DEPENDS"
   ]
  },
  {
   "cell_type": "code",
   "execution_count": null,
   "id": "4b37fff9-a165-434d-abe7-807421062df5",
   "metadata": {},
   "outputs": [],
   "source": [
    "!cd ../src/ && make\n",
    "subprocess.call([sys.executable, \"lltrees_python_import_for_debug.py\"])"
   ]
  },
  {
   "cell_type": "code",
   "execution_count": null,
   "id": "007b01d7-0a37-444a-8367-d94b4bc03b1b",
   "metadata": {},
   "outputs": [],
   "source": [
    "X, Y = sklearn.datasets.make_regression(n_samples=1000, n_features=8, n_informative=5, n_targets=1, noise=1, random_state=42)\n",
    "X_train, X_test, Y_train, Y_test = sklearn.model_selection.train_test_split(X, Y, test_size=0.3, random_state=42)"
   ]
  },
  {
   "cell_type": "code",
   "execution_count": null,
   "id": "7287411a-9cd4-46c6-826d-cd2db3e6a254",
   "metadata": {},
   "outputs": [],
   "source": [
    "sys.path.append('/home/alexandre/Desktop/lltrees/src/build')\n",
    "import lltrees\n",
    "conf ={\n",
    "    'epochs' : 1,\n",
    "    'learning_rate' : 1,\n",
    "    'metric_name' : 'mae', # Possible metrics for the moment : mae, mse\n",
    "    'lltree_max_depth' : 5,\n",
    "    'lltree_min_size_split' : 2,\n",
    "    'lltree_criterion' : \"absolute_error\",  # Possible metrics for the moment : variance, absolute_error\n",
    "}\n",
    "my_lltree = lltrees.lltree()\n",
    "my_lltree.set_conf(conf)\n",
    "my_lltree.get_conf()\n",
    "\n",
    "start_time = time.time()\n",
    "my_lltree.fit(X_train, Y_train, X_test, Y_test)\n",
    "YP = my_lltree.predict(X_test)\n",
    "print(\"--- %s seconds ---\" % (time.time() - start_time))\n",
    "\n",
    "print(\"rmse: %.2f\" % np.sqrt(sklearn.metrics.mean_squared_error(Y_test,YP)))\n",
    "print(\"mae: %.2f\" % sklearn.metrics.mean_absolute_error(Y_test,YP))\n",
    "print(\"r2: %.2f\" % sklearn.metrics.r2_score(Y_test,YP))"
   ]
  },
  {
   "cell_type": "code",
   "execution_count": null,
   "id": "44b9a64c-d11f-49aa-b9cc-1f8b8f66a301",
   "metadata": {},
   "outputs": [],
   "source": [
    "dtr = sklearn.tree.DecisionTreeRegressor(max_depth = 5, criterion =\"absolute_error\", random_state = 0)\n",
    "\n",
    "start_time = time.time()\n",
    "dtr.fit(X_train,Y_train)\n",
    "YP = dtr.predict(X_train)\n",
    "print(\"--- %s seconds ---\" % (time.time() - start_time))\n",
    "\n",
    "YP = dtr.predict(X_test)\n",
    "print(\"rmse: %.2f\" % np.sqrt(sklearn.metrics.mean_squared_error(Y_test,YP)))\n",
    "print(\"mae: %.2f\" % sklearn.metrics.mean_absolute_error(Y_test,YP))\n",
    "print(\"r2: %.2f\" % sklearn.metrics.r2_score(Y_test,YP))"
   ]
  },
  {
   "cell_type": "code",
   "execution_count": null,
   "id": "e6a50c75-f4f7-45ee-a66b-8bc9249121cf",
   "metadata": {},
   "outputs": [],
   "source": [
    "conf ={\n",
    "    'epochs' : 50,\n",
    "    'learning_rate' : 0.1,\n",
    "    'metric_name' : 'mae', # Possible metrics for the moment : mae, mse\n",
    "    'lltree_max_depth' : 3,\n",
    "    'lltree_min_size_split' : 1,\n",
    "    'lltree_criterion' : \"variance\",  # Possible metrics for the moment : variance, absolute_error\n",
    "    'verbose' : 0,  # Possible metrics for the moment : variance, absolute_error\n",
    "}\n",
    "my_lltree = lltrees.lltree()\n",
    "my_lltree.set_conf(conf)\n",
    "my_lltree.get_conf()\n",
    "\n",
    "start_time = time.time()\n",
    "my_lltree.fit(X_train, Y_train, X_test, Y_test)\n",
    "YP = my_lltree.predict(X_test)\n",
    "print(\"--- %s seconds ---\" % (time.time() - start_time))\n",
    "\n",
    "print(\"rmse: %.2f\" % np.sqrt(sklearn.metrics.mean_squared_error(Y_test,YP)))\n",
    "print(\"mae: %.2f\" % sklearn.metrics.mean_absolute_error(Y_test,YP))\n",
    "print(\"r2: %.2f\" % sklearn.metrics.r2_score(Y_test,YP))"
   ]
  },
  {
   "cell_type": "code",
   "execution_count": null,
   "id": "c090343b-8e53-4e89-b97c-5a3fd67a548b",
   "metadata": {},
   "outputs": [],
   "source": [
    "from sklearn.ensemble import GradientBoostingRegressor\n",
    "dtr = GradientBoostingRegressor(learning_rate = 0.1, n_estimators =50, \n",
    "                                 loss = 'absolute_error', criterion = 'squared_error',\n",
    "                                 random_state = 0)\n",
    "\n",
    "start_time = time.time()\n",
    "dtr.fit(X_train,Y_train)\n",
    "YP = dtr.predict(X_train)\n",
    "print(\"--- %s seconds ---\" % (time.time() - start_time))\n",
    "\n",
    "YP = dtr.predict(X_test)\n",
    "print(\"rmse: %.2f\" % np.sqrt(sklearn.metrics.mean_squared_error(Y_test,YP)))\n",
    "print(\"mae: %.2f\" % sklearn.metrics.mean_absolute_error(Y_test,YP))\n",
    "print(\"r2: %.2f\" % sklearn.metrics.r2_score(Y_test,YP))"
   ]
  }
 ],
 "metadata": {
  "kernelspec": {
   "display_name": "Python 3 (ipykernel)",
   "language": "python",
   "name": "python3"
  },
  "language_info": {
   "codemirror_mode": {
    "name": "ipython",
    "version": 3
   },
   "file_extension": ".py",
   "mimetype": "text/x-python",
   "name": "python",
   "nbconvert_exporter": "python",
   "pygments_lexer": "ipython3",
   "version": "3.10.12"
  }
 },
 "nbformat": 4,
 "nbformat_minor": 5
}
