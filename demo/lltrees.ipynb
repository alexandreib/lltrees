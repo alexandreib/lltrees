{
 "cells": [
  {
   "cell_type": "code",
   "execution_count": 1,
   "id": "4694f6f3-1d25-4369-a62d-26f480f9bc15",
   "metadata": {},
   "outputs": [],
   "source": [
    "# import os\n",
    "\n",
    "import numpy as np\n",
    "import pandas as pd\n",
    "import sklearn.datasets, sklearn.metrics, sklearn.model_selection, sklearn.tree\n",
    "\n",
    "import subprocess, sys"
   ]
  },
  {
   "cell_type": "code",
   "execution_count": 2,
   "id": "046a95f1-d7f2-4a81-ab74-2d857cf84fe8",
   "metadata": {},
   "outputs": [
    {
     "name": "stdout",
     "output_type": "stream",
     "text": [
      "DEPENDS = cpp/criterion.hpp cpp/lltree.hpp cpp/node.hpp\n"
     ]
    }
   ],
   "source": [
    "# !cd ../src/ && make print-DEPENDS"
   ]
  },
  {
   "cell_type": "code",
   "execution_count": null,
   "id": "4b37fff9-a165-434d-abe7-807421062df5",
   "metadata": {},
   "outputs": [
    {
     "name": "stdout",
     "output_type": "stream",
     "text": [
      "make: Nothing to be done for 'all'.\n",
      "Set : epochs\n",
      "Set : learning_rate\n",
      "Set : size_lltree\n",
      "Set : metric_name\n"
     ]
    }
   ],
   "source": [
    "!cd ../src/ && make\n",
    "subprocess.call([sys.executable, \"lltrees_python_import_for_debug.py\"])"
   ]
  },
  {
   "cell_type": "code",
   "execution_count": 4,
   "id": "007b01d7-0a37-444a-8367-d94b4bc03b1b",
   "metadata": {},
   "outputs": [],
   "source": [
    "X, Y = sklearn.datasets.make_regression(n_samples=1000, n_features=8, n_informative=5, n_targets=1, noise=1, random_state=42)\n",
    "X_train, X_test, Y_train, Y_test = sklearn.model_selection.train_test_split(X, Y, test_size=0.3, random_state=42)"
   ]
  },
  {
   "cell_type": "code",
   "execution_count": 5,
   "id": "7287411a-9cd4-46c6-826d-cd2db3e6a254",
   "metadata": {},
   "outputs": [
    {
     "name": "stdout",
     "output_type": "stream",
     "text": [
      "rmse: 13.72\n",
      "mae: 9.38\n",
      "r2: 0.99\n",
      "rmse: 19.76\n",
      "mae: 14.56\n",
      "r2: 0.97\n"
     ]
    },
    {
     "data": {
      "text/plain": [
       "array([ 49.31842323, 116.55981555, -79.56234059, 103.41246478,\n",
       "       -49.96464932, -69.51729049,  45.66787997, -46.2198383 ,\n",
       "       234.601115  , 228.29946953])"
      ]
     },
     "execution_count": 5,
     "metadata": {},
     "output_type": "execute_result"
    }
   ],
   "source": [
    "sys.path.append('/home/alexandre/Desktop/lltrees/src/build')\n",
    "import lltrees\n",
    "\n",
    "mlltree = lltrees.lltree()\n",
    "mlltree.fit(X_train, Y_train)\n",
    "\n",
    "YP = mlltree.predict(X_train)\n",
    "print(\"rmse: %.2f\" % np.sqrt(sklearn.metrics.mean_squared_error(Y_train,YP)))\n",
    "print(\"mae: %.2f\" % sklearn.metrics.mean_absolute_error(Y_train,YP))\n",
    "print(\"r2: %.2f\" % sklearn.metrics.r2_score(Y_train,YP))\n",
    "\n",
    "YP = mlltree.predict(X_test)\n",
    "print(\"rmse: %.2f\" % np.sqrt(sklearn.metrics.mean_squared_error(Y_test,YP)))\n",
    "print(\"mae: %.2f\" % sklearn.metrics.mean_absolute_error(Y_test,YP))\n",
    "print(\"r2: %.2f\" % sklearn.metrics.r2_score(Y_test,YP))\n",
    "YP[0:10]"
   ]
  },
  {
   "cell_type": "code",
   "execution_count": 6,
   "id": "44b9a64c-d11f-49aa-b9cc-1f8b8f66a301",
   "metadata": {},
   "outputs": [
    {
     "name": "stdout",
     "output_type": "stream",
     "text": [
      "rmse: 52.35\n",
      "mae: 37.96\n",
      "r2: 0.81\n",
      "rmse: 63.68\n",
      "mae: 49.35\n",
      "r2: 0.74\n"
     ]
    },
    {
     "data": {
      "text/plain": [
       "array([  -5.25635722,  127.29805997, -110.4560012 ,  122.24421396,\n",
       "       -110.4560012 ,  -39.90414254,  106.73581898,  -39.90414254,\n",
       "        223.68925908,  240.37517626])"
      ]
     },
     "execution_count": 6,
     "metadata": {},
     "output_type": "execute_result"
    }
   ],
   "source": [
    "dtr = sklearn.tree.DecisionTreeRegressor(max_depth = 5, criterion =\"absolute_error\", random_state = 0)\n",
    "dtr.fit(X_train,Y_train)\n",
    "\n",
    "YP = dtr.predict(X_train)\n",
    "print(\"rmse: %.2f\" % np.sqrt(sklearn.metrics.mean_squared_error(Y_train,YP)))\n",
    "print(\"mae: %.2f\" % sklearn.metrics.mean_absolute_error(Y_train,YP))\n",
    "print(\"r2: %.2f\" % sklearn.metrics.r2_score(Y_train,YP))\n",
    "\n",
    "YP = dtr.predict(X_test)\n",
    "print(\"rmse: %.2f\" % np.sqrt(sklearn.metrics.mean_squared_error(Y_test,YP)))\n",
    "print(\"mae: %.2f\" % sklearn.metrics.mean_absolute_error(Y_test,YP))\n",
    "print(\"r2: %.2f\" % sklearn.metrics.r2_score(Y_test,YP))\n",
    "YP[0:10]"
   ]
  }
 ],
 "metadata": {
  "kernelspec": {
   "display_name": "Python 3 (ipykernel)",
   "language": "python",
   "name": "python3"
  },
  "language_info": {
   "codemirror_mode": {
    "name": "ipython",
    "version": 3
   },
   "file_extension": ".py",
   "mimetype": "text/x-python",
   "name": "python",
   "nbconvert_exporter": "python",
   "pygments_lexer": "ipython3",
   "version": "3.10.12"
  }
 },
 "nbformat": 4,
 "nbformat_minor": 5
}
