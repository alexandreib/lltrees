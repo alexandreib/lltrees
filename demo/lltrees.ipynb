{
 "cells": [
  {
   "cell_type": "code",
   "execution_count": 1,
   "id": "4694f6f3-1d25-4369-a62d-26f480f9bc15",
   "metadata": {},
   "outputs": [],
   "source": [
    "# import os\n",
    "\n",
    "import numpy as np\n",
    "import pandas as pd\n",
    "import sklearn.datasets, sklearn.metrics, sklearn.model_selection, sklearn.tree\n",
    "\n",
    "import subprocess, sys"
   ]
  },
  {
   "cell_type": "code",
   "execution_count": 2,
   "id": "046a95f1-d7f2-4a81-ab74-2d857cf84fe8",
   "metadata": {},
   "outputs": [
    {
     "name": "stdout",
     "output_type": "stream",
     "text": [
      "DEPENDS = cpp/criterion.hpp cpp/lltree.hpp cpp/node.hpp\n"
     ]
    }
   ],
   "source": [
    "!cd ../src/ && make print-DEPENDS"
   ]
  },
  {
   "cell_type": "code",
   "execution_count": 3,
   "id": "4b37fff9-a165-434d-abe7-807421062df5",
   "metadata": {},
   "outputs": [
    {
     "name": "stdout",
     "output_type": "stream",
     "text": [
      "g++ -o build/lltrees.o -c cpp/lltrees.cpp -I/usr/include/python3.10 -I/usr/include/python3.10  -Wno-unused-result -Wsign-compare -g      -fstack-protector-strong -Wformat -Werror=format-security  -DNDEBUG -g -fwrapv -O2 -Wall -fPIC\n",
      "In file included from \u001b[01m\u001b[K/usr/include/boost/smart_ptr/detail/sp_thread_sleep.hpp:22\u001b[m\u001b[K,\n",
      "                 from \u001b[01m\u001b[K/usr/include/boost/smart_ptr/detail/yield_k.hpp:23\u001b[m\u001b[K,\n",
      "                 from \u001b[01m\u001b[K/usr/include/boost/smart_ptr/detail/spinlock_gcc_atomic.hpp:14\u001b[m\u001b[K,\n",
      "                 from \u001b[01m\u001b[K/usr/include/boost/smart_ptr/detail/spinlock.hpp:42\u001b[m\u001b[K,\n",
      "                 from \u001b[01m\u001b[K/usr/include/boost/smart_ptr/detail/spinlock_pool.hpp:25\u001b[m\u001b[K,\n",
      "                 from \u001b[01m\u001b[K/usr/include/boost/smart_ptr/shared_ptr.hpp:29\u001b[m\u001b[K,\n",
      "                 from \u001b[01m\u001b[K/usr/include/boost/shared_ptr.hpp:17\u001b[m\u001b[K,\n",
      "                 from \u001b[01m\u001b[K/usr/include/boost/python/converter/shared_ptr_to_python.hpp:12\u001b[m\u001b[K,\n",
      "                 from \u001b[01m\u001b[K/usr/include/boost/python/converter/arg_to_python.hpp:15\u001b[m\u001b[K,\n",
      "                 from \u001b[01m\u001b[K/usr/include/boost/python/call.hpp:15\u001b[m\u001b[K,\n",
      "                 from \u001b[01m\u001b[K/usr/include/boost/python/object_core.hpp:14\u001b[m\u001b[K,\n",
      "                 from \u001b[01m\u001b[K/usr/include/boost/python/args.hpp:22\u001b[m\u001b[K,\n",
      "                 from \u001b[01m\u001b[K/usr/include/boost/python.hpp:11\u001b[m\u001b[K,\n",
      "                 from \u001b[01m\u001b[Kcpp/lltrees.cpp:1\u001b[m\u001b[K:\n",
      "\u001b[01m\u001b[K/usr/include/boost/bind.hpp:36:1:\u001b[m\u001b[K \u001b[01;36m\u001b[Knote: \u001b[m\u001b[K‘\u001b[01m\u001b[K#pragma message: The practice of declaring the Bind placeholders (_1, _2, ...) in the global namespace is deprecated. Please use <boost/bind/bind.hpp> + using namespace boost::placeholders, or define BOOST_BIND_GLOBAL_PLACEHOLDERS to retain the current behavior.\u001b[m\u001b[K’\n",
      "   36 | \u001b[01;36m\u001b[KBOOST_PRAGMA_MESSAGE\u001b[m\u001b[K(\n",
      "      | \u001b[01;36m\u001b[K^~~~~~~~~~~~~~~~~~~~\u001b[m\u001b[K\n",
      "\u001b[01m\u001b[K/usr/include/boost/detail/iterator.hpp:13:1:\u001b[m\u001b[K \u001b[01;36m\u001b[Knote: \u001b[m\u001b[K‘\u001b[01m\u001b[K#pragma message: This header is deprecated. Use <iterator> instead.\u001b[m\u001b[K’\n",
      "   13 | \u001b[01;36m\u001b[KBOOST_HEADER_DEPRECATED\u001b[m\u001b[K(\"<iterator>\")\n",
      "      | \u001b[01;36m\u001b[K^~~~~~~~~~~~~~~~~~~~~~~\u001b[m\u001b[K\n",
      "g++ -o build/lltrees.so build/lltrees.o  -L/usr/lib/python3.10/config-3.10-x86_64-linux-gnu -L/usr/lib/x86_64-linux-gnu  -lcrypt -ldl  -lm -lm  -shared -Wl,-rpath,/usr/lib  -lpython3.10 -lboost_python310 -lboost_numpy310\n",
      "[ 49.31842323 116.55981555 -79.56234059 103.41246478 -49.96464932\n",
      " -69.51729049  45.66787997 -46.2198383  234.601115   228.29946953]\n",
      "14.556825172734333\n",
      "12345\n",
      "[-3.02907394e+00 -2.72616655e+00 -2.45354989e+00 -2.20819491e+00\n",
      " -1.98737541e+00 -1.78863787e+00 -1.60977409e+00 -1.44879668e+00\n",
      " -1.30391701e+00 -1.17352531e+00 -1.05617278e+00 -9.50555500e-01\n",
      " -8.55499950e-01 -7.69949955e-01 -6.92954959e-01 -6.23659463e-01\n",
      " -5.61293517e-01 -5.05164165e-01 -4.54647749e-01 -4.09182974e-01\n",
      " -3.68264677e-01 -3.31438209e-01 -2.98294388e-01 -2.68464949e-01\n",
      " -2.41618454e-01 -2.17456609e-01 -1.95710948e-01 -1.76139853e-01\n",
      " -1.58525868e-01 -1.42673281e-01 -1.28405953e-01 -1.15565358e-01\n",
      " -1.04008822e-01 -9.36079397e-02 -8.42471457e-02 -7.58224312e-02\n",
      " -6.82401881e-02 -6.14161693e-02 -5.52745523e-02 -4.97470971e-02\n",
      " -4.47723874e-02 -4.02951486e-02 -3.62656338e-02 -3.26390704e-02\n",
      " -2.93751634e-02 -2.64376470e-02 -2.37938823e-02 -2.14144941e-02\n",
      " -1.92730447e-02 -1.73457402e-02 -1.56111662e-02 -1.40500496e-02\n",
      " -1.26450446e-02 -1.13805402e-02 -1.02424861e-02 -9.21823753e-03\n",
      " -8.29641377e-03 -7.46677240e-03 -6.72009516e-03 -6.04808564e-03\n",
      " -5.44327708e-03 -4.89894937e-03 -4.40905443e-03 -3.96814899e-03\n",
      " -3.57133409e-03 -3.21420068e-03 -2.89278061e-03 -2.60350255e-03\n",
      " -2.34315230e-03 -2.10883707e-03 -1.89795336e-03 -1.70815802e-03\n",
      " -1.53734222e-03 -1.38360800e-03 -1.24524720e-03 -1.12072248e-03\n",
      " -1.00865023e-03 -9.07785208e-04 -8.17006688e-04 -7.35306019e-04\n",
      " -6.61775417e-04 -5.95597875e-04 -5.36038088e-04 -4.82434279e-04\n",
      " -4.34190851e-04 -3.90771766e-04 -3.51694589e-04 -3.16525130e-04\n",
      " -2.84872617e-04 -2.56385356e-04 -2.30746820e-04 -2.07672138e-04\n",
      " -1.86904924e-04 -1.68214432e-04 -1.51392989e-04 -1.36253690e-04\n",
      " -1.22628321e-04 -1.10365489e-04 -9.93289399e-05 -8.93960459e-05\n",
      " -8.04564413e-05 -7.24107972e-05 -6.51697174e-05 -5.86527457e-05\n",
      " -5.27874711e-05 -4.75087240e-05 -4.27578516e-05 -3.84820664e-05\n",
      " -3.46338598e-05 -3.11704738e-05 -2.80534264e-05 -2.52480838e-05\n",
      " -2.27232754e-05 -2.04509479e-05 -1.84058531e-05 -1.65652678e-05\n",
      " -1.49087410e-05 -1.34178669e-05 -1.20760802e-05 -1.08684722e-05\n",
      " -9.78162497e-06 -8.80346248e-06 -7.92311623e-06 -7.13080460e-06\n",
      " -6.41772414e-06 -5.77595173e-06 -5.19835656e-06 -4.67852090e-06\n",
      " -4.21066881e-06 -3.78960193e-06 -3.41064174e-06 -3.06957756e-06\n",
      " -2.76261981e-06 -2.48635783e-06 -2.23772204e-06 -2.01394984e-06\n",
      " -1.81255486e-06 -1.63129937e-06 -1.46816943e-06 -1.32135249e-06\n",
      " -1.18921724e-06 -1.07029552e-06 -9.63265963e-07 -8.66939367e-07\n",
      " -7.80245430e-07 -7.02220886e-07 -6.31998799e-07 -5.68798919e-07\n",
      " -5.11919026e-07 -4.60727124e-07 -4.14654412e-07 -3.73188971e-07\n",
      " -3.35870072e-07 -3.02283065e-07 -2.72054759e-07 -2.44849282e-07\n",
      " -2.20364355e-07 -1.98327920e-07 -1.78495128e-07 -1.60645614e-07\n",
      " -1.44581054e-07 -1.30122948e-07 -1.17110653e-07 -1.05399586e-07\n",
      " -9.48596285e-08 -8.53736666e-08 -7.68362991e-08 -6.91526688e-08\n",
      " -6.22374023e-08 -5.60136621e-08 -5.04122962e-08 -4.53710661e-08\n",
      " -4.08339594e-08 -3.67505635e-08 -3.30755064e-08 -2.97679560e-08\n",
      " -2.67911607e-08 -2.41120444e-08 -2.17008404e-08 -1.95307558e-08\n",
      " -1.75776800e-08 -1.58199121e-08 -1.42379217e-08 -1.28141294e-08\n",
      " -1.15327165e-08 -1.03794453e-08 -9.34150057e-09 -8.40735071e-09\n",
      " -7.56661528e-09 -6.80995365e-09 -6.12895818e-09 -5.51606234e-09\n",
      " -4.96445674e-09 -4.46801062e-09 -4.02120969e-09 -3.61908937e-09\n",
      " -3.25718030e-09 -2.93146198e-09 -2.63831557e-09 -2.37448334e-09\n",
      " -2.13703575e-09 -1.92333227e-09 -1.73099842e-09 -1.55789914e-09\n",
      " -1.40210958e-09 -1.26189860e-09 -1.13570860e-09 -1.02213758e-09\n",
      " -9.19924191e-10 -8.27931703e-10 -7.45138111e-10 -6.70624175e-10\n",
      " -6.03562324e-10 -5.43206266e-10 -4.88885649e-10 -4.39997260e-10\n",
      " -3.95996998e-10 -3.56397562e-10 -3.20757824e-10 -2.88682266e-10\n",
      " -2.59813164e-10 -2.33832454e-10 -2.10449760e-10 -1.89404238e-10\n",
      " -1.70464165e-10 -1.53417145e-10 -1.38075177e-10 -1.24268170e-10\n",
      " -1.11841185e-10 -1.00656887e-10 -9.05920539e-11 -8.15321988e-11\n",
      " -7.33787076e-11 -6.60417191e-11 -5.94375000e-11 -5.34936278e-11\n",
      " -4.81438595e-11 -4.33298894e-11 -3.89968166e-11 -3.50975296e-11\n",
      " -3.15870233e-11 -2.84278685e-11 -2.55854218e-11 -2.30270626e-11\n",
      " -2.07242682e-11 -1.86525352e-11 -1.67871621e-11 -1.51079960e-11\n",
      " -1.35972075e-11 -1.22377848e-11]\n"
     ]
    },
    {
     "data": {
      "text/plain": [
       "0"
      ]
     },
     "execution_count": 3,
     "metadata": {},
     "output_type": "execute_result"
    }
   ],
   "source": [
    "!cd ../src/ && make\n",
    "subprocess.call([sys.executable, \"lltrees_python_import_for_debug.py\"])"
   ]
  },
  {
   "cell_type": "code",
   "execution_count": 4,
   "id": "007b01d7-0a37-444a-8367-d94b4bc03b1b",
   "metadata": {},
   "outputs": [],
   "source": [
    "X, Y = sklearn.datasets.make_regression(n_samples=1000, n_features=8, n_informative=5, n_targets=1, noise=1, random_state=42)\n",
    "X_train, X_test, Y_train, Y_test = sklearn.model_selection.train_test_split(X, Y, test_size=0.3, random_state=42)"
   ]
  },
  {
   "cell_type": "code",
   "execution_count": 5,
   "id": "7287411a-9cd4-46c6-826d-cd2db3e6a254",
   "metadata": {},
   "outputs": [
    {
     "name": "stdout",
     "output_type": "stream",
     "text": [
      "rmse: 13.72\n",
      "mae: 9.38\n",
      "r2: 0.99\n",
      "rmse: 19.76\n",
      "mae: 14.56\n",
      "r2: 0.97\n"
     ]
    },
    {
     "data": {
      "text/plain": [
       "array([ 49.31842323, 116.55981555, -79.56234059, 103.41246478,\n",
       "       -49.96464932, -69.51729049,  45.66787997, -46.2198383 ,\n",
       "       234.601115  , 228.29946953])"
      ]
     },
     "execution_count": 5,
     "metadata": {},
     "output_type": "execute_result"
    }
   ],
   "source": [
    "sys.path.append('/home/alexandre/Desktop/lltrees/src/build')\n",
    "import lltrees\n",
    "\n",
    "mlltree = lltrees.lltree()\n",
    "mlltree.fit(X_train, Y_train)\n",
    "\n",
    "YP = mlltree.predict(X_train)\n",
    "print(\"rmse: %.2f\" % np.sqrt(sklearn.metrics.mean_squared_error(Y_train,YP)))\n",
    "print(\"mae: %.2f\" % sklearn.metrics.mean_absolute_error(Y_train,YP))\n",
    "print(\"r2: %.2f\" % sklearn.metrics.r2_score(Y_train,YP))\n",
    "\n",
    "YP = mlltree.predict(X_test)\n",
    "print(\"rmse: %.2f\" % np.sqrt(sklearn.metrics.mean_squared_error(Y_test,YP)))\n",
    "print(\"mae: %.2f\" % sklearn.metrics.mean_absolute_error(Y_test,YP))\n",
    "print(\"r2: %.2f\" % sklearn.metrics.r2_score(Y_test,YP))\n",
    "YP[0:10]"
   ]
  },
  {
   "cell_type": "code",
   "execution_count": 6,
   "id": "44b9a64c-d11f-49aa-b9cc-1f8b8f66a301",
   "metadata": {},
   "outputs": [
    {
     "name": "stdout",
     "output_type": "stream",
     "text": [
      "rmse: 52.35\n",
      "mae: 37.96\n",
      "r2: 0.81\n",
      "rmse: 63.68\n",
      "mae: 49.35\n",
      "r2: 0.74\n"
     ]
    },
    {
     "data": {
      "text/plain": [
       "array([  -5.25635722,  127.29805997, -110.4560012 ,  122.24421396,\n",
       "       -110.4560012 ,  -39.90414254,  106.73581898,  -39.90414254,\n",
       "        223.68925908,  240.37517626])"
      ]
     },
     "execution_count": 6,
     "metadata": {},
     "output_type": "execute_result"
    }
   ],
   "source": [
    "dtr = sklearn.tree.DecisionTreeRegressor(max_depth = 5, criterion =\"absolute_error\", random_state = 0)\n",
    "dtr.fit(X_train,Y_train)\n",
    "\n",
    "YP = dtr.predict(X_train)\n",
    "print(\"rmse: %.2f\" % np.sqrt(sklearn.metrics.mean_squared_error(Y_train,YP)))\n",
    "print(\"mae: %.2f\" % sklearn.metrics.mean_absolute_error(Y_train,YP))\n",
    "print(\"r2: %.2f\" % sklearn.metrics.r2_score(Y_train,YP))\n",
    "\n",
    "YP = dtr.predict(X_test)\n",
    "print(\"rmse: %.2f\" % np.sqrt(sklearn.metrics.mean_squared_error(Y_test,YP)))\n",
    "print(\"mae: %.2f\" % sklearn.metrics.mean_absolute_error(Y_test,YP))\n",
    "print(\"r2: %.2f\" % sklearn.metrics.r2_score(Y_test,YP))\n",
    "YP[0:10]"
   ]
  }
 ],
 "metadata": {
  "kernelspec": {
   "display_name": "Python 3 (ipykernel)",
   "language": "python",
   "name": "python3"
  },
  "language_info": {
   "codemirror_mode": {
    "name": "ipython",
    "version": 3
   },
   "file_extension": ".py",
   "mimetype": "text/x-python",
   "name": "python",
   "nbconvert_exporter": "python",
   "pygments_lexer": "ipython3",
   "version": "3.10.12"
  }
 },
 "nbformat": 4,
 "nbformat_minor": 5
}
