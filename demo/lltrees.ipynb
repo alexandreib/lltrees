{
 "cells": [
  {
   "cell_type": "code",
   "execution_count": 1,
   "id": "4694f6f3-1d25-4369-a62d-26f480f9bc15",
   "metadata": {},
   "outputs": [],
   "source": [
    "import time\n",
    "\n",
    "import numpy as np\n",
    "import pandas as pd\n",
    "import sklearn.datasets, sklearn.metrics, sklearn.model_selection, sklearn.tree\n",
    "\n",
    "import subprocess, sys"
   ]
  },
  {
   "cell_type": "code",
   "execution_count": 2,
   "id": "046a95f1-d7f2-4a81-ab74-2d857cf84fe8",
   "metadata": {},
   "outputs": [],
   "source": [
    "# !cd ../src/ && make print-DEPENDS"
   ]
  },
  {
   "cell_type": "code",
   "execution_count": 38,
   "id": "4b37fff9-a165-434d-abe7-807421062df5",
   "metadata": {},
   "outputs": [
    {
     "name": "stdout",
     "output_type": "stream",
     "text": [
      "g++ -o build/lltrees.o -c cpp/lltrees.cpp -I/usr/include/python3.10 -I/usr/include/python3.10  -Wno-unused-result -Wsign-compare -g      -fstack-protector-strong -Wformat -Werror=format-security  -DNDEBUG -g -fwrapv -O2 -Wall -fPIC -c\n",
      "In file included from \u001b[01m\u001b[K/usr/include/boost/smart_ptr/detail/sp_thread_sleep.hpp:22\u001b[m\u001b[K,\n",
      "                 from \u001b[01m\u001b[K/usr/include/boost/smart_ptr/detail/yield_k.hpp:23\u001b[m\u001b[K,\n",
      "                 from \u001b[01m\u001b[K/usr/include/boost/smart_ptr/detail/spinlock_gcc_atomic.hpp:14\u001b[m\u001b[K,\n",
      "                 from \u001b[01m\u001b[K/usr/include/boost/smart_ptr/detail/spinlock.hpp:42\u001b[m\u001b[K,\n",
      "                 from \u001b[01m\u001b[K/usr/include/boost/smart_ptr/detail/spinlock_pool.hpp:25\u001b[m\u001b[K,\n",
      "                 from \u001b[01m\u001b[K/usr/include/boost/smart_ptr/shared_ptr.hpp:29\u001b[m\u001b[K,\n",
      "                 from \u001b[01m\u001b[K/usr/include/boost/shared_ptr.hpp:17\u001b[m\u001b[K,\n",
      "                 from \u001b[01m\u001b[K/usr/include/boost/python/converter/shared_ptr_to_python.hpp:12\u001b[m\u001b[K,\n",
      "                 from \u001b[01m\u001b[K/usr/include/boost/python/converter/arg_to_python.hpp:15\u001b[m\u001b[K,\n",
      "                 from \u001b[01m\u001b[K/usr/include/boost/python/call.hpp:15\u001b[m\u001b[K,\n",
      "                 from \u001b[01m\u001b[K/usr/include/boost/python/object_core.hpp:14\u001b[m\u001b[K,\n",
      "                 from \u001b[01m\u001b[K/usr/include/boost/python/args.hpp:22\u001b[m\u001b[K,\n",
      "                 from \u001b[01m\u001b[K/usr/include/boost/python.hpp:11\u001b[m\u001b[K,\n",
      "                 from \u001b[01m\u001b[Kcpp/lltrees.cpp:1\u001b[m\u001b[K:\n",
      "\u001b[01m\u001b[K/usr/include/boost/bind.hpp:36:1:\u001b[m\u001b[K \u001b[01;36m\u001b[Knote: \u001b[m\u001b[K‘\u001b[01m\u001b[K#pragma message: The practice of declaring the Bind placeholders (_1, _2, ...) in the global namespace is deprecated. Please use <boost/bind/bind.hpp> + using namespace boost::placeholders, or define BOOST_BIND_GLOBAL_PLACEHOLDERS to retain the current behavior.\u001b[m\u001b[K’\n",
      "   36 | \u001b[01;36m\u001b[KBOOST_PRAGMA_MESSAGE\u001b[m\u001b[K(\n",
      "      | \u001b[01;36m\u001b[K^~~~~~~~~~~~~~~~~~~~\u001b[m\u001b[K\n",
      "\u001b[01m\u001b[K/usr/include/boost/detail/iterator.hpp:13:1:\u001b[m\u001b[K \u001b[01;36m\u001b[Knote: \u001b[m\u001b[K‘\u001b[01m\u001b[K#pragma message: This header is deprecated. Use <iterator> instead.\u001b[m\u001b[K’\n",
      "   13 | \u001b[01;36m\u001b[KBOOST_HEADER_DEPRECATED\u001b[m\u001b[K(\"<iterator>\")\n",
      "      | \u001b[01;36m\u001b[K^~~~~~~~~~~~~~~~~~~~~~~\u001b[m\u001b[K\n",
      "\u001b[01m\u001b[Kcpp/lltrees.cpp:\u001b[m\u001b[K In member function ‘\u001b[01m\u001b[Kstd::vector<double> lltrees::_predict(double*, int)\u001b[m\u001b[K’:\n",
      "\u001b[01m\u001b[Kcpp/lltrees.cpp:41:54:\u001b[m\u001b[K \u001b[01;31m\u001b[Kerror: \u001b[m\u001b[Kno matching function for call to ‘\u001b[01m\u001b[Klltree::predict(double*&, int&, double&)\u001b[m\u001b[K’\n",
      "   41 |             std::vector<double> result = \u001b[01;31m\u001b[Ktree.predict(X, number_of_rows, this->learning_rate)\u001b[m\u001b[K;\n",
      "      |                                          \u001b[01;31m\u001b[K~~~~~~~~~~~~^~~~~~~~~~~~~~~~~~~~~~~~~~~~~~~~~~~~~~~~\u001b[m\u001b[K\n",
      "In file included from \u001b[01m\u001b[Kcpp/lltrees.cpp:16\u001b[m\u001b[K:\n",
      "\u001b[01m\u001b[Kcpp/lltree.hpp:116:41:\u001b[m\u001b[K \u001b[01;36m\u001b[Knote: \u001b[m\u001b[Kcandidate: ‘\u001b[01m\u001b[Ktemplate<class T> std::vector<T> lltree::predict(double*, int, double)\u001b[m\u001b[K’\n",
      "  116 |     template<typename T> std::vector<T> \u001b[01;36m\u001b[Kpredict\u001b[m\u001b[K(double* X, int number_of_rows, double learning_rate = 1.0) {\n",
      "      |                                         \u001b[01;36m\u001b[K^~~~~~~\u001b[m\u001b[K\n",
      "\u001b[01m\u001b[Kcpp/lltree.hpp:116:41:\u001b[m\u001b[K \u001b[01;36m\u001b[Knote: \u001b[m\u001b[K  template argument deduction/substitution failed:\n",
      "\u001b[01m\u001b[Kcpp/lltrees.cpp:41:54:\u001b[m\u001b[K \u001b[01;36m\u001b[Knote: \u001b[m\u001b[K  couldn’t deduce template parameter ‘\u001b[01m\u001b[KT\u001b[m\u001b[K’\n",
      "   41 |             std::vector<double> result = \u001b[01;36m\u001b[Ktree.predict(X, number_of_rows, this->learning_rate)\u001b[m\u001b[K;\n",
      "      |                                          \u001b[01;36m\u001b[K~~~~~~~~~~~~^~~~~~~~~~~~~~~~~~~~~~~~~~~~~~~~~~~~~~~~\u001b[m\u001b[K\n",
      "\u001b[01m\u001b[Kcpp/lltrees.cpp:\u001b[m\u001b[K In member function ‘\u001b[01m\u001b[Kvoid lltrees::_fit(const boost::python::numpy::ndarray&, const boost::python::numpy::ndarray&, const boost::python::numpy::ndarray&, const boost::python::numpy::ndarray&)\u001b[m\u001b[K’:\n",
      "\u001b[01m\u001b[Kcpp/lltrees.cpp:132:52:\u001b[m\u001b[K \u001b[01;31m\u001b[Kerror: \u001b[m\u001b[Kno matching function for call to ‘\u001b[01m\u001b[Klltree::predict(double*&, Py_intptr_t, double&)\u001b[m\u001b[K’\n",
      "  132 |             std::vector<T> tree_pred = \u001b[01;31m\u001b[Ktree.predict(x_tr, np_x_tr.shape(0), this->learning_rate)\u001b[m\u001b[K;\n",
      "      |                                        \u001b[01;31m\u001b[K~~~~~~~~~~~~^~~~~~~~~~~~~~~~~~~~~~~~~~~~~~~~~~~~~~~~~~~~~\u001b[m\u001b[K\n",
      "In file included from \u001b[01m\u001b[Kcpp/lltrees.cpp:16\u001b[m\u001b[K:\n",
      "\u001b[01m\u001b[Kcpp/lltree.hpp:116:41:\u001b[m\u001b[K \u001b[01;36m\u001b[Knote: \u001b[m\u001b[Kcandidate: ‘\u001b[01m\u001b[Ktemplate<class T> std::vector<T> lltree::predict(double*, int, double)\u001b[m\u001b[K’\n",
      "  116 |     template<typename T> std::vector<T> \u001b[01;36m\u001b[Kpredict\u001b[m\u001b[K(double* X, int number_of_rows, double learning_rate = 1.0) {\n",
      "      |                                         \u001b[01;36m\u001b[K^~~~~~~\u001b[m\u001b[K\n",
      "\u001b[01m\u001b[Kcpp/lltree.hpp:116:41:\u001b[m\u001b[K \u001b[01;36m\u001b[Knote: \u001b[m\u001b[K  template argument deduction/substitution failed:\n",
      "\u001b[01m\u001b[Kcpp/lltrees.cpp:132:52:\u001b[m\u001b[K \u001b[01;36m\u001b[Knote: \u001b[m\u001b[K  couldn’t deduce template parameter ‘\u001b[01m\u001b[KT\u001b[m\u001b[K’\n",
      "  132 |             std::vector<T> tree_pred = \u001b[01;36m\u001b[Ktree.predict(x_tr, np_x_tr.shape(0), this->learning_rate)\u001b[m\u001b[K;\n",
      "      |                                        \u001b[01;36m\u001b[K~~~~~~~~~~~~^~~~~~~~~~~~~~~~~~~~~~~~~~~~~~~~~~~~~~~~~~~~~\u001b[m\u001b[K\n",
      "\u001b[01m\u001b[Kcpp/lltrees.cpp:146:41:\u001b[m\u001b[K \u001b[01;31m\u001b[Kerror: \u001b[m\u001b[Kno matching function for call to ‘\u001b[01m\u001b[Klltree::predict(double*&, Py_intptr_t, double&)\u001b[m\u001b[K’\n",
      "  146 |                 tree_pred = \u001b[01;31m\u001b[Ktree.predict(x_ts, np_x_ts.shape(0), this->learning_rate)\u001b[m\u001b[K;\n",
      "      |                             \u001b[01;31m\u001b[K~~~~~~~~~~~~^~~~~~~~~~~~~~~~~~~~~~~~~~~~~~~~~~~~~~~~~~~~~\u001b[m\u001b[K\n",
      "In file included from \u001b[01m\u001b[Kcpp/lltrees.cpp:16\u001b[m\u001b[K:\n",
      "\u001b[01m\u001b[Kcpp/lltree.hpp:116:41:\u001b[m\u001b[K \u001b[01;36m\u001b[Knote: \u001b[m\u001b[Kcandidate: ‘\u001b[01m\u001b[Ktemplate<class T> std::vector<T> lltree::predict(double*, int, double)\u001b[m\u001b[K’\n",
      "  116 |     template<typename T> std::vector<T> \u001b[01;36m\u001b[Kpredict\u001b[m\u001b[K(double* X, int number_of_rows, double learning_rate = 1.0) {\n",
      "      |                                         \u001b[01;36m\u001b[K^~~~~~~\u001b[m\u001b[K\n",
      "\u001b[01m\u001b[Kcpp/lltree.hpp:116:41:\u001b[m\u001b[K \u001b[01;36m\u001b[Knote: \u001b[m\u001b[K  template argument deduction/substitution failed:\n",
      "\u001b[01m\u001b[Kcpp/lltrees.cpp:146:41:\u001b[m\u001b[K \u001b[01;36m\u001b[Knote: \u001b[m\u001b[K  couldn’t deduce template parameter ‘\u001b[01m\u001b[KT\u001b[m\u001b[K’\n",
      "  146 |                 tree_pred = \u001b[01;36m\u001b[Ktree.predict(x_ts, np_x_ts.shape(0), this->learning_rate)\u001b[m\u001b[K;\n",
      "      |                             \u001b[01;36m\u001b[K~~~~~~~~~~~~^~~~~~~~~~~~~~~~~~~~~~~~~~~~~~~~~~~~~~~~~~~~~\u001b[m\u001b[K\n",
      "make: *** [Makefile:24: build/lltrees.o] Error 1\n",
      "Set : epochs\n",
      "Set : learning_rate\n",
      "Set : metric_name\n",
      "Set : lltree_max_depth\n",
      "Set : lltree_min_size_split\n",
      "Set : lltree_criterion\n",
      "Get : lltree_max_depth : 5\n",
      "Get : lltree_min_size_split : 2\n",
      "Get : lltree_criterion : absolute_error\n",
      "Get : epochs : 1\n",
      "Get : learning_rate : 1\n",
      "Get : metric_name : mae\n",
      "Get : verbose : 1\n",
      "Epoch :     1 Metric Train : 38.4532 Metric Test :       0 Residuals (mean) : 5.54223e-13\n",
      "FIT --- 0.048676252365112305 seconds ---\n",
      "PREDICT --- 1.6450881958007812e-05 seconds ---\n"
     ]
    },
    {
     "data": {
      "text/plain": [
       "0"
      ]
     },
     "execution_count": 38,
     "metadata": {},
     "output_type": "execute_result"
    }
   ],
   "source": [
    "!cd ../src/ && make\n",
    "subprocess.call([sys.executable, \"lltrees_python_import_for_debug.py\"])"
   ]
  },
  {
   "cell_type": "markdown",
   "id": "ca385113-e559-470e-9216-1a1682b3cc69",
   "metadata": {},
   "source": [
    "# make_regression"
   ]
  },
  {
   "cell_type": "code",
   "execution_count": 4,
   "id": "007b01d7-0a37-444a-8367-d94b4bc03b1b",
   "metadata": {},
   "outputs": [],
   "source": [
    "X, Y = sklearn.datasets.make_regression(n_samples=1000, n_features=8, n_informative=5, n_targets=1, noise=1, random_state=42)\n",
    "X_train, X_test, Y_train, Y_test = sklearn.model_selection.train_test_split(X, Y, test_size=0.3, random_state=42)"
   ]
  },
  {
   "cell_type": "code",
   "execution_count": 5,
   "id": "7287411a-9cd4-46c6-826d-cd2db3e6a254",
   "metadata": {},
   "outputs": [
    {
     "name": "stdout",
     "output_type": "stream",
     "text": [
      "Set : epochs\n",
      "Set : learning_rate\n",
      "Set : metric_name\n",
      "Set : lltree_max_depth\n",
      "Set : lltree_min_size_split\n",
      "Set : lltree_criterion\n",
      "Set : verbose\n",
      "Get : lltree_max_depth : 5\n",
      "Get : lltree_min_size_split : 2\n",
      "Get : lltree_criterion : absolute_error\n",
      "Get : epochs : 1\n",
      "Get : learning_rate : 1\n",
      "Get : metric_name : mae\n",
      "Get : verbose : 0\n",
      "FIT --- 0.05533480644226074 seconds ---\n",
      "PREDICT --- 7.581710815429688e-05 seconds ---\n",
      "rmse: 63.35\n",
      "mae: 49.11\n",
      "r2: 0.74\n"
     ]
    }
   ],
   "source": [
    "sys.path.append('/home/alexandre/Desktop/lltrees/src/build')\n",
    "import lltrees\n",
    "conf ={\n",
    "    'epochs' : 1,\n",
    "    'learning_rate' : 1,\n",
    "    'metric_name' : 'mae', # Possible metrics for the moment : mae, mse\n",
    "    'lltree_max_depth' : 5,\n",
    "    'lltree_min_size_split' : 2,\n",
    "    'lltree_criterion' : \"absolute_error\",  # Possible metrics for the moment : variance, absolute_error\n",
    "    'verbose' : 0, \n",
    "}\n",
    "my_lltree = lltrees.lltree()\n",
    "my_lltree.set_conf(conf)\n",
    "my_lltree.get_conf()\n",
    "\n",
    "start_time = time.time()\n",
    "my_lltree.fit(X_train, Y_train, X_test, Y_test)\n",
    "print(\"FIT --- %s seconds ---\" % (time.time() - start_time))\n",
    "\n",
    "start_time = time.time()\n",
    "YP = my_lltree.predict(X_test)\n",
    "print(\"PREDICT --- %s seconds ---\" % (time.time() - start_time))\n",
    "\n",
    "print(\"rmse: %.2f\" % np.sqrt(sklearn.metrics.mean_squared_error(Y_test,YP)))\n",
    "print(\"mae: %.2f\" % sklearn.metrics.mean_absolute_error(Y_test,YP))\n",
    "print(\"r2: %.2f\" % sklearn.metrics.r2_score(Y_test,YP))"
   ]
  },
  {
   "cell_type": "code",
   "execution_count": 6,
   "id": "44b9a64c-d11f-49aa-b9cc-1f8b8f66a301",
   "metadata": {},
   "outputs": [
    {
     "name": "stdout",
     "output_type": "stream",
     "text": [
      "FIT --- 0.02120375633239746 seconds ---\n",
      "PREDICT --- 0.00036978721618652344 seconds ---\n",
      "rmse: 63.68\n",
      "mae: 49.35\n",
      "r2: 0.74\n"
     ]
    }
   ],
   "source": [
    "my_lltree = sklearn.tree.DecisionTreeRegressor(max_depth = 5, criterion =\"absolute_error\", random_state = 0)\n",
    "\n",
    "start_time = time.time()\n",
    "my_lltree.fit(X_train, Y_train)\n",
    "print(\"FIT --- %s seconds ---\" % (time.time() - start_time))\n",
    "\n",
    "start_time = time.time()\n",
    "YP = my_lltree.predict(X_test)\n",
    "print(\"PREDICT --- %s seconds ---\" % (time.time() - start_time))\n",
    "\n",
    "print(\"rmse: %.2f\" % np.sqrt(sklearn.metrics.mean_squared_error(Y_test,YP)))\n",
    "print(\"mae: %.2f\" % sklearn.metrics.mean_absolute_error(Y_test,YP))\n",
    "print(\"r2: %.2f\" % sklearn.metrics.r2_score(Y_test,YP))"
   ]
  },
  {
   "cell_type": "code",
   "execution_count": 7,
   "id": "e6a50c75-f4f7-45ee-a66b-8bc9249121cf",
   "metadata": {},
   "outputs": [
    {
     "name": "stdout",
     "output_type": "stream",
     "text": [
      "FIT --- 2.349902868270874 seconds ---\n",
      "PREDICT --- 0.00034999847412109375 seconds ---\n",
      "rmse: 31.42\n",
      "mae: 23.36\n",
      "r2: 0.94\n",
      "Set : epochs\n",
      "Set : learning_rate\n",
      "Set : metric_name\n",
      "Set : lltree_max_depth\n",
      "Set : lltree_min_size_split\n",
      "Set : lltree_criterion\n",
      "Set : verbose\n",
      "Get : lltree_max_depth : 3\n",
      "Get : lltree_min_size_split : 1\n",
      "Get : lltree_criterion : variance\n",
      "Get : epochs : 50\n",
      "Get : learning_rate : 0.1\n",
      "Get : metric_name : mae\n",
      "Get : verbose : 0\n"
     ]
    }
   ],
   "source": [
    "conf ={\n",
    "    'epochs' : 50,\n",
    "    'learning_rate' : 0.1,\n",
    "    'metric_name' : 'mae', # Possible metrics for the moment : mae, mse\n",
    "    'lltree_max_depth' : 3,\n",
    "    'lltree_min_size_split' : 1,\n",
    "    'lltree_criterion' : \"variance\",  # Possible metrics for the moment : variance, absolute_error\n",
    "    'verbose' : 0,  # Possible metrics for the moment : variance, absolute_error\n",
    "}\n",
    "my_lltree = lltrees.lltree()\n",
    "my_lltree.set_conf(conf)\n",
    "my_lltree.get_conf()\n",
    "\n",
    "start_time = time.time()\n",
    "my_lltree.fit(X_train, Y_train)\n",
    "print(\"FIT --- %s seconds ---\" % (time.time() - start_time))\n",
    "\n",
    "start_time = time.time()\n",
    "YP = my_lltree.predict(X_test)\n",
    "print(\"PREDICT --- %s seconds ---\" % (time.time() - start_time))\n",
    "\n",
    "print(\"rmse: %.2f\" % np.sqrt(sklearn.metrics.mean_squared_error(Y_test,YP)))\n",
    "print(\"mae: %.2f\" % sklearn.metrics.mean_absolute_error(Y_test,YP))\n",
    "print(\"r2: %.2f\" % sklearn.metrics.r2_score(Y_test,YP))"
   ]
  },
  {
   "cell_type": "code",
   "execution_count": 8,
   "id": "c090343b-8e53-4e89-b97c-5a3fd67a548b",
   "metadata": {},
   "outputs": [
    {
     "name": "stdout",
     "output_type": "stream",
     "text": [
      "FIT --- 0.1405191421508789 seconds ---\n",
      "PREDICT --- 0.000982046127319336 seconds ---\n",
      "rmse: 44.56\n",
      "mae: 31.80\n",
      "r2: 0.87\n"
     ]
    }
   ],
   "source": [
    "from sklearn.ensemble import GradientBoostingRegressor\n",
    "my_lltree = GradientBoostingRegressor(learning_rate = 0.1, n_estimators =50, \n",
    "                                 loss = 'absolute_error', criterion = 'squared_error',\n",
    "                                 random_state = 0)\n",
    "\n",
    "start_time = time.time()\n",
    "my_lltree.fit(X_train, Y_train)\n",
    "print(\"FIT --- %s seconds ---\" % (time.time() - start_time))\n",
    "\n",
    "start_time = time.time()\n",
    "YP = my_lltree.predict(X_test)\n",
    "print(\"PREDICT --- %s seconds ---\" % (time.time() - start_time))\n",
    "\n",
    "print(\"rmse: %.2f\" % np.sqrt(sklearn.metrics.mean_squared_error(Y_test,YP)))\n",
    "print(\"mae: %.2f\" % sklearn.metrics.mean_absolute_error(Y_test,YP))\n",
    "print(\"r2: %.2f\" % sklearn.metrics.r2_score(Y_test,YP))"
   ]
  },
  {
   "cell_type": "markdown",
   "id": "5e699efd-5f26-43ad-85f9-c5d9bed356fe",
   "metadata": {},
   "source": [
    "# make_classification"
   ]
  },
  {
   "cell_type": "code",
   "execution_count": 9,
   "id": "91fce4d9-19ed-443e-a812-b3dcbf23a759",
   "metadata": {},
   "outputs": [],
   "source": [
    "X, Y = sklearn.datasets.make_classification(n_samples=1000, n_features=8, n_informative=5, n_classes=2, random_state=42)\n",
    "X_train, X_test, Y_train, Y_test = sklearn.model_selection.train_test_split(X, Y, test_size=0.3, random_state=42)"
   ]
  },
  {
   "cell_type": "code",
   "execution_count": 10,
   "id": "72a76b26-59dd-47a2-af37-053ea20dc7bf",
   "metadata": {},
   "outputs": [],
   "source": [
    "# conf ={\n",
    "#     'epochs' : 50,\n",
    "#     'learning_rate' : 0.1,\n",
    "#     'metric_name' : 'mae', # Possible metrics for the moment : mae, mse\n",
    "#     'lltree_max_depth' : 3,\n",
    "#     'lltree_min_size_split' : 1,\n",
    "#     'lltree_criterion' : \"gini\",  # Possible metrics for the moment : variance, absolute_error\n",
    "#     'verbose' : 1,  # Possible metrics for the moment : variance, absolute_error\n",
    "# }\n",
    "# my_lltree = lltrees.lltree()\n",
    "# my_lltree.set_conf(conf)\n",
    "# my_lltree.get_conf()\n",
    "\n",
    "# start_time = time.time()\n",
    "# my_lltree.fit(X_train, Y_train)\n",
    "# print(\"FIT --- %s seconds ---\" % (time.time() - start_time))\n",
    "\n",
    "# start_time = time.time()\n",
    "# YP = my_lltree.predict(X_test)\n",
    "# print(\"PREDICT --- %s seconds ---\" % (time.time() - start_time))\n",
    "\n",
    "# print(\"accuracy_score: %.2f\" % np.sqrt(sklearn.metrics.accuracy_score(Y_test,YP)))\n",
    "# print(\"log_loss: %.2f\" % sklearn.metrics.log_loss(Y_test,YP))\n",
    "# print(\"f1_score: %.2f\" % sklearn.metrics.f1_score(Y_test,YP))"
   ]
  }
 ],
 "metadata": {
  "kernelspec": {
   "display_name": "Python 3 (ipykernel)",
   "language": "python",
   "name": "python3"
  },
  "language_info": {
   "codemirror_mode": {
    "name": "ipython",
    "version": 3
   },
   "file_extension": ".py",
   "mimetype": "text/x-python",
   "name": "python",
   "nbconvert_exporter": "python",
   "pygments_lexer": "ipython3",
   "version": "3.10.12"
  }
 },
 "nbformat": 4,
 "nbformat_minor": 5
}
