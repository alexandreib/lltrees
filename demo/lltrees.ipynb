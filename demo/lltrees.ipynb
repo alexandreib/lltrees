{
 "cells": [
  {
   "cell_type": "code",
   "execution_count": 2,
   "id": "4694f6f3-1d25-4369-a62d-26f480f9bc15",
   "metadata": {},
   "outputs": [],
   "source": [
    "import time\n",
    "\n",
    "import numpy as np\n",
    "import pandas as pd\n",
    "import sklearn.datasets, sklearn.metrics, sklearn.model_selection, sklearn.tree\n",
    "\n",
    "import subprocess, sys"
   ]
  },
  {
   "cell_type": "code",
   "execution_count": 10,
   "id": "5526f3ce-a219-406e-a9d5-4a63eb3ee51a",
   "metadata": {},
   "outputs": [
    {
     "name": "stdout",
     "output_type": "stream",
     "text": [
      "SOURCES = cpp/criterion.cpp cpp/factories.cpp cpp/gbt.cpp cpp/lltrees.cpp cpp/metrics.cpp cpp/node.cpp cpp/tree.cpp cpp/wrapper.cpp\n"
     ]
    }
   ],
   "source": [
    "!cd ../ && make print-SOURCES"
   ]
  },
  {
   "cell_type": "code",
   "execution_count": 132,
   "id": "4b37fff9-a165-434d-abe7-807421062df5",
   "metadata": {},
   "outputs": [
    {
     "name": "stdout",
     "output_type": "stream",
     "text": [
      "g++ -g -o build/tree.o cpp/tree.cpp -I/usr/include/python3.10 -I/usr/include/python3.10  -Wno-unused-result -Wsign-compare -g      -fstack-protector-strong -Wformat -Werror=format-security  -DNDEBUG -g -fwrapv -O2 -Wall -fPIC -c -std=c++20 -DBOOST_BIND_GLOBAL_PLACEHOLDERS -DBOOST_ALLOW_DEPRECATED_HEADERS\n",
      "g++ -g -o build/lltrees.so build/criterion.o build/factories.o build/gbt.o build/lltrees.o build/metrics.o build/node.o build/tree.o build/wrapper.o -L/usr/lib/python3.10/config-3.10-x86_64-linux-gnu -L/usr/lib/x86_64-linux-gnu  -lcrypt -ldl  -lm -lm  -shared -Wl,-rpath,/usr/lib  -lpython3.10 -lboost_python310 -lboost_numpy310\n",
      "-----------------------------------------\n",
      "mode :              regression\n",
      "epochs :            1\n",
      "learning_rate :     0.1\n",
      "metric :            mae\n",
      "criterion :         absolute_error\n",
      "max_depth :         3\n",
      "min_leaf_size :     1\n",
      "verbose :           1\n",
      "-----------------------------------------\n",
      "Type of Training Data : float64\n",
      "Configuration mode : regression\n",
      "Epoch : 1     Metric Train : 89.7231 Metric va : 97.8229 Residuals (mean) : -508.197\n",
      "FIT --- 0.018019437789916992 seconds ---\n",
      "PREDICT --- 1.2159347534179688e-05 seconds ---\n",
      "[-508.19749172]\n",
      "rmse: 121.59\n",
      "mae: 97.82\n",
      "r2: 0.10\n",
      "save\n",
      "gbt save\n",
      "0\n",
      "tree save \n",
      "print\n",
      "└──0\n",
      "    ├──1\n",
      "    │   ├──3\n",
      "    │   │   ├──5:-133.22\n",
      "    │   │   └──6:-47.8708\n",
      "    │   └──4\n",
      "    │       ├──7:10.02\n",
      "    │       └──8:105.431\n",
      "    └──2\n",
      "        ├──9\n",
      "        │   ├──11:-124.778\n",
      "        │   └──12:2.25414\n",
      "        └──10\n",
      "            ├──13:74.3448\n",
      "            └──14:160.6\n",
      "load\n",
      "gbt load\n",
      "tree load \n",
      "line 0 :0#0,1#1,3#3,5#5,#,#,6#6,#,#,4#4,7#7,#,#,8#8,#,#,2#2,9#9,11#11,#,#,12#12,#,#,10#10,13#13,#,#,14#14,#,#,\n",
      "line 1 :0#0 : 1#1,3#3,5#5,#,#,6#6,#,#,4#4,7#7,#,#,8#8,#,#,2#2,9#9,11#11,#,#,12#12,#,#,10#10,13#13,#,#,14#14,#,#,\n",
      "line 0 :1#1,3#3,5#5,#,#,6#6,#,#,4#4,7#7,#,#,8#8,#,#,2#2,9#9,11#11,#,#,12#12,#,#,10#10,13#13,#,#,14#14,#,#,\n",
      "line 1 :1#1 : 3#3,5#5,#,#,6#6,#,#,4#4,7#7,#,#,8#8,#,#,2#2,9#9,11#11,#,#,12#12,#,#,10#10,13#13,#,#,14#14,#,#,\n",
      "line 0 :3#3,5#5,#,#,6#6,#,#,4#4,7#7,#,#,8#8,#,#,2#2,9#9,11#11,#,#,12#12,#,#,10#10,13#13,#,#,14#14,#,#,\n",
      "line 1 :3#3 : 5#5,#,#,6#6,#,#,4#4,7#7,#,#,8#8,#,#,2#2,9#9,11#11,#,#,12#12,#,#,10#10,13#13,#,#,14#14,#,#,\n",
      "line 0 :5#5,#,#,6#6,#,#,4#4,7#7,#,#,8#8,#,#,2#2,9#9,11#11,#,#,12#12,#,#,10#10,13#13,#,#,14#14,#,#,\n",
      "line 1 :5#5 : #,#,6#6,#,#,4#4,7#7,#,#,8#8,#,#,2#2,9#9,11#11,#,#,12#12,#,#,10#10,13#13,#,#,14#14,#,#,\n",
      "line 0 :#,#,6#6,#,#,4#4,7#7,#,#,8#8,#,#,2#2,9#9,11#11,#,#,12#12,#,#,10#10,13#13,#,#,14#14,#,#,\n",
      "line 0 :#,6#6,#,#,4#4,7#7,#,#,8#8,#,#,2#2,9#9,11#11,#,#,12#12,#,#,10#10,13#13,#,#,14#14,#,#,\n",
      "line 0 :6#6,#,#,4#4,7#7,#,#,8#8,#,#,2#2,9#9,11#11,#,#,12#12,#,#,10#10,13#13,#,#,14#14,#,#,\n",
      "line 1 :6#6 : #,#,4#4,7#7,#,#,8#8,#,#,2#2,9#9,11#11,#,#,12#12,#,#,10#10,13#13,#,#,14#14,#,#,\n",
      "line 0 :#,#,4#4,7#7,#,#,8#8,#,#,2#2,9#9,11#11,#,#,12#12,#,#,10#10,13#13,#,#,14#14,#,#,\n",
      "line 0 :#,4#4,7#7,#,#,8#8,#,#,2#2,9#9,11#11,#,#,12#12,#,#,10#10,13#13,#,#,14#14,#,#,\n",
      "line 0 :4#4,7#7,#,#,8#8,#,#,2#2,9#9,11#11,#,#,12#12,#,#,10#10,13#13,#,#,14#14,#,#,\n",
      "line 1 :4#4 : 7#7,#,#,8#8,#,#,2#2,9#9,11#11,#,#,12#12,#,#,10#10,13#13,#,#,14#14,#,#,\n",
      "line 0 :7#7,#,#,8#8,#,#,2#2,9#9,11#11,#,#,12#12,#,#,10#10,13#13,#,#,14#14,#,#,\n",
      "line 1 :7#7 : #,#,8#8,#,#,2#2,9#9,11#11,#,#,12#12,#,#,10#10,13#13,#,#,14#14,#,#,\n",
      "line 0 :#,#,8#8,#,#,2#2,9#9,11#11,#,#,12#12,#,#,10#10,13#13,#,#,14#14,#,#,\n",
      "line 0 :#,8#8,#,#,2#2,9#9,11#11,#,#,12#12,#,#,10#10,13#13,#,#,14#14,#,#,\n",
      "line 0 :8#8,#,#,2#2,9#9,11#11,#,#,12#12,#,#,10#10,13#13,#,#,14#14,#,#,\n",
      "line 1 :8#8 : #,#,2#2,9#9,11#11,#,#,12#12,#,#,10#10,13#13,#,#,14#14,#,#,\n",
      "line 0 :#,#,2#2,9#9,11#11,#,#,12#12,#,#,10#10,13#13,#,#,14#14,#,#,\n",
      "line 0 :#,2#2,9#9,11#11,#,#,12#12,#,#,10#10,13#13,#,#,14#14,#,#,\n",
      "line 0 :2#2,9#9,11#11,#,#,12#12,#,#,10#10,13#13,#,#,14#14,#,#,\n",
      "line 1 :2#2 : 9#9,11#11,#,#,12#12,#,#,10#10,13#13,#,#,14#14,#,#,\n",
      "line 0 :9#9,11#11,#,#,12#12,#,#,10#10,13#13,#,#,14#14,#,#,\n",
      "line 1 :9#9 : 11#11,#,#,12#12,#,#,10#10,13#13,#,#,14#14,#,#,\n",
      "line 0 :11#11,#,#,12#12,#,#,10#10,13#13,#,#,14#14,#,#,\n",
      "line 1 :11#11 : #,#,12#12,#,#,10#10,13#13,#,#,14#14,#,#,\n",
      "line 0 :#,#,12#12,#,#,10#10,13#13,#,#,14#14,#,#,\n",
      "line 0 :#,12#12,#,#,10#10,13#13,#,#,14#14,#,#,\n",
      "line 0 :12#12,#,#,10#10,13#13,#,#,14#14,#,#,\n",
      "line 1 :12#12 : #,#,10#10,13#13,#,#,14#14,#,#,\n",
      "line 0 :#,#,10#10,13#13,#,#,14#14,#,#,\n",
      "line 0 :#,10#10,13#13,#,#,14#14,#,#,\n",
      "line 0 :10#10,13#13,#,#,14#14,#,#,\n",
      "line 1 :10#10 : 13#13,#,#,14#14,#,#,\n",
      "line 0 :13#13,#,#,14#14,#,#,\n",
      "line 1 :13#13 : #,#,14#14,#,#,\n",
      "line 0 :#,#,14#14,#,#,\n",
      "line 0 :#,14#14,#,#,\n",
      "line 0 :14#14,#,#,\n",
      "line 1 :14#14 : #,#,\n",
      "line 0 :#,#,\n",
      "line 0 :#,\n",
      "└──0:nan\n",
      "    ├──1:nan\n",
      "    │   ├──3:nan\n",
      "    │   │   ├──5:nan\n",
      "    │   │   └──6:nan\n",
      "    │   └──4:nan\n",
      "    │       ├──7:nan\n",
      "    │       └──8:nan\n",
      "    └──2:nan\n",
      "        ├──9:nan\n",
      "        │   ├──11:nan\n",
      "        │   └──12:nan\n",
      "        └──10:nan\n",
      "            ├──13:nan\n",
      "            └──14:nan\n",
      "end gbt load\n",
      "PREDICT --- 0.0012447834014892578 seconds ---\n",
      "[-508.19749172]\n"
     ]
    },
    {
     "name": "stderr",
     "output_type": "stream",
     "text": [
      "Traceback (most recent call last):\n",
      "  File \"/home/alexandre/Desktop/lltrees/demo/lltrees_python_import_for_debug.py\", line 46, in <module>\n",
      "    print(\"rmse: %.2f\" % np.sqrt(sklearn.metrics.mean_squared_error(Y_test,YP)))\n",
      "  File \"/home/alexandre/.local/lib/python3.10/site-packages/sklearn/metrics/_regression.py\", line 442, in mean_squared_error\n",
      "    y_type, y_true, y_pred, multioutput = _check_reg_targets(\n",
      "  File \"/home/alexandre/.local/lib/python3.10/site-packages/sklearn/metrics/_regression.py\", line 102, in _check_reg_targets\n",
      "    y_pred = check_array(y_pred, ensure_2d=False, dtype=dtype)\n",
      "  File \"/home/alexandre/.local/lib/python3.10/site-packages/sklearn/utils/validation.py\", line 899, in check_array\n",
      "    _assert_all_finite(\n",
      "  File \"/home/alexandre/.local/lib/python3.10/site-packages/sklearn/utils/validation.py\", line 146, in _assert_all_finite\n",
      "    raise ValueError(msg_err)\n",
      "ValueError: Input contains NaN.\n"
     ]
    },
    {
     "data": {
      "text/plain": [
       "1"
      ]
     },
     "execution_count": 132,
     "metadata": {},
     "output_type": "execute_result"
    }
   ],
   "source": [
    "# !cd ../ && make clean\n",
    "!cd ../ && make\n",
    "subprocess.call([sys.executable, \"lltrees_python_import_for_debug.py\"])"
   ]
  },
  {
   "cell_type": "markdown",
   "id": "ca385113-e559-470e-9216-1a1682b3cc69",
   "metadata": {},
   "source": [
    "# make_regression"
   ]
  },
  {
   "cell_type": "code",
   "execution_count": 39,
   "id": "007b01d7-0a37-444a-8367-d94b4bc03b1b",
   "metadata": {},
   "outputs": [],
   "source": [
    "X, Y = sklearn.datasets.make_regression(n_samples=1000, n_features=8, n_informative=5, n_targets=1, noise=1, random_state=42)\n",
    "X_train, X_test, Y_train, Y_test = sklearn.model_selection.train_test_split(X, Y, test_size=0.3, random_state=42)"
   ]
  },
  {
   "cell_type": "code",
   "execution_count": null,
   "id": "7287411a-9cd4-46c6-826d-cd2db3e6a254",
   "metadata": {},
   "outputs": [],
   "source": [
    "sys.path.append('/home/alexandre/Desktop/lltrees/build')\n",
    "import lltrees\n",
    "conf ={\n",
    "    'epochs' : 1,\n",
    "    'learning_rate' : 1,\n",
    "    'metric' : 'mae', # Possible metrics for the moment : mae, mse\n",
    "    'max_depth' : 5,\n",
    "    'min_leaf_size' : 2,\n",
    "    'criterion' : \"absolute_error\",  # Possible metrics for the moment : variance, absolute_error\n",
    "    'verbose' : 1, \n",
    "}\n",
    "my_lltree = lltrees.lltree()\n",
    "my_lltree.set_conf(conf)\n",
    "my_lltree.get_conf()\n",
    "\n",
    "start_time = time.time()\n",
    "my_lltree.fit(X_train, Y_train, X_test, Y_test)\n",
    "print(\"FIT --- %s seconds ---\" % (time.time() - start_time))\n",
    "\n",
    "start_time = time.time()\n",
    "YP = my_lltree.predict(X_test)\n",
    "print(\"PREDICT --- %s seconds ---\" % (time.time() - start_time))\n",
    "\n",
    "print(\"rmse: %.2f\" % np.sqrt(sklearn.metrics.mean_squared_error(Y_test,YP)))\n",
    "print(\"mae: %.2f\" % sklearn.metrics.mean_absolute_error(Y_test,YP))\n",
    "print(\"r2: %.2f\" % sklearn.metrics.r2_score(Y_test,YP))"
   ]
  },
  {
   "cell_type": "code",
   "execution_count": 14,
   "id": "44b9a64c-d11f-49aa-b9cc-1f8b8f66a301",
   "metadata": {},
   "outputs": [
    {
     "name": "stdout",
     "output_type": "stream",
     "text": [
      "FIT --- 0.020457029342651367 seconds ---\n",
      "PREDICT --- 0.00027060508728027344 seconds ---\n",
      "[  -5.25635722  127.29805997 -110.4560012   122.24421396 -110.4560012\n",
      "  -39.90414254  106.73581898  -39.90414254  223.68925908  240.37517626]\n",
      "rmse: 63.68\n",
      "mae: 49.35\n",
      "r2: 0.74\n"
     ]
    }
   ],
   "source": [
    "my_lltree = sklearn.tree.DecisionTreeRegressor(max_depth = 5, criterion =\"absolute_error\", random_state = 0)\n",
    "\n",
    "start_time = time.time()\n",
    "my_lltree.fit(X_train, Y_train)\n",
    "print(\"FIT --- %s seconds ---\" % (time.time() - start_time))\n",
    "\n",
    "start_time = time.time()\n",
    "YP = my_lltree.predict(X_test)\n",
    "print(\"PREDICT --- %s seconds ---\" % (time.time() - start_time))\n",
    "\n",
    "print(YP[0:10])\n",
    "print(\"rmse: %.2f\" % np.sqrt(sklearn.metrics.mean_squared_error(Y_test,YP)))\n",
    "print(\"mae: %.2f\" % sklearn.metrics.mean_absolute_error(Y_test,YP))\n",
    "print(\"r2: %.2f\" % sklearn.metrics.r2_score(Y_test,YP))"
   ]
  },
  {
   "cell_type": "code",
   "execution_count": null,
   "id": "e6a50c75-f4f7-45ee-a66b-8bc9249121cf",
   "metadata": {},
   "outputs": [],
   "source": [
    "conf ={\n",
    "    'epochs' : 50,\n",
    "    'learning_rate' : 0.1,\n",
    "    'metric' : 'mae', # Possible metrics for the moment : mae, mse\n",
    "    'max_depth' : 5,\n",
    "    'min_leaf_size' : 2,\n",
    "    'criterion' : \"absolute_error\",  # Possible metrics for the moment : variance, absolute_error\n",
    "    'verbose' : 0, \n",
    "}\n",
    "my_lltree = lltrees.lltree()\n",
    "my_lltree.set_conf(conf)\n",
    "my_lltree.get_conf()\n",
    "\n",
    "start_time = time.time()\n",
    "my_lltree.fit(X_train, Y_train, X_test, Y_test)\n",
    "print(\"FIT --- %s seconds ---\" % (time.time() - start_time))\n",
    "\n",
    "start_time = time.time()\n",
    "YP = my_lltree.predict(X_test)\n",
    "print(\"PREDICT --- %s seconds ---\" % (time.time() - start_time))\n",
    "\n",
    "print(\"rmse: %.2f\" % np.sqrt(sklearn.metrics.mean_squared_error(Y_test,YP)))\n",
    "print(\"mae: %.2f\" % sklearn.metrics.mean_absolute_error(Y_test,YP))\n",
    "print(\"r2: %.2f\" % sklearn.metrics.r2_score(Y_test,YP))"
   ]
  },
  {
   "cell_type": "code",
   "execution_count": null,
   "id": "c090343b-8e53-4e89-b97c-5a3fd67a548b",
   "metadata": {},
   "outputs": [],
   "source": [
    "from sklearn.ensemble import GradientBoostingRegressor\n",
    "my_lltree = GradientBoostingRegressor(learning_rate = 0.1, n_estimators =50, max_depth = 5,\n",
    "                                 loss = 'absolute_error', criterion = 'squared_error',\n",
    "                                 random_state = 0)\n",
    "\n",
    "start_time = time.time()\n",
    "my_lltree.fit(X_train, Y_train)\n",
    "print(\"FIT --- %s seconds ---\" % (time.time() - start_time))\n",
    "\n",
    "start_time = time.time()\n",
    "YP = my_lltree.predict(X_test)\n",
    "print(\"PREDICT --- %s seconds ---\" % (time.time() - start_time))\n",
    "\n",
    "print(\"rmse: %.2f\" % np.sqrt(sklearn.metrics.mean_squared_error(Y_test,YP)))\n",
    "print(\"mae: %.2f\" % sklearn.metrics.mean_absolute_error(Y_test,YP))\n",
    "print(\"r2: %.2f\" % sklearn.metrics.r2_score(Y_test,YP))"
   ]
  },
  {
   "cell_type": "markdown",
   "id": "5e699efd-5f26-43ad-85f9-c5d9bed356fe",
   "metadata": {},
   "source": [
    "# make_classification"
   ]
  },
  {
   "cell_type": "code",
   "execution_count": null,
   "id": "91fce4d9-19ed-443e-a812-b3dcbf23a759",
   "metadata": {},
   "outputs": [],
   "source": [
    "# X, Y = sklearn.datasets.make_classification(n_samples=1000, n_features=8, n_informative=5, n_classes=2, random_state=42)\n",
    "# X_train, X_test, Y_train, Y_test = sklearn.model_selection.train_test_split(X, Y, test_size=0.3, random_state=42)"
   ]
  },
  {
   "cell_type": "code",
   "execution_count": null,
   "id": "72a76b26-59dd-47a2-af37-053ea20dc7bf",
   "metadata": {},
   "outputs": [],
   "source": [
    "# conf ={\n",
    "#     'epochs' : 50,\n",
    "#     'learning_rate' : 0.1,\n",
    "#     'metric_name' : 'mae', # Possible metrics for the moment : mae, mse\n",
    "#     'lltree_max_depth' : 3,\n",
    "#     'lltree_min_size_split' : 1,\n",
    "#     'lltree_criterion' : \"gini\",  # Possible metrics for the moment : variance, absolute_error\n",
    "#     'verbose' : 1,  # Possible metrics for the moment : variance, absolute_error\n",
    "# }\n",
    "# my_lltree = lltrees.lltree()\n",
    "# my_lltree.set_conf(conf)\n",
    "# my_lltree.get_conf()\n",
    "\n",
    "# start_time = time.time()\n",
    "# my_lltree.fit(X_train, Y_train)\n",
    "# print(\"FIT --- %s seconds ---\" % (time.time() - start_time))\n",
    "\n",
    "# start_time = time.time()\n",
    "# YP = my_lltree.predict(X_test)\n",
    "# print(\"PREDICT --- %s seconds ---\" % (time.time() - start_time))\n",
    "\n",
    "# print(\"accuracy_score: %.2f\" % np.sqrt(sklearn.metrics.accuracy_score(Y_test,YP)))\n",
    "# print(\"log_loss: %.2f\" % sklearn.metrics.log_loss(Y_test,YP))\n",
    "# print(\"f1_score: %.2f\" % sklearn.metrics.f1_score(Y_test,YP))"
   ]
  }
 ],
 "metadata": {
  "kernelspec": {
   "display_name": "Python 3 (ipykernel)",
   "language": "python",
   "name": "python3"
  },
  "language_info": {
   "codemirror_mode": {
    "name": "ipython",
    "version": 3
   },
   "file_extension": ".py",
   "mimetype": "text/x-python",
   "name": "python",
   "nbconvert_exporter": "python",
   "pygments_lexer": "ipython3",
   "version": "3.10.12"
  }
 },
 "nbformat": 4,
 "nbformat_minor": 5
}
