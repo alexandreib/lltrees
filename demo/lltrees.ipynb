{
 "cells": [
  {
   "cell_type": "code",
   "execution_count": 1,
   "id": "4694f6f3-1d25-4369-a62d-26f480f9bc15",
   "metadata": {},
   "outputs": [],
   "source": [
    "import time\n",
    "\n",
    "import numpy as np\n",
    "import pandas as pd\n",
    "import sklearn.datasets, sklearn.metrics, sklearn.model_selection, sklearn.tree\n",
    "\n",
    "import subprocess, sys"
   ]
  },
  {
   "cell_type": "code",
   "execution_count": 2,
   "id": "5526f3ce-a219-406e-a9d5-4a63eb3ee51a",
   "metadata": {},
   "outputs": [
    {
     "name": "stdout",
     "output_type": "stream",
     "text": [
      "SOURCES = cpp/criterion.cpp cpp/factories.cpp cpp/gbt.cpp cpp/lltrees.cpp cpp/metrics.cpp cpp/node.cpp cpp/tree.cpp cpp/wrapper.cpp\n"
     ]
    }
   ],
   "source": [
    "!cd ../ && make print-SOURCES"
   ]
  },
  {
   "cell_type": "code",
   "execution_count": 3,
   "id": "e4ad5c1c-da5d-4eec-b2d4-78a402a674b7",
   "metadata": {},
   "outputs": [],
   "source": [
    "X, Y = sklearn.datasets.make_classification(n_samples=1000, n_features=8, n_informative=5, n_classes=2, random_state=42)\n",
    "X_train, X_test, Y_train, Y_test = sklearn.model_selection.train_test_split(X, Y, test_size=0.3, random_state=42)"
   ]
  },
  {
   "cell_type": "code",
   "execution_count": 4,
   "id": "5c44fcbe-fe02-4128-a14b-f3d2069463c2",
   "metadata": {},
   "outputs": [
    {
     "data": {
      "text/plain": [
       "(array([0, 1]), array([359, 341]))"
      ]
     },
     "execution_count": 4,
     "metadata": {},
     "output_type": "execute_result"
    }
   ],
   "source": [
    "np.unique(Y_train, return_counts=True)"
   ]
  },
  {
   "cell_type": "code",
   "execution_count": 54,
   "id": "4b37fff9-a165-434d-abe7-807421062df5",
   "metadata": {},
   "outputs": [
    {
     "name": "stdout",
     "output_type": "stream",
     "text": [
      "make: Nothing to be done for 'all'.\n",
      "-----------------------------------------\n",
      "mode :              classification\n",
      "epochs :            1\n",
      "learning_rate :     1\n",
      "metric :            accuracy\n",
      "criterion :         gini\n",
      "max_depth :         3\n",
      "min_leaf_size :     5\n",
      "verbose :           1\n",
      "-----------------------------------------\n",
      "Type of Training Data : int64\n",
      "Configuration mode : classification\n",
      "Gbt_classification fit\n",
      "All the distinct element for classification in sorted order are: \n",
      "0 1 \n",
      "Epoch : 1     Metric Train : 0.765714 Metric va : 0.72    Residuals (mean) : 0.765714\n",
      "Print.\n",
      "Tree : 0\n",
      "└──0, impurity: 0.379249, size: 700\n",
      "    ├──1, impurity: 0.498967, size: 44\n",
      "    │   ├──3, impurity: 0.437045, size: 31\n",
      "    │   │   ├──5, impurity: 0.30839, leaf_value: 0, size: 21\n",
      "    │   │   └──6, impurity: 0.48, leaf_value: 1, size: 10\n",
      "    │   └──4, impurity: 0.260355, size: 13\n",
      "    │       ├──7, impurity: 0, leaf_value: 1, size: 7\n",
      "    │       └──8, impurity: 0.444444, leaf_value: 1, size: 6\n",
      "    └──2, impurity: 0.364102, size: 656\n",
      "        ├──9, impurity: 0.408163, leaf_value: 1, size: 7\n",
      "        └──10, impurity: 0.358708, size: 649\n",
      "            ├──11, impurity: 0.243449, leaf_value: 0, size: 141\n",
      "            └──12, impurity: 0.384649, leaf_value: 0, size: 508\n",
      "predict_proba\n",
      "-----------------------------------------\n",
      "mode :              regression\n",
      "epochs :            3\n",
      "learning_rate :     0.1\n",
      "metric :            mae\n",
      "criterion :         absolute_error\n",
      "max_depth :         5\n",
      "min_leaf_size :     2\n",
      "verbose :           1\n",
      "-----------------------------------------\n",
      "Type of Training Data : float64\n",
      "Configuration mode : regression\n",
      "Epoch : 1     Metric Train : 88.3582 Metric va : 96.3501 Residuals (mean) : -508.197\n",
      "Epoch : 2     Metric Train : 81.206  Metric va : 90.0042 Residuals (mean) : -457.378\n",
      "Epoch : 3     Metric Train : 74.7018 Metric va : 84.1227 Residuals (mean) : -411.64\n",
      "Save.\n",
      "FIT --- 0.05517005920410156 seconds ---\n",
      "PREDICT --- 8.344650268554688e-06 seconds ---\n",
      "accuracy_score: 0.69\n",
      "log_loss: 18.08\n",
      "f1_score: 0.07\n",
      "(array([0, 1], dtype=int32), array([292,   8]))\n",
      "[[0.80952381 0.19047619]\n",
      " [0.74015748 0.25984252]\n",
      " [0.74015748 0.25984252]\n",
      " [0.74015748 0.25984252]\n",
      " [0.80952381 0.19047619]\n",
      " [0.74015748 0.25984252]\n",
      " [0.74015748 0.25984252]\n",
      " [0.85815603 0.14184397]\n",
      " [0.74015748 0.25984252]\n",
      " [0.74015748 0.25984252]]\n",
      "          0         1\n",
      "0  0.809524  0.190476\n",
      "1  0.740157  0.259843\n",
      "2  0.740157  0.259843\n",
      "3  0.740157  0.259843\n",
      "4  0.809524  0.190476\n",
      "(600, 2)\n",
      "FIT --- 0.07811737060546875 seconds ---\n",
      "PREDICT --- 4.2438507080078125e-05 seconds ---\n",
      "[-508.19749172 -457.37774255 -411.63996829]\n",
      "rmse: 105.36\n",
      "mae: 84.12\n",
      "r2: 0.32\n"
     ]
    },
    {
     "data": {
      "text/plain": [
       "0"
      ]
     },
     "execution_count": 54,
     "metadata": {},
     "output_type": "execute_result"
    }
   ],
   "source": [
    "# !cd ../ && make clean\n",
    "!cd ../ && make\n",
    "subprocess.call([sys.executable, \"lltrees_python_import_for_debug.py\"])"
   ]
  },
  {
   "cell_type": "markdown",
   "id": "ca385113-e559-470e-9216-1a1682b3cc69",
   "metadata": {},
   "source": [
    "# make_regression"
   ]
  },
  {
   "cell_type": "code",
   "execution_count": 6,
   "id": "007b01d7-0a37-444a-8367-d94b4bc03b1b",
   "metadata": {},
   "outputs": [],
   "source": [
    "X, Y = sklearn.datasets.make_regression(n_samples=1000, n_features=8, n_informative=5, n_targets=1, noise=1, random_state=42)\n",
    "X_train, X_test, Y_train, Y_test = sklearn.model_selection.train_test_split(X, Y, test_size=0.3, random_state=42)"
   ]
  },
  {
   "cell_type": "code",
   "execution_count": 7,
   "id": "7287411a-9cd4-46c6-826d-cd2db3e6a254",
   "metadata": {},
   "outputs": [
    {
     "name": "stdout",
     "output_type": "stream",
     "text": [
      "FIT --- 0.018770933151245117 seconds ---\n",
      "PREDICT --- 7.963180541992188e-05 seconds ---\n",
      "rmse: 63.46\n",
      "mae: 49.21\n",
      "-----------------------------------------\n",
      "mode :              regression\n",
      "epochs :            1\n",
      "learning_rate :     1\n",
      "metric :            mae\n",
      "criterion :         absolute_error\n",
      "max_depth :         5\n",
      "min_leaf_size :     2\n",
      "verbose :           1\n",
      "-----------------------------------------\n",
      "r2: 0.74\n",
      "Type of Training Data : float64\n",
      "Configuration mode : regression\n",
      "Epoch : 1     Metric Train : 38.4851 Metric va : 49.2101 Residuals (mean) : -2355.95\n"
     ]
    }
   ],
   "source": [
    "sys.path.append('/home/alexandre/Desktop/lltrees/build')\n",
    "import lltrees\n",
    "conf ={\n",
    "    'epochs' : 1,\n",
    "    'learning_rate' : 1,\n",
    "    'metric' : 'mae', # Possible metrics for the moment : mae, mse\n",
    "    'max_depth' : 5,\n",
    "    'min_leaf_size' : 2,\n",
    "    'criterion' : \"absolute_error\",  # Possible metrics for the moment : variance, absolute_error\n",
    "    'verbose' : 1, \n",
    "}\n",
    "my_lltree = lltrees.lltree()\n",
    "my_lltree.set_conf(conf)\n",
    "my_lltree.get_conf()\n",
    "\n",
    "start_time = time.time()\n",
    "my_lltree.fit(X_train, Y_train, X_test, Y_test)\n",
    "print(\"FIT --- %s seconds ---\" % (time.time() - start_time))\n",
    "\n",
    "start_time = time.time()\n",
    "YP = my_lltree.predict(X_test)\n",
    "print(\"PREDICT --- %s seconds ---\" % (time.time() - start_time))\n",
    "\n",
    "print(\"rmse: %.2f\" % np.sqrt(sklearn.metrics.mean_squared_error(Y_test,YP)))\n",
    "print(\"mae: %.2f\" % sklearn.metrics.mean_absolute_error(Y_test,YP))\n",
    "print(\"r2: %.2f\" % sklearn.metrics.r2_score(Y_test,YP))"
   ]
  },
  {
   "cell_type": "code",
   "execution_count": 8,
   "id": "44b9a64c-d11f-49aa-b9cc-1f8b8f66a301",
   "metadata": {},
   "outputs": [
    {
     "name": "stdout",
     "output_type": "stream",
     "text": [
      "FIT --- 0.02007150650024414 seconds ---\n",
      "PREDICT --- 0.00016570091247558594 seconds ---\n",
      "[  -5.25635722  127.29805997 -110.4560012   122.24421396 -110.4560012\n",
      "  -39.90414254  106.73581898  -39.90414254  223.68925908  240.37517626]\n",
      "rmse: 63.68\n",
      "mae: 49.35\n",
      "r2: 0.74\n"
     ]
    }
   ],
   "source": [
    "my_lltree = sklearn.tree.DecisionTreeRegressor(max_depth = 5, criterion =\"absolute_error\", random_state = 0)\n",
    "\n",
    "start_time = time.time()\n",
    "my_lltree.fit(X_train, Y_train)\n",
    "print(\"FIT --- %s seconds ---\" % (time.time() - start_time))\n",
    "\n",
    "start_time = time.time()\n",
    "YP = my_lltree.predict(X_test)\n",
    "print(\"PREDICT --- %s seconds ---\" % (time.time() - start_time))\n",
    "\n",
    "print(YP[0:10])\n",
    "print(\"rmse: %.2f\" % np.sqrt(sklearn.metrics.mean_squared_error(Y_test,YP)))\n",
    "print(\"mae: %.2f\" % sklearn.metrics.mean_absolute_error(Y_test,YP))\n",
    "print(\"r2: %.2f\" % sklearn.metrics.r2_score(Y_test,YP))"
   ]
  },
  {
   "cell_type": "code",
   "execution_count": 9,
   "id": "e6a50c75-f4f7-45ee-a66b-8bc9249121cf",
   "metadata": {},
   "outputs": [
    {
     "name": "stdout",
     "output_type": "stream",
     "text": [
      "FIT --- 1.0111730098724365 seconds ---\n",
      "PREDICT --- 0.0005698204040527344 seconds ---\n",
      "rmse: 27.26\n",
      "mae: 20.18\n",
      "r2: 0.95\n",
      "-----------------------------------------\n",
      "mode :              regression\n",
      "epochs :            50\n",
      "learning_rate :     0.1\n",
      "metric :            mae\n",
      "criterion :         absolute_error\n",
      "max_depth :         5\n",
      "min_leaf_size :     2\n",
      "verbose :           0\n",
      "-----------------------------------------\n",
      "Type of Training Data : float64\n",
      "Configuration mode : regression\n"
     ]
    }
   ],
   "source": [
    "conf ={\n",
    "    'epochs' : 50,\n",
    "    'learning_rate' : 0.1,\n",
    "    'metric' : 'mae', # Possible metrics for the moment : mae, mse\n",
    "    'max_depth' : 5,\n",
    "    'min_leaf_size' : 2,\n",
    "    'criterion' : \"absolute_error\",  # Possible metrics for the moment : variance, absolute_error\n",
    "    'verbose' : 0, \n",
    "}\n",
    "my_lltree = lltrees.lltree()\n",
    "my_lltree.set_conf(conf)\n",
    "my_lltree.get_conf()\n",
    "\n",
    "start_time = time.time()\n",
    "my_lltree.fit(X_train, Y_train, X_test, Y_test)\n",
    "print(\"FIT --- %s seconds ---\" % (time.time() - start_time))\n",
    "\n",
    "start_time = time.time()\n",
    "YP = my_lltree.predict(X_test)\n",
    "print(\"PREDICT --- %s seconds ---\" % (time.time() - start_time))\n",
    "\n",
    "print(\"rmse: %.2f\" % np.sqrt(sklearn.metrics.mean_squared_error(Y_test,YP)))\n",
    "print(\"mae: %.2f\" % sklearn.metrics.mean_absolute_error(Y_test,YP))\n",
    "print(\"r2: %.2f\" % sklearn.metrics.r2_score(Y_test,YP))"
   ]
  },
  {
   "cell_type": "code",
   "execution_count": 10,
   "id": "c090343b-8e53-4e89-b97c-5a3fd67a548b",
   "metadata": {},
   "outputs": [
    {
     "name": "stdout",
     "output_type": "stream",
     "text": [
      "FIT --- 0.2765219211578369 seconds ---\n",
      "PREDICT --- 0.0008664131164550781 seconds ---\n",
      "rmse: 34.85\n",
      "mae: 25.04\n",
      "r2: 0.92\n"
     ]
    }
   ],
   "source": [
    "from sklearn.ensemble import GradientBoostingRegressor\n",
    "my_lltree = GradientBoostingRegressor(learning_rate = 0.1, n_estimators =50, max_depth = 5,\n",
    "                                 loss = 'absolute_error', criterion = 'squared_error',\n",
    "                                 random_state = 0)\n",
    "\n",
    "start_time = time.time()\n",
    "my_lltree.fit(X_train, Y_train)\n",
    "print(\"FIT --- %s seconds ---\" % (time.time() - start_time))\n",
    "\n",
    "start_time = time.time()\n",
    "YP = my_lltree.predict(X_test)\n",
    "print(\"PREDICT --- %s seconds ---\" % (time.time() - start_time))\n",
    "\n",
    "print(\"rmse: %.2f\" % np.sqrt(sklearn.metrics.mean_squared_error(Y_test,YP)))\n",
    "print(\"mae: %.2f\" % sklearn.metrics.mean_absolute_error(Y_test,YP))\n",
    "print(\"r2: %.2f\" % sklearn.metrics.r2_score(Y_test,YP))"
   ]
  },
  {
   "cell_type": "markdown",
   "id": "5e699efd-5f26-43ad-85f9-c5d9bed356fe",
   "metadata": {},
   "source": [
    "# make_classification"
   ]
  },
  {
   "cell_type": "code",
   "execution_count": 11,
   "id": "91fce4d9-19ed-443e-a812-b3dcbf23a759",
   "metadata": {},
   "outputs": [],
   "source": [
    "X, Y = sklearn.datasets.make_classification(n_samples=1000, n_features=8, n_informative=5, n_classes=2, random_state=42)\n",
    "X_train, X_test, Y_train, Y_test = sklearn.model_selection.train_test_split(X, Y, test_size=0.3, random_state=42)"
   ]
  },
  {
   "cell_type": "code",
   "execution_count": 12,
   "id": "18d39f04-0383-4595-ac79-a5384e960635",
   "metadata": {},
   "outputs": [
    {
     "name": "stdout",
     "output_type": "stream",
     "text": [
      "FIT --- 0.0027649402618408203 seconds ---\n",
      "PREDICT --- 0.00015401840209960938 seconds ---\n",
      "accuracy_score: 0.94\n",
      "log_loss: 3.80\n",
      "f1_score: 0.90\n"
     ]
    }
   ],
   "source": [
    "from sklearn.tree import DecisionTreeClassifier\n",
    "my_lltree = DecisionTreeClassifier(max_depth = 5, min_samples_split=5,\n",
    "                                 splitter = 'best', criterion = 'gini',\n",
    "                                 random_state = 0)\n",
    "\n",
    "start_time = time.time()\n",
    "my_lltree.fit(X_train, Y_train)\n",
    "print(\"FIT --- %s seconds ---\" % (time.time() - start_time))\n",
    "\n",
    "start_time = time.time()\n",
    "YP = my_lltree.predict(X_test)\n",
    "print(\"PREDICT --- %s seconds ---\" % (time.time() - start_time))\n",
    "\n",
    "print(\"accuracy_score: %.2f\" % np.sqrt(sklearn.metrics.accuracy_score(Y_test,YP)))\n",
    "print(\"log_loss: %.2f\" % sklearn.metrics.log_loss(Y_test,YP))\n",
    "print(\"f1_score: %.2f\" % sklearn.metrics.f1_score(Y_test,YP))"
   ]
  },
  {
   "cell_type": "code",
   "execution_count": 13,
   "id": "72a76b26-59dd-47a2-af37-053ea20dc7bf",
   "metadata": {},
   "outputs": [
    {
     "name": "stdout",
     "output_type": "stream",
     "text": [
      "-----------------------------------------\n",
      "mode :              classification\n",
      "epochs :            1\n",
      "learning_rate :     1\n",
      "metric :            accuracy\n",
      "criterion :         gini\n",
      "max_depth :         5\n",
      "min_leaf_size :     5\n",
      "verbose :           1\n",
      "-----------------------------------------\n",
      "Type of Training Data : int64\n",
      "Configuration mode : classification\n",
      "Gbt_classification fit\n",
      "Epoch : 1     Metric Train : 0.78    Metric va : 0.696667 Residuals (mean) : 0.78   \n",
      "FIT --- 0.08093905448913574 seconds ---\n",
      "PREDICT --- 5.91278076171875e-05 seconds ---\n",
      "accuracy_score: 0.68\n",
      "log_loss: 18.42\n",
      "f1_score: 0.13\n"
     ]
    }
   ],
   "source": [
    "conf ={\n",
    "    'mode' : 'classification',\n",
    "    'epochs' : 1,\n",
    "    'learning_rate' : 1,\n",
    "    'metric' : 'accuracy',\n",
    "    'max_depth' : 5,\n",
    "    'min_leaf_size' : 5,\n",
    "    'criterion' : \"gini\",  \n",
    "    'verbose' : 1,  \n",
    "}\n",
    "my_lltree = lltrees.lltree()\n",
    "my_lltree.set_conf(conf)\n",
    "my_lltree.get_conf()\n",
    "\n",
    "start_time = time.time()\n",
    "my_lltree.fit(X_train, Y_train, X_test, Y_test)\n",
    "print(\"FIT --- %s seconds ---\" % (time.time() - start_time))\n",
    "\n",
    "start_time = time.time()\n",
    "YP = my_lltree.predict(X_test)\n",
    "print(\"PREDICT --- %s seconds ---\" % (time.time() - start_time))\n",
    "\n",
    "print(\"accuracy_score: %.2f\" % np.sqrt(sklearn.metrics.accuracy_score(Y_test,YP)))\n",
    "print(\"log_loss: %.2f\" % sklearn.metrics.log_loss(Y_test,YP))\n",
    "print(\"f1_score: %.2f\" % sklearn.metrics.f1_score(Y_test,YP))"
   ]
  }
 ],
 "metadata": {
  "kernelspec": {
   "display_name": "Python 3 (ipykernel)",
   "language": "python",
   "name": "python3"
  },
  "language_info": {
   "codemirror_mode": {
    "name": "ipython",
    "version": 3
   },
   "file_extension": ".py",
   "mimetype": "text/x-python",
   "name": "python",
   "nbconvert_exporter": "python",
   "pygments_lexer": "ipython3",
   "version": "3.10.12"
  }
 },
 "nbformat": 4,
 "nbformat_minor": 5
}
