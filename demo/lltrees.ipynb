{
 "cells": [
  {
   "cell_type": "code",
   "execution_count": 1,
   "id": "4694f6f3-1d25-4369-a62d-26f480f9bc15",
   "metadata": {},
   "outputs": [],
   "source": [
    "import time\n",
    "\n",
    "import numpy as np\n",
    "import pandas as pd\n",
    "import sklearn.datasets, sklearn.metrics, sklearn.model_selection, sklearn.tree\n",
    "\n",
    "import subprocess, sys"
   ]
  },
  {
   "cell_type": "code",
   "execution_count": 2,
   "id": "5526f3ce-a219-406e-a9d5-4a63eb3ee51a",
   "metadata": {},
   "outputs": [
    {
     "name": "stdout",
     "output_type": "stream",
     "text": [
      "SOURCES = cpp/conf.cpp cpp/criterion.cpp cpp/factories.cpp cpp/gbt.cpp cpp/lltrees.cpp cpp/metrics.cpp cpp/node.cpp cpp/threadpool.cpp cpp/tree.cpp cpp/wrapper.cpp\n"
     ]
    }
   ],
   "source": [
    "!cd ../ && make print-SOURCES"
   ]
  },
  {
   "cell_type": "code",
   "execution_count": 3,
   "id": "e4ad5c1c-da5d-4eec-b2d4-78a402a674b7",
   "metadata": {},
   "outputs": [],
   "source": [
    "X, Y = sklearn.datasets.make_classification(n_samples=1000, n_features=8, n_informative=5, n_classes=2, random_state=42)\n",
    "X_train, X_test, Y_train, Y_test = sklearn.model_selection.train_test_split(X, Y, test_size=0.3, random_state=42)"
   ]
  },
  {
   "cell_type": "code",
   "execution_count": 70,
   "id": "4b37fff9-a165-434d-abe7-807421062df5",
   "metadata": {},
   "outputs": [
    {
     "name": "stdout",
     "output_type": "stream",
     "text": [
      "g++ -g -o build/gbt.o cpp/gbt.cpp -I/usr/include/python3.10 -I/usr/include/python3.10  -Wno-unused-result -Wsign-compare -g      -fstack-protector-strong -Wformat -Werror=format-security  -DNDEBUG -g -fwrapv -O2 -Wall -fPIC -c -std=c++20 -DBOOST_BIND_GLOBAL_PLACEHOLDERS -DBOOST_ALLOW_DEPRECATED_HEADERS\n",
      "\u001b[01m\u001b[Kcpp/gbt.cpp:\u001b[m\u001b[K In member function ‘\u001b[01m\u001b[Kvirtual void classic_classification::fit(const XY&, const XY&)\u001b[m\u001b[K’:\n",
      "\u001b[01m\u001b[Kcpp/gbt.cpp:276:28:\u001b[m\u001b[K \u001b[01;35m\u001b[Kwarning: \u001b[m\u001b[Kcomparison of integer expressions of different signedness: ‘\u001b[01m\u001b[Kint\u001b[m\u001b[K’ and ‘\u001b[01m\u001b[Kstd::set<int>::size_type\u001b[m\u001b[K’ {aka ‘\u001b[01m\u001b[Klong unsigned int\u001b[m\u001b[K’} [\u001b[01;35m\u001b[K\u001b]8;;https://gcc.gnu.org/onlinedocs/gcc/Warning-Options.html#index-Wsign-compare\u0007-Wsign-compare\u001b]8;;\u0007\u001b[m\u001b[K]\n",
      "  276 |         for (auto i = 0; \u001b[01;35m\u001b[Ki < this->classes.size()\u001b[m\u001b[K; i++) std::cout<<y_tr_ohe[i * tr.number_of_rows + j] << \" \"; std::cout<<std::endl;\n",
      "      |                          \u001b[01;35m\u001b[K~~^~~~~~~~~~~~~~~~~~~~~~\u001b[m\u001b[K\n",
      "\u001b[01m\u001b[Kcpp/gbt.cpp:256:16:\u001b[m\u001b[K \u001b[01;35m\u001b[Kwarning: \u001b[m\u001b[Kunused variable ‘\u001b[01m\u001b[Ky_va\u001b[m\u001b[K’ [\u001b[01;35m\u001b[K\u001b]8;;https://gcc.gnu.org/onlinedocs/gcc/Warning-Options.html#index-Wunused-variable\u0007-Wunused-variable\u001b]8;;\u0007\u001b[m\u001b[K]\n",
      "  256 |     const int* \u001b[01;35m\u001b[Ky_va\u001b[m\u001b[K = va.get_y<int>();\n",
      "      |                \u001b[01;35m\u001b[K^~~~\u001b[m\u001b[K\n",
      "\u001b[01m\u001b[Kcpp/gbt.cpp:291:9:\u001b[m\u001b[K \u001b[01;35m\u001b[Kwarning: \u001b[m\u001b[Kunused variable ‘\u001b[01m\u001b[Ktotal_models_weights\u001b[m\u001b[K’ [\u001b[01;35m\u001b[K\u001b]8;;https://gcc.gnu.org/onlinedocs/gcc/Warning-Options.html#index-Wunused-variable\u0007-Wunused-variable\u001b]8;;\u0007\u001b[m\u001b[K]\n",
      "  291 |     int \u001b[01;35m\u001b[Ktotal_models_weights\u001b[m\u001b[K = 0;\n",
      "      |         \u001b[01;35m\u001b[K^~~~~~~~~~~~~~~~~~~~\u001b[m\u001b[K\n",
      "g++ -g -o build/lltrees.so build/conf.o build/criterion.o build/factories.o build/gbt.o build/lltrees.o build/metrics.o build/node.o build/threadpool.o build/tree.o build/wrapper.o -L/usr/lib/python3.10/config-3.10-x86_64-linux-gnu -L/usr/lib/x86_64-linux-gnu  -lcrypt -ldl  -lm -lm  -shared -Wl,-rpath,/usr/lib  -lpython3.10 -lboost_python310 -lboost_numpy310\n",
      "-----------------------------------------\n",
      "mode :              classic_classification\n",
      "epochs :            2\n",
      "learning_rate :     0.1\n",
      "metric :            accuracy\n",
      "criterion :         absolute_error\n",
      "max_depth :         1\n",
      "min_leaf_size :     1\n",
      "verbose :           1\n",
      "-----------------------------------------\n",
      "Type of Training Data : int32\n",
      "Configuration mode : classic_classification\n",
      "Gbt_classic_classification fit\n",
      "All the distinct element for classification in sorted order are: 0 1 2 \n",
      "0 0 0 2 1 1 1 0 1 2 \n",
      "1 0 0 \n",
      "1 0 0 \n",
      "1 0 0 \n",
      "0 0 1 \n",
      "0 1 0 \n",
      "0 1 0 \n",
      "0 1 0 \n",
      "1 0 0 \n",
      "0 1 0 \n",
      "0 0 1 \n",
      "0.334286\n",
      "0.324286\n",
      "0.341429\n",
      "0.341429 0.341429 0.341429 0.334286 0.324286 0.324286 0.324286 0.341429 0.324286 0.334286 \n",
      "0.658571 0.658571 0.658571 -0.341429 -0.341429 -0.341429 -0.341429 0.658571 -0.341429 -0.341429 \n",
      "-0.324286 -0.324286 -0.324286 -0.324286 0.675714 0.675714 0.675714 -0.324286 0.675714 -0.324286 \n",
      "-0.334286 -0.334286 -0.334286 0.665714 -0.334286 -0.334286 -0.334286 -0.334286 -0.334286 0.665714 \n",
      "0.658571 0.658571 0.658571 -0.341429 -0.341429 -0.341429 -0.341429 0.658571 -0.341429 -0.341429 \n",
      "-0.324286 -0.324286 -0.324286 -0.324286 0.675714 0.675714 0.675714 -0.324286 0.675714 -0.324286 \n",
      "-0.334286 -0.334286 -0.334286 0.665714 -0.334286 -0.334286 -0.334286 -0.334286 -0.334286 0.665714 \n",
      "0.658571 0.658571 0.658571 -0.341429 -0.341429 -0.341429 -0.341429 0.658571 -0.341429 -0.341429 \n",
      "-0.324286 -0.324286 -0.324286 -0.324286 0.675714 0.675714 0.675714 -0.324286 0.675714 -0.324286 \n",
      "-0.334286 -0.334286 -0.334286 0.665714 -0.334286 -0.334286 -0.334286 -0.334286 -0.334286 0.665714 \n",
      "FIT --- 0.17621421813964844 seconds ---\n",
      "Print.\n",
      "Tree : 0\n",
      "└──1, criterion: 0.44971, size: 700\n",
      "    ├──2, criterion: 0.499724, leaf_value: 0.153977, size: 426\n",
      "    └──3, criterion: 0.200677, leaf_value: -0.221147, size: 274\n",
      "Tree : 1\n",
      "└──1, criterion: 0.44971, size: 700\n",
      "    ├──2, criterion: 0.499724, leaf_value: 0.153977, size: 426\n",
      "    └──3, criterion: 0.200677, leaf_value: -0.221147, size: 274\n",
      "Tree : 2\n",
      "└──1, criterion: 0.44971, size: 700\n",
      "    ├──2, criterion: 0.499724, leaf_value: 0.153977, size: 426\n",
      "    └──3, criterion: 0.200677, leaf_value: -0.221147, size: 274\n",
      "Tree : 3\n",
      "└──1, criterion: 0.44971, size: 700\n",
      "    ├──2, criterion: 0.499724, leaf_value: 0.153977, size: 426\n",
      "    └──3, criterion: 0.200677, leaf_value: -0.221147, size: 274\n",
      "Tree : 4\n",
      "└──1, criterion: 0.44971, size: 700\n",
      "    ├──2, criterion: 0.499724, leaf_value: 0.153977, size: 426\n",
      "    └──3, criterion: 0.200677, leaf_value: -0.221147, size: 274\n",
      "Tree : 5\n",
      "└──1, criterion: 0.44971, size: 700\n",
      "    ├──2, criterion: 0.499724, leaf_value: 0.153977, size: 426\n",
      "    └──3, criterion: 0.200677, leaf_value: -0.221147, size: 274\n",
      "Tree : 6\n",
      "└──1, criterion: 0.44971, size: 700\n",
      "    ├──2, criterion: 0.499724, leaf_value: 0.153977, size: 426\n",
      "    └──3, criterion: 0.200677, leaf_value: -0.221147, size: 274\n",
      "Tree : 7\n",
      "└──1, criterion: 0.44971, size: 700\n",
      "    ├──2, criterion: 0.499724, leaf_value: 0.153977, size: 426\n",
      "    └──3, criterion: 0.200677, leaf_value: -0.221147, size: 274\n",
      "Tree : 8\n",
      "└──1, criterion: 0.44971, size: 700\n",
      "    ├──2, criterion: 0.499724, leaf_value: 0.153977, size: 426\n",
      "    └──3, criterion: 0.200677, leaf_value: -0.221147, size: 274\n",
      "PREDICT --- 5.7220458984375e-06 seconds ---\n"
     ]
    },
    {
     "name": "stderr",
     "output_type": "stream",
     "text": [
      "Traceback (most recent call last):\n",
      "  File \"/home/alexandre/Desktop/lltrees/demo/lltrees_python_import_for_debug.py\", line 41, in <module>\n",
      "    print(\"accuracy_score: %.2f\" % np.sqrt(sklearn.metrics.accuracy_score(Y_test,YP)))\n",
      "  File \"/home/alexandre/.local/lib/python3.10/site-packages/sklearn/metrics/_classification.py\", line 211, in accuracy_score\n",
      "    y_type, y_true, y_pred = _check_targets(y_true, y_pred)\n",
      "  File \"/home/alexandre/.local/lib/python3.10/site-packages/sklearn/metrics/_classification.py\", line 84, in _check_targets\n",
      "    check_consistent_length(y_true, y_pred)\n",
      "  File \"/home/alexandre/.local/lib/python3.10/site-packages/sklearn/utils/validation.py\", line 387, in check_consistent_length\n",
      "    raise ValueError(\n",
      "ValueError: Found input variables with inconsistent numbers of samples: [300, 0]\n",
      "double free or corruption (fasttop)\n"
     ]
    },
    {
     "data": {
      "text/plain": [
       "-6"
      ]
     },
     "execution_count": 70,
     "metadata": {},
     "output_type": "execute_result"
    }
   ],
   "source": [
    "# !cd ../ && make clean\n",
    "!cd ../ && make\n",
    "subprocess.call([sys.executable, \"lltrees_python_import_for_debug.py\"])"
   ]
  },
  {
   "cell_type": "code",
   "execution_count": 5,
   "id": "b882059d-3059-4b8e-93e7-1a3c710c10a1",
   "metadata": {},
   "outputs": [],
   "source": [
    "sys.path.append('/home/alexandre/Desktop/lltrees/build')\n",
    "import lltrees"
   ]
  },
  {
   "cell_type": "markdown",
   "id": "ca385113-e559-470e-9216-1a1682b3cc69",
   "metadata": {},
   "source": [
    "# Regression"
   ]
  },
  {
   "cell_type": "code",
   "execution_count": 6,
   "id": "007b01d7-0a37-444a-8367-d94b4bc03b1b",
   "metadata": {},
   "outputs": [],
   "source": [
    "X, Y = sklearn.datasets.make_regression(n_samples=1000, n_features=8, n_informative=5, n_targets=1, noise=1, random_state=42)\n",
    "X_train, X_test, Y_train, Y_test = sklearn.model_selection.train_test_split(X, Y, test_size=0.3, random_state=42)"
   ]
  },
  {
   "cell_type": "markdown",
   "id": "8ef61b99-6624-43dc-ae99-790eb5880078",
   "metadata": {},
   "source": [
    "## Tree"
   ]
  },
  {
   "cell_type": "code",
   "execution_count": 7,
   "id": "7287411a-9cd4-46c6-826d-cd2db3e6a254",
   "metadata": {},
   "outputs": [
    {
     "name": "stdout",
     "output_type": "stream",
     "text": [
      "-----------------------------------------\n",
      "mode :              regression\n",
      "epochs :            1\n",
      "learning_rate :     1\n",
      "metric :            mae\n",
      "criterion :         absolute_error\n",
      "max_depth :         5\n",
      "min_leaf_size :     2\n",
      "verbose :           1\n",
      "-----------------------------------------\n",
      "Type of Training Data : float64\n",
      "Configuration mode : regression\n",
      "FIT --- 0.055219411849975586 seconds ---\n",
      "PREDICT --- 9.560585021972656e-05 seconds ---\n",
      "rmse: 63.46\n",
      "mae: 49.21\n",
      "r2: 0.74\n",
      "Epoch : 1     Metric Train : 38.4851 Metric va : 49.2101 Residuals (mean) : -2355.95\n"
     ]
    }
   ],
   "source": [
    "conf ={\n",
    "    'mode' : 'regression',\n",
    "    'epochs' : 1,\n",
    "    'learning_rate' : 1,\n",
    "    'metric' : 'mae', \n",
    "    'max_depth' : 5,\n",
    "    'min_leaf_size' : 2,\n",
    "    'criterion' : \"absolute_error\",\n",
    "    'verbose' : 1, \n",
    "}\n",
    "my_lltree = lltrees.lltree()\n",
    "my_lltree.set_conf(conf)\n",
    "my_lltree.get_conf()\n",
    "time.sleep(0.1)\n",
    "\n",
    "start_time = time.time()\n",
    "my_lltree.fit(X_train, Y_train, X_test, Y_test)\n",
    "print(\"FIT --- %s seconds ---\" % (time.time() - start_time))\n",
    "\n",
    "start_time = time.time()\n",
    "YP = my_lltree.predict(X_test)\n",
    "print(\"PREDICT --- %s seconds ---\" % (time.time() - start_time))\n",
    "\n",
    "print(\"rmse: %.2f\" % np.sqrt(sklearn.metrics.mean_squared_error(Y_test,YP)))\n",
    "print(\"mae: %.2f\" % sklearn.metrics.mean_absolute_error(Y_test,YP))\n",
    "print(\"r2: %.2f\" % sklearn.metrics.r2_score(Y_test,YP))"
   ]
  },
  {
   "cell_type": "code",
   "execution_count": 8,
   "id": "44b9a64c-d11f-49aa-b9cc-1f8b8f66a301",
   "metadata": {},
   "outputs": [
    {
     "name": "stdout",
     "output_type": "stream",
     "text": [
      "FIT --- 0.019741296768188477 seconds ---\n",
      "PREDICT --- 0.00024962425231933594 seconds ---\n",
      "rmse: 63.68\n",
      "mae: 49.35\n",
      "r2: 0.74\n"
     ]
    }
   ],
   "source": [
    "my_lltree = sklearn.tree.DecisionTreeRegressor(max_depth = 5, criterion =\"absolute_error\", min_samples_split=2, random_state = 0)\n",
    "\n",
    "start_time = time.time()\n",
    "my_lltree.fit(X_train, Y_train)\n",
    "print(\"FIT --- %s seconds ---\" % (time.time() - start_time))\n",
    "\n",
    "start_time = time.time()\n",
    "YP = my_lltree.predict(X_test)\n",
    "print(\"PREDICT --- %s seconds ---\" % (time.time() - start_time))\n",
    "\n",
    "print(\"rmse: %.2f\" % np.sqrt(sklearn.metrics.mean_squared_error(Y_test,YP)))\n",
    "print(\"mae: %.2f\" % sklearn.metrics.mean_absolute_error(Y_test,YP))\n",
    "print(\"r2: %.2f\" % sklearn.metrics.r2_score(Y_test,YP))"
   ]
  },
  {
   "cell_type": "markdown",
   "id": "55a4b0e3-2e65-4033-b807-1f33ad8b378b",
   "metadata": {},
   "source": [
    "## GBT"
   ]
  },
  {
   "cell_type": "code",
   "execution_count": 9,
   "id": "e6a50c75-f4f7-45ee-a66b-8bc9249121cf",
   "metadata": {},
   "outputs": [
    {
     "name": "stdout",
     "output_type": "stream",
     "text": [
      "-----------------------------------------\n",
      "mode :              regression\n",
      "epochs :            50\n",
      "learning_rate :     0.1\n",
      "metric :            mae\n",
      "criterion :         absolute_error\n",
      "max_depth :         2\n",
      "min_leaf_size :     2\n",
      "verbose :           0\n",
      "-----------------------------------------\n",
      "Type of Training Data : float64\n",
      "Configuration mode : regression\n",
      "FIT --- 1.6827623844146729 seconds ---\n",
      "PREDICT --- 0.00040268898010253906 seconds ---\n",
      "rmse: 41.05\n",
      "mae: 32.04\n",
      "r2: 0.89\n"
     ]
    }
   ],
   "source": [
    "conf ={\n",
    "    'mode' : 'regression',\n",
    "    'epochs' : 50,\n",
    "    'learning_rate' : 0.1,\n",
    "    'metric' : 'mae',\n",
    "    'max_depth' : 2,\n",
    "    'min_leaf_size' : 2,\n",
    "    'criterion' : \"absolute_error\", \n",
    "    'verbose' : 0, \n",
    "}\n",
    "my_lltree = lltrees.lltree()\n",
    "my_lltree.set_conf(conf)\n",
    "my_lltree.get_conf()\n",
    "time.sleep(0.1)\n",
    "\n",
    "start_time = time.time()\n",
    "my_lltree.fit(X_train, Y_train, X_test, Y_test)\n",
    "print(\"FIT --- %s seconds ---\" % (time.time() - start_time))\n",
    "\n",
    "start_time = time.time()\n",
    "YP = my_lltree.predict(X_test)\n",
    "print(\"PREDICT --- %s seconds ---\" % (time.time() - start_time))\n",
    "\n",
    "print(\"rmse: %.2f\" % np.sqrt(sklearn.metrics.mean_squared_error(Y_test,YP)))\n",
    "print(\"mae: %.2f\" % sklearn.metrics.mean_absolute_error(Y_test,YP))\n",
    "print(\"r2: %.2f\" % sklearn.metrics.r2_score(Y_test,YP))"
   ]
  },
  {
   "cell_type": "code",
   "execution_count": 10,
   "id": "c090343b-8e53-4e89-b97c-5a3fd67a548b",
   "metadata": {},
   "outputs": [
    {
     "name": "stdout",
     "output_type": "stream",
     "text": [
      "FIT --- 0.07969307899475098 seconds ---\n",
      "PREDICT --- 0.00038433074951171875 seconds ---\n",
      "rmse: 52.46\n",
      "mae: 38.62\n",
      "r2: 0.82\n"
     ]
    }
   ],
   "source": [
    "from sklearn.ensemble import GradientBoostingRegressor\n",
    "my_lltree = GradientBoostingRegressor(learning_rate = 0.1, n_estimators =50, max_depth = 2, min_samples_leaf=2, min_samples_split=2,\n",
    "                                 loss = 'absolute_error', criterion = 'squared_error',\n",
    "                                 random_state = 0)\n",
    "\n",
    "start_time = time.time()\n",
    "my_lltree.fit(X_train, Y_train)\n",
    "print(\"FIT --- %s seconds ---\" % (time.time() - start_time))\n",
    "\n",
    "start_time = time.time()\n",
    "YP = my_lltree.predict(X_test)\n",
    "print(\"PREDICT --- %s seconds ---\" % (time.time() - start_time))\n",
    "\n",
    "print(\"rmse: %.2f\" % np.sqrt(sklearn.metrics.mean_squared_error(Y_test,YP)))\n",
    "print(\"mae: %.2f\" % sklearn.metrics.mean_absolute_error(Y_test,YP))\n",
    "print(\"r2: %.2f\" % sklearn.metrics.r2_score(Y_test,YP))"
   ]
  },
  {
   "cell_type": "markdown",
   "id": "5e699efd-5f26-43ad-85f9-c5d9bed356fe",
   "metadata": {},
   "source": [
    "# Classification"
   ]
  },
  {
   "cell_type": "code",
   "execution_count": 11,
   "id": "91fce4d9-19ed-443e-a812-b3dcbf23a759",
   "metadata": {},
   "outputs": [],
   "source": [
    "X, Y = sklearn.datasets.make_classification(n_samples=1000, n_features=8, n_informative=5, n_classes=2, random_state=42)\n",
    "X_train, X_test, Y_train, Y_test = sklearn.model_selection.train_test_split(X, Y, test_size=0.3, random_state=42)"
   ]
  },
  {
   "cell_type": "markdown",
   "id": "ff3a8970-e1bf-4d85-80a7-6c7104570659",
   "metadata": {},
   "source": [
    "## Tree"
   ]
  },
  {
   "cell_type": "code",
   "execution_count": 12,
   "id": "18d39f04-0383-4595-ac79-a5384e960635",
   "metadata": {},
   "outputs": [
    {
     "name": "stdout",
     "output_type": "stream",
     "text": [
      "FIT --- 0.002709627151489258 seconds ---\n",
      "PREDICT --- 0.00035071372985839844 seconds ---\n",
      "accuracy_score: 0.94\n",
      "log_loss: 3.80\n",
      "f1_score: 0.90\n"
     ]
    }
   ],
   "source": [
    "from sklearn.tree import DecisionTreeClassifier\n",
    "my_lltree = DecisionTreeClassifier(max_depth = 5, min_samples_split=5,\n",
    "                                 splitter = 'best', criterion = 'gini',\n",
    "                                 random_state = 0)\n",
    "\n",
    "start_time = time.time()\n",
    "my_lltree.fit(X_train, Y_train)\n",
    "print(\"FIT --- %s seconds ---\" % (time.time() - start_time))\n",
    "\n",
    "start_time = time.time()\n",
    "YP = my_lltree.predict(X_test)\n",
    "print(\"PREDICT --- %s seconds ---\" % (time.time() - start_time))\n",
    "\n",
    "print(\"accuracy_score: %.2f\" % np.sqrt(sklearn.metrics.accuracy_score(Y_test,YP)))\n",
    "print(\"log_loss: %.2f\" % sklearn.metrics.log_loss(Y_test,YP))\n",
    "print(\"f1_score: %.2f\" % sklearn.metrics.f1_score(Y_test,YP))"
   ]
  },
  {
   "cell_type": "code",
   "execution_count": 13,
   "id": "72a76b26-59dd-47a2-af37-053ea20dc7bf",
   "metadata": {},
   "outputs": [
    {
     "name": "stdout",
     "output_type": "stream",
     "text": [
      "-----------------------------------------\n",
      "mode :              classification\n",
      "epochs :            1\n",
      "learning_rate :     1\n",
      "metric :            accuracy\n",
      "criterion :         gini\n",
      "max_depth :         5\n",
      "min_leaf_size :     5\n",
      "verbose :           0\n",
      "-----------------------------------------\n",
      "Type of Training Data : int32\n",
      "Configuration mode : classification\n",
      "FIT --- 0.19039583206176758 seconds ---\n",
      "PREDICT --- 0.00019860267639160156 seconds ---\n",
      "accuracy_score: 0.94\n",
      "Gbt_classification fit\n",
      "All the distinct element for classification in sorted order are: 0 1 \n",
      "log_loss: 4.26\n",
      "f1_score: 0.88\n"
     ]
    }
   ],
   "source": [
    "conf ={\n",
    "    'mode' : 'classification',\n",
    "    'epochs' : 1,\n",
    "    'learning_rate' : 1,\n",
    "    'metric' : 'accuracy',\n",
    "    'max_depth' : 5,\n",
    "    'min_leaf_size' : 5,\n",
    "    'criterion' : \"gini\",  \n",
    "    'verbose' : 0  \n",
    "}\n",
    "my_lltree = lltrees.lltree()\n",
    "my_lltree.set_conf(conf)\n",
    "my_lltree.get_conf()\n",
    "time.sleep(0.5)\n",
    "\n",
    "start_time = time.time()\n",
    "my_lltree.fit(X_train, Y_train.astype(np.int32), X_test, Y_test.astype(np.int32))\n",
    "print(\"FIT --- %s seconds ---\" % (time.time() - start_time))\n",
    "\n",
    "start_time = time.time()\n",
    "YP = my_lltree.predict(X_test)\n",
    "print(\"PREDICT --- %s seconds ---\" % (time.time() - start_time))\n",
    "\n",
    "print(\"accuracy_score: %.2f\" % np.sqrt(sklearn.metrics.accuracy_score(Y_test,YP)))\n",
    "print(\"log_loss: %.2f\" % sklearn.metrics.log_loss(Y_test,YP))\n",
    "print(\"f1_score: %.2f\" % sklearn.metrics.f1_score(Y_test,YP))"
   ]
  },
  {
   "cell_type": "markdown",
   "id": "06e0b42f-5cb8-4bec-9321-dab01a991ce6",
   "metadata": {},
   "source": [
    "## GBT"
   ]
  },
  {
   "cell_type": "code",
   "execution_count": 14,
   "id": "df6011e0-fe01-4f42-aa54-4c213f9d0596",
   "metadata": {},
   "outputs": [
    {
     "name": "stdout",
     "output_type": "stream",
     "text": [
      "-----------------------------------------\n",
      "mode :              classification\n",
      "epochs :            50\n",
      "learning_rate :     0.1\n",
      "metric :            accuracy\n",
      "criterion :         gini\n",
      "max_depth :         2\n",
      "min_leaf_size :     1\n",
      "verbose :           0\n",
      "-----------------------------------------\n",
      "Type of Training Data : int32\n",
      "Configuration mode : classification\n",
      "Gbt_classification fit\n",
      "All the distinct element for classification in sorted order are: 0 1 \n",
      "FIT --- 6.66758918762207 seconds ---\n",
      "PREDICT --- 0.0019233226776123047 seconds ---\n",
      "accuracy_score: 0.90\n",
      "log_loss: 6.33\n",
      "f1_score: 0.81\n"
     ]
    }
   ],
   "source": [
    "conf ={\n",
    "    'mode' : 'classification',\n",
    "    'epochs' : 50,\n",
    "    'learning_rate' : 0.1,\n",
    "    'metric' : 'accuracy',\n",
    "    'max_depth' : 2,\n",
    "    'min_leaf_size' : 1,\n",
    "    'criterion' : \"gini\",  \n",
    "    'verbose' : 0,  \n",
    "}\n",
    "my_lltree = lltrees.lltree()\n",
    "my_lltree.set_conf(conf)\n",
    "my_lltree.get_conf()\n",
    "time.sleep(0.1)\n",
    "\n",
    "start_time = time.time()\n",
    "my_lltree.fit(X_train, Y_train.astype(np.int32), X_test, Y_test.astype(np.int32))\n",
    "print(\"FIT --- %s seconds ---\" % (time.time() - start_time))\n",
    "\n",
    "start_time = time.time()\n",
    "YP = my_lltree.predict(X_test)\n",
    "print(\"PREDICT --- %s seconds ---\" % (time.time() - start_time))\n",
    "\n",
    "print(\"accuracy_score: %.2f\" % np.sqrt(sklearn.metrics.accuracy_score(Y_test,YP)))\n",
    "print(\"log_loss: %.2f\" % sklearn.metrics.log_loss(Y_test,YP))\n",
    "print(\"f1_score: %.2f\" % sklearn.metrics.f1_score(Y_test,YP))"
   ]
  },
  {
   "cell_type": "code",
   "execution_count": 15,
   "id": "a7fe880e-f6be-4b6e-a256-c82863aa47bd",
   "metadata": {},
   "outputs": [
    {
     "name": "stdout",
     "output_type": "stream",
     "text": [
      "FIT --- 0.05167531967163086 seconds ---\n",
      "PREDICT --- 0.00043892860412597656 seconds ---\n",
      "accuracy_score: 0.96\n",
      "log_loss: 2.99\n",
      "f1_score: 0.92\n"
     ]
    }
   ],
   "source": [
    "from sklearn.ensemble import GradientBoostingClassifier\n",
    "my_lltree = GradientBoostingClassifier(learning_rate = 0.1, n_estimators =50, max_depth = 2,\n",
    "                                 loss = 'log_loss', criterion = 'friedman_mse',\n",
    "                                 random_state = 0)\n",
    "\n",
    "start_time = time.time()\n",
    "my_lltree.fit(X_train, Y_train)\n",
    "print(\"FIT --- %s seconds ---\" % (time.time() - start_time))\n",
    "\n",
    "start_time = time.time()\n",
    "YP = my_lltree.predict(X_test)\n",
    "print(\"PREDICT --- %s seconds ---\" % (time.time() - start_time))\n",
    "\n",
    "print(\"accuracy_score: %.2f\" % np.sqrt(sklearn.metrics.accuracy_score(Y_test,YP)))\n",
    "print(\"log_loss: %.2f\" % sklearn.metrics.log_loss(Y_test,YP))\n",
    "print(\"f1_score: %.2f\" % sklearn.metrics.f1_score(Y_test,YP))"
   ]
  }
 ],
 "metadata": {
  "kernelspec": {
   "display_name": "Python 3 (ipykernel)",
   "language": "python",
   "name": "python3"
  },
  "language_info": {
   "codemirror_mode": {
    "name": "ipython",
    "version": 3
   },
   "file_extension": ".py",
   "mimetype": "text/x-python",
   "name": "python",
   "nbconvert_exporter": "python",
   "pygments_lexer": "ipython3",
   "version": "3.10.12"
  }
 },
 "nbformat": 4,
 "nbformat_minor": 5
}
