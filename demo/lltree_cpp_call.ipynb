{
 "cells": [
  {
   "cell_type": "code",
   "execution_count": 3,
   "id": "4694f6f3-1d25-4369-a62d-26f480f9bc15",
   "metadata": {},
   "outputs": [],
   "source": [
    "# import os\n",
    "\n",
    "import numpy as np\n",
    "import pandas as pd\n",
    "import sklearn.datasets, sklearn.metrics, sklearn.model_selection, sklearn.tree\n",
    "\n",
    "import subprocess, sys"
   ]
  },
  {
   "cell_type": "code",
   "execution_count": 2,
   "id": "9d8cd4c3-1719-4efd-89d7-7c5327914227",
   "metadata": {},
   "outputs": [],
   "source": [
    "# os._exit(00)"
   ]
  },
  {
   "cell_type": "code",
   "execution_count": 4,
   "id": "cd47e403-26f1-49a5-9b84-fcf41a380a83",
   "metadata": {},
   "outputs": [],
   "source": [
    "X, Y = sklearn.datasets.make_regression(n_samples=1000, n_features=5, n_informative=3, n_targets=1, noise=1, random_state=42)\n",
    "X_train, X_test, Y_train, Y_test = sklearn.model_selection.train_test_split(X, Y, test_size=0.3, random_state=42)"
   ]
  },
  {
   "cell_type": "code",
   "execution_count": 8,
   "id": "4b37fff9-a165-434d-abe7-807421062df5",
   "metadata": {},
   "outputs": [
    {
     "name": "stdout",
     "output_type": "stream",
     "text": [
      "make: Nothing to be done for 'default'.\n",
      "Creating Node 0.\n",
      "Critetion available for decisison tree : mae, mse.\n",
      "get criterion_name : mae\n",
      "set criterion_name : mse\n",
      "get criterion_name : mse\n",
      "[ -35.93934815   10.94917311   73.64009627 -104.78457284   81.69472713\n",
      "  -35.93934815  -35.93934815   10.94917311  -35.93934815  -35.93934815\n",
      "   10.94917311   56.03499134   73.64009627   73.64009627  -35.93934815\n",
      "  -35.93934815  -35.93934815   73.64009627   47.34150344   10.94917311\n",
      "   10.94917311   73.64009627  -35.93934815   47.34150344   47.34150344\n",
      "  -35.93934815   73.64009627  -35.93934815   10.94917311  -35.93934815\n",
      "   10.94917311   10.94917311  -35.93934815   73.64009627   56.03499134\n",
      "  -35.93934815  -35.93934815  -35.93934815  -35.93934815   73.64009627\n",
      "   10.94917311   66.09811392   10.94917311   10.94917311   47.34150344\n",
      "   10.94917311   73.64009627   30.15854742   73.64009627   10.94917311\n",
      "  -35.93934815  -35.93934815  -35.93934815  -35.93934815  -35.93934815\n",
      "  -35.93934815   73.64009627   73.64009627  -35.93934815   73.64009627\n",
      "   10.94917311   10.94917311  -35.93934815  -35.93934815  -35.93934815\n",
      "  -35.93934815   73.64009627   56.03499134   56.03499134   10.94917311\n",
      "   10.94917311  -35.93934815 -104.78457284  -35.93934815  -35.93934815\n",
      "  -35.93934815  -35.93934815   73.64009627   10.94917311   10.94917311\n",
      "   10.94917311   10.94917311   73.64009627  -35.93934815   54.44778178\n",
      "   10.94917311   47.34150344  -35.93934815 -142.95254277  -35.93934815\n",
      "  -35.93934815  -35.93934815  -35.93934815  -35.93934815   73.64009627\n",
      "  -35.93934815   10.94917311   56.03499134  -35.93934815   73.64009627\n",
      "   10.94917311  -35.93934815   10.94917311  -35.93934815  -35.93934815\n",
      "  -35.93934815  -35.93934815  -35.93934815   54.44778178  -80.00379575\n",
      "   30.15854742   56.03499134   10.94917311   10.94917311   73.64009627\n",
      "   10.94917311  -35.93934815  -35.93934815  -35.93934815  -35.93934815\n",
      "  -35.93934815   73.64009627  -35.93934815   81.69472713  -35.93934815\n",
      "  -35.93934815  -35.93934815   47.34150344   10.94917311  -35.93934815\n",
      "  -35.93934815  -35.93934815   10.94917311  -35.93934815  -80.00379575\n",
      "   10.94917311  -35.93934815   10.94917311  -35.93934815   10.94917311\n",
      "  -35.93934815   10.94917311   30.15854742  -35.93934815  -35.93934815\n",
      "   66.09811392   10.94917311   10.94917311  -35.93934815  -35.93934815\n",
      "  -35.93934815   47.34150344  -35.93934815  -35.93934815  -35.93934815\n",
      "  -35.93934815  -35.93934815   10.94917311   10.94917311   56.03499134\n",
      "   10.94917311  -35.93934815  -35.93934815   10.94917311   10.94917311\n",
      "   10.94917311  -31.92704702   10.94917311   30.15854742  -35.93934815\n",
      "  -35.93934815   10.94917311  -35.93934815  -35.93934815  -35.93934815\n",
      "  -35.93934815  -35.93934815  -35.93934815   10.94917311  -35.93934815\n",
      "   10.94917311  -35.93934815   10.94917311   10.94917311  -35.93934815\n",
      "  -35.93934815   54.44778178  -35.93934815   73.64009627  -35.93934815\n",
      "   10.94917311   73.64009627   73.64009627   81.69472713  -35.93934815\n",
      "   10.94917311   10.94917311   56.03499134  -35.93934815  -35.93934815\n",
      "   10.94917311   73.64009627  -35.93934815   73.64009627  -35.93934815\n",
      "   10.94917311  -35.93934815   10.94917311   73.64009627  -35.93934815\n",
      "   47.34150344  -35.93934815   10.94917311   73.64009627  -35.93934815\n",
      "  -35.93934815  -35.93934815   73.64009627 -104.78457284  -35.93934815\n",
      "  -35.93934815   47.34150344   10.94917311  -35.93934815   56.03499134\n",
      "   47.34150344   10.94917311  -35.93934815   10.94917311   10.94917311\n",
      "  -35.93934815   10.94917311   73.64009627  -35.93934815  -35.93934815\n",
      "  -35.93934815  -35.93934815   10.94917311   54.44778178   10.94917311\n",
      "  -35.93934815   73.64009627   73.64009627   73.64009627   56.03499134\n",
      "   81.69472713   10.94917311  -35.93934815   47.34150344   73.64009627\n",
      "   10.94917311  -35.93934815  -35.93934815   10.94917311  -35.93934815\n",
      " -104.78457284   10.94917311   10.94917311   10.94917311  -35.93934815\n",
      "  -35.93934815   73.64009627   10.94917311  -35.93934815   73.64009627\n",
      "  -80.00379575   65.05710444  -35.93934815  -35.93934815   10.94917311\n",
      "  -35.93934815   10.94917311  -35.93934815 -128.40442478  -35.93934815\n",
      "   10.94917311   10.94917311  -35.93934815  -35.93934815   47.34150344\n",
      "  -78.39269737   10.94917311   84.09910007  -35.93934815  -35.93934815\n",
      "   73.64009627   10.94917311   47.34150344   81.69472713   10.94917311\n",
      "  -35.93934815   10.94917311  -35.93934815  -35.93934815   10.94917311\n",
      "   54.44778178   81.69472713  -35.93934815  -35.93934815   56.03499134]\n",
      "21.45795346071975\n",
      "124\n"
     ]
    },
    {
     "data": {
      "text/plain": [
       "0"
      ]
     },
     "execution_count": 8,
     "metadata": {},
     "output_type": "execute_result"
    }
   ],
   "source": [
    "!cd ../src/ && make\n",
    "subprocess.call([sys.executable, \"lltree_wrapper.py\"])"
   ]
  },
  {
   "cell_type": "code",
   "execution_count": 7,
   "id": "7287411a-9cd4-46c6-826d-cd2db3e6a254",
   "metadata": {},
   "outputs": [
    {
     "name": "stdout",
     "output_type": "stream",
     "text": [
      "Creating Node 0.\n",
      "rmse: 26.84\n",
      "mae: 20.43\n",
      "r2: 0.75\n",
      "rmse: 27.81\n",
      "mae: 22.00\n",
      "r2: 0.73\n"
     ]
    }
   ],
   "source": [
    "sys.path.append('/home/alexandre/Desktop/lltrees/src/build')\n",
    "import lltree\n",
    "\n",
    "mlltree = lltree.tree()\n",
    "mlltree.fit(X_train, Y_train)\n",
    "Y_pred = mlltree.predict(X_test)\n",
    "\n",
    "YP = mlltree.predict(X_train)\n",
    "print(\"rmse: %.2f\" % np.sqrt(sklearn.metrics.mean_squared_error(Y_train,YP)))\n",
    "print(\"mae: %.2f\" % sklearn.metrics.mean_absolute_error(Y_train,YP))\n",
    "print(\"r2: %.2f\" % sklearn.metrics.r2_score(Y_train,YP))\n",
    "\n",
    "YP = mlltree.predict(X_test)\n",
    "print(\"rmse: %.2f\" % np.sqrt(sklearn.metrics.mean_squared_error(Y_test,YP)))\n",
    "print(\"mae: %.2f\" % sklearn.metrics.mean_absolute_error(Y_test,YP))\n",
    "print(\"r2: %.2f\" % sklearn.metrics.r2_score(Y_test,YP))"
   ]
  },
  {
   "cell_type": "code",
   "execution_count": 6,
   "id": "44b9a64c-d11f-49aa-b9cc-1f8b8f66a301",
   "metadata": {},
   "outputs": [
    {
     "name": "stdout",
     "output_type": "stream",
     "text": [
      "rmse: 15.98\n",
      "mae: 12.04\n",
      "r2: 0.91\n",
      "rmse: 19.78\n",
      "mae: 15.14\n",
      "r2: 0.86\n"
     ]
    }
   ],
   "source": [
    "dtr = sklearn.tree.DecisionTreeRegressor(max_depth = 5, criterion =\"absolute_error\", random_state = 0)\n",
    "dtr.fit(X_train,Y_train)\n",
    "\n",
    "YP = dtr.predict(X_train)\n",
    "print(\"rmse: %.2f\" % np.sqrt(sklearn.metrics.mean_squared_error(Y_train,YP)))\n",
    "print(\"mae: %.2f\" % sklearn.metrics.mean_absolute_error(Y_train,YP))\n",
    "print(\"r2: %.2f\" % sklearn.metrics.r2_score(Y_train,YP))\n",
    "\n",
    "YP = dtr.predict(X_test)\n",
    "print(\"rmse: %.2f\" % np.sqrt(sklearn.metrics.mean_squared_error(Y_test,YP)))\n",
    "print(\"mae: %.2f\" % sklearn.metrics.mean_absolute_error(Y_test,YP))\n",
    "print(\"r2: %.2f\" % sklearn.metrics.r2_score(Y_test,YP))"
   ]
  }
 ],
 "metadata": {
  "kernelspec": {
   "display_name": "Python 3 (ipykernel)",
   "language": "python",
   "name": "python3"
  },
  "language_info": {
   "codemirror_mode": {
    "name": "ipython",
    "version": 3
   },
   "file_extension": ".py",
   "mimetype": "text/x-python",
   "name": "python",
   "nbconvert_exporter": "python",
   "pygments_lexer": "ipython3",
   "version": "3.10.12"
  }
 },
 "nbformat": 4,
 "nbformat_minor": 5
}
