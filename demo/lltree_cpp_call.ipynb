{
 "cells": [
  {
   "cell_type": "code",
   "execution_count": 1,
   "id": "4694f6f3-1d25-4369-a62d-26f480f9bc15",
   "metadata": {},
   "outputs": [],
   "source": [
    "# import os\n",
    "\n",
    "import numpy as np\n",
    "import pandas as pd\n",
    "import sklearn.datasets, sklearn.metrics, sklearn.model_selection, sklearn.tree\n",
    "\n",
    "import subprocess, sys"
   ]
  },
  {
   "cell_type": "code",
   "execution_count": 2,
   "id": "4b37fff9-a165-434d-abe7-807421062df5",
   "metadata": {},
   "outputs": [
    {
     "name": "stdout",
     "output_type": "stream",
     "text": [
      "g++ -I/usr/include/python3.10 -I/usr/include/python3.10  -Wno-unused-result -Wsign-compare -g      -fstack-protector-strong -Wformat -Werror=format-security  -DNDEBUG -g -fwrapv -O2 -Wall -fPIC -c cpp/lltree.cpp -o cpp/lltree.o\n",
      "In file included from \u001b[01m\u001b[K/usr/include/boost/smart_ptr/detail/sp_thread_sleep.hpp:22\u001b[m\u001b[K,\n",
      "                 from \u001b[01m\u001b[K/usr/include/boost/smart_ptr/detail/yield_k.hpp:23\u001b[m\u001b[K,\n",
      "                 from \u001b[01m\u001b[K/usr/include/boost/smart_ptr/detail/spinlock_gcc_atomic.hpp:14\u001b[m\u001b[K,\n",
      "                 from \u001b[01m\u001b[K/usr/include/boost/smart_ptr/detail/spinlock.hpp:42\u001b[m\u001b[K,\n",
      "                 from \u001b[01m\u001b[K/usr/include/boost/smart_ptr/detail/spinlock_pool.hpp:25\u001b[m\u001b[K,\n",
      "                 from \u001b[01m\u001b[K/usr/include/boost/smart_ptr/shared_ptr.hpp:29\u001b[m\u001b[K,\n",
      "                 from \u001b[01m\u001b[K/usr/include/boost/shared_ptr.hpp:17\u001b[m\u001b[K,\n",
      "                 from \u001b[01m\u001b[K/usr/include/boost/python/converter/shared_ptr_to_python.hpp:12\u001b[m\u001b[K,\n",
      "                 from \u001b[01m\u001b[K/usr/include/boost/python/converter/arg_to_python.hpp:15\u001b[m\u001b[K,\n",
      "                 from \u001b[01m\u001b[K/usr/include/boost/python/call.hpp:15\u001b[m\u001b[K,\n",
      "                 from \u001b[01m\u001b[K/usr/include/boost/python/object_core.hpp:14\u001b[m\u001b[K,\n",
      "                 from \u001b[01m\u001b[K/usr/include/boost/python/args.hpp:22\u001b[m\u001b[K,\n",
      "                 from \u001b[01m\u001b[K/usr/include/boost/python.hpp:11\u001b[m\u001b[K,\n",
      "                 from \u001b[01m\u001b[Kcpp/lltree.cpp:1\u001b[m\u001b[K:\n",
      "\u001b[01m\u001b[K/usr/include/boost/bind.hpp:36:1:\u001b[m\u001b[K \u001b[01;36m\u001b[Knote: \u001b[m\u001b[K‘\u001b[01m\u001b[K#pragma message: The practice of declaring the Bind placeholders (_1, _2, ...) in the global namespace is deprecated. Please use <boost/bind/bind.hpp> + using namespace boost::placeholders, or define BOOST_BIND_GLOBAL_PLACEHOLDERS to retain the current behavior.\u001b[m\u001b[K’\n",
      "   36 | \u001b[01;36m\u001b[KBOOST_PRAGMA_MESSAGE\u001b[m\u001b[K(\n",
      "      | \u001b[01;36m\u001b[K^~~~~~~~~~~~~~~~~~~~\u001b[m\u001b[K\n",
      "\u001b[01m\u001b[K/usr/include/boost/detail/iterator.hpp:13:1:\u001b[m\u001b[K \u001b[01;36m\u001b[Knote: \u001b[m\u001b[K‘\u001b[01m\u001b[K#pragma message: This header is deprecated. Use <iterator> instead.\u001b[m\u001b[K’\n",
      "   13 | \u001b[01;36m\u001b[KBOOST_HEADER_DEPRECATED\u001b[m\u001b[K(\"<iterator>\")\n",
      "      | \u001b[01;36m\u001b[K^~~~~~~~~~~~~~~~~~~~~~~\u001b[m\u001b[K\n",
      "g++ -L/usr/lib/python3.10/config-3.10-x86_64-linux-gnu -L/usr/lib/x86_64-linux-gnu  -lcrypt -ldl  -lm -lm  -shared -Wl,-rpath,/usr/lib  cpp/lltree.o -o build/lltree.so -lpython3.10 -lboost_python310 -lboost_numpy310\n",
      "Creating Node 0.\n",
      "Critetion available for decisison tree : mae, mse.\n",
      "1234\n",
      "[  0.56428955 175.83954084 -55.26187679 121.17006692 -55.26187679\n",
      " -36.76614036 104.67379807 -36.76614036 230.5224596  164.45672748]\n",
      "49.11331838201492\n"
     ]
    },
    {
     "data": {
      "text/plain": [
       "0"
      ]
     },
     "execution_count": 2,
     "metadata": {},
     "output_type": "execute_result"
    }
   ],
   "source": [
    "!cd ../src/ && make\n",
    "subprocess.call([sys.executable, \"lltree_wrapper.py\"])"
   ]
  },
  {
   "cell_type": "code",
   "execution_count": 3,
   "id": "007b01d7-0a37-444a-8367-d94b4bc03b1b",
   "metadata": {},
   "outputs": [],
   "source": [
    "X, Y = sklearn.datasets.make_regression(n_samples=1000, n_features=8, n_informative=5, n_targets=1, noise=1, random_state=42)\n",
    "X_train, X_test, Y_train, Y_test = sklearn.model_selection.train_test_split(X, Y, test_size=0.3, random_state=42)"
   ]
  },
  {
   "cell_type": "code",
   "execution_count": 4,
   "id": "7287411a-9cd4-46c6-826d-cd2db3e6a254",
   "metadata": {},
   "outputs": [
    {
     "name": "stdout",
     "output_type": "stream",
     "text": [
      "rmse: 52.09Creating Node 0.\n",
      "\n",
      "mae: 38.45\n",
      "r2: 0.81\n",
      "rmse: 63.35\n",
      "mae: 49.11\n",
      "r2: 0.74\n"
     ]
    },
    {
     "data": {
      "text/plain": [
       "array([  0.56428955, 175.83954084, -55.26187679, 121.17006692,\n",
       "       -55.26187679, -36.76614036, 104.67379807, -36.76614036,\n",
       "       230.5224596 , 164.45672748])"
      ]
     },
     "execution_count": 4,
     "metadata": {},
     "output_type": "execute_result"
    }
   ],
   "source": [
    "sys.path.append('/home/alexandre/Desktop/lltrees/src/build')\n",
    "import lltree\n",
    "\n",
    "mlltree = lltree.tree()\n",
    "mlltree.fit(X_train, Y_train)\n",
    "Y_pred = mlltree.predict(X_test)\n",
    "\n",
    "YP = mlltree.predict(X_train)\n",
    "print(\"rmse: %.2f\" % np.sqrt(sklearn.metrics.mean_squared_error(Y_train,YP)))\n",
    "print(\"mae: %.2f\" % sklearn.metrics.mean_absolute_error(Y_train,YP))\n",
    "print(\"r2: %.2f\" % sklearn.metrics.r2_score(Y_train,YP))\n",
    "\n",
    "YP = mlltree.predict(X_test)\n",
    "print(\"rmse: %.2f\" % np.sqrt(sklearn.metrics.mean_squared_error(Y_test,YP)))\n",
    "print(\"mae: %.2f\" % sklearn.metrics.mean_absolute_error(Y_test,YP))\n",
    "print(\"r2: %.2f\" % sklearn.metrics.r2_score(Y_test,YP))\n",
    "YP[0:10]"
   ]
  },
  {
   "cell_type": "code",
   "execution_count": 5,
   "id": "44b9a64c-d11f-49aa-b9cc-1f8b8f66a301",
   "metadata": {},
   "outputs": [
    {
     "name": "stdout",
     "output_type": "stream",
     "text": [
      "rmse: 52.35\n",
      "mae: 37.96\n",
      "r2: 0.81\n",
      "rmse: 63.68\n",
      "mae: 49.35\n",
      "r2: 0.74\n"
     ]
    },
    {
     "data": {
      "text/plain": [
       "array([  -5.25635722,  127.29805997, -110.4560012 ,  122.24421396,\n",
       "       -110.4560012 ,  -39.90414254,  106.73581898,  -39.90414254,\n",
       "        223.68925908,  240.37517626])"
      ]
     },
     "execution_count": 5,
     "metadata": {},
     "output_type": "execute_result"
    }
   ],
   "source": [
    "dtr = sklearn.tree.DecisionTreeRegressor(max_depth = 5, criterion =\"absolute_error\", random_state = 0)\n",
    "dtr.fit(X_train,Y_train)\n",
    "\n",
    "YP = dtr.predict(X_train)\n",
    "print(\"rmse: %.2f\" % np.sqrt(sklearn.metrics.mean_squared_error(Y_train,YP)))\n",
    "print(\"mae: %.2f\" % sklearn.metrics.mean_absolute_error(Y_train,YP))\n",
    "print(\"r2: %.2f\" % sklearn.metrics.r2_score(Y_train,YP))\n",
    "\n",
    "YP = dtr.predict(X_test)\n",
    "print(\"rmse: %.2f\" % np.sqrt(sklearn.metrics.mean_squared_error(Y_test,YP)))\n",
    "print(\"mae: %.2f\" % sklearn.metrics.mean_absolute_error(Y_test,YP))\n",
    "print(\"r2: %.2f\" % sklearn.metrics.r2_score(Y_test,YP))\n",
    "YP[0:10]"
   ]
  }
 ],
 "metadata": {
  "kernelspec": {
   "display_name": "Python 3 (ipykernel)",
   "language": "python",
   "name": "python3"
  },
  "language_info": {
   "codemirror_mode": {
    "name": "ipython",
    "version": 3
   },
   "file_extension": ".py",
   "mimetype": "text/x-python",
   "name": "python",
   "nbconvert_exporter": "python",
   "pygments_lexer": "ipython3",
   "version": "3.10.12"
  }
 },
 "nbformat": 4,
 "nbformat_minor": 5
}
